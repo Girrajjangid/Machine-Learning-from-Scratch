{
 "cells": [
  {
   "cell_type": "code",
   "execution_count": 1,
   "metadata": {},
   "outputs": [],
   "source": [
    "# It will import tensorflow and load the datasets\n",
    "from config import *"
   ]
  },
  {
   "cell_type": "code",
   "execution_count": 2,
   "metadata": {},
   "outputs": [
    {
     "data": {
      "text/plain": [
       "(<tf.Tensor: shape=(), dtype=int64, numpy=2936>,\n",
       " <tf.Tensor: shape=(), dtype=int64, numpy=367>)"
      ]
     },
     "execution_count": 2,
     "metadata": {},
     "output_type": "execute_result"
    }
   ],
   "source": [
    "train_set_raw.cardinality(), test_set_raw.cardinality()"
   ]
  },
  {
   "cell_type": "code",
   "execution_count": 3,
   "metadata": {},
   "outputs": [],
   "source": [
    "# tf.dataset return data in X, y format\n",
    "resize_rescale = tf.keras.models.Sequential([\n",
    "            tf.keras.layers.Resizing(224, 224, crop_to_aspect_ratio=True),\n",
    "            tf.keras.layers.Rescaling(1./255)\n",
    "])\n",
    "\n",
    "# Data augment layer\n",
    "data_augment = tf.keras.models.Sequential([\n",
    "            tf.keras.layers.RandomFlip(\"horizontal_and_vertical\"),\n",
    "            tf.keras.layers.RandomRotation(0.2),\n",
    "            tf.keras.layers.RandomContrast(factor=0.2)\n",
    "\n",
    "]) \n",
    "\n",
    "def preprocess(df, shuffle=False, augment=False):\n",
    "    tdf = df.map(lambda X,y: (resize_rescale(X), y))\n",
    "    if shuffle:\n",
    "        tdf = tdf.shuffle(1_000,seed=42)\n",
    "    # Batch all dataset\n",
    "    tdf = tdf.batch(18)\n",
    "    #Augmentation on training set: training=True means it will on apply during training\n",
    "    if augment:\n",
    "        tdf = tdf.map(lambda X,y: (data_augment(X, training=True), y))\n",
    "    return tdf.prefetch(1)\n",
    "\n",
    "train_data = preprocess(train_set_raw,True,True)\n",
    "test_data  = preprocess(test_set_raw)\n",
    "valid_data = preprocess(valid_set_raw)"
   ]
  },
  {
   "cell_type": "code",
   "execution_count": 12,
   "metadata": {},
   "outputs": [
    {
     "name": "stdout",
     "output_type": "stream",
     "text": [
      "Model: \"sequential\"\n",
      "_________________________________________________________________\n",
      "Layer (type)                 Output Shape              Param #   \n",
      "=================================================================\n",
      "conv2d (Conv2D)              (None, 54, 54, 96)        34944     \n",
      "_________________________________________________________________\n",
      "lambda (Lambda)              (None, 54, 54, 96)        0         \n",
      "_________________________________________________________________\n",
      "max_pooling2d (MaxPooling2D) (None, 18, 18, 96)        0         \n",
      "_________________________________________________________________\n",
      "conv2d_1 (Conv2D)            (None, 18, 18, 256)       614656    \n",
      "_________________________________________________________________\n",
      "lambda_1 (Lambda)            (None, 18, 18, 256)       0         \n",
      "_________________________________________________________________\n",
      "max_pooling2d_1 (MaxPooling2 (None, 6, 6, 256)         0         \n",
      "_________________________________________________________________\n",
      "conv2d_2 (Conv2D)            (None, 6, 6, 384)         885120    \n",
      "_________________________________________________________________\n",
      "conv2d_3 (Conv2D)            (None, 6, 6, 384)         1327488   \n",
      "_________________________________________________________________\n",
      "conv2d_4 (Conv2D)            (None, 6, 6, 256)         884992    \n",
      "_________________________________________________________________\n",
      "flatten (Flatten)            (None, 9216)              0         \n",
      "_________________________________________________________________\n",
      "dense (Dense)                (None, 4096)              37752832  \n",
      "_________________________________________________________________\n",
      "dropout (Dropout)            (None, 4096)              0         \n",
      "_________________________________________________________________\n",
      "dense_1 (Dense)              (None, 4096)              16781312  \n",
      "_________________________________________________________________\n",
      "dropout_1 (Dropout)          (None, 4096)              0         \n",
      "_________________________________________________________________\n",
      "dense_2 (Dense)              (None, 5)                 20485     \n",
      "=================================================================\n",
      "Total params: 58,301,829\n",
      "Trainable params: 58,301,829\n",
      "Non-trainable params: 0\n",
      "_________________________________________________________________\n"
     ]
    }
   ],
   "source": [
    "cls()\n",
    "model = tf.keras.models.Sequential([\n",
    "    tf.keras.layers.Conv2D(filters=96,kernel_size=11,strides=4,padding='valid',activation='relu',input_shape=(224,224,3)),\n",
    "    tf.keras.layers.Lambda(lambda x: tf.nn.local_response_normalization(x)),\n",
    "    tf.keras.layers.MaxPooling2D(pool_size=(3,3)),\n",
    "    tf.keras.layers.Conv2D(filters=256,kernel_size=5,strides=1,padding='same',activation='relu'),\n",
    "    tf.keras.layers.Lambda(lambda x: tf.nn.local_response_normalization(x)),\n",
    "    tf.keras.layers.MaxPooling2D(pool_size=(3,3)),\n",
    "    tf.keras.layers.Conv2D(filters=384,kernel_size=3,strides=1,padding='same',activation='relu'),\n",
    "    tf.keras.layers.Conv2D(filters=384,kernel_size=3,strides=1,padding='same',activation='relu'),\n",
    "    tf.keras.layers.Conv2D(filters=256,kernel_size=3,strides=1,padding='same',activation='relu'),\n",
    "    tf.keras.layers.Flatten(),\n",
    "    tf.keras.layers.Dense(4096,activation='relu'),\n",
    "    tf.keras.layers.Dropout(.5),\n",
    "    tf.keras.layers.Dense(4096,activation='relu'),\n",
    "    tf.keras.layers.Dropout(.5),\n",
    "    tf.keras.layers.Dense(5,activation='softmax')\n",
    "])\n",
    "model.summary()"
   ]
  },
  {
   "cell_type": "code",
   "execution_count": 11,
   "metadata": {},
   "outputs": [
    {
     "name": "stdout",
     "output_type": "stream",
     "text": [
      "164/164 [==============================] - 263s 2s/step - loss: 1.6824 - accuracy: 0.2449 - val_loss: 1.6201 - val_accuracy: 0.1907\n",
      "21/21 [==============================] - 3s 138ms/step - loss: 1.6017 - accuracy: 0.2425\n"
     ]
    },
    {
     "data": {
      "text/plain": [
       "[1.6017495393753052, 0.24250681698322296]"
      ]
     },
     "execution_count": 11,
     "metadata": {},
     "output_type": "execute_result"
    }
   ],
   "source": [
    "model.compile(loss='sparse_categorical_crossentropy',optimizer='nadam',metrics=['accuracy'])\n",
    "hist = model.fit(train_data,validation_data=(valid_data), epochs=1)\n",
    "score = model.evaluate(test_data)\n",
    "score"
   ]
  }
 ],
 "metadata": {
  "interpreter": {
   "hash": "ad2bdc8ecc057115af97d19610ffacc2b4e99fae6737bb82f5d7fb13d2f2c186"
  },
  "kernelspec": {
   "display_name": "Python 3.8.8 ('base')",
   "language": "python",
   "name": "python3"
  },
  "language_info": {
   "codemirror_mode": {
    "name": "ipython",
    "version": 3
   },
   "file_extension": ".py",
   "mimetype": "text/x-python",
   "name": "python",
   "nbconvert_exporter": "python",
   "pygments_lexer": "ipython3",
   "version": "3.8.8"
  },
  "orig_nbformat": 4
 },
 "nbformat": 4,
 "nbformat_minor": 2
}
