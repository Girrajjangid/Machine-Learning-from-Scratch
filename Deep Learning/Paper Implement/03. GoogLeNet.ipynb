{
 "cells": [
  {
   "cell_type": "code",
   "execution_count": 1,
   "metadata": {},
   "outputs": [],
   "source": [
    "from config import *"
   ]
  },
  {
   "cell_type": "code",
   "execution_count": 2,
   "metadata": {},
   "outputs": [],
   "source": [
    "# tf.dataset return data in X, y format\n",
    "resize_rescale = tf.keras.models.Sequential([\n",
    "            tf.keras.layers.Resizing(224, 224, crop_to_aspect_ratio=True),\n",
    "            tf.keras.layers.Rescaling(1./255)\n",
    "])\n",
    "\n",
    "# Data augment layer\n",
    "data_augment = tf.keras.models.Sequential([\n",
    "            tf.keras.layers.RandomFlip(\"horizontal_and_vertical\"),\n",
    "            tf.keras.layers.RandomRotation(0.2),\n",
    "            tf.keras.layers.RandomContrast(factor=0.2)\n",
    "\n",
    "]) \n",
    "\n",
    "def preprocess(df, shuffle=False, augment=False):\n",
    "    tdf = df.map(lambda X,y: (resize_rescale(X), y))\n",
    "    if shuffle:\n",
    "        tdf = tdf.shuffle(1_000,seed=42)\n",
    "    # Batch all dataset\n",
    "    tdf = tdf.batch(18)\n",
    "    #Augmentation on training set: training=True means it will on apply during training\n",
    "    if augment:\n",
    "        tdf = tdf.map(lambda X,y: (data_augment(X, training=True), y))\n",
    "    return tdf.prefetch(1)\n",
    "\n",
    "train_data = preprocess(train_set_raw,True,True)\n",
    "test_data  = preprocess(test_set_raw)\n",
    "valid_data = preprocess(valid_set_raw)"
   ]
  },
  {
   "cell_type": "code",
   "execution_count": 6,
   "metadata": {},
   "outputs": [],
   "source": [
    "class InceptionModule(tf.keras.layers.Layer):\n",
    "    def __init__(self, n_neurons1,n_neurons2,n_neurons3,n_neurons4,n_neurons5,n_neurons6, **kwargs):\n",
    "        super().__init__(**kwargs)\n",
    "        self.conv1 = tf.keras.layers.Conv2D(filters=n_neurons1,kernel_size=1,strides=1,padding='same',activation='relu')\n",
    "        self.conv2 = tf.keras.layers.Conv2D(filters=n_neurons2,kernel_size=3,strides=1,padding='same',activation='relu')\n",
    "        self.conv3 = tf.keras.layers.Conv2D(filters=n_neurons3,kernel_size=5,strides=1,padding='same',activation='relu')\n",
    "        self.conv4 = tf.keras.layers.Conv2D(filters=n_neurons4,kernel_size=1,strides=1,padding='same',activation='relu')\n",
    "        self.conv5 = tf.keras.layers.Conv2D(filters=n_neurons5,kernel_size=1,strides=1,padding='same',activation='relu')\n",
    "        self.conv6 = tf.keras.layers.Conv2D(filters=n_neurons6,kernel_size=1,strides=1,padding='same',activation='relu')\n",
    "        self.max   = tf.keras.layers.MaxPool2D(pool_size=(3,3),strides=1,padding='same')\n",
    "        self.concat= tf.concat\n",
    "\n",
    "    def call(self, inputs):\n",
    "        Z = inputs\n",
    "        conv1 = self.conv1(Z)\n",
    "        conv2 = self.conv2(self.conv5(Z))\n",
    "        conv3 = self.conv3(self.conv6(Z))\n",
    "        conv4 = self.conv4(self.max(Z))\n",
    "        return self.concat([conv1,conv2,conv3,conv4], axis=3)"
   ]
  },
  {
   "cell_type": "code",
   "execution_count": 26,
   "metadata": {},
   "outputs": [
    {
     "name": "stdout",
     "output_type": "stream",
     "text": [
      "Model: \"sequential\"\n",
      "_________________________________________________________________\n",
      "Layer (type)                 Output Shape              Param #   \n",
      "=================================================================\n",
      "conv2d (Conv2D)              (None, 112, 112, 64)      9472      \n",
      "_________________________________________________________________\n",
      "max_pooling2d (MaxPooling2D) (None, 56, 56, 64)        0         \n",
      "_________________________________________________________________\n",
      "lambda (Lambda)              (None, 56, 56, 64)        0         \n",
      "_________________________________________________________________\n",
      "conv2d_1 (Conv2D)            (None, 56, 56, 64)        36928     \n",
      "_________________________________________________________________\n",
      "conv2d_2 (Conv2D)            (None, 56, 56, 192)       110784    \n",
      "_________________________________________________________________\n",
      "lambda_1 (Lambda)            (None, 56, 56, 192)       0         \n",
      "_________________________________________________________________\n",
      "max_pooling2d_1 (MaxPooling2 (None, 28, 28, 192)       0         \n",
      "_________________________________________________________________\n",
      "inception_module (InceptionM (None, 28, 28, 256)       163696    \n",
      "_________________________________________________________________\n",
      "inception_module_1 (Inceptio (None, 28, 28, 480)       388736    \n",
      "_________________________________________________________________\n",
      "max_pooling2d_4 (MaxPooling2 (None, 14, 14, 480)       0         \n",
      "_________________________________________________________________\n",
      "inception_module_2 (Inceptio (None, 14, 14, 512)       376176    \n",
      "_________________________________________________________________\n",
      "inception_module_3 (Inceptio (None, 14, 14, 512)       449160    \n",
      "_________________________________________________________________\n",
      "inception_module_4 (Inceptio (None, 14, 14, 512)       510104    \n",
      "_________________________________________________________________\n",
      "inception_module_5 (Inceptio (None, 14, 14, 528)       605376    \n",
      "_________________________________________________________________\n",
      "inception_module_6 (Inceptio (None, 14, 14, 832)       868352    \n",
      "_________________________________________________________________\n",
      "max_pooling2d_10 (MaxPooling (None, 7, 7, 832)         0         \n",
      "_________________________________________________________________\n",
      "inception_module_7 (Inceptio (None, 7, 7, 832)         1043456   \n",
      "_________________________________________________________________\n",
      "inception_module_8 (Inceptio (None, 7, 7, 1024)        1444080   \n",
      "_________________________________________________________________\n",
      "global_average_pooling2d (Gl (None, 1, 1, 1024)        0         \n",
      "_________________________________________________________________\n",
      "dropout (Dropout)            (None, 1, 1, 1024)        0         \n",
      "_________________________________________________________________\n",
      "dense (Dense)                (None, 1, 1, 1000)        1025000   \n",
      "_________________________________________________________________\n",
      "dense_1 (Dense)              (None, 1, 1, 5)           5005      \n",
      "=================================================================\n",
      "Total params: 7,036,325\n",
      "Trainable params: 7,036,325\n",
      "Non-trainable params: 0\n",
      "_________________________________________________________________\n"
     ]
    }
   ],
   "source": [
    "cls()\n",
    "model = tf.keras.models.Sequential([\n",
    "    tf.keras.layers.Conv2D(filters=64,kernel_size=7,strides=2,activation='relu',padding='same',input_shape=[224,224,3]),\n",
    "    tf.keras.layers.MaxPool2D(),\n",
    "    tf.keras.layers.Lambda(lambda x: tf.nn.local_response_normalization(x)),\n",
    "    tf.keras.layers.Conv2D(filters=64,kernel_size=3,strides=1,activation='relu',padding='same'),\n",
    "    tf.keras.layers.Conv2D(filters=192,kernel_size=3,strides=1,activation='relu',padding='same'),\n",
    "    tf.keras.layers.Lambda(lambda x: tf.nn.local_response_normalization(x)),\n",
    "    tf.keras.layers.MaxPool2D(),\n",
    "    InceptionModule(64,128,32,32,96,16),\n",
    "    InceptionModule(128,192,96,64,128,32),\n",
    "    tf.keras.layers.MaxPool2D(),\n",
    "    InceptionModule(192,208,48,64,96,16),\n",
    "    InceptionModule(160,224,64,64,112,24),\n",
    "    InceptionModule(128,256,64,64,128,24),\n",
    "    InceptionModule(112,288,64,64,144,32),\n",
    "    InceptionModule(256,320,128,128,160,32),\n",
    "    tf.keras.layers.MaxPool2D(),\n",
    "    InceptionModule(256,320,128,128,160,32),\n",
    "    InceptionModule(384,384,128,128,192,48),\n",
    "    tf.keras.layers.GlobalAveragePooling2D(keepdims=True),\n",
    "    tf.keras.layers.Dropout(.4),\n",
    "    tf.keras.layers.Dense(1000,activation='relu'),\n",
    "    tf.keras.layers.Dense(5, activation='softmax')\n",
    "])\n",
    "model.summary()"
   ]
  },
  {
   "cell_type": "code",
   "execution_count": 27,
   "metadata": {},
   "outputs": [
    {
     "name": "stdout",
     "output_type": "stream",
     "text": [
      "164/164 [==============================] - 371s 2s/step - loss: 1.6048 - accuracy: 0.2471 - val_loss: 1.6154 - val_accuracy: 0.1896\n",
      "21/21 [==============================] - 10s 480ms/step - loss: 1.6052 - accuracy: 0.2420\n"
     ]
    },
    {
     "data": {
      "text/plain": [
       "[1.60515296459198, 0.24199724197387695]"
      ]
     },
     "execution_count": 27,
     "metadata": {},
     "output_type": "execute_result"
    }
   ],
   "source": [
    "model.compile(loss='sparse_categorical_crossentropy',optimizer='nadam',metrics=['accuracy'])\n",
    "hist = model.fit(train_data,validation_data=(valid_data), epochs=1)\n",
    "score = model.evaluate(test_data)\n",
    "score"
   ]
  },
  {
   "cell_type": "code",
   "execution_count": null,
   "metadata": {},
   "outputs": [],
   "source": []
  }
 ],
 "metadata": {
  "interpreter": {
   "hash": "ad2bdc8ecc057115af97d19610ffacc2b4e99fae6737bb82f5d7fb13d2f2c186"
  },
  "kernelspec": {
   "display_name": "Python 3.8.8 ('base')",
   "language": "python",
   "name": "python3"
  },
  "language_info": {
   "codemirror_mode": {
    "name": "ipython",
    "version": 3
   },
   "file_extension": ".py",
   "mimetype": "text/x-python",
   "name": "python",
   "nbconvert_exporter": "python",
   "pygments_lexer": "ipython3",
   "version": "3.8.8"
  },
  "orig_nbformat": 4
 },
 "nbformat": 4,
 "nbformat_minor": 2
}
