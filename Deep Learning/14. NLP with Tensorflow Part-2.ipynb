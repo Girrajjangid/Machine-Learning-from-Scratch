{
 "cells": [
  {
   "cell_type": "markdown",
   "metadata": {},
   "source": [
    "# Will discover these topics\n",
    "1. Encoder-Decoder\n",
    "2. BiDirectional Layer\n",
    "3. Beam Search\n",
    "4. Attention\n",
    "5. Transformers (Multi-Head Attention)"
   ]
  },
  {
   "cell_type": "markdown",
   "metadata": {},
   "source": [
    "# 1. Encoder-Decoder\n",
    "Building a Neural Machine Translation system using Encoder-Decoder (Seq-to-Seq Net)"
   ]
  },
  {
   "cell_type": "code",
   "execution_count": 1,
   "metadata": {},
   "outputs": [
    {
     "name": "stderr",
     "output_type": "stream",
     "text": [
      "c:\\ProgramData\\Anaconda3\\lib\\site-packages\\scipy\\__init__.py:138: UserWarning: A NumPy version >=1.16.5 and <1.23.0 is required for this version of SciPy (detected version 1.23.0)\n",
      "  warnings.warn(f\"A NumPy version >={np_minversion} and <{np_maxversion} is required for this version of \"\n"
     ]
    }
   ],
   "source": [
    "import numpy as np\n",
    "import pandas as pd\n",
    "import tensorflow as tf\n",
    "from pathlib import Path\n",
    "import matplotlib.pyplot as plt\n",
    "\n",
    "def cls():\n",
    "    tf.random.set_seed(42)\n",
    "    tf.keras.backend.clear_session()"
   ]
  },
  {
   "cell_type": "code",
   "execution_count": 2,
   "metadata": {},
   "outputs": [],
   "source": [
    "##########################################\n",
    "# Lets download some dataset first       #\n",
    "# That will translate english to spanish #\n",
    "##########################################\n",
    "url = \"https://storage.googleapis.com/download.tensorflow.org/data/spa-eng.zip\"\n",
    "path = tf.keras.utils.get_file(\"spa-eng.zip\", origin=url, cache_dir=\"datasets\",\n",
    "                               extract=True)"
   ]
  },
  {
   "cell_type": "code",
   "execution_count": 38,
   "metadata": {},
   "outputs": [],
   "source": [
    "with open((Path(path).with_name(\"spa-eng\") / \"spa.txt\"), \"r\", encoding='utf-8') as f:\n",
    "    text = f.read()"
   ]
  },
  {
   "cell_type": "code",
   "execution_count": 39,
   "metadata": {},
   "outputs": [
    {
     "name": "stdout",
     "output_type": "stream",
     "text": [
      "Go.\tVe.\n",
      "Go.\tVete.\n",
      "Go.\tVaya.\n",
      "Go.\tVáyase.\n",
      "Hi.\tHola.\n",
      "Run!\t¡Corre!\n",
      "Run.\tCorred.\n",
      "Who?\t¿Quién?\n",
      "Fire!\t¡Fueg\n"
     ]
    }
   ],
   "source": [
    "print(text[:100])"
   ]
  },
  {
   "cell_type": "code",
   "execution_count": 40,
   "metadata": {},
   "outputs": [
    {
     "data": {
      "text/plain": [
       "['Go.\\tVe.',\n",
       " 'Go.\\tVete.',\n",
       " 'Go.\\tVaya.',\n",
       " 'Go.\\tVáyase.',\n",
       " 'Hi.\\tHola.',\n",
       " 'Run!\\t¡Corre!',\n",
       " 'Run.\\tCorred.',\n",
       " 'Who?\\t¿Quién?',\n",
       " 'Fire!\\t¡Fuego!',\n",
       " 'Fire!\\t¡Incendio!']"
      ]
     },
     "execution_count": 40,
     "metadata": {},
     "output_type": "execute_result"
    }
   ],
   "source": [
    "text.splitlines()[:10]"
   ]
  },
  {
   "cell_type": "code",
   "execution_count": 41,
   "metadata": {},
   "outputs": [],
   "source": [
    "text = text.replace(\"¡\", \"\").replace(\"¿\", \"\") # Replacing chracters\n",
    "pairs = [line.split(\"\\t\") for line in text.splitlines()] # spliting the lines from \\n first then by \\t\n",
    "np.random.shuffle(pairs)\n",
    "sentences_en, sentences_es = zip(*pairs)  # separates the pairs into 2 lists"
   ]
  },
  {
   "cell_type": "code",
   "execution_count": 43,
   "metadata": {},
   "outputs": [
    {
     "name": "stdout",
     "output_type": "stream",
     "text": [
      "You don't have to believe me. => No tienen que creerme.\n",
      "I hardly even know you. => Apenas te conozco.\n",
      "How many boys are in this class? => Cuántos niños hay en esta clase?\n",
      "Why didn't you believe me? => Por qué no me creíste?\n",
      "We met there yesterday. => Nos conocimos ahí ayer.\n"
     ]
    }
   ],
   "source": [
    "for i in range(5):\n",
    "    print(sentences_en[i], \"=>\", sentences_es[i])"
   ]
  },
  {
   "cell_type": "code",
   "execution_count": 44,
   "metadata": {},
   "outputs": [
    {
     "data": {
      "text/plain": [
       "25512"
      ]
     },
     "execution_count": 44,
     "metadata": {},
     "output_type": "execute_result"
    }
   ],
   "source": [
    "# There would be around 25_512 unique word in dataset\n",
    "len(set(\" \".join(sentences_en).split()))"
   ]
  },
  {
   "cell_type": "code",
   "execution_count": 45,
   "metadata": {},
   "outputs": [
    {
     "data": {
      "text/plain": [
       "13634"
      ]
     },
     "execution_count": 45,
     "metadata": {},
     "output_type": "execute_result"
    }
   ],
   "source": [
    "# After doing preprocessing like, remove puntuations, lowering, etc.\n",
    "# total unique values would be around 13634\n",
    "\n",
    "text_vec_layer_en = tf.keras.layers.TextVectorization()\n",
    "text_vec_layer_en.adapt(sentences_en)\n",
    "size = len(text_vec_layer_en.get_vocabulary())\n",
    "size"
   ]
  },
  {
   "cell_type": "code",
   "execution_count": 46,
   "metadata": {},
   "outputs": [
    {
     "name": "stdout",
     "output_type": "stream",
     "text": [
      "There are total 13634 element is vocabulary.\n",
      "Word to Vector :  [1800  319   19  233    8 6607]\n",
      "Vector to Word :  [['hello' 'world' 'my' 'name' 'is' 'khan']]\n"
     ]
    }
   ],
   "source": [
    "st = \"Hello world my name is khan.\"\n",
    "print(f\"There are total {size} element is vocabulary.\")\n",
    "print(\"Word to Vector : \", text_vec_layer_en(st).numpy())\n",
    "print(\"Vector to Word : \", np.asarray(text_vec_layer_en.get_vocabulary())[[text_vec_layer_en(st).numpy()]])"
   ]
  },
  {
   "cell_type": "code",
   "execution_count": 47,
   "metadata": {},
   "outputs": [],
   "source": [
    "# Lets build the vocabulary of words with 1000 and max length 50\n",
    "# any sentence have more than 50 words would be ignore\n",
    "\n",
    "\n",
    "vocab_size = 1000\n",
    "max_length = 50\n",
    "text_vec_layer_en = tf.keras.layers.TextVectorization(vocab_size, output_sequence_length=max_length)\n",
    "text_vec_layer_es = tf.keras.layers.TextVectorization(vocab_size, output_sequence_length=max_length)\n",
    "text_vec_layer_en.adapt(sentences_en)\n",
    "# Let add <SOS> and <EOS> to target sequence. \n",
    "# <SOS> fed as input while <EOS> model predict as last word\n",
    "text_vec_layer_es.adapt([f\"startofseq {s} endofseq\" for s in sentences_es])"
   ]
  },
  {
   "cell_type": "code",
   "execution_count": 48,
   "metadata": {},
   "outputs": [
    {
     "data": {
      "text/plain": [
       "['', '[UNK]', 'the', 'i', 'to']"
      ]
     },
     "execution_count": 48,
     "metadata": {},
     "output_type": "execute_result"
    }
   ],
   "source": [
    "text_vec_layer_en.get_vocabulary()[:5]"
   ]
  },
  {
   "cell_type": "code",
   "execution_count": 49,
   "metadata": {},
   "outputs": [
    {
     "data": {
      "text/plain": [
       "['', '[UNK]', 'startofseq', 'endofseq', 'de']"
      ]
     },
     "execution_count": 49,
     "metadata": {},
     "output_type": "execute_result"
    }
   ],
   "source": [
    "text_vec_layer_es.get_vocabulary()[:5]"
   ]
  },
  {
   "cell_type": "code",
   "execution_count": 50,
   "metadata": {},
   "outputs": [],
   "source": [
    "# input for encoder\n",
    "X_train_enc = tf.constant(sentences_en[:100_000])\n",
    "X_valid_enc = tf.constant(sentences_en[100_000:])\n",
    "\n",
    "# input for decoder\n",
    "X_train_dec = tf.constant([f\"startofseq {s}\" for s in sentences_es[:100_000]])\n",
    "X_valid_dec = tf.constant([f\"startofseq {s}\" for s in sentences_es[100_000:]])\n",
    "\n",
    "# output for decoder\n",
    "Y_train = text_vec_layer_es([f\"{s} endofseq\" for s in sentences_es[:100_000]])\n",
    "Y_valid = text_vec_layer_es([f\"{s} endofseq\" for s in sentences_es[100_000:]])"
   ]
  },
  {
   "cell_type": "code",
   "execution_count": 82,
   "metadata": {},
   "outputs": [
    {
     "data": {
      "text/plain": [
       "<tf.Tensor: shape=(), dtype=string, numpy=b'startofseq Cu\\xc3\\xa1ntos ni\\xc3\\xb1os hay en esta clase?'>"
      ]
     },
     "execution_count": 82,
     "metadata": {},
     "output_type": "execute_result"
    }
   ],
   "source": [
    "X_train_dec[2]"
   ]
  },
  {
   "cell_type": "code",
   "execution_count": 91,
   "metadata": {},
   "outputs": [
    {
     "name": "stdout",
     "output_type": "stream",
     "text": [
      "X_train Encoder :  b\"You don't have to believe me.\"\n",
      "X_train Decoder :  b'startofseq No tienen que creerme.'\n",
      "Y_train Decoder :  [  7 268   5   1   3   0   0   0   0   0   0   0   0   0   0   0   0   0\n",
      "   0   0   0   0   0   0   0   0   0   0   0   0   0   0   0   0   0   0\n",
      "   0   0   0   0   0   0   0   0   0   0   0   0   0   0]\n",
      "(100000, 50)\n"
     ]
    }
   ],
   "source": [
    "print(\"X_train Encoder : \", X_train_enc[0].numpy())\n",
    "print(\"X_train Decoder : \", X_train_dec[0].numpy())\n",
    "print(\"Y_train Decoder : \", Y_train[0].numpy())\n",
    "print(f\"{Y_train.shape}\")"
   ]
  },
  {
   "cell_type": "code",
   "execution_count": 92,
   "metadata": {},
   "outputs": [
    {
     "name": "stdout",
     "output_type": "stream",
     "text": [
      "Model: \"model\"\n",
      "__________________________________________________________________________________________________\n",
      " Layer (type)                   Output Shape         Param #     Connected to                     \n",
      "==================================================================================================\n",
      " input_1 (InputLayer)           [(None,)]            0           []                               \n",
      "                                                                                                  \n",
      " input_2 (InputLayer)           [(None,)]            0           []                               \n",
      "                                                                                                  \n",
      " text_vectorization_5 (TextVect  (None, 50)          0           ['input_1[0][0]']                \n",
      " orization)                                                                                       \n",
      "                                                                                                  \n",
      " text_vectorization_6 (TextVect  (None, 50)          0           ['input_2[0][0]']                \n",
      " orization)                                                                                       \n",
      "                                                                                                  \n",
      " embedding (Embedding)          (None, 50, 12)       12000       ['text_vectorization_5[0][0]']   \n",
      "                                                                                                  \n",
      " embedding_1 (Embedding)        (None, 50, 12)       12000       ['text_vectorization_6[0][0]']   \n",
      "                                                                                                  \n",
      " lstm (LSTM)                    [(None, 2),          120         ['embedding[0][0]']              \n",
      "                                 (None, 2),                                                       \n",
      "                                 (None, 2)]                                                       \n",
      "                                                                                                  \n",
      " lstm_1 (LSTM)                  (None, 50, 2)        120         ['embedding_1[0][0]',            \n",
      "                                                                  'lstm[0][1]',                   \n",
      "                                                                  'lstm[0][2]']                   \n",
      "                                                                                                  \n",
      " dense (Dense)                  (None, 50, 1000)     3000        ['lstm_1[0][0]']                 \n",
      "                                                                                                  \n",
      "==================================================================================================\n",
      "Total params: 27,240\n",
      "Trainable params: 27,240\n",
      "Non-trainable params: 0\n",
      "__________________________________________________________________________________________________\n"
     ]
    }
   ],
   "source": [
    "cls()\n",
    "\n",
    "embed_size = 12 # Change embedding dimension 12 to 128 for better result\n",
    "\n",
    "# Layer 1 & 2 of Encoder\n",
    "encoder_inputs     = tf.keras.layers.Input(shape=[], dtype=tf.string)\n",
    "encoder_input_ids  = text_vec_layer_en(encoder_inputs)\n",
    "encoder_embeddings = tf.keras.layers.Embedding(vocab_size, embed_size,mask_zero=True)(encoder_input_ids)\n",
    "encoder_outputs, *encoder_state = tf.keras.layers.LSTM(2, return_state=True)(encoder_embeddings) # chng 2 to 512, rturn all the LSTM states with output\n",
    "\n",
    "# Layer 1 & 2 of Decoder\n",
    "decoder_inputs     = tf.keras.layers.Input(shape=[], dtype=tf.string)\n",
    "decoder_input_ids  = text_vec_layer_es(decoder_inputs)\n",
    "decoder_embeddings = tf.keras.layers.Embedding(vocab_size, embed_size,mask_zero=True)(decoder_input_ids)\n",
    "decoder_outputs    = tf.keras.layers.LSTM(2, return_sequences=True)(decoder_embeddings, initial_state=encoder_state) # Change this to 512\n",
    "\n",
    "# Layer 3 of Decoder\n",
    "Y_proba = tf.keras.layers.Dense(vocab_size, activation=\"softmax\")(decoder_outputs)\n",
    "\n",
    "model = tf.keras.Model(inputs=[encoder_inputs, decoder_inputs],outputs=[Y_proba])\n",
    "model.compile(loss=\"sparse_categorical_crossentropy\", optimizer=\"nadam\", metrics=[\"accuracy\"])\n",
    "model.summary()"
   ]
  },
  {
   "cell_type": "code",
   "execution_count": 93,
   "metadata": {},
   "outputs": [
    {
     "name": "stdout",
     "output_type": "stream",
     "text": [
      "3125/3125 [==============================] - 219s 68ms/step - loss: 0.7032 - accuracy: 0.1581 - val_loss: 0.6490 - val_accuracy: 0.1729\n"
     ]
    },
    {
     "data": {
      "text/plain": [
       "<keras.callbacks.History at 0x18c00ce6f70>"
      ]
     },
     "execution_count": 93,
     "metadata": {},
     "output_type": "execute_result"
    }
   ],
   "source": [
    "model.fit((X_train_enc, X_train_dec), Y_train, epochs=1, validation_data=((X_valid_enc, X_valid_dec), Y_valid))"
   ]
  },
  {
   "cell_type": "code",
   "execution_count": 94,
   "metadata": {},
   "outputs": [
    {
     "name": "stdout",
     "output_type": "stream",
     "text": [
      "1/1 [==============================] - 2s 2s/step\n",
      "1/1 [==============================] - 0s 25ms/step\n",
      "1/1 [==============================] - 0s 26ms/step\n",
      "1/1 [==============================] - 0s 19ms/step\n",
      "1/1 [==============================] - 0s 18ms/step\n",
      "1/1 [==============================] - 0s 27ms/step\n",
      "1/1 [==============================] - 0s 22ms/step\n",
      "1/1 [==============================] - 0s 26ms/step\n",
      "1/1 [==============================] - 0s 24ms/step\n",
      "1/1 [==============================] - 0s 26ms/step\n",
      " [UNK] [UNK] [UNK] [UNK] [UNK] [UNK] [UNK] [UNK] [UNK] [UNK]\n"
     ]
    }
   ],
   "source": [
    "translation = \"\"\n",
    "for i in range(10):\n",
    "    str = \"I love my life\"\n",
    "    X_enc = np.array([str])\n",
    "    X_dec = np.array(['startofseq ' + translation])\n",
    "    y_proba = model.predict((X_enc,X_dec))\n",
    "    predicted_word = text_vec_layer_es.get_vocabulary()[(np.argmax(y_proba[0,i]))]\n",
    "    translation += \" \" + predicted_word\n",
    "print(translation)"
   ]
  },
  {
   "cell_type": "code",
   "execution_count": 95,
   "metadata": {},
   "outputs": [],
   "source": [
    "# Lets create a function that will translate our language\n",
    "def translate(sentence_en, max_length=50):\n",
    "    translation = \"\"\n",
    "    for word_idx in range(max_length): # 50\n",
    "        X = np.array([sentence_en])  # encoder input \n",
    "        X_dec = np.array([\"startofseq \" + translation])  # decoder input\n",
    "        y_proba = model.predict((X, X_dec))[0, word_idx]  # last token's probas\n",
    "        predicted_word_id = np.argmax(y_proba)\n",
    "        predicted_word = text_vec_layer_es.get_vocabulary()[predicted_word_id]\n",
    "        if predicted_word == \"endofseq\":\n",
    "            break\n",
    "        translation += \" \" + predicted_word\n",
    "        print(translation)\n",
    "    return translation.strip()"
   ]
  },
  {
   "cell_type": "code",
   "execution_count": 96,
   "metadata": {},
   "outputs": [
    {
     "name": "stdout",
     "output_type": "stream",
     "text": [
      "1/1 [==============================] - 0s 24ms/step\n",
      " [UNK]\n",
      "1/1 [==============================] - 0s 25ms/step\n",
      " [UNK] [UNK]\n",
      "1/1 [==============================] - 0s 25ms/step\n",
      " [UNK] [UNK] [UNK]\n",
      "1/1 [==============================] - 0s 24ms/step\n",
      " [UNK] [UNK] [UNK] [UNK]\n",
      "1/1 [==============================] - 0s 26ms/step\n",
      " [UNK] [UNK] [UNK] [UNK] [UNK]\n"
     ]
    },
    {
     "data": {
      "text/plain": [
       "'[UNK] [UNK] [UNK] [UNK] [UNK]'"
      ]
     },
     "execution_count": 96,
     "metadata": {},
     "output_type": "execute_result"
    }
   ],
   "source": [
    "translate(\"I love my life\", 5)"
   ]
  },
  {
   "cell_type": "code",
   "execution_count": 97,
   "metadata": {},
   "outputs": [],
   "source": [
    "# We need to increase models complexity as it didn't learn anything yet."
   ]
  },
  {
   "cell_type": "markdown",
   "metadata": {},
   "source": [
    "# 2. BiDirectional RNNs"
   ]
  },
  {
   "cell_type": "code",
   "execution_count": 124,
   "metadata": {},
   "outputs": [
    {
     "name": "stdout",
     "output_type": "stream",
     "text": [
      "Model: \"model\"\n",
      "__________________________________________________________________________________________________\n",
      " Layer (type)                   Output Shape         Param #     Connected to                     \n",
      "==================================================================================================\n",
      " input_1 (InputLayer)           [(None,)]            0           []                               \n",
      "                                                                                                  \n",
      " text_vectorization_5 (TextVect  (None, 50)          0           ['input_1[0][0]']                \n",
      " orization)                                                                                       \n",
      "                                                                                                  \n",
      " input_2 (InputLayer)           [(None,)]            0           []                               \n",
      "                                                                                                  \n",
      " embedding (Embedding)          (None, 50, 12)       12000       ['text_vectorization_5[21][0]']  \n",
      "                                                                                                  \n",
      " text_vectorization_6 (TextVect  (None, 50)          0           ['input_2[0][0]']                \n",
      " orization)                                                                                       \n",
      "                                                                                                  \n",
      " bidirectional (Bidirectional)  [(None, 4),          240         ['embedding[0][0]']              \n",
      "                                 (None, 2),                                                       \n",
      "                                 (None, 2),                                                       \n",
      "                                 (None, 2),                                                       \n",
      "                                 (None, 2)]                                                       \n",
      "                                                                                                  \n",
      " embedding_1 (Embedding)        (None, 50, 12)       12000       ['text_vectorization_6[21][0]']  \n",
      "                                                                                                  \n",
      " tf.concat (TFOpLambda)         (None, 4)            0           ['bidirectional[0][1]',          \n",
      "                                                                  'bidirectional[0][3]']          \n",
      "                                                                                                  \n",
      " tf.concat_1 (TFOpLambda)       (None, 4)            0           ['bidirectional[0][2]',          \n",
      "                                                                  'bidirectional[0][4]']          \n",
      "                                                                                                  \n",
      " lstm_1 (LSTM)                  (None, 50, 4)        272         ['embedding_1[0][0]',            \n",
      "                                                                  'tf.concat[0][0]',              \n",
      "                                                                  'tf.concat_1[0][0]']            \n",
      "                                                                                                  \n",
      " dense (Dense)                  (None, 50, 1000)     5000        ['lstm_1[0][0]']                 \n",
      "                                                                                                  \n",
      "==================================================================================================\n",
      "Total params: 29,512\n",
      "Trainable params: 29,512\n",
      "Non-trainable params: 0\n",
      "__________________________________________________________________________________________________\n"
     ]
    }
   ],
   "source": [
    "cls()\n",
    "\n",
    "embed_size = 12 # Change embedding dimension 12 to 128 for better result\n",
    "\n",
    "# Layer 1 & 2 of Encoder\n",
    "encoder_inputs     = tf.keras.layers.Input(shape=[], dtype=tf.string)\n",
    "encoder_input_ids  = text_vec_layer_en(encoder_inputs)\n",
    "encoder_embeddings = tf.keras.layers.Embedding(vocab_size, embed_size,mask_zero=True)(encoder_input_ids)\n",
    "encoder_outputs, *encoder_state  = tf.keras.layers.Bidirectional(tf.keras.layers.LSTM(2, return_state=True))(encoder_embeddings)\n",
    "encoder_state      = [tf.concat(encoder_state[::2], axis=-1),  # short-term (0 & 2)\n",
    "                      tf.concat(encoder_state[1::2], axis=-1)]\n",
    "\n",
    "# Layer 1 & 2 of Decoder\n",
    "decoder_inputs     = tf.keras.layers.Input(shape=[], dtype=tf.string)\n",
    "decoder_input_ids  = text_vec_layer_es(decoder_inputs)\n",
    "decoder_embeddings = tf.keras.layers.Embedding(vocab_size, embed_size,mask_zero=True)(decoder_input_ids)\n",
    "decoder_outputs    = tf.keras.layers.LSTM(4, return_sequences=True)(decoder_embeddings, initial_state=encoder_state) # Decoder neuron 2X of encoder\n",
    "Y_proba = tf.keras.layers.Dense(vocab_size, activation=\"softmax\")(decoder_outputs)\n",
    "model  = tf.keras.Model(inputs=[encoder_inputs, decoder_inputs],outputs=[Y_proba])\n",
    "model.compile(loss=\"sparse_categorical_crossentropy\", optimizer=\"nadam\",metrics=[\"accuracy\"])\n",
    "model.summary()"
   ]
  },
  {
   "cell_type": "code",
   "execution_count": 125,
   "metadata": {},
   "outputs": [
    {
     "name": "stdout",
     "output_type": "stream",
     "text": [
      "3125/3125 [==============================] - 197s 61ms/step - loss: 0.6773 - accuracy: 0.1834 - val_loss: 0.6294 - val_accuracy: 0.2516\n"
     ]
    },
    {
     "data": {
      "text/plain": [
       "<keras.callbacks.History at 0x18c01f64490>"
      ]
     },
     "execution_count": 125,
     "metadata": {},
     "output_type": "execute_result"
    }
   ],
   "source": [
    "model.fit((X_train_enc, X_train_dec), Y_train, epochs=1, validation_data=((X_valid_enc, X_valid_dec), Y_valid))"
   ]
  },
  {
   "cell_type": "code",
   "execution_count": 126,
   "metadata": {},
   "outputs": [
    {
     "name": "stdout",
     "output_type": "stream",
     "text": [
      "1/1 [==============================] - 3s 3s/step\n",
      " [UNK]\n",
      "1/1 [==============================] - 0s 25ms/step\n",
      " [UNK] [UNK]\n",
      "1/1 [==============================] - 0s 31ms/step\n",
      " [UNK] [UNK] [UNK]\n",
      "1/1 [==============================] - 0s 23ms/step\n"
     ]
    },
    {
     "data": {
      "text/plain": [
       "'[UNK] [UNK] [UNK]'"
      ]
     },
     "execution_count": 126,
     "metadata": {},
     "output_type": "execute_result"
    }
   ],
   "source": [
    "translate(\"I love my life\", 5)"
   ]
  },
  {
   "cell_type": "markdown",
   "metadata": {},
   "source": [
    "# 3. Beam Search\n",
    "\n",
    "This is a very basic implementation of beam search. I tried to make it readable and understandable, but it's definitely not optimized for speed! The function first uses the model to find the top k words to start the translations (where k is the beam width). For each of the top k translations, it evaluates the conditional probabilities of all possible words it could add to that translation. These extended translations and their probabilities are added to the list of candidates. Once we've gone through all top k translations and all words that could complete them, we keep only the top k candidates with the highest probability, and we iterate over and over until they all finish with an EOS token. The top translation is then returned (after removing its EOS token).\n",
    "\n",
    "- *Note: If p(S) is the probability of sentence S, and p(W|S) is the conditional probability of the word W given that the translation starts with S, then the probability of the sentence S' = concat(S, W) is p(S') = p(S) p(W|S). As we add more words, the probability gets smaller and smaller. To avoid the risk of it getting too small, which could cause floating point precision errors, the function keeps track of log probabilities instead of probabilities: recall that log(a\\b) = log(a) + log(b), therefore log(p(S')) = log(p(S)) + log(p(W|S)).*"
   ]
  },
  {
   "cell_type": "code",
   "execution_count": 154,
   "metadata": {},
   "outputs": [],
   "source": [
    "# basic implementation of beam search\n",
    "\n",
    "def beam_search(sentence_en, beam_width, verbose=False, max_length=50):\n",
    "    X = np.array([sentence_en])       # encoder input\n",
    "    X_dec = np.array([\"startofseq\"])  # decoder input\n",
    "    y_proba = model.predict((X, X_dec))[0, 0]  # first token's probas\n",
    "    top_k = tf.math.top_k(y_proba, k=beam_width)\n",
    "    # list of best (log_proba, translation)\n",
    "    top_translations = [(np.log(word_proba), text_vec_layer_es.get_vocabulary()[word_id]) for word_proba, word_id in zip(top_k.values, top_k.indices)]\n",
    "    \n",
    "    if verbose:\n",
    "        print(\"Top first words:\", top_translations)\n",
    "\n",
    "    for idx in range(1, max_length):\n",
    "        candidates = []\n",
    "        for log_proba, translation in top_translations:\n",
    "            if translation.endswith(\"endofseq\"):\n",
    "                candidates.append((log_proba, translation))\n",
    "                continue  # translation is finished, so don't try to extend it\n",
    "            X = np.array([sentence_en])  # encoder input\n",
    "            X_dec = np.array([\"startofseq \" + translation])  # decoder input\n",
    "            y_proba = model.predict((X, X_dec))[0, idx]  # last token's proba\n",
    "            for word_id, word_proba in enumerate(y_proba):\n",
    "                word = text_vec_layer_es.get_vocabulary()[word_id]\n",
    "                candidates.append((log_proba + np.log(word_proba),\n",
    "                                   f\"{translation} {word}\"))\n",
    "        top_translations = sorted(candidates, reverse=True)[:beam_width]\n",
    "\n",
    "        if verbose:\n",
    "            print(\"Top translations so far:\", top_translations)\n",
    "\n",
    "        if all([tr.endswith(\"endofseq\") for _, tr in top_translations]):\n",
    "            return top_translations[0][1].replace(\"endofseq\", \"\").strip()\n"
   ]
  },
  {
   "cell_type": "code",
   "execution_count": 129,
   "metadata": {},
   "outputs": [
    {
     "name": "stdout",
     "output_type": "stream",
     "text": [
      "1/1 [==============================] - 0s 21ms/step\n",
      " [UNK]\n",
      "1/1 [==============================] - 0s 25ms/step\n",
      " [UNK] [UNK]\n",
      "1/1 [==============================] - 0s 23ms/step\n",
      " [UNK] [UNK] [UNK]\n",
      "1/1 [==============================] - 0s 22ms/step\n",
      " [UNK] [UNK] [UNK] [UNK]\n",
      "1/1 [==============================] - 0s 22ms/step\n"
     ]
    },
    {
     "data": {
      "text/plain": [
       "'[UNK] [UNK] [UNK] [UNK]'"
      ]
     },
     "execution_count": 129,
     "metadata": {},
     "output_type": "execute_result"
    }
   ],
   "source": [
    "# extra code – shows how the model making an error\n",
    "sentence_en = \"I love cats and dogs\"\n",
    "translate(sentence_en)"
   ]
  },
  {
   "cell_type": "code",
   "execution_count": 130,
   "metadata": {},
   "outputs": [
    {
     "name": "stdout",
     "output_type": "stream",
     "text": [
      "1/1 [==============================] - 0s 19ms/step\n",
      "Top first words: [(-2.2651594, '[UNK]'), (-3.3839438, 'no'), (-3.5073543, 'que')]\n",
      "1/1 [==============================] - 0s 24ms/step\n",
      "1/1 [==============================] - 0s 21ms/step\n",
      "1/1 [==============================] - 0s 21ms/step\n",
      "Top translations so far: [(-4.3026166, '[UNK] [UNK]'), (-5.4967394, '[UNK] endofseq'), (-5.6409054, '[UNK] no')]\n",
      "1/1 [==============================] - 0s 20ms/step\n",
      "1/1 [==============================] - 0s 19ms/step\n",
      "Top translations so far: [(-5.4967394, '[UNK] endofseq'), (-6.02695, '[UNK] [UNK] [UNK]'), (-6.698579, '[UNK] [UNK] endofseq')]\n",
      "1/1 [==============================] - 0s 18ms/step\n",
      "Top translations so far: [(-5.4967394, '[UNK] endofseq'), (-6.698579, '[UNK] [UNK] endofseq'), (-7.5446873, '[UNK] [UNK] [UNK] [UNK]')]\n",
      "1/1 [==============================] - 0s 23ms/step\n",
      "Top translations so far: [(-5.4967394, '[UNK] endofseq'), (-6.698579, '[UNK] [UNK] endofseq'), (-8.7092085, '[UNK] [UNK] [UNK] [UNK] endofseq')]\n"
     ]
    },
    {
     "data": {
      "text/plain": [
       "'[UNK]'"
      ]
     },
     "execution_count": 130,
     "metadata": {},
     "output_type": "execute_result"
    }
   ],
   "source": [
    "# shows how beam search can help\n",
    "beam_search(sentence_en, beam_width=3, verbose=True)"
   ]
  },
  {
   "cell_type": "markdown",
   "metadata": {},
   "source": [
    "*The correct translation is in the top 3 sentences found by beam search, but it's not the first. Since we're using a small vocabulary, the [UNK] token is quite frequent, so you may want to penalize it (e.g., divide its probability by 2 in the beam search function): this will discourage beam search from using it too much.*"
   ]
  },
  {
   "cell_type": "markdown",
   "metadata": {},
   "source": [
    "# 4. Attention Mechanisms\n",
    "\n",
    "We need to feed all the encoder's outputs to the `Attention` layer, so we must add `return_sequences=True` to the encoder:"
   ]
  },
  {
   "cell_type": "code",
   "execution_count": 149,
   "metadata": {},
   "outputs": [
    {
     "name": "stdout",
     "output_type": "stream",
     "text": [
      "Model: \"model\"\n",
      "__________________________________________________________________________________________________\n",
      " Layer (type)                   Output Shape         Param #     Connected to                     \n",
      "==================================================================================================\n",
      " input_1 (InputLayer)           [(None,)]            0           []                               \n",
      "                                                                                                  \n",
      " text_vectorization_5 (TextVect  (None, 50)          0           ['input_1[0][0]']                \n",
      " orization)                                                                                       \n",
      "                                                                                                  \n",
      " input_2 (InputLayer)           [(None,)]            0           []                               \n",
      "                                                                                                  \n",
      " embedding (Embedding)          (None, 50, 12)       12000       ['text_vectorization_5[21][0]']  \n",
      "                                                                                                  \n",
      " text_vectorization_6 (TextVect  (None, 50)          0           ['input_2[0][0]']                \n",
      " orization)                                                                                       \n",
      "                                                                                                  \n",
      " bidirectional (Bidirectional)  [(None, 50, 4),      240         ['embedding[0][0]']              \n",
      "                                 (None, 2),                                                       \n",
      "                                 (None, 2),                                                       \n",
      "                                 (None, 2),                                                       \n",
      "                                 (None, 2)]                                                       \n",
      "                                                                                                  \n",
      " embedding_1 (Embedding)        (None, 50, 12)       12000       ['text_vectorization_6[21][0]']  \n",
      "                                                                                                  \n",
      " tf.concat (TFOpLambda)         (None, 4)            0           ['bidirectional[0][1]',          \n",
      "                                                                  'bidirectional[0][3]']          \n",
      "                                                                                                  \n",
      " tf.concat_1 (TFOpLambda)       (None, 4)            0           ['bidirectional[0][2]',          \n",
      "                                                                  'bidirectional[0][4]']          \n",
      "                                                                                                  \n",
      " lstm_1 (LSTM)                  (None, 50, 4)        272         ['embedding_1[0][0]',            \n",
      "                                                                  'tf.concat[0][0]',              \n",
      "                                                                  'tf.concat_1[0][0]']            \n",
      "                                                                                                  \n",
      " attention (Attention)          (None, 50, 4)        0           ['lstm_1[0][0]',                 \n",
      "                                                                  'bidirectional[0][0]']          \n",
      "                                                                                                  \n",
      " dense (Dense)                  (None, 50, 1000)     5000        ['attention[0][0]']              \n",
      "                                                                                                  \n",
      "==================================================================================================\n",
      "Total params: 29,512\n",
      "Trainable params: 29,512\n",
      "Non-trainable params: 0\n",
      "__________________________________________________________________________________________________\n"
     ]
    }
   ],
   "source": [
    "cls()\n",
    "\n",
    "encoder_outputs, *encoder_state  = tf.keras.layers.Bidirectional(tf.keras.layers.LSTM(2, return_sequences=True, return_state=True))(encoder_embeddings)\n",
    "encoder_states      = [tf.concat(encoder_state[::2], axis=-1),  # short-term (0 & 2)\n",
    "                      tf.concat(encoder_state[1::2], axis=-1)]  # long-term  (1 & 3)\n",
    "\n",
    "decoder_outputs   = tf.keras.layers.LSTM(4, return_sequences=True)(decoder_embeddings, initial_state=encoder_states) # Decoder neuron 2X of encoder\n",
    "attention_outputs = tf.keras.layers.Attention()([decoder_outputs, encoder_outputs]) # [Query, Value, Key] | If key not given then Value as key used \n",
    "Y_proba = tf.keras.layers.Dense(vocab_size, activation=\"softmax\")(attention_outputs)\n",
    "model  = tf.keras.Model(inputs=[encoder_inputs, decoder_inputs],outputs=[Y_proba])\n",
    "model.compile(loss=\"sparse_categorical_crossentropy\", optimizer=\"nadam\",metrics=[\"accuracy\"])\n",
    "model.summary()"
   ]
  },
  {
   "cell_type": "code",
   "execution_count": 147,
   "metadata": {},
   "outputs": [
    {
     "name": "stdout",
     "output_type": "stream",
     "text": [
      "3125/3125 [==============================] - 343s 105ms/step - loss: 0.6844 - accuracy: 0.1636 - val_loss: 0.6490 - val_accuracy: 0.1729\n"
     ]
    },
    {
     "data": {
      "text/plain": [
       "<keras.callbacks.History at 0x18c55abdbb0>"
      ]
     },
     "execution_count": 147,
     "metadata": {},
     "output_type": "execute_result"
    }
   ],
   "source": [
    "model.fit((X_train_enc, X_train_dec), Y_train, epochs=1, validation_data=((X_valid_enc, X_valid_dec), Y_valid))"
   ]
  },
  {
   "cell_type": "code",
   "execution_count": 152,
   "metadata": {},
   "outputs": [
    {
     "name": "stdout",
     "output_type": "stream",
     "text": [
      "1/1 [==============================] - 0s 28ms/step\n",
      " empleo\n",
      "1/1 [==============================] - 0s 28ms/step\n",
      " empleo empleo\n",
      "1/1 [==============================] - 0s 31ms/step\n",
      " empleo empleo empleo\n",
      "1/1 [==============================] - 0s 28ms/step\n",
      " empleo empleo empleo empleo\n",
      "1/1 [==============================] - 0s 26ms/step\n",
      " empleo empleo empleo empleo empleo\n"
     ]
    },
    {
     "data": {
      "text/plain": [
       "'empleo empleo empleo empleo empleo'"
      ]
     },
     "execution_count": 152,
     "metadata": {},
     "output_type": "execute_result"
    }
   ],
   "source": [
    "translate(\"I like soccer and also going to the beach\",5)"
   ]
  },
  {
   "cell_type": "code",
   "execution_count": 155,
   "metadata": {},
   "outputs": [
    {
     "name": "stdout",
     "output_type": "stream",
     "text": [
      "1/1 [==============================] - 0s 34ms/step\n",
      "Top first words: [(-6.889813, 'empleo'), (-6.890078, 'dentro'), (-6.8903437, 'comió')]\n",
      "1/1 [==============================] - 0s 26ms/step\n",
      "1/1 [==============================] - 0s 32ms/step\n",
      "1/1 [==============================] - 0s 24ms/step\n",
      "Top translations so far: [(-13.779625, 'empleo empleo'), (-13.779892, 'empleo dentro'), (-13.779892, 'dentro empleo')]\n",
      "1/1 [==============================] - 0s 47ms/step\n",
      "1/1 [==============================] - 0s 29ms/step\n",
      "1/1 [==============================] - 0s 32ms/step\n",
      "Top translations so far: [(-20.669436, 'empleo empleo empleo'), (-20.669704, 'empleo empleo dentro'), (-20.669704, 'empleo dentro empleo')]\n",
      "1/1 [==============================] - 0s 31ms/step\n",
      "1/1 [==============================] - 0s 34ms/step\n",
      "1/1 [==============================] - 0s 24ms/step\n",
      "Top translations so far: [(-27.559246, 'empleo empleo empleo empleo'), (-27.559517, 'empleo empleo empleo dentro'), (-27.559517, 'empleo empleo dentro empleo')]\n",
      "1/1 [==============================] - 0s 28ms/step\n",
      "1/1 [==============================] - 0s 26ms/step\n",
      "1/1 [==============================] - 0s 26ms/step\n",
      "Top translations so far: [(-34.449055, 'empleo empleo empleo empleo empleo'), (-34.449326, 'empleo empleo empleo empleo dentro'), (-34.44933, 'empleo empleo empleo dentro empleo')]\n"
     ]
    }
   ],
   "source": [
    "beam_search(\"I like soccer and also going to the beach\", beam_width=3, verbose=True, max_length=5)"
   ]
  },
  {
   "cell_type": "markdown",
   "metadata": {},
   "source": [
    "# 5. The Transformer (Attention is All you Need)"
   ]
  },
  {
   "cell_type": "markdown",
   "metadata": {},
   "source": [
    "### A. The Positional Encoding\n",
    "A positional embedding is a dense vector that encodes the position of a word within a sentense. Th i^th positional embedding is simply added to the word embedding of the i^th word in the sentence "
   ]
  },
  {
   "cell_type": "code",
   "execution_count": 191,
   "metadata": {},
   "outputs": [],
   "source": [
    "max_length = 50  # max length in the whole training set\n",
    "embed_size = 12\n",
    "cls()\n",
    "pos_embed_layer = tf.keras.layers.Embedding(max_length, embed_size)\n",
    "batch_max_len_enc = tf.shape(encoder_embeddings)[1]\n",
    "encoder_in = encoder_embeddings + pos_embed_layer(tf.range(batch_max_len_enc))\n",
    "batch_max_len_dec = tf.shape(decoder_embeddings)[1]\n",
    "decoder_in = decoder_embeddings + pos_embed_layer(tf.range(batch_max_len_dec))"
   ]
  },
  {
   "cell_type": "markdown",
   "metadata": {},
   "source": [
    "Alternatively, we can use fixed, non-trainable positional encodings:"
   ]
  },
  {
   "cell_type": "code",
   "execution_count": 192,
   "metadata": {},
   "outputs": [],
   "source": [
    "class PositionalEncoding(tf.keras.layers.Layer):\n",
    "    def __init__(self, max_length, embed_size, dtype=tf.float32, **kwargs):\n",
    "        super().__init__(dtype=dtype, **kwargs)\n",
    "        assert embed_size % 2 == 0, \"embed_size must be even\"\n",
    "        p, i = np.meshgrid(np.arange(max_length),\n",
    "                           2 * np.arange(embed_size // 2))\n",
    "        pos_emb = np.empty((1, max_length, embed_size))\n",
    "        pos_emb[0, :, ::2] = np.sin(p / 10_000 ** (i / embed_size)).T\n",
    "        pos_emb[0, :, 1::2] = np.cos(p / 10_000 ** (i / embed_size)).T\n",
    "        self.pos_encodings = tf.constant(pos_emb.astype(self.dtype))\n",
    "        self.supports_masking = True\n",
    "\n",
    "    def call(self, inputs):\n",
    "        batch_max_length = tf.shape(inputs)[1]\n",
    "        return inputs + self.pos_encodings[:, :batch_max_length]"
   ]
  },
  {
   "cell_type": "code",
   "execution_count": 193,
   "metadata": {},
   "outputs": [],
   "source": [
    "pos_embed_layer = PositionalEncoding(max_length, embed_size)\n",
    "encoder_in = pos_embed_layer(encoder_embeddings)\n",
    "decoder_in = pos_embed_layer(decoder_embeddings)"
   ]
  },
  {
   "cell_type": "code",
   "execution_count": 195,
   "metadata": {},
   "outputs": [
    {
     "data": {
      "image/png": "[encoded data removed]",
      "text/plain": [
       "<Figure size 648x360 with 2 Axes>"
      ]
     },
     "metadata": {
      "needs_background": "light"
     },
     "output_type": "display_data"
    }
   ],
   "source": [
    "figure_max_length = 201\n",
    "figure_embed_size = 512\n",
    "pos_emb = PositionalEncoding(figure_max_length, figure_embed_size)\n",
    "zeros = np.zeros((1, figure_max_length, figure_embed_size), np.float32)\n",
    "P = pos_emb(zeros)[0].numpy()\n",
    "i1, i2, crop_i = 100, 101, 150\n",
    "p1, p2, p3 = 22, 60, 35\n",
    "fig, (ax1, ax2) = plt.subplots(nrows=2, ncols=1, sharex=True, figsize=(9, 5))\n",
    "ax1.plot([p1, p1], [-1, 1], \"k--\", label=\"$p = {}$\".format(p1))\n",
    "ax1.plot([p2, p2], [-1, 1], \"k--\", label=\"$p = {}$\".format(p2), alpha=0.5)\n",
    "ax1.plot(p3, P[p3, i1], \"bx\", label=\"$p = {}$\".format(p3))\n",
    "ax1.plot(P[:,i1], \"b-\", label=\"$i = {}$\".format(i1))\n",
    "ax1.plot(P[:,i2], \"r-\", label=\"$i = {}$\".format(i2))\n",
    "ax1.plot([p1, p2], [P[p1, i1], P[p2, i1]], \"bo\")\n",
    "ax1.plot([p1, p2], [P[p1, i2], P[p2, i2]], \"ro\")\n",
    "ax1.legend(loc=\"center right\", fontsize=14, framealpha=0.95)\n",
    "ax1.set_ylabel(\"$P_{(p,i)}$\", rotation=0, fontsize=16)\n",
    "ax1.grid(True, alpha=0.3)\n",
    "ax1.hlines(0, 0, figure_max_length - 1, color=\"k\", linewidth=1, alpha=0.3)\n",
    "ax1.axis([0, figure_max_length - 1, -1, 1])\n",
    "ax2.imshow(P.T[:crop_i], cmap=\"gray\", interpolation=\"bilinear\", aspect=\"auto\")\n",
    "ax2.hlines(i1, 0, figure_max_length - 1, color=\"b\", linewidth=3)\n",
    "cheat = 2  # need to raise the red line a bit, or else it hides the blue one\n",
    "ax2.hlines(i2+cheat, 0, figure_max_length - 1, color=\"r\", linewidth=3)\n",
    "ax2.plot([p1, p1], [0, crop_i], \"k--\")\n",
    "ax2.plot([p2, p2], [0, crop_i], \"k--\", alpha=0.5)\n",
    "ax2.plot([p1, p2], [i2+cheat, i2+cheat], \"ro\")\n",
    "ax2.plot([p1, p2], [i1, i1], \"bo\")\n",
    "ax2.axis([0, figure_max_length - 1, 0, crop_i])\n",
    "ax2.set_xlabel(\"$p$\", fontsize=16)\n",
    "ax2.set_ylabel(\"$i$\", rotation=0, fontsize=16)\n",
    "plt.show()"
   ]
  },
  {
   "cell_type": "markdown",
   "metadata": {},
   "source": [
    "### B. Multi-Head Attention"
   ]
  },
  {
   "cell_type": "code",
   "execution_count": 198,
   "metadata": {},
   "outputs": [],
   "source": [
    "N = 1  # In paper this N is 6\n",
    "num_heads = 8\n",
    "dropout_rate = 0.1\n",
    "n_units = 4  # for the first Dense layer in each Feed Forward block units=128\n",
    "encoder_pad_mask = tf.math.not_equal(encoder_input_ids, 0)[:, tf.newaxis]\n",
    "Z = encoder_in # First, feed the positional + Word embedding\n",
    "for _ in range(N): # N=2\n",
    "    skip = Z\n",
    "    attn_layer = tf.keras.layers.MultiHeadAttention(num_heads=num_heads, key_dim=embed_size, dropout=dropout_rate)\n",
    "    Z = attn_layer(Z, value=Z, attention_mask=encoder_pad_mask)\n",
    "    Z = tf.keras.layers.Add()([Z, skip])\n",
    "    Z = tf.keras.layers.LayerNormalization()(Z)\n",
    "    skip = Z\n",
    "    Z = tf.keras.layers.Dense(n_units, activation=\"relu\")(Z)\n",
    "    Z = tf.keras.layers.Dense(embed_size)(Z)\n",
    "    Z = tf.keras.layers.Dropout(dropout_rate)(Z)\n",
    "    Z = tf.keras.layers.Add()([Z, skip])\n",
    "    Z = tf.keras.layers.LayerNormalization()(Z)"
   ]
  },
  {
   "cell_type": "code",
   "execution_count": 199,
   "metadata": {},
   "outputs": [
    {
     "name": "stdout",
     "output_type": "stream",
     "text": [
      "Model: \"model_1\"\n",
      "__________________________________________________________________________________________________\n",
      " Layer (type)                   Output Shape         Param #     Connected to                     \n",
      "==================================================================================================\n",
      " input_2 (InputLayer)           [(None,)]            0           []                               \n",
      "                                                                                                  \n",
      " input_1 (InputLayer)           [(None,)]            0           []                               \n",
      "                                                                                                  \n",
      " text_vectorization_6 (TextVect  (None, 50)          0           ['input_2[0][0]']                \n",
      " orization)                                                                                       \n",
      "                                                                                                  \n",
      " text_vectorization_5 (TextVect  (None, 50)          0           ['input_1[0][0]']                \n",
      " orization)                                                                                       \n",
      "                                                                                                  \n",
      " embedding_1 (Embedding)        (None, 50, 12)       12000       ['text_vectorization_6[21][0]']  \n",
      "                                                                                                  \n",
      " tf.math.not_equal_2 (TFOpLambd  (None, 50)          0           ['text_vectorization_5[21][0]']  \n",
      " a)                                                                                               \n",
      "                                                                                                  \n",
      " embedding (Embedding)          (None, 50, 12)       12000       ['text_vectorization_5[21][0]']  \n",
      "                                                                                                  \n",
      " positional_encoding (Positiona  (None, 50, 12)      0           ['embedding[0][0]',              \n",
      " lEncoding)                                                       'embedding_1[0][0]']            \n",
      "                                                                                                  \n",
      " tf.__operators__.getitem_4 (Sl  (None, 1, 50)       0           ['tf.math.not_equal_2[0][0]']    \n",
      " icingOpLambda)                                                                                   \n",
      "                                                                                                  \n",
      " tf.compat.v1.shape_1 (TFOpLamb  (3,)                0           ['embedding_1[0][0]']            \n",
      " da)                                                                                              \n",
      "                                                                                                  \n",
      " multi_head_attention_6 (MultiH  (None, 50, 12)      4908        ['positional_encoding[0][0]',    \n",
      " eadAttention)                                                    'tf.__operators__.getitem_4[0][0\n",
      "                                                                 ]',                              \n",
      "                                                                  'positional_encoding[0][0]']    \n",
      "                                                                                                  \n",
      " tf.__operators__.getitem_1 (Sl  ()                  0           ['tf.compat.v1.shape_1[0][0]']   \n",
      " icingOpLambda)                                                                                   \n",
      "                                                                                                  \n",
      " add_10 (Add)                   (None, 50, 12)       0           ['multi_head_attention_6[0][0]', \n",
      "                                                                  'positional_encoding[0][0]']    \n",
      "                                                                                                  \n",
      " tf.ones_1 (TFOpLambda)         (50, 50)             0           ['tf.__operators__.getitem_1[0][0\n",
      "                                                                 ]',                              \n",
      "                                                                  'tf.__operators__.getitem_1[0][0\n",
      "                                                                 ]']                              \n",
      "                                                                                                  \n",
      " tf.math.not_equal_3 (TFOpLambd  (None, 50)          0           ['text_vectorization_6[21][0]']  \n",
      " a)                                                                                               \n",
      "                                                                                                  \n",
      " layer_normalization_10 (LayerN  (None, 50, 12)      24          ['add_10[0][0]']                 \n",
      " ormalization)                                                                                    \n",
      "                                                                                                  \n",
      " tf.linalg.band_part_1 (TFOpLam  (50, 50)            0           ['tf.ones_1[0][0]']              \n",
      " bda)                                                                                             \n",
      "                                                                                                  \n",
      " tf.__operators__.getitem_5 (Sl  (None, 1, 50)       0           ['tf.math.not_equal_3[0][0]']    \n",
      " icingOpLambda)                                                                                   \n",
      "                                                                                                  \n",
      " dense_9 (Dense)                (None, 50, 4)        52          ['layer_normalization_10[0][0]'] \n",
      "                                                                                                  \n",
      " tf.math.logical_and_2 (TFOpLam  (None, 50, 50)      0           ['tf.linalg.band_part_1[0][0]',  \n",
      " bda)                                                             'tf.__operators__.getitem_5[0][0\n",
      "                                                                 ]']                              \n",
      "                                                                                                  \n",
      " dense_10 (Dense)               (None, 50, 12)       60          ['dense_9[0][0]']                \n",
      "                                                                                                  \n",
      " multi_head_attention_7 (MultiH  (None, 50, 12)      4908        ['positional_encoding[1][0]',    \n",
      " eadAttention)                                                    'tf.math.logical_and_2[0][0]',  \n",
      "                                                                  'positional_encoding[1][0]']    \n",
      "                                                                                                  \n",
      " dropout_2 (Dropout)            (None, 50, 12)       0           ['dense_10[0][0]']               \n",
      "                                                                                                  \n",
      " add_12 (Add)                   (None, 50, 12)       0           ['multi_head_attention_7[0][0]', \n",
      "                                                                  'positional_encoding[1][0]']    \n",
      "                                                                                                  \n",
      " add_11 (Add)                   (None, 50, 12)       0           ['dropout_2[0][0]',              \n",
      "                                                                  'layer_normalization_10[0][0]'] \n",
      "                                                                                                  \n",
      " layer_normalization_12 (LayerN  (None, 50, 12)      24          ['add_12[0][0]']                 \n",
      " ormalization)                                                                                    \n",
      "                                                                                                  \n",
      " layer_normalization_11 (LayerN  (None, 50, 12)      24          ['add_11[0][0]']                 \n",
      " ormalization)                                                                                    \n",
      "                                                                                                  \n",
      " multi_head_attention_8 (MultiH  (None, 50, 12)      4908        ['layer_normalization_12[0][0]', \n",
      " eadAttention)                                                    'tf.__operators__.getitem_4[0][0\n",
      "                                                                 ]',                              \n",
      "                                                                  'layer_normalization_11[0][0]'] \n",
      "                                                                                                  \n",
      " add_13 (Add)                   (None, 50, 12)       0           ['multi_head_attention_8[0][0]', \n",
      "                                                                  'layer_normalization_12[0][0]'] \n",
      "                                                                                                  \n",
      " layer_normalization_13 (LayerN  (None, 50, 12)      24          ['add_13[0][0]']                 \n",
      " ormalization)                                                                                    \n",
      "                                                                                                  \n",
      " dense_11 (Dense)               (None, 50, 4)        52          ['layer_normalization_13[0][0]'] \n",
      "                                                                                                  \n",
      " dense_12 (Dense)               (None, 50, 12)       60          ['dense_11[0][0]']               \n",
      "                                                                                                  \n",
      " add_14 (Add)                   (None, 50, 12)       0           ['dense_12[0][0]',               \n",
      "                                                                  'layer_normalization_13[0][0]'] \n",
      "                                                                                                  \n",
      " layer_normalization_14 (LayerN  (None, 50, 12)      24          ['add_14[0][0]']                 \n",
      " ormalization)                                                                                    \n",
      "                                                                                                  \n",
      " dense_13 (Dense)               (None, 50, 1000)     13000       ['layer_normalization_14[0][0]'] \n",
      "                                                                                                  \n",
      "==================================================================================================\n",
      "Total params: 52,068\n",
      "Trainable params: 52,068\n",
      "Non-trainable params: 0\n",
      "__________________________________________________________________________________________________\n"
     ]
    }
   ],
   "source": [
    "decoder_pad_mask = tf.math.not_equal(decoder_input_ids, 0)[:, tf.newaxis]\n",
    "causal_mask = tf.linalg.band_part(  # creates a lower triangular matrix\n",
    "    tf.ones((batch_max_len_dec, batch_max_len_dec), tf.bool), -1, 0)\n",
    "encoder_outputs = Z  # let's save the encoder's final outputs\n",
    "Z = decoder_in  # the decoder starts with its own inputs\n",
    "for _ in range(N):\n",
    "    skip = Z\n",
    "    attn_layer = tf.keras.layers.MultiHeadAttention(num_heads=num_heads, key_dim=embed_size, dropout=dropout_rate)\n",
    "    Z = attn_layer(Z, value=Z, attention_mask=causal_mask & decoder_pad_mask)\n",
    "    Z = tf.keras.layers.LayerNormalization()(tf.keras.layers.Add()([Z, skip]))\n",
    "    skip = Z\n",
    "    attn_layer = tf.keras.layers.MultiHeadAttention(num_heads=num_heads, key_dim=embed_size, dropout=dropout_rate)\n",
    "    Z = attn_layer(Z, value=encoder_outputs, attention_mask=encoder_pad_mask)\n",
    "    Z = tf.keras.layers.LayerNormalization()(tf.keras.layers.Add()([Z, skip]))\n",
    "    skip = Z\n",
    "    Z = tf.keras.layers.Dense(n_units, activation=\"relu\")(Z)\n",
    "    Z = tf.keras.layers.Dense(embed_size)(Z)\n",
    "    Z = tf.keras.layers.LayerNormalization()(tf.keras.layers.Add()([Z, skip]))\n",
    "Y_proba = tf.keras.layers.Dense(vocab_size, activation=\"softmax\")(Z)\n",
    "model = tf.keras.Model(inputs=[encoder_inputs, decoder_inputs], outputs=[Y_proba])\n",
    "model.summary()"
   ]
  },
  {
   "cell_type": "code",
   "execution_count": 200,
   "metadata": {},
   "outputs": [
    {
     "name": "stdout",
     "output_type": "stream",
     "text": [
      "3125/3125 [==============================] - 379s 120ms/step - loss: 0.5080 - accuracy: 0.3584 - val_loss: 0.3958 - val_accuracy: 0.4574\n"
     ]
    },
    {
     "data": {
      "text/plain": [
       "<keras.callbacks.History at 0x18c5bb68460>"
      ]
     },
     "execution_count": 200,
     "metadata": {},
     "output_type": "execute_result"
    }
   ],
   "source": [
    "model.compile(loss=\"sparse_categorical_crossentropy\", optimizer=\"nadam\",metrics=[\"accuracy\"])\n",
    "model.fit((X_train_enc, X_train_dec), Y_train, epochs=1, validation_data=((X_valid_enc, X_valid_dec), Y_valid))"
   ]
  },
  {
   "cell_type": "code",
   "execution_count": 201,
   "metadata": {},
   "outputs": [
    {
     "name": "stdout",
     "output_type": "stream",
     "text": [
      "1/1 [==============================] - 1s 630ms/step\n",
      " me\n",
      "1/1 [==============================] - 0s 23ms/step\n",
      " me gusta\n",
      "1/1 [==============================] - 0s 24ms/step\n",
      " me gusta la\n",
      "1/1 [==============================] - 0s 20ms/step\n",
      " me gusta la puerta\n",
      "1/1 [==============================] - 0s 24ms/step\n",
      " me gusta la puerta y\n",
      "1/1 [==============================] - 0s 22ms/step\n",
      " me gusta la puerta y [UNK]\n",
      "1/1 [==============================] - 0s 26ms/step\n"
     ]
    },
    {
     "data": {
      "text/plain": [
       "'me gusta la puerta y [UNK]'"
      ]
     },
     "execution_count": 201,
     "metadata": {},
     "output_type": "execute_result"
    }
   ],
   "source": [
    "translate(\"I like soccer and also going to the beach\", 10)"
   ]
  },
  {
   "cell_type": "code",
   "execution_count": null,
   "metadata": {},
   "outputs": [],
   "source": []
  },
  {
   "cell_type": "code",
   "execution_count": null,
   "metadata": {},
   "outputs": [],
   "source": []
  },
  {
   "cell_type": "code",
   "execution_count": null,
   "metadata": {},
   "outputs": [],
   "source": []
  }
 ],
 "metadata": {
  "interpreter": {
   "hash": "ad2bdc8ecc057115af97d19610ffacc2b4e99fae6737bb82f5d7fb13d2f2c186"
  },
  "kernelspec": {
   "display_name": "Python 3.8.8 ('base')",
   "language": "python",
   "name": "python3"
  },
  "language_info": {
   "codemirror_mode": {
    "name": "ipython",
    "version": 3
   },
   "file_extension": ".py",
   "mimetype": "text/x-python",
   "name": "python",
   "nbconvert_exporter": "python",
   "pygments_lexer": "ipython3",
   "version": "3.8.8"
  },
  "orig_nbformat": 4
 },
 "nbformat": 4,
 "nbformat_minor": 2
}
