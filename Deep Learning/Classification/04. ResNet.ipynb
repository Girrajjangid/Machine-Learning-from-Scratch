{
 "cells": [
  {
   "cell_type": "code",
   "execution_count": 2,
   "metadata": {},
   "outputs": [],
   "source": [
    "from config import *"
   ]
  },
  {
   "cell_type": "code",
   "execution_count": 3,
   "metadata": {},
   "outputs": [],
   "source": [
    "# tf.dataset return data in X, y format\n",
    "resize_rescale = tf.keras.models.Sequential([\n",
    "            tf.keras.layers.Resizing(224, 224, crop_to_aspect_ratio=True),\n",
    "            tf.keras.layers.Rescaling(1./255)\n",
    "])\n",
    "\n",
    "# Data augment layer\n",
    "data_augment = tf.keras.models.Sequential([\n",
    "            tf.keras.layers.RandomFlip(\"horizontal_and_vertical\"),\n",
    "            tf.keras.layers.RandomRotation(0.2),\n",
    "            tf.keras.layers.RandomContrast(factor=0.2)\n",
    "\n",
    "]) \n",
    "\n",
    "def preprocess(df, shuffle=False, augment=False):\n",
    "    tdf = df.map(lambda X,y: (resize_rescale(X), y))\n",
    "    if shuffle:\n",
    "        tdf = tdf.shuffle(1_000,seed=42)\n",
    "    # Batch all dataset\n",
    "    tdf = tdf.batch(18)\n",
    "    #Augmentation on training set: training=True means it will on apply during training\n",
    "    if augment:\n",
    "        tdf = tdf.map(lambda X,y: (data_augment(X, training=True), y))\n",
    "    return tdf.prefetch(1)\n",
    "\n",
    "train_data = preprocess(train_set_raw,True,True)\n",
    "test_data  = preprocess(test_set_raw)\n",
    "valid_data = preprocess(valid_set_raw)"
   ]
  },
  {
   "cell_type": "code",
   "execution_count": null,
   "metadata": {},
   "outputs": [],
   "source": []
  }
 ],
 "metadata": {
  "interpreter": {
   "hash": "ad2bdc8ecc057115af97d19610ffacc2b4e99fae6737bb82f5d7fb13d2f2c186"
  },
  "kernelspec": {
   "display_name": "Python 3.8.8 ('base')",
   "language": "python",
   "name": "python3"
  },
  "language_info": {
   "codemirror_mode": {
    "name": "ipython",
    "version": 3
   },
   "file_extension": ".py",
   "mimetype": "text/x-python",
   "name": "python",
   "nbconvert_exporter": "python",
   "pygments_lexer": "ipython3",
   "version": "3.8.8"
  },
  "orig_nbformat": 4
 },
 "nbformat": 4,
 "nbformat_minor": 2
}
