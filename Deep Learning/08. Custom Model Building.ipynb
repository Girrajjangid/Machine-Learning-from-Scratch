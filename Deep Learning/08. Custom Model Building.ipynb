{
 "cells": [
  {
   "cell_type": "markdown",
   "metadata": {},
   "source": [
    "# Custom Modellig"
   ]
  },
  {
   "cell_type": "code",
   "execution_count": 61,
   "metadata": {},
   "outputs": [],
   "source": [
    "import tensorflow as tf\n",
    "from sklearn.preprocessing import StandardScaler\n",
    "from sklearn.datasets import fetch_california_housing\n",
    "from sklearn.model_selection import train_test_split\n",
    "\n",
    "def cls():\n",
    "    tf.random.set_seed(42)\n",
    "    tf.keras.backend.clear_session()"
   ]
  },
  {
   "cell_type": "code",
   "execution_count": 62,
   "metadata": {},
   "outputs": [
    {
     "name": "stdout",
     "output_type": "stream",
     "text": [
      "Independent variables :  (16718, 8) (1858, 8) (2064, 8)\n",
      "Target variables      :  (16718,) (1858,) (2064,)\n"
     ]
    }
   ],
   "source": [
    "house = fetch_california_housing()\n",
    "x_train, x_test, y_train, y_test   = train_test_split(house.data, house.target, test_size=0.1, random_state=42)\n",
    "x_train, x_valid, y_train, y_valid = train_test_split(x_train, y_train, test_size=0.1, random_state=42)\n",
    "\n",
    "scaler, scaler2 = StandardScaler(), StandardScaler()\n",
    "x_train_s = scaler.fit_transform(x_train)\n",
    "x_test_s  = scaler.transform(x_test)\n",
    "x_valid_s = scaler.transform(x_valid)\n",
    "\n",
    "print(\"Independent variables : \", x_train_s.shape, x_valid_s.shape, x_test_s.shape)\n",
    "print(\"Target variables      : \", y_train.shape, y_valid.shape, y_test.shape)"
   ]
  },
  {
   "cell_type": "code",
   "execution_count": 63,
   "metadata": {},
   "outputs": [
    {
     "name": "stdout",
     "output_type": "stream",
     "text": [
      "Epoch 1/4\n",
      "523/523 [==============================] - 1s 2ms/step - loss: 0.4583 - mae: 0.7910 - val_loss: 0.2270 - val_mae: 0.5280\n",
      "Epoch 2/4\n",
      "523/523 [==============================] - 1s 1ms/step - loss: 0.1969 - mae: 0.4809 - val_loss: 0.2079 - val_mae: 0.4939\n",
      "Epoch 3/4\n",
      "523/523 [==============================] - 1s 1ms/step - loss: 0.1833 - mae: 0.4600 - val_loss: 0.1921 - val_mae: 0.4709\n",
      "Epoch 4/4\n",
      "523/523 [==============================] - 1s 2ms/step - loss: 0.1747 - mae: 0.4477 - val_loss: 0.1878 - val_mae: 0.4646\n",
      "65/65 [==============================] - 0s 1ms/step - loss: 0.1816 - mae: 0.4583\n"
     ]
    },
    {
     "data": {
      "text/plain": [
       "[0.18163689970970154, 0.4582922160625458]"
      ]
     },
     "execution_count": 63,
     "metadata": {},
     "output_type": "execute_result"
    }
   ],
   "source": [
    "cls()\n",
    "model = tf.keras.Sequential([tf.keras.layers.Dense(30, activation=\"elu\", kernel_initializer=\"he_normal\", input_shape=[x_train_s.shape[1]]),\n",
    "                            tf.keras.layers.Dense(10, activation=\"elu\"),\n",
    "                            tf.keras.layers.Dense(1)])\n",
    "\n",
    "model.compile(loss=tf.keras.losses.Huber(), optimizer='adam', metrics=[\"mae\"])\n",
    "history = model.fit(x_train_s, y_train, epochs=4, validation_data=(x_valid_s, y_valid))\n",
    "model.evaluate(x_test_s, y_test)"
   ]
  },
  {
   "cell_type": "markdown",
   "metadata": {},
   "source": [
    "### 1. Custom Loss function"
   ]
  },
  {
   "cell_type": "code",
   "execution_count": 78,
   "metadata": {},
   "outputs": [],
   "source": [
    "# Lets create huber loss function\n",
    "def huber_fun(y_true, y_pred):\n",
    "    error = y_true - y_pred\n",
    "    is_small_error = tf.abs(error) < 1\n",
    "    squared_loss = tf.square(error) / 2 # Normalize MSE\n",
    "    linear_loss  = tf.abs(error) - 0.5\n",
    "    return tf.where(is_small_error, squared_loss, linear_loss) \n"
   ]
  },
  {
   "cell_type": "code",
   "execution_count": 79,
   "metadata": {},
   "outputs": [
    {
     "data": {
      "image/png": "[encoded data removed]",
      "text/plain": [
       "<Figure size 576x252 with 1 Axes>"
      ]
     },
     "metadata": {
      "needs_background": "light"
     },
     "output_type": "display_data"
    }
   ],
   "source": [
    "import matplotlib.pyplot as plt\n",
    "import numpy as np\n",
    "\n",
    "plt.figure(figsize=(8, 3.5))\n",
    "z = np.linspace(-4, 4, 200)\n",
    "z_center = np.linspace(-1, 1, 200)\n",
    "plt.plot(z, huber_fun(0, z), \"b-\", linewidth=2, label=\"huber($z$)\")\n",
    "plt.plot(z, z ** 2 / 2, \"r:\", linewidth=1)\n",
    "plt.plot(z_center, z_center ** 2 / 2, \"r\", linewidth=2)\n",
    "plt.plot([-1, -1], [0, huber_fun(0., -1.)], \"k--\")\n",
    "plt.plot([1, 1], [0, huber_fun(0., 1.)], \"k--\")\n",
    "plt.gca().axhline(y=0, color='k')\n",
    "plt.gca().axvline(x=0, color='k')\n",
    "plt.text(2.1, 3.5, r\"$\\frac{1}{2}z^2$\", color=\"r\", fontsize=15)\n",
    "plt.text(3.0, 2.2, r\"$|z| - \\frac{1}{2}$\", color=\"b\", fontsize=15)\n",
    "plt.axis([-4, 4, 0, 4])\n",
    "plt.grid(True)\n",
    "plt.xlabel(\"$z$\")\n",
    "plt.legend(fontsize=14)\n",
    "plt.title(\"Huber loss\", fontsize=14)\n",
    "plt.show()"
   ]
  },
  {
   "cell_type": "code",
   "execution_count": 84,
   "metadata": {},
   "outputs": [
    {
     "name": "stdout",
     "output_type": "stream",
     "text": [
      "Epoch 1/4\n",
      "523/523 [==============================] - 1s 2ms/step - loss: 0.1370 - mae: 0.3849 - val_loss: 0.1480 - val_mae: 0.4024\n",
      "Epoch 2/4\n",
      "523/523 [==============================] - 1s 1ms/step - loss: 0.1365 - mae: 0.3843 - val_loss: 0.1463 - val_mae: 0.4000\n",
      "Epoch 3/4\n",
      "523/523 [==============================] - 1s 1ms/step - loss: 0.1362 - mae: 0.3829 - val_loss: 0.1466 - val_mae: 0.4036\n",
      "Epoch 4/4\n",
      "523/523 [==============================] - 1s 1ms/step - loss: 0.1356 - mae: 0.3822 - val_loss: 0.1471 - val_mae: 0.3987\n",
      "65/65 [==============================] - 0s 828us/step - loss: 0.1445 - mae: 0.3964\n"
     ]
    },
    {
     "data": {
      "text/plain": [
       "[0.1445251703262329, 0.39644020795822144]"
      ]
     },
     "execution_count": 84,
     "metadata": {},
     "output_type": "execute_result"
    }
   ],
   "source": [
    "cls()\n",
    "model.compile(loss=huber_fun, optimizer='adam', metrics=[\"mae\"])\n",
    "history = model.fit(x_train_s, y_train, epochs=4, validation_data=(x_valid_s, y_valid))\n",
    "model.evaluate(x_test_s, y_test)"
   ]
  },
  {
   "cell_type": "markdown",
   "metadata": {},
   "source": [
    "### 2. Saving/Loading with custom objects"
   ]
  },
  {
   "cell_type": "code",
   "execution_count": 85,
   "metadata": {},
   "outputs": [],
   "source": [
    "model.save(\"model/model.h5\")"
   ]
  },
  {
   "cell_type": "code",
   "execution_count": 90,
   "metadata": {},
   "outputs": [
    {
     "data": {
      "text/plain": [
       "array([[195.63742]], dtype=float32)"
      ]
     },
     "execution_count": 90,
     "metadata": {},
     "output_type": "execute_result"
    }
   ],
   "source": [
    "# Need to pass all custom objects\n",
    "temp = tf.keras.models.load_model(\"model/model.h5\", custom_objects={\"huber_fun\":huber_fun})\n",
    "temp.predict(x_test[[0]])"
   ]
  },
  {
   "cell_type": "code",
   "execution_count": 91,
   "metadata": {},
   "outputs": [
    {
     "name": "stdout",
     "output_type": "stream",
     "text": [
      "Epoch 1/2\n",
      "523/523 [==============================] - 1s 2ms/step - loss: 0.1350 - mae: 0.3812 - val_loss: 0.1463 - val_mae: 0.3990\n",
      "Epoch 2/2\n",
      "523/523 [==============================] - 1s 1ms/step - loss: 0.1347 - mae: 0.3809 - val_loss: 0.1459 - val_mae: 0.3984\n",
      "65/65 [==============================] - 0s 794us/step - loss: 0.1420 - mae: 0.3940\n"
     ]
    },
    {
     "data": {
      "text/plain": [
       "[0.14201784133911133, 0.39404675364494324]"
      ]
     },
     "execution_count": 91,
     "metadata": {},
     "output_type": "execute_result"
    }
   ],
   "source": [
    "history = model.fit(x_train_s, y_train, epochs=2, validation_data=(x_valid_s, y_valid))\n",
    "model.evaluate(x_test_s, y_test)"
   ]
  },
  {
   "cell_type": "code",
   "execution_count": 92,
   "metadata": {},
   "outputs": [],
   "source": [
    "def create_huber(threshold=1.0):\n",
    "    def huber_fun(y_true, y_pred):\n",
    "        error = y_true-y_pred\n",
    "        is_error_small = error < threshold\n",
    "        squared_loss = tf.square(error)/2\n",
    "        linear_loss  = threshold * tf.abs(error) - threshold ** 2 / 2\n",
    "        return tf.where(is_error_small, squared_loss, linear_loss)\n",
    "    return huber_fun"
   ]
  },
  {
   "cell_type": "code",
   "execution_count": 98,
   "metadata": {},
   "outputs": [
    {
     "name": "stdout",
     "output_type": "stream",
     "text": [
      "Epoch 1/2\n",
      "523/523 [==============================] - 1s 2ms/step - loss: 0.1454 - mae: 0.3758 - val_loss: 0.1629 - val_mae: 0.3934\n",
      "Epoch 2/2\n",
      "523/523 [==============================] - 1s 1ms/step - loss: 0.1438 - mae: 0.3751 - val_loss: 0.1604 - val_mae: 0.3928\n",
      "65/65 [==============================] - 0s 946us/step - loss: 0.1552 - mae: 0.3916\n"
     ]
    },
    {
     "data": {
      "text/plain": [
       "[0.1551503688097, 0.3916175663471222]"
      ]
     },
     "execution_count": 98,
     "metadata": {},
     "output_type": "execute_result"
    }
   ],
   "source": [
    "cls()\n",
    "model.compile(loss=create_huber(2.), optimizer='adam', metrics=[\"mae\"])\n",
    "history = model.fit(x_train_s, y_train, epochs=2, validation_data=(x_valid_s, y_valid))\n",
    "model.evaluate(x_test_s, y_test)"
   ]
  },
  {
   "cell_type": "code",
   "execution_count": 99,
   "metadata": {},
   "outputs": [],
   "source": [
    "model.save(\"model/model_2.h5\")"
   ]
  },
  {
   "cell_type": "code",
   "execution_count": 104,
   "metadata": {},
   "outputs": [],
   "source": [
    "# Need to specify threshold value manually\n",
    "model2 = tf.keras.models.load_model(\"model/model_2.h5\", custom_objects={\"huber_fun\":create_huber(2.)})"
   ]
  },
  {
   "cell_type": "code",
   "execution_count": 105,
   "metadata": {},
   "outputs": [
    {
     "name": "stdout",
     "output_type": "stream",
     "text": [
      "Epoch 1/2\n",
      "523/523 [==============================] - 1s 2ms/step - loss: 0.1438 - mae: 0.3744 - val_loss: 0.1618 - val_mae: 0.3921\n",
      "Epoch 2/2\n",
      "523/523 [==============================] - 1s 1ms/step - loss: 0.1436 - mae: 0.3744 - val_loss: 0.1606 - val_mae: 0.3923\n",
      "65/65 [==============================] - 0s 1ms/step - loss: 0.1552 - mae: 0.3916\n"
     ]
    },
    {
     "data": {
      "text/plain": [
       "[0.1551503688097, 0.3916175663471222]"
      ]
     },
     "execution_count": 105,
     "metadata": {},
     "output_type": "execute_result"
    }
   ],
   "source": [
    "history = model2.fit(x_train_s, y_train, epochs=2, validation_data=(x_valid_s, y_valid))\n",
    "model.evaluate(x_test_s, y_test)"
   ]
  },
  {
   "cell_type": "code",
   "execution_count": 106,
   "metadata": {},
   "outputs": [],
   "source": [
    "# We can solve this problem by implementing tf.keras.losses.Loss class and its get_config() function\n",
    "\n",
    "class HuberLoss(tf.keras.losses.Loss):\n",
    "    def __init__(self, threshold=1., **kwargs):\n",
    "        self.threshold = threshold\n",
    "        super().__init__(**kwargs)\n",
    "\n",
    "    def call(self, y_true, y_pred): # This function called during training. You can do anything in this function\n",
    "        error = y_true - y_pred\n",
    "        is_error_small = error < self.threshold\n",
    "        squared_loss = tf.square(error)/2\n",
    "        linear_loss  = self.threshold * tf.abs(error) - self.threshold ** 2 / 2\n",
    "        return tf.where(is_error_small, squared_loss, linear_loss)\n",
    "    \n",
    "    def get_config(self):\n",
    "        base_config = super().get_config()\n",
    "        return {**base_config, \"threshold\":self.threshold}\n",
    "        "
   ]
  },
  {
   "cell_type": "code",
   "execution_count": 107,
   "metadata": {},
   "outputs": [
    {
     "name": "stdout",
     "output_type": "stream",
     "text": [
      "Epoch 1/2\n",
      "523/523 [==============================] - 1s 2ms/step - loss: 0.1449 - mae: 0.3752 - val_loss: 0.1624 - val_mae: 0.3926\n",
      "Epoch 2/2\n",
      "523/523 [==============================] - 1s 1ms/step - loss: 0.1434 - mae: 0.3744 - val_loss: 0.1602 - val_mae: 0.3921\n",
      "65/65 [==============================] - 0s 960us/step - loss: 0.1548 - mae: 0.3910\n"
     ]
    },
    {
     "data": {
      "text/plain": [
       "[0.15481024980545044, 0.39101728796958923]"
      ]
     },
     "execution_count": 107,
     "metadata": {},
     "output_type": "execute_result"
    }
   ],
   "source": [
    "cls()\n",
    "model.compile(loss=HuberLoss(2.), optimizer='adam', metrics=[\"mae\"])\n",
    "history = model.fit(x_train_s, y_train, epochs=2, validation_data=(x_valid_s, y_valid))\n",
    "model.evaluate(x_test_s, y_test)"
   ]
  },
  {
   "cell_type": "code",
   "execution_count": 108,
   "metadata": {},
   "outputs": [],
   "source": [
    "model.save(\"model/model_custom_class.h5\")"
   ]
  },
  {
   "cell_type": "code",
   "execution_count": 109,
   "metadata": {},
   "outputs": [
    {
     "name": "stdout",
     "output_type": "stream",
     "text": [
      "Epoch 1/2\n",
      "523/523 [==============================] - 1s 2ms/step - loss: 0.1434 - mae: 0.3738 - val_loss: 0.1611 - val_mae: 0.3912\n",
      "Epoch 2/2\n",
      "523/523 [==============================] - 1s 2ms/step - loss: 0.1432 - mae: 0.3738 - val_loss: 0.1602 - val_mae: 0.3916\n",
      "65/65 [==============================] - 0s 960us/step - loss: 0.1548 - mae: 0.3910\n"
     ]
    },
    {
     "data": {
      "text/plain": [
       "[0.15481024980545044, 0.39101728796958923]"
      ]
     },
     "execution_count": 109,
     "metadata": {},
     "output_type": "execute_result"
    }
   ],
   "source": [
    "# Model running fine without pass explicit threshold value\n",
    "model3 = tf.keras.models.load_model('model/model_custom_class.h5', custom_objects={\"HuberLoss\":HuberLoss})\n",
    "history = model3.fit(x_train_s, y_train, epochs=2, validation_data=(x_valid_s, y_valid))\n",
    "model.evaluate(x_test_s, y_test)\n"
   ]
  },
  {
   "cell_type": "code",
   "execution_count": 112,
   "metadata": {},
   "outputs": [
    {
     "data": {
      "text/plain": [
       "{'reduction': 'auto', 'name': None, 'threshold': 2.0}"
      ]
     },
     "execution_count": 112,
     "metadata": {},
     "output_type": "execute_result"
    }
   ],
   "source": [
    "model.loss.get_config()"
   ]
  },
  {
   "cell_type": "markdown",
   "metadata": {},
   "source": [
    "### 3. Custom Activation function, Initializers, Regularizers, Constraints, and Optimizers"
   ]
  },
  {
   "cell_type": "code",
   "execution_count": 117,
   "metadata": {},
   "outputs": [],
   "source": [
    "# softplus activation function\n",
    "def my_softplus(z):\n",
    "    return tf.math.log(tf.exp(z) + 1.0)\n",
    "\n",
    "def my_glorat(shape, dtype=tf.float32):\n",
    "    stddev = tf.sqrt(2./(shape[0] + shape[1]))\n",
    "    return tf.random.normal(shape, stddev=stddev, dtype=dtype)\n",
    "\n",
    "# 0.01 regularize threshold\n",
    "def my_l1_regularize(weights):\n",
    "    return tf.reduce_sum(tf.abs(0.01 * weights)) \n",
    "\n",
    "# return value is just tf.nn.relu(weights)\n",
    "def my_positive_weights(weights): \n",
    "    return tf.where(weights<0.,tf.zeros_like(weights), weights)\n"
   ]
  },
  {
   "cell_type": "code",
   "execution_count": 118,
   "metadata": {},
   "outputs": [],
   "source": [
    "l =tf.keras.layers.Dense(1,activation=my_softplus,kernel_initializer=my_glorat,kernel_regularizer=my_l1_regularize,kernel_constraint=my_positive_weights)"
   ]
  },
  {
   "cell_type": "code",
   "execution_count": 121,
   "metadata": {},
   "outputs": [
    {
     "name": "stdout",
     "output_type": "stream",
     "text": [
      "Epoch 1/2\n",
      "523/523 [==============================] - 1s 2ms/step - loss: 1.6073 - mae: 1.3172 - val_loss: 0.5062 - val_mae: 0.5759\n",
      "Epoch 2/2\n",
      "523/523 [==============================] - 1s 2ms/step - loss: 0.4243 - mae: 0.5259 - val_loss: 0.4102 - val_mae: 0.5260\n",
      "65/65 [==============================] - 0s 843us/step - loss: 0.4028 - mae: 0.5240\n"
     ]
    },
    {
     "data": {
      "text/plain": [
       "[0.40281733870506287, 0.5240435600280762]"
      ]
     },
     "execution_count": 121,
     "metadata": {},
     "output_type": "execute_result"
    }
   ],
   "source": [
    "# Lets build one model again\n",
    "cls()\n",
    "model = tf.keras.models.Sequential([tf.keras.layers.Dense(30, kernel_initializer=my_glorat, input_shape=(x_train_s.shape[1:])),\n",
    "                                    tf.keras.layers.Dense(10, activation=my_softplus,\n",
    "                                                            kernel_initializer=my_glorat, \n",
    "                                                            kernel_regularizer=my_l1_regularize, \n",
    "                                                            kernel_constraint=my_positive_weights),\n",
    "                                    tf.keras.layers.Dense(1)])\n",
    "\n",
    "model.compile(loss=HuberLoss(2.), optimizer=\"adam\", metrics=['mae'])\n",
    "history = model.fit(x_train_s, y_train, epochs=2, validation_data=(x_valid_s, y_valid))\n",
    "model.evaluate(x_test_s, y_test)"
   ]
  },
  {
   "cell_type": "code",
   "execution_count": 122,
   "metadata": {},
   "outputs": [
    {
     "name": "stdout",
     "output_type": "stream",
     "text": [
      "Epoch 1/2\n",
      "523/523 [==============================] - 1s 2ms/step - loss: 0.3616 - mae: 0.4979 - val_loss: 0.3649 - val_mae: 0.5126\n",
      "Epoch 2/2\n",
      "523/523 [==============================] - 1s 2ms/step - loss: 0.3255 - mae: 0.4873 - val_loss: 0.3331 - val_mae: 0.5007\n",
      "65/65 [==============================] - ETA: 0s - loss: 0.3230 - mae: 0.496 - 0s 938us/step - loss: 0.3233 - mae: 0.4975\n"
     ]
    },
    {
     "data": {
      "text/plain": [
       "[0.3233291208744049, 0.4975474774837494]"
      ]
     },
     "execution_count": 122,
     "metadata": {},
     "output_type": "execute_result"
    }
   ],
   "source": [
    "model.save(\"model/model_custom_kernels.h5\")\n",
    "co = {\"my_glorat\":my_glorat,\"my_softplus\":my_softplus,\"my_l1_regularize\":my_l1_regularize,\"my_positive_weights\":my_positive_weights,\"HuberLoss\":HuberLoss}\n",
    "model4 = tf.keras.models.load_model(\"model/model_custom_kernels.h5\", custom_objects=co)\n",
    "history = model4.fit(x_train_s, y_train, epochs=2, validation_data=(x_valid_s, y_valid))\n",
    "model4.evaluate(x_test_s, y_test)"
   ]
  },
  {
   "cell_type": "code",
   "execution_count": 125,
   "metadata": {},
   "outputs": [],
   "source": [
    "# If we want to build with custom hyperparameters\n",
    "################################################################################################################################################\n",
    "# We must implement __call__() method for regularizers, initializers, and constraints parent class do not define get_config() function as well #\n",
    "# and implement call() for losses, layers(including activation functions), and models                                                          #\n",
    "################################################################################################################################################\n",
    "class MyL1Regular(tf.keras.regularizers.Regularizer):\n",
    "    def __init__(self, threshold, **kwargs):\n",
    "        self.threshold = threshold\n",
    "        # Not calling parent class's constructor\n",
    "    def __call__(self, weights):\n",
    "        return tf.reduce_sum(tf.abs(self.threshold*weights))\n",
    "    def get_config(self):\n",
    "        return {\"threshold\":self.threshold}"
   ]
  },
  {
   "cell_type": "code",
   "execution_count": 126,
   "metadata": {},
   "outputs": [
    {
     "name": "stdout",
     "output_type": "stream",
     "text": [
      "Epoch 1/2\n",
      "523/523 [==============================] - 1s 1ms/step - loss: 1.7757 - mae: 1.3462 - val_loss: 0.5867 - val_mae: 0.5782\n",
      "Epoch 2/2\n",
      "523/523 [==============================] - 1s 1ms/step - loss: 0.4763 - mae: 0.5345 - val_loss: 0.4368 - val_mae: 0.5324\n",
      "Epoch 1/2\n",
      "523/523 [==============================] - 1s 2ms/step - loss: 0.3721 - mae: 0.5075 - val_loss: 0.3624 - val_mae: 0.5191\n",
      "Epoch 2/2\n",
      "523/523 [==============================] - 1s 1ms/step - loss: 0.3210 - mae: 0.4941 - val_loss: 0.3313 - val_mae: 0.5061\n",
      "65/65 [==============================] - 0s 976us/step - loss: 0.3236 - mae: 0.5031\n"
     ]
    },
    {
     "data": {
      "text/plain": [
       "[0.3235660493373871, 0.5030665397644043]"
      ]
     },
     "execution_count": 126,
     "metadata": {},
     "output_type": "execute_result"
    }
   ],
   "source": [
    "# Lets build one model again\n",
    "cls()\n",
    "model = tf.keras.models.Sequential([tf.keras.layers.Dense(30, kernel_initializer=my_glorat, input_shape=(x_train_s.shape[1:])),\n",
    "                                    tf.keras.layers.Dense(10, activation=my_softplus,\n",
    "                                                            kernel_initializer=my_glorat, \n",
    "                                                            kernel_regularizer=MyL1Regular(0.02), \n",
    "                                                            kernel_constraint=my_positive_weights),\n",
    "                                    tf.keras.layers.Dense(1)])\n",
    "\n",
    "model.compile(loss=HuberLoss(2.), optimizer=\"adam\", metrics=['mae'])\n",
    "history = model.fit(x_train_s, y_train, epochs=2, validation_data=(x_valid_s, y_valid))\n",
    "model.save(\"model/model_custom_class_kernels.h5\")\n",
    "co = {\"my_glorat\":my_glorat,\"my_softplus\":my_softplus,\"MyL1Regular\":MyL1Regular,\"my_positive_weights\":my_positive_weights,\"HuberLoss\":HuberLoss}\n",
    "model5 = tf.keras.models.load_model(\"model/model_custom_class_kernels.h5\", custom_objects=co)\n",
    "# Retraining to check whether it is working or not\n",
    "history = model5.fit(x_train_s, y_train, epochs=2, validation_data=(x_valid_s, y_valid))\n",
    "model5.evaluate(x_test_s, y_test)"
   ]
  },
  {
   "cell_type": "code",
   "execution_count": 329,
   "metadata": {},
   "outputs": [],
   "source": [
    "################################################################\n",
    "# Skip this for instance: come back here after 9. custom model #\n",
    "# To better understanding TO build custom optimizers           #\n",
    "################################################################\n",
    "class MyMomentumOptimizer(tf.keras.optimizers.Optimizer):\n",
    "    def __init__(self, learning_rate=0.001, momentum=0.9, name=\"MyMomentumOptimizer\", **kwargs):\n",
    "        \"\"\"Call super().__init__() and use _set_hyper() to store hyperparameters\"\"\"\n",
    "        super().__init__(name, **kwargs)\n",
    "        self._set_hyper(\"learning_rate\", kwargs.get(\"lr\", learning_rate)) # handle lr=learning_rate\n",
    "        self._set_hyper(\"decay\", self._initial_decay) # \n",
    "        self._set_hyper(\"momentum\", momentum)\n",
    "    \n",
    "    def _create_slots(self, var_list):\n",
    "        \"\"\"For each model variable, create the optimizer variable associated with it.\n",
    "        TensorFlow calls these optimizer variables \"slots\".\n",
    "        For momentum optimization, we need one momentum slot per model variable.\n",
    "        \"\"\"\n",
    "        for var in var_list:\n",
    "            self.add_slot(var, \"momentum\")\n",
    "\n",
    "    @tf.function\n",
    "    def _resource_apply_dense(self, grad, var):\n",
    "        \"\"\"Update the slots and perform one optimization step for one model variable\n",
    "        \"\"\"\n",
    "        var_dtype = var.dtype.base_dtype\n",
    "        lr_t = self._decayed_lr(var_dtype) # handle learning rate decay\n",
    "        momentum_var = self.get_slot(var, \"momentum\")\n",
    "        momentum_hyper = self._get_hyper(\"momentum\", var_dtype)\n",
    "        momentum_var.assign(momentum_var * momentum_hyper - (1. - momentum_hyper)* grad)\n",
    "        var.assign_add(momentum_var * lr_t)\n",
    "\n",
    "    def _resource_apply_sparse(self, grad, var):\n",
    "        raise NotImplementedError\n",
    "\n",
    "    def get_config(self):\n",
    "        base_config = super().get_config()\n",
    "        return {\n",
    "            **base_config,\n",
    "            \"learning_rate\": self._serialize_hyperparameter(\"learning_rate\"),\n",
    "            \"decay\": self._serialize_hyperparameter(\"decay\"),\n",
    "            \"momentum\": self._serialize_hyperparameter(\"momentum\"),\n",
    "        }\n"
   ]
  },
  {
   "cell_type": "code",
   "execution_count": 330,
   "metadata": {},
   "outputs": [
    {
     "name": "stdout",
     "output_type": "stream",
     "text": [
      "Epoch 1/5\n",
      "523/523 [==============================] - 1s 607us/step - loss: 3.1587\n",
      "Epoch 2/5\n",
      "523/523 [==============================] - 0s 661us/step - loss: 1.0364\n",
      "Epoch 3/5\n",
      "523/523 [==============================] - 0s 556us/step - loss: 0.7367\n",
      "Epoch 4/5\n",
      "523/523 [==============================] - 0s 572us/step - loss: 0.6734\n",
      "Epoch 5/5\n",
      "523/523 [==============================] - 0s 596us/step - loss: 0.6465\n"
     ]
    },
    {
     "data": {
      "text/plain": [
       "<keras.callbacks.History at 0x21069f1d520>"
      ]
     },
     "execution_count": 330,
     "metadata": {},
     "output_type": "execute_result"
    }
   ],
   "source": [
    "cls()\n",
    "model = tf.keras.Sequential([tf.keras.layers.Dense(1, input_shape=[8])])\n",
    "model.compile(loss=\"mse\", optimizer=MyMomentumOptimizer())\n",
    "model.fit(x_train_s, y_train, epochs=5)"
   ]
  },
  {
   "cell_type": "markdown",
   "metadata": {},
   "source": [
    "### 4. Custom Metrics\n",
    " Defining the custom metrics exactly the same as defining the loss function"
   ]
  },
  {
   "cell_type": "code",
   "execution_count": 127,
   "metadata": {},
   "outputs": [
    {
     "name": "stdout",
     "output_type": "stream",
     "text": [
      "Epoch 1/2\n",
      "523/523 [==============================] - 1s 2ms/step - loss: 0.3494 - huber_fun: 0.2392 - val_loss: 0.3414 - val_huber_fun: 0.2542\n",
      "Epoch 2/2\n",
      "523/523 [==============================] - 1s 1ms/step - loss: 0.3054 - huber_fun: 0.2263 - val_loss: 0.3183 - val_huber_fun: 0.2449\n",
      "65/65 [==============================] - 0s 957us/step - loss: 0.3107 - huber_fun: 0.2374\n"
     ]
    },
    {
     "data": {
      "text/plain": [
       "[0.31067290902137756, 0.237367644906044]"
      ]
     },
     "execution_count": 127,
     "metadata": {},
     "output_type": "execute_result"
    }
   ],
   "source": [
    "model.compile(loss=create_huber(2.), optimizer='adam', metrics=[create_huber(2.)])\n",
    "history = model.fit(x_train_s, y_train, epochs=2, validation_data=(x_valid_s, y_valid))\n",
    "model.evaluate(x_test_s, y_test)"
   ]
  },
  {
   "cell_type": "markdown",
   "metadata": {},
   "source": [
    "Note: if you use the same function as the loss and a metric, you may be surprised to see slightly different results. This is in part because the operations are not computed exactly in the same order, so there might be tiny floating point errors. More importantly, if you use sample weights or class weights, then the equations are a bit different:\n",
    "\n",
    "- the fit() method keeps track of the mean of all batch losses seen so far since the start of the epoch. Each batch loss is the sum of the weighted instance losses divided by the batch size (not the sum of weights, so ***the batch loss is not the weighted mean of the losses***).\n",
    "- the metric since the start of the epoch is equal to the sum of weighted instance losses divided by sum of all weights seen so far. In other words, it is ***the weighted mean of all the instance losses. Not the same thing***."
   ]
  },
  {
   "cell_type": "markdown",
   "metadata": {},
   "source": [
    "When we need to keep track the mean loss or mean accuracy in epoch during batch run we implement something called **Streaming metrics**"
   ]
  },
  {
   "cell_type": "code",
   "execution_count": 139,
   "metadata": {},
   "outputs": [],
   "source": [
    "cls()\n",
    "class HuberMetric(tf.keras.metrics.Metric):\n",
    "    def __init__(self, threshold=1.0, **kwargs):\n",
    "        super().__init__(**kwargs) # Handle base arguments like (eg: dtypes)\n",
    "        self.threshold = threshold\n",
    "        self.huber_fn  = create_huber(threshold)\n",
    "        self.total     = self.add_weight(\"total\", initializer=\"zeros\")\n",
    "        self.count     = self.add_weight(\"count\", initializer=\"zeros\")\n",
    "\n",
    "    def update_state(self, y_true, y_pred, sample_weight=None):\n",
    "        metric = self.huber_fn(y_true, y_pred)\n",
    "        self.total.assign_add(tf.reduce_sum(metric))\n",
    "        self.count.assign_add(tf.cast(tf.size(y_true), tf.float32))\n",
    "\n",
    "    def result(self):\n",
    "        return self.total/ self.count\n",
    "\n",
    "    def get_config(self):\n",
    "        return {**super().get_config(), \"threshold\":self.threshold} "
   ]
  },
  {
   "cell_type": "code",
   "execution_count": 140,
   "metadata": {},
   "outputs": [
    {
     "data": {
      "text/plain": [
       "<tf.Tensor: shape=(), dtype=float32, numpy=32.0>"
      ]
     },
     "execution_count": 140,
     "metadata": {},
     "output_type": "execute_result"
    }
   ],
   "source": [
    "m = HuberMetric(2.)\n",
    "\n",
    "# total = 2 * |10 - 2| - 2²/2 = 14\n",
    "# count = 1\n",
    "# result = 14 / 1 = 14\n",
    "m(tf.constant([[2.]]), tf.constant([[10.]]))"
   ]
  },
  {
   "cell_type": "code",
   "execution_count": 141,
   "metadata": {},
   "outputs": [
    {
     "data": {
      "text/plain": [
       "<tf.Tensor: shape=(), dtype=float32, numpy=13.84375>"
      ]
     },
     "execution_count": 141,
     "metadata": {},
     "output_type": "execute_result"
    }
   ],
   "source": [
    "# total = total + (|1 - 0|² / 2) + (2 * |9.25 - 5| - 2² / 2) = 14 + 7 = 21\n",
    "# count = count + 2 = 3\n",
    "# result = total / count = 21 / 3 = 7\n",
    "m(tf.constant([[0.], [5.]]), tf.constant([[1.], [9.25]]))"
   ]
  },
  {
   "cell_type": "code",
   "execution_count": 142,
   "metadata": {},
   "outputs": [
    {
     "data": {
      "text/plain": [
       "<tf.Tensor: shape=(), dtype=float32, numpy=13.84375>"
      ]
     },
     "execution_count": 142,
     "metadata": {},
     "output_type": "execute_result"
    }
   ],
   "source": [
    "m.result()"
   ]
  },
  {
   "cell_type": "code",
   "execution_count": 143,
   "metadata": {},
   "outputs": [
    {
     "data": {
      "text/plain": [
       "[<tf.Variable 'total:0' shape=() dtype=float32, numpy=41.53125>,\n",
       " <tf.Variable 'count:0' shape=() dtype=float32, numpy=3.0>]"
      ]
     },
     "execution_count": 143,
     "metadata": {},
     "output_type": "execute_result"
    }
   ],
   "source": [
    "m.variables"
   ]
  },
  {
   "cell_type": "code",
   "execution_count": 144,
   "metadata": {},
   "outputs": [
    {
     "data": {
      "text/plain": [
       "[<tf.Variable 'total:0' shape=() dtype=float32, numpy=0.0>,\n",
       " <tf.Variable 'count:0' shape=() dtype=float32, numpy=0.0>]"
      ]
     },
     "execution_count": 144,
     "metadata": {},
     "output_type": "execute_result"
    }
   ],
   "source": [
    "m.reset_states()\n",
    "m.variables"
   ]
  },
  {
   "cell_type": "code",
   "execution_count": 145,
   "metadata": {},
   "outputs": [
    {
     "name": "stdout",
     "output_type": "stream",
     "text": [
      "Epoch 1/2\n",
      "523/523 [==============================] - 3s 2ms/step - loss: 0.2860 - huber_metric_1: 0.2214 - val_loss: 0.3025 - val_huber_metric_1: 0.2439\n",
      "Epoch 2/2\n",
      "523/523 [==============================] - 1s 1ms/step - loss: 0.2740 - huber_metric_1: 0.2186 - val_loss: 0.2923 - val_huber_metric_1: 0.2403\n",
      "65/65 [==============================] - 0s 1ms/step - loss: 0.2839 - huber_metric_1: 0.2319\n"
     ]
    },
    {
     "data": {
      "text/plain": [
       "[0.28389590978622437, 0.2319127470254898]"
      ]
     },
     "execution_count": 145,
     "metadata": {},
     "output_type": "execute_result"
    }
   ],
   "source": [
    "# Lets check metrics custom class working or not\n",
    "model.compile(loss=HuberLoss(2.), optimizer='adam', metrics=[HuberMetric(2.)])\n",
    "history = model.fit(x_train_s, y_train, epochs=2, validation_data=(x_valid_s, y_valid))\n",
    "model.evaluate(x_test_s, y_test)"
   ]
  },
  {
   "cell_type": "code",
   "execution_count": 147,
   "metadata": {},
   "outputs": [
    {
     "name": "stdout",
     "output_type": "stream",
     "text": [
      "Epoch 1/2\n",
      "523/523 [==============================] - 1s 2ms/step - loss: 0.2682 - huber_metric_1: 0.2173 - val_loss: 0.2899 - val_huber_metric_1: 0.2419\n",
      "Epoch 2/2\n",
      "523/523 [==============================] - 1s 2ms/step - loss: 0.2625 - huber_metric_1: 0.2169 - val_loss: 0.2826 - val_huber_metric_1: 0.2394\n",
      "65/65 [==============================] - 0s 1ms/step - loss: 0.3236 - mae: 0.5031\n"
     ]
    },
    {
     "data": {
      "text/plain": [
       "[0.3235660493373871, 0.5030665397644043]"
      ]
     },
     "execution_count": 147,
     "metadata": {},
     "output_type": "execute_result"
    }
   ],
   "source": [
    "model.save(\"model/model_custom_metric_kernels.h5\")\n",
    "co = {\"my_glorat\":my_glorat,\n",
    "        \"my_softplus\":my_softplus,\n",
    "        \"MyL1Regular\":MyL1Regular,\n",
    "        \"my_positive_weights\":my_positive_weights,\n",
    "        \"HuberLoss\":HuberLoss,\n",
    "        \"HuberMetric\":HuberMetric}\n",
    "model6 = tf.keras.models.load_model(\"model/model_custom_metric_kernels.h5\", custom_objects=co)\n",
    "# Retraining to check whether it is working or not\n",
    "history = model6.fit(x_train_s, y_train, epochs=2, validation_data=(x_valid_s, y_valid))\n",
    "model5.evaluate(x_test_s, y_test)"
   ]
  },
  {
   "cell_type": "markdown",
   "metadata": {},
   "source": [
    "`model.metrics` contains the model's loss followed by the model's metric(s), so the `HuberMetric` is `model.metrics[-1]`:"
   ]
  },
  {
   "cell_type": "code",
   "execution_count": 157,
   "metadata": {},
   "outputs": [
    {
     "data": {
      "text/plain": [
       "(<__main__.HuberMetric at 0x21064ff7460>, 2.0)"
      ]
     },
     "execution_count": 157,
     "metadata": {},
     "output_type": "execute_result"
    }
   ],
   "source": [
    "model6.metrics[-1], model6.metrics[-1].threshold"
   ]
  },
  {
   "cell_type": "code",
   "execution_count": 181,
   "metadata": {},
   "outputs": [],
   "source": [
    "# We can also create the above class like this:\n",
    "cls()\n",
    "class HuberMetric(tf.keras.metrics.Mean):\n",
    "    def __init__(self, threshold=1.0, name='HuberMetric', dtype=None):\n",
    "        self.threshold = threshold\n",
    "        self.huber_fn = create_huber(threshold)\n",
    "        super().__init__(name=name, dtype=dtype)\n",
    "\n",
    "    def update_state(self, y_true, y_pred, sample_weight=None):\n",
    "        metric = self.huber_fn(y_true, y_pred)\n",
    "        super(HuberMetric, self).update_state(metric, sample_weight)\n",
    "\n",
    "    def get_config(self):\n",
    "        base_config = super().get_config()\n",
    "        return {**base_config, \"threshold\": self.threshold}   "
   ]
  },
  {
   "cell_type": "code",
   "execution_count": 187,
   "metadata": {},
   "outputs": [
    {
     "name": "stdout",
     "output_type": "stream",
     "text": [
      "Epoch 1/2\n",
      "523/523 [==============================] - 1s 2ms/step - loss: 1.0166 - HuberMetric: 1.5222 - val_loss: 0.4716 - val_HuberMetric: 0.3186\n",
      "Epoch 2/2\n",
      "523/523 [==============================] - 1s 1ms/step - loss: 0.2426 - HuberMetric: 0.2736 - val_loss: 0.3575 - val_HuberMetric: 0.2863\n"
     ]
    }
   ],
   "source": [
    "# Lets build one model again\n",
    "cls()\n",
    "model = tf.keras.models.Sequential([tf.keras.layers.Dense(30, kernel_initializer=my_glorat, input_shape=(x_train_s.shape[1:])),\n",
    "                                    tf.keras.layers.Dense(10, activation=my_softplus,\n",
    "                                                            kernel_initializer=my_glorat, \n",
    "                                                            kernel_regularizer=MyL1Regular(0.02), \n",
    "                                                            kernel_constraint=my_positive_weights),\n",
    "                                    tf.keras.layers.Dense(1)])\n",
    "\n",
    "model.compile(loss=HuberLoss(2.), optimizer=\"adam\", metrics=[HuberMetric(2.0)])\n",
    "sample_weights = tf.random.uniform([len(y_train)], 0, 1)\n",
    "history = model.fit(x_train_s, y_train, epochs=2, validation_data=(x_valid_s, y_valid), sample_weight=sample_weights)\n",
    "\n",
    "#model.save(\"model/model_custom_class_metrics.h5\")\n",
    "#co = {\"my_glorat\":my_glorat,\"my_softplus\":my_softplus,\"MyL1Regular\":MyL1Regular,\"my_positive_weights\":my_positive_weights,\"HuberLoss\":HuberLoss}\n",
    "# model5 = tf.keras.models.load_model(\"model/model_custom_class_metrics.h5\", custom_objects=co)\n",
    "# # Retraining to check whether it is working or not\n",
    "# history = model5.fit(x_train_s, y_train, epochs=2, validation_data=(x_valid_s, y_valid))\n",
    "# model5.evaluate(x_test_s, y_test)"
   ]
  },
  {
   "cell_type": "code",
   "execution_count": 193,
   "metadata": {},
   "outputs": [
    {
     "data": {
      "text/plain": [
       "(1.0165752172470093, <tf.Tensor: shape=(), dtype=float32, numpy=0.762183>)"
      ]
     },
     "execution_count": 193,
     "metadata": {},
     "output_type": "execute_result"
    }
   ],
   "source": [
    "(history.history[\"loss\"][0], history.history[\"HuberMetric\"][0] * tf.reduce_mean(sample_weights))"
   ]
  },
  {
   "cell_type": "markdown",
   "metadata": {},
   "source": [
    "### 5. Custom Layer\n",
    "We may occasionally want to build an architecture that contains block or layer or repeated layers like ABCD ABCD ABCD in that scenario we can create the custom layer as well"
   ]
  },
  {
   "cell_type": "code",
   "execution_count": 198,
   "metadata": {},
   "outputs": [],
   "source": [
    "exp_layer = tf.keras.layers.Lambda(lambda x: tf.exp(x))"
   ]
  },
  {
   "cell_type": "code",
   "execution_count": 200,
   "metadata": {},
   "outputs": [
    {
     "data": {
      "text/plain": [
       "<tf.Tensor: shape=(), dtype=float32, numpy=20.085537>"
      ]
     },
     "execution_count": 200,
     "metadata": {},
     "output_type": "execute_result"
    }
   ],
   "source": [
    "# we can use layers as a function also\n",
    "exp_layer(3.)"
   ]
  },
  {
   "cell_type": "code",
   "execution_count": 201,
   "metadata": {},
   "outputs": [
    {
     "name": "stdout",
     "output_type": "stream",
     "text": [
      "Epoch 1/2\n",
      "523/523 [==============================] - 1s 1ms/step - loss: 0.8528 - mae: 0.6322 - val_loss: 0.6336 - val_mae: 0.5701\n",
      "Epoch 2/2\n",
      "523/523 [==============================] - 0s 879us/step - loss: 0.5675 - mae: 0.5442 - val_loss: 0.5856 - val_mae: 0.5510\n"
     ]
    }
   ],
   "source": [
    "# Sample\n",
    "cls()\n",
    "model = tf.keras.models.Sequential([tf.keras.layers.Dense(30,input_shape=(x_train_s.shape[1:])),\n",
    "                                    tf.keras.layers.Dense(1),\n",
    "                                    exp_layer])\n",
    "\n",
    "model.compile(loss=\"mse\", optimizer=\"adam\", metrics=[\"mae\"])\n",
    "history = model.fit(x_train_s, y_train, epochs=2, validation_data=(x_valid_s, y_valid))"
   ]
  },
  {
   "cell_type": "code",
   "execution_count": 203,
   "metadata": {},
   "outputs": [],
   "source": [
    "# Simple layer\n",
    "class MyDense(tf.keras.layers.Layer):\n",
    "    def __init__(self, units, activation=None, **kwargs):\n",
    "        super().__init__(**kwargs)\n",
    "        self.units = units\n",
    "        self.activation = tf.keras.activations.get(activation)\n",
    "\n",
    "    def build(self, batch_input_shape):\n",
    "        self.kernel = self.add_weight(name=\"kernel\", shape=[batch_input_shape[-1], self.units], initializer=\"he_normal\")\n",
    "        self.bias = self.add_weight(name=\"bias\", shape=[self.units], initializer=\"zeros\")\n",
    "        super().build(batch_input_shape)  # must be at the end\n",
    "\n",
    "    def call(self, X):\n",
    "        return self.activation(X @ self.kernel + self.bias)\n",
    "\n",
    "    def compute_output_shape(self, batch_input_shape):\n",
    "        return tf.TensorShape(batch_input_shape.as_list()[:-1] + [self.units])\n",
    "\n",
    "    def get_config(self):\n",
    "        base_config = super().get_config()\n",
    "        return {**base_config, \"units\": self.units, \"activation\": tf.keras.activations.serialize(self.activation)}"
   ]
  },
  {
   "cell_type": "code",
   "execution_count": 205,
   "metadata": {},
   "outputs": [
    {
     "name": "stdout",
     "output_type": "stream",
     "text": [
      "Epoch 1/2\n",
      "523/523 [==============================] - 1s 1ms/step - loss: 1.2230 - mae: 0.7961 - val_loss: 0.6848 - val_mae: 0.5939\n",
      "Epoch 2/2\n",
      "523/523 [==============================] - 0s 787us/step - loss: 0.5376 - mae: 0.5344 - val_loss: 0.5389 - val_mae: 0.5321\n",
      "INFO:tensorflow:Assets written to: model/model_custom_layer\\assets\n",
      "Epoch 1/2\n",
      "523/523 [==============================] - 1s 1ms/step - loss: 0.4473 - mae: 0.4815 - val_loss: 0.4694 - val_mae: 0.4939\n",
      "Epoch 2/2\n",
      "523/523 [==============================] - 1s 1ms/step - loss: 0.5952 - mae: 0.4707 - val_loss: 0.4744 - val_mae: 0.4894\n",
      "65/65 [==============================] - 0s 608us/step - loss: 0.4453 - mae: 0.4701\n"
     ]
    },
    {
     "data": {
      "text/plain": [
       "[0.4452732503414154, 0.4700668156147003]"
      ]
     },
     "execution_count": 205,
     "metadata": {},
     "output_type": "execute_result"
    }
   ],
   "source": [
    "# Sample\n",
    "cls()\n",
    "model = tf.keras.models.Sequential([MyDense(30,activation=\"relu\", input_shape=(x_train_s.shape[1:])),\n",
    "                                    MyDense(1),\n",
    "                                    exp_layer])\n",
    "\n",
    "model.compile(loss=\"mse\", optimizer=\"adam\", metrics=[\"mae\"])\n",
    "history = model.fit(x_train_s, y_train, epochs=2, validation_data=(x_valid_s, y_valid))\n",
    "\n",
    "# We cannot write model in h5 format while include custom layers\n",
    "save_path = \"model/model_custom_layer\" \n",
    "model.save(save_path)\n",
    "\n",
    "co = {\"MYDense\":MyDense,\"exp_layer\":exp_layer}\n",
    "new_model = tf.keras.models.load_model(save_path, custom_objects=co)\n",
    "history = new_model.fit(x_train_s, y_train, epochs=2, validation_data=(x_valid_s, y_valid))\n",
    "new_model.evaluate(x_test_s, y_test)"
   ]
  },
  {
   "cell_type": "code",
   "execution_count": 213,
   "metadata": {},
   "outputs": [],
   "source": [
    "# Layer with multi output\n",
    "class MyMultiLayer(tf.keras.layers.Layer):\n",
    "    def call(self, X):\n",
    "        X1, X2 = X\n",
    "        print(\"X1.shape: \", X1.shape ,\" X2.shape: \", X2.shape)  # extra code\n",
    "        return X1 + X2, X1 * X2, X1 / X2\n",
    "\n",
    "    def compute_output_shape(self, batch_input_shape):\n",
    "        batch_input_shape1, batch_input_shape2 = batch_input_shape\n",
    "        return [batch_input_shape1, batch_input_shape1, batch_input_shape1]"
   ]
  },
  {
   "cell_type": "code",
   "execution_count": 216,
   "metadata": {},
   "outputs": [
    {
     "name": "stdout",
     "output_type": "stream",
     "text": [
      "X1.shape:  (None, 2)  X2.shape:  (None, 2)\n"
     ]
    },
    {
     "data": {
      "text/plain": [
       "(<KerasTensor: shape=(None, 2) dtype=float32 (created by layer 'my_multi_layer')>,\n",
       " <KerasTensor: shape=(None, 2) dtype=float32 (created by layer 'my_multi_layer')>,\n",
       " <KerasTensor: shape=(None, 2) dtype=float32 (created by layer 'my_multi_layer')>)"
      ]
     },
     "execution_count": 216,
     "metadata": {},
     "output_type": "execute_result"
    }
   ],
   "source": [
    "# We can also use custom layer as functional API\n",
    "cls()\n",
    "l1 = tf.keras.layers.Input(shape=[2])\n",
    "l2 = tf.keras.layers.Input(shape=[2])\n",
    "MyMultiLayer()((l1, l2))\n"
   ]
  },
  {
   "cell_type": "code",
   "execution_count": 217,
   "metadata": {},
   "outputs": [
    {
     "name": "stdout",
     "output_type": "stream",
     "text": [
      "X1.shape:  (2, 2)  X2.shape:  (2, 2)\n"
     ]
    },
    {
     "data": {
      "text/plain": [
       "(<tf.Tensor: shape=(2, 2), dtype=float32, numpy=\n",
       " array([[ 9., 18.],\n",
       "        [ 6., 10.]], dtype=float32)>,\n",
       " <tf.Tensor: shape=(2, 2), dtype=float32, numpy=\n",
       " array([[18., 72.],\n",
       "        [ 8., 21.]], dtype=float32)>,\n",
       " <tf.Tensor: shape=(2, 2), dtype=float32, numpy=\n",
       " array([[0.5      , 0.5      ],\n",
       "        [0.5      , 2.3333333]], dtype=float32)>)"
      ]
     },
     "execution_count": 217,
     "metadata": {},
     "output_type": "execute_result"
    }
   ],
   "source": [
    "# You can pass actual data as well\n",
    "X1, X2 = np.array([[3., 6.], [2., 7.]]), np.array([[6., 12.], [4., 3.]]) \n",
    "MyMultiLayer()((X1, X2))"
   ]
  },
  {
   "cell_type": "code",
   "execution_count": 219,
   "metadata": {},
   "outputs": [],
   "source": [
    "# If our layers have different behavior during training and testing like dropout, BatchNormalization in that case we add training argument in call()\n",
    "\n",
    "class MyGaussianNoise(tf.keras.layers.Layer):\n",
    "    def __init__(self, stddev, **kwargs):\n",
    "        super().__init__(**kwargs)\n",
    "        self.stddev = stddev\n",
    "\n",
    "    def call(self, X, training=None):\n",
    "        if training:\n",
    "            noise = tf.random.normal(tf.shape(X), stddev=self.stddev)\n",
    "            return X + noise\n",
    "        else:\n",
    "            return X\n",
    "\n",
    "    def compute_output_shape(self, batch_input_shape):\n",
    "        return batch_input_shape"
   ]
  },
  {
   "cell_type": "code",
   "execution_count": 220,
   "metadata": {},
   "outputs": [
    {
     "name": "stdout",
     "output_type": "stream",
     "text": [
      "Epoch 1/2\n",
      "523/523 [==============================] - 1s 1ms/step - loss: 2.7081 - mae: 1.1351 - val_loss: 1.5782 - val_mae: 0.9394\n",
      "Epoch 2/2\n",
      "523/523 [==============================] - 0s 904us/step - loss: 1.6358 - mae: 0.9626 - val_loss: 1.2550 - val_mae: 0.8148\n"
     ]
    }
   ],
   "source": [
    "# Sample\n",
    "cls()\n",
    "model = tf.keras.models.Sequential([MyGaussianNoise(1., input_shape=(x_train_s.shape[1:])),\n",
    "                                    MyDense(30,activation=\"relu\"),\n",
    "                                    MyDense(1),\n",
    "                                    exp_layer])\n",
    "model.compile(loss=\"mse\", optimizer=\"adam\", metrics=[\"mae\"])\n",
    "history = model.fit(x_train_s, y_train, epochs=2, validation_data=(x_valid_s, y_valid))"
   ]
  },
  {
   "cell_type": "markdown",
   "metadata": {},
   "source": [
    "### 6. Custom Models\n",
    "\n",
    "Its also straightforward create the subclass of `tf.keras.Model` create layers, and variables in the constructor, and implement call()"
   ]
  },
  {
   "cell_type": "code",
   "execution_count": 229,
   "metadata": {},
   "outputs": [],
   "source": [
    "#Lets build a model that contains a skip connection block\n",
    "# It is a block\n",
    "class ResidualBlock(tf.keras.layers.Layer):\n",
    "    def __init__(self, n_layers, n_neurons, **kwargs):\n",
    "        super().__init__(**kwargs)\n",
    "        self.hidden = [tf.keras.layers.Dense(n_neurons, activation=\"relu\", kernel_initializer=\"he_normal\") for _ in range(n_layers)]\n",
    "\n",
    "    def call(self, inputs):\n",
    "        Z = inputs\n",
    "        for layer in self.hidden:\n",
    "            Z = layer(Z)\n",
    "        return inputs + Z\n",
    "    "
   ]
  },
  {
   "cell_type": "code",
   "execution_count": 230,
   "metadata": {},
   "outputs": [],
   "source": [
    "# This is model which use residualblock\n",
    "class ResidualRegressor(tf.keras.Model):\n",
    "    def __init__(self, output_dim, **kwargs):\n",
    "        super().__init__(**kwargs)\n",
    "        self.hidden1 = tf.keras.layers.Dense(30, activation=\"relu\", kernel_initializer=\"he_normal\")\n",
    "        self.block1 = ResidualBlock(2, 30)\n",
    "        self.block2 = ResidualBlock(2, 30)\n",
    "        self.out = tf.keras.layers.Dense(output_dim)\n",
    "\n",
    "    def call(self, inputs):\n",
    "        Z = self.hidden1(inputs)\n",
    "        for _ in range(1 + 3):\n",
    "            Z = self.block1(Z)\n",
    "        Z = self.block2(Z)\n",
    "        return self.out(Z)"
   ]
  },
  {
   "cell_type": "code",
   "execution_count": 235,
   "metadata": {},
   "outputs": [
    {
     "name": "stdout",
     "output_type": "stream",
     "text": [
      "Epoch 1/2\n",
      "523/523 [==============================] - 1s 2ms/step - loss: 3.1743 - mae: 1.0238 - val_loss: 0.8021 - val_mae: 0.6305\n",
      "Epoch 2/2\n",
      "523/523 [==============================] - 1s 2ms/step - loss: 0.6809 - mae: 0.5977 - val_loss: 0.8468 - val_mae: 0.6367\n"
     ]
    },
    {
     "name": "stderr",
     "output_type": "stream",
     "text": [
      "WARNING:absl:Found untraced functions such as dense_1_layer_call_and_return_conditional_losses, dense_1_layer_call_fn, dense_2_layer_call_and_return_conditional_losses, dense_2_layer_call_fn, dense_3_layer_call_and_return_conditional_losses while saving (showing 5 of 20). These functions will not be directly callable after loading.\n"
     ]
    },
    {
     "name": "stdout",
     "output_type": "stream",
     "text": [
      "INFO:tensorflow:Assets written to: model/model_custom_model\\assets\n"
     ]
    },
    {
     "name": "stderr",
     "output_type": "stream",
     "text": [
      "INFO:tensorflow:Assets written to: model/model_custom_model\\assets\n"
     ]
    },
    {
     "name": "stdout",
     "output_type": "stream",
     "text": [
      "Epoch 1/2\n",
      "523/523 [==============================] - 1s 2ms/step - loss: 1.0686 - mae: 0.6106 - val_loss: 0.5626 - val_mae: 0.5358\n",
      "Epoch 2/2\n",
      "523/523 [==============================] - 1s 1ms/step - loss: 0.5641 - mae: 0.5189 - val_loss: 1.0523 - val_mae: 0.5250\n",
      "65/65 [==============================] - 0s 1ms/step - loss: 0.5094 - mae: 0.5095\n"
     ]
    },
    {
     "data": {
      "text/plain": [
       "[0.5093919634819031, 0.5095109343528748]"
      ]
     },
     "execution_count": 235,
     "metadata": {},
     "output_type": "execute_result"
    }
   ],
   "source": [
    "cls()\n",
    "model = ResidualRegressor(1)\n",
    "model.compile(loss=\"mse\", optimizer=\"adam\", metrics=[\"mae\"])\n",
    "history = model.fit(x_train_s, y_train, epochs=2, validation_data=(x_valid_s, y_valid))\n",
    "\n",
    "save_path = \"model/model_custom_model\" \n",
    "model.save(save_path)\n",
    "\n",
    "new_model = tf.keras.models.load_model(save_path)\n",
    "history = new_model.fit(x_train_s, y_train, epochs=2, validation_data=(x_valid_s, y_valid))\n",
    "new_model.evaluate(x_test_s, y_test)"
   ]
  },
  {
   "cell_type": "code",
   "execution_count": 237,
   "metadata": {},
   "outputs": [
    {
     "name": "stdout",
     "output_type": "stream",
     "text": [
      "Model: \"residual_regressor\"\n",
      "_________________________________________________________________\n",
      "Layer (type)                 Output Shape              Param #   \n",
      "=================================================================\n",
      "dense (Dense)                multiple                  270       \n",
      "_________________________________________________________________\n",
      "residual_block (ResidualBloc multiple                  1860      \n",
      "_________________________________________________________________\n",
      "residual_block_1 (ResidualBl multiple                  1860      \n",
      "_________________________________________________________________\n",
      "dense_5 (Dense)              multiple                  31        \n",
      "=================================================================\n",
      "Total params: 4,021\n",
      "Trainable params: 4,021\n",
      "Non-trainable params: 0\n",
      "_________________________________________________________________\n"
     ]
    }
   ],
   "source": [
    "# We can also build model like sequentially\n",
    "cls()\n",
    "block1 = ResidualBlock(2, 30)\n",
    "model_ = tf.keras.Sequential([\n",
    "    tf.keras.layers.Dense(30, activation=\"relu\",kernel_initializer=\"he_normal\", input_shape=[x_train.shape[1]]),\n",
    "    block1, \n",
    "    block1, \n",
    "    block1, \n",
    "    block1,\n",
    "    ResidualBlock(2, 30),\n",
    "    tf.keras.layers.Dense(1)\n",
    "])\n",
    "model.summary()"
   ]
  },
  {
   "cell_type": "markdown",
   "metadata": {},
   "source": [
    "We can now as of build model custom MLP model."
   ]
  },
  {
   "cell_type": "markdown",
   "metadata": {},
   "source": [
    "### 7. Losses & Metrics Based on Model Internals\n",
    "Till now we define loss and metrics function based on labels and the predictions (and optionally sample weights). If we want to define losses based on other parts of our model, such as the weights or activations of its hidden layers. this may be useful for regularization purposes or to monitor some internal aspect of our model."
   ]
  },
  {
   "cell_type": "code",
   "execution_count": 240,
   "metadata": {},
   "outputs": [],
   "source": [
    "class ReconstructingRegressor(tf.keras.Model):\n",
    "    def __init__(self, output_dim, **kwargs):\n",
    "        super().__init__(**kwargs)\n",
    "        self.hidden = [tf.keras.layers.Dense(30, activation=\"relu\") for _ in range(5)] # 5 hidden layers\n",
    "        self.out = tf.keras.layers.Dense(output_dim) # 1 output layer\n",
    "        self.reconstruction_mean = tf.keras.metrics.Mean(name=\"reconstruction_error\")\n",
    "\n",
    "    def build(self, batch_input_shape):\n",
    "        n_inputs = batch_input_shape[-1]\n",
    "        self.reconstruct = tf.keras.layers.Dense(n_inputs)\n",
    "        self.built = True  # WORKAROUND for super().build(batch_input_shape) <--- this throughing error right now\n",
    "\n",
    "    def call(self, inputs, training=None):\n",
    "        Z = inputs\n",
    "        for layer in self.hidden:\n",
    "            Z = layer(Z)\n",
    "        reconstruction = self.reconstruct(Z)\n",
    "        recon_loss = tf.reduce_mean(tf.square(reconstruction - inputs))\n",
    "        self.add_loss(0.05 * recon_loss)\n",
    "        if training:\n",
    "            result = self.reconstruction_mean(recon_loss)\n",
    "            self.add_metric(result)\n",
    "        return self.out(Z)"
   ]
  },
  {
   "cell_type": "code",
   "execution_count": 241,
   "metadata": {},
   "outputs": [
    {
     "name": "stdout",
     "output_type": "stream",
     "text": [
      "Epoch 1/2\n",
      "523/523 [==============================] - 1s 2ms/step - loss: 0.7760 - reconstruction_error: 0.8690\n",
      "Epoch 2/2\n",
      "523/523 [==============================] - 1s 2ms/step - loss: 0.4140 - reconstruction_error: 0.6491\n"
     ]
    }
   ],
   "source": [
    "cls()\n",
    "model = ReconstructingRegressor(1)\n",
    "model.compile(loss=\"mse\", optimizer=\"adam\")\n",
    "history = model.fit(x_train_s, y_train, epochs=2)\n",
    "y_pred = model.predict(x_test_s)"
   ]
  },
  {
   "cell_type": "markdown",
   "metadata": {},
   "source": [
    "### 8. Computing Gradients using AutoDiff"
   ]
  },
  {
   "cell_type": "code",
   "execution_count": 251,
   "metadata": {},
   "outputs": [
    {
     "data": {
      "text/plain": [
       "40.00000301118689"
      ]
     },
     "execution_count": 251,
     "metadata": {},
     "output_type": "execute_result"
    }
   ],
   "source": [
    "def f(w1, w2):\n",
    "    return 3 * w1 ** 2 + 2 * w1 * w2\n",
    "\n",
    "w1, w2 = 5, 5\n",
    "eps = 1e-6\n",
    "(f(w1 + eps, w2) - f(w1, w2)) / eps\n"
   ]
  },
  {
   "cell_type": "code",
   "execution_count": 252,
   "metadata": {},
   "outputs": [
    {
     "data": {
      "text/plain": [
       "10.000000003174137"
      ]
     },
     "execution_count": 252,
     "metadata": {},
     "output_type": "execute_result"
    }
   ],
   "source": [
    "(f(w1, w2 + eps) - f(w1, w2)) / eps"
   ]
  },
  {
   "cell_type": "code",
   "execution_count": 262,
   "metadata": {},
   "outputs": [
    {
     "data": {
      "text/plain": [
       "[<tf.Tensor: shape=(), dtype=float32, numpy=40.0>,\n",
       " <tf.Tensor: shape=(), dtype=float32, numpy=10.0>]"
      ]
     },
     "execution_count": 262,
     "metadata": {},
     "output_type": "execute_result"
    }
   ],
   "source": [
    "w1, w2 = tf.Variable(5.), tf.Variable(5.)\n",
    "with tf.GradientTape() as tape:\n",
    "    z = f(w1, w2)\n",
    "\n",
    "# You can call tape.gradient() only once\n",
    "gradients = tape.gradient(z, [w1, w2])\n",
    "gradients"
   ]
  },
  {
   "cell_type": "code",
   "execution_count": 263,
   "metadata": {},
   "outputs": [
    {
     "name": "stdout",
     "output_type": "stream",
     "text": [
      "A non-persistent GradientTape can only be used to compute one set of gradients (or jacobians)\n"
     ]
    }
   ],
   "source": [
    "with tf.GradientTape() as tape:\n",
    "    z = f(w1, w2)\n",
    "\n",
    "dz_dw1 = tape.gradient(z, w1)  # returns tensor 40.0\n",
    "try:\n",
    "    dz_dw2 = tape.gradient(z, w2)  # raises a RuntimeError!\n",
    "except RuntimeError as ex:\n",
    "    print(ex)"
   ]
  },
  {
   "cell_type": "code",
   "execution_count": 264,
   "metadata": {},
   "outputs": [],
   "source": [
    "# Use persistent=True if you want to use tape.gradient multiple times\n",
    "with tf.GradientTape(persistent=True) as tape:\n",
    "    z = f(w1, w2)\n",
    "\n",
    "dz_dw1 = tape.gradient(z, w1)  # returns tensor 40.0\n",
    "dz_dw2 = tape.gradient(z, w2)  # returns tensor 10.0, works fine now!\n",
    "del tape"
   ]
  },
  {
   "cell_type": "code",
   "execution_count": 265,
   "metadata": {},
   "outputs": [
    {
     "data": {
      "text/plain": [
       "(<tf.Tensor: shape=(), dtype=float32, numpy=40.0>,\n",
       " <tf.Tensor: shape=(), dtype=float32, numpy=10.0>)"
      ]
     },
     "execution_count": 265,
     "metadata": {},
     "output_type": "execute_result"
    }
   ],
   "source": [
    "dz_dw1, dz_dw2"
   ]
  },
  {
   "cell_type": "code",
   "execution_count": 270,
   "metadata": {},
   "outputs": [
    {
     "data": {
      "text/plain": [
       "[None, None]"
      ]
     },
     "execution_count": 270,
     "metadata": {},
     "output_type": "execute_result"
    }
   ],
   "source": [
    "# Tensor will not track the gradient of constant it only track the gradient of variables by default\n",
    "c1, c2 = tf.constant(5.), tf.constant(5.)\n",
    "with tf.GradientTape() as tape:\n",
    "    z = f(c1, c2)\n",
    "\n",
    "gradients = tape.gradient(z, [c1, c2])\n",
    "gradients"
   ]
  },
  {
   "cell_type": "code",
   "execution_count": 271,
   "metadata": {},
   "outputs": [
    {
     "data": {
      "text/plain": [
       "[<tf.Tensor: shape=(), dtype=float32, numpy=40.0>,\n",
       " <tf.Tensor: shape=(), dtype=float32, numpy=10.0>]"
      ]
     },
     "execution_count": 271,
     "metadata": {},
     "output_type": "execute_result"
    }
   ],
   "source": [
    "# We have to call tape.watch() to track the gradient of constants\n",
    "with tf.GradientTape() as tape:\n",
    "    tape.watch(c1)\n",
    "    tape.watch(c2)\n",
    "    z = f(c1, c2)\n",
    "\n",
    "gradients = tape.gradient(z, [c1, c2])\n",
    "gradients"
   ]
  },
  {
   "cell_type": "code",
   "execution_count": 288,
   "metadata": {},
   "outputs": [
    {
     "data": {
      "text/plain": [
       "[<tf.Tensor: shape=(), dtype=float32, numpy=40.0>,\n",
       " <tf.Tensor: shape=(), dtype=float32, numpy=80.0>]"
      ]
     },
     "execution_count": 288,
     "metadata": {},
     "output_type": "execute_result"
    }
   ],
   "source": [
    "fx    = lambda x: 2*x**2 # This is f(x) = 2x^2 df(x)/dx = 4x, at x=10, df(10)/dx = 4*10 = 40 \n",
    "a1,a2 = tf.Variable(10.), tf.Variable(20.)\n",
    "with tf.GradientTape() as tape:\n",
    "    z1 = fx(a1)\n",
    "    z2 = fx(a2)\n",
    "tape.gradient([z1, z2], [a1, a2])\n"
   ]
  },
  {
   "cell_type": "code",
   "execution_count": 290,
   "metadata": {},
   "outputs": [
    {
     "data": {
      "text/plain": [
       "[<tf.Tensor: shape=(), dtype=float32, numpy=148.0>,\n",
       " <tf.Tensor: shape=(), dtype=float32, numpy=30.0>]"
      ]
     },
     "execution_count": 290,
     "metadata": {},
     "output_type": "execute_result"
    }
   ],
   "source": [
    "# if given a vector, tape.gradient() will compute the gradient of the vector's sum.\n",
    "with tf.GradientTape() as tape:\n",
    "    z1 = f(w1, w2 + 2.)\n",
    "    z2 = f(w1, w2 + 5.)\n",
    "    z3 = f(w1, w2 + 7.)\n",
    "\n",
    "tape.gradient([z1, z2, z3], [w1, w2])"
   ]
  },
  {
   "cell_type": "code",
   "execution_count": 291,
   "metadata": {},
   "outputs": [
    {
     "data": {
      "text/plain": [
       "[<tf.Tensor: shape=(), dtype=float32, numpy=148.0>,\n",
       " <tf.Tensor: shape=(), dtype=float32, numpy=30.0>]"
      ]
     },
     "execution_count": 291,
     "metadata": {},
     "output_type": "execute_result"
    }
   ],
   "source": [
    "# shows that we get the same result as the previous cell\n",
    "with tf.GradientTape() as tape:\n",
    "    z1 = f(w1, w2 + 2.)\n",
    "    z2 = f(w1, w2 + 5.)\n",
    "    z3 = f(w1, w2 + 7.)\n",
    "    z = z1 + z2 + z3\n",
    "\n",
    "tape.gradient(z, [w1, w2])"
   ]
  },
  {
   "cell_type": "code",
   "execution_count": 293,
   "metadata": {},
   "outputs": [],
   "source": [
    "#shows how to compute the jacobians and the hessians\n",
    "fx    = lambda x: 2*x**2 # This is f(x) = 2x^2 df(x)/dx = 4x, at x=10, df(10)/dx = 4*10 = 40 \n",
    "a1,a2 = tf.Variable(10.), tf.Variable(20.)\n",
    "\n",
    "with tf.GradientTape(persistent=True) as hessian_tape:\n",
    "    with tf.GradientTape() as jacobian_tape:\n",
    "        z1 = fx(a1)\n",
    "        z2 = fx(a2)\n",
    "    jacobians = jacobian_tape.gradient([z1, z2], [a1, a2])\n",
    "hessians = [hessian_tape.gradient(jacobian, [a1, a2]) for jacobian in jacobians]"
   ]
  },
  {
   "cell_type": "code",
   "execution_count": 294,
   "metadata": {},
   "outputs": [
    {
     "data": {
      "text/plain": [
       "[<tf.Tensor: shape=(), dtype=float32, numpy=40.0>,\n",
       " <tf.Tensor: shape=(), dtype=float32, numpy=80.0>]"
      ]
     },
     "execution_count": 294,
     "metadata": {},
     "output_type": "execute_result"
    }
   ],
   "source": [
    "jacobians"
   ]
  },
  {
   "cell_type": "code",
   "execution_count": 295,
   "metadata": {},
   "outputs": [
    {
     "data": {
      "text/plain": [
       "[[<tf.Tensor: shape=(), dtype=float32, numpy=4.0>, None],\n",
       " [None, <tf.Tensor: shape=(), dtype=float32, numpy=4.0>]]"
      ]
     },
     "execution_count": 295,
     "metadata": {},
     "output_type": "execute_result"
    }
   ],
   "source": [
    "hessians"
   ]
  },
  {
   "cell_type": "code",
   "execution_count": 299,
   "metadata": {},
   "outputs": [
    {
     "data": {
      "text/plain": [
       "[<tf.Tensor: shape=(), dtype=float32, numpy=30.0>, None]"
      ]
     },
     "execution_count": 299,
     "metadata": {},
     "output_type": "execute_result"
    }
   ],
   "source": [
    "# If we want to stop gradient for some layers during backpropagation we can do this by using stop_gradient()\n",
    "def f(w1, w2):\n",
    "    # It will not calculate the derivative w.r.t (y)\n",
    "    return 3 * w1 ** 2 + tf.stop_gradient(2 * w1 * w2)  # 3x^2 + 2xy\n",
    "    #return 3 * w1 ** 2 + (2 * w1 * w2)  # 3x^2 + 2xy\n",
    "\n",
    "with tf.GradientTape() as tape:\n",
    "    z = f(w1, w2)  # same result as without stop_gradient()\n",
    "\n",
    "tape.gradient(z, [w1, w2])"
   ]
  },
  {
   "cell_type": "code",
   "execution_count": 300,
   "metadata": {},
   "outputs": [
    {
     "data": {
      "text/plain": [
       "[<tf.Tensor: shape=(), dtype=float32, numpy=inf>]"
      ]
     },
     "execution_count": 300,
     "metadata": {},
     "output_type": "execute_result"
    }
   ],
   "source": [
    "# In some case our gradient tend to zeros for softplus or sigmoid function when input tends to zero or you do not change the weights\n",
    "x = tf.Variable(1e-50)\n",
    "with tf.GradientTape() as tape:\n",
    "    z = tf.sqrt(x)\n",
    "\n",
    "tape.gradient(z, [x])"
   ]
  },
  {
   "cell_type": "code",
   "execution_count": 302,
   "metadata": {},
   "outputs": [
    {
     "data": {
      "text/plain": [
       "<tf.Tensor: shape=(), dtype=float32, numpy=30.0>"
      ]
     },
     "execution_count": 302,
     "metadata": {},
     "output_type": "execute_result"
    }
   ],
   "source": [
    "# But calculating derivative or sigmoid is analytically feasible.\n",
    "tf.math.log(tf.exp(tf.constant(30., dtype=tf.float32)) + 1.)"
   ]
  },
  {
   "cell_type": "code",
   "execution_count": 306,
   "metadata": {},
   "outputs": [
    {
     "data": {
      "text/plain": [
       "[<tf.Tensor: shape=(1,), dtype=float32, numpy=array([1.], dtype=float32)>]"
      ]
     },
     "execution_count": 306,
     "metadata": {},
     "output_type": "execute_result"
    }
   ],
   "source": [
    "def my_softplus(z):\n",
    "    return tf.math.log(1 + tf.exp(-tf.abs(z))) + tf.maximum(0., z)\n",
    "\n",
    "x = tf.Variable([1.0e30])\n",
    "with tf.GradientTape() as tape:\n",
    "    z = my_softplus(x)\n",
    "\n",
    "tape.gradient(z, [x])"
   ]
  },
  {
   "cell_type": "code",
   "execution_count": 307,
   "metadata": {},
   "outputs": [],
   "source": [
    "# Decorate tensorflow custom_gradient function\n",
    "@tf.custom_gradient\n",
    "def my_softplus(z):\n",
    "    def my_softplus_gradients(grads):  # grads = backprop'ed from upper layers\n",
    "        return grads * (1 - 1 / (1 + tf.exp(z)))  # stable grads of softplus\n",
    "\n",
    "    result = tf.math.log(1 + tf.exp(-tf.abs(z))) + tf.maximum(0., z)\n",
    "    return result, my_softplus_gradients"
   ]
  },
  {
   "cell_type": "code",
   "execution_count": 308,
   "metadata": {},
   "outputs": [
    {
     "data": {
      "text/plain": [
       "(<tf.Tensor: shape=(1,), dtype=float32, numpy=array([1000.], dtype=float32)>,\n",
       " [<tf.Tensor: shape=(1,), dtype=float32, numpy=array([1.], dtype=float32)>])"
      ]
     },
     "execution_count": 308,
     "metadata": {},
     "output_type": "execute_result"
    }
   ],
   "source": [
    "x = tf.Variable([1000.])\n",
    "with tf.GradientTape() as tape:\n",
    "    z = my_softplus(x)\n",
    "\n",
    "z, tape.gradient(z, [x])"
   ]
  },
  {
   "cell_type": "markdown",
   "metadata": {},
   "source": [
    "### 9. Custom Training Loops\n",
    "\n",
    "Wide & Deep paper uses two different optimizers: one for the wide path and the other for the deep path. Since the `fit()` method only uses one optimizer."
   ]
  },
  {
   "cell_type": "code",
   "execution_count": 309,
   "metadata": {},
   "outputs": [],
   "source": [
    "# First, build the simple model\n",
    "cls()\n",
    "model = tf.keras.models.Sequential([\n",
    "    tf.keras.layers.Dense(30, activation=\"relu\", kernel_initializer=\"he_normal\", kernel_regularizer=tf.keras.regularizers.l2(0.05)),\n",
    "    tf.keras.layers.Dense(1)])"
   ]
  },
  {
   "cell_type": "code",
   "execution_count": 310,
   "metadata": {},
   "outputs": [],
   "source": [
    "def random_batch(X, y, batch_size=32):\n",
    "    idx = np.random.randint(len(X), size=batch_size)\n",
    "    return X[idx], y[idx]"
   ]
  },
  {
   "cell_type": "code",
   "execution_count": 320,
   "metadata": {},
   "outputs": [],
   "source": [
    "def print_status_bar(step, total, loss, metrics=None):\n",
    "    metrics = \" - \".join([f\"{m.name}: {m.result():.4f}\" for m in [loss] + (metrics or [])])\n",
    "    end = \"\" if step < total else \"\\n\"\n",
    "    print(f\"\\r{step}/{total} - \" + metrics, end=end) # \\r is carriage return will ensure that the print statement execute on same line"
   ]
  },
  {
   "cell_type": "code",
   "execution_count": 321,
   "metadata": {},
   "outputs": [],
   "source": [
    "n_epochs = 5\n",
    "batch_size = 32\n",
    "n_steps = len(x_train) // batch_size\n",
    "optimizer = tf.keras.optimizers.SGD(learning_rate=0.01)\n",
    "loss_fn   = tf.keras.losses.mean_squared_error\n",
    "mean_loss = tf.keras.metrics.Mean()\n",
    "metrics   = [tf.keras.metrics.MeanAbsoluteError()]"
   ]
  },
  {
   "cell_type": "code",
   "execution_count": 322,
   "metadata": {},
   "outputs": [
    {
     "name": "stdout",
     "output_type": "stream",
     "text": [
      "Epoch 1/5\n",
      "522/522 - mean: 3.9725 - mean_absolute_error: 0.9552\n",
      "Epoch 2/5\n",
      "522/522 - mean: 2.1014 - mean_absolute_error: 0.8969\n",
      "Epoch 3/5\n",
      "522/522 - mean: 1.5703 - mean_absolute_error: 0.8890\n",
      "Epoch 4/5\n",
      "522/522 - mean: 1.4374 - mean_absolute_error: 0.8994\n",
      "Epoch 5/5\n",
      "522/522 - mean: 1.3838 - mean_absolute_error: 0.9034\n"
     ]
    }
   ],
   "source": [
    "for epoch in range(1, n_epochs + 1):\n",
    "    print(f\"Epoch {epoch}/{n_epochs}\")\n",
    "    for step in range(1, n_steps + 1):\n",
    "        X_batch, y_batch = random_batch(x_train_s, y_train)\n",
    "        with tf.GradientTape() as tape:\n",
    "            y_pred = model(X_batch, training=True)\n",
    "            main_loss = tf.reduce_mean(loss_fn(y_batch, y_pred))\n",
    "            loss = tf.add_n([main_loss] + model.losses) # model loss basically regularization loss that we add in main loss\n",
    "\n",
    "        gradients = tape.gradient(loss, model.trainable_variables)\n",
    "        \n",
    "        # If you want to do any transformation with gradient you can do before the apply_gradients()\n",
    "        optimizer.apply_gradients(zip(gradients, model.trainable_variables))\n",
    "\n",
    "        #if your model has variable constraints\n",
    "        for variable in model.variables:\n",
    "            if variable.constraint is not None:\n",
    "                variable.assign(variable.constraint(variable))\n",
    "\n",
    "        mean_loss(loss)\n",
    "        for metric in metrics:\n",
    "            metric(y_batch, y_pred)\n",
    "\n",
    "        print_status_bar(step, n_steps, mean_loss, metrics)\n",
    "\n",
    "    for metric in [mean_loss] + metrics:\n",
    "        metric.reset_states()"
   ]
  },
  {
   "cell_type": "code",
   "execution_count": 324,
   "metadata": {},
   "outputs": [
    {
     "data": {
      "application/vnd.jupyter.widget-view+json": {
       "model_id": "404d8409001d4c998af9ecbab60bb1da",
       "version_major": 2,
       "version_minor": 0
      },
      "text/plain": [
       "All epochs:   0%|          | 0/5 [00:00<?, ?it/s]"
      ]
     },
     "metadata": {},
     "output_type": "display_data"
    },
    {
     "data": {
      "application/vnd.jupyter.widget-view+json": {
       "model_id": "f970b6ada96e4c85b21d78cdaef56be9",
       "version_major": 2,
       "version_minor": 0
      },
      "text/plain": [
       "Epoch 1/5:   0%|          | 0/522 [00:00<?, ?it/s]"
      ]
     },
     "metadata": {},
     "output_type": "display_data"
    },
    {
     "data": {
      "application/vnd.jupyter.widget-view+json": {
       "model_id": "f151d8218dd54ccf891aa666496c2bb2",
       "version_major": 2,
       "version_minor": 0
      },
      "text/plain": [
       "Epoch 2/5:   0%|          | 0/522 [00:00<?, ?it/s]"
      ]
     },
     "metadata": {},
     "output_type": "display_data"
    },
    {
     "data": {
      "application/vnd.jupyter.widget-view+json": {
       "model_id": "0c569ca597874b30bc21fe838a178e62",
       "version_major": 2,
       "version_minor": 0
      },
      "text/plain": [
       "Epoch 3/5:   0%|          | 0/522 [00:00<?, ?it/s]"
      ]
     },
     "metadata": {},
     "output_type": "display_data"
    },
    {
     "data": {
      "application/vnd.jupyter.widget-view+json": {
       "model_id": "eac1b11bee9749a9a7d361ce873cc188",
       "version_major": 2,
       "version_minor": 0
      },
      "text/plain": [
       "Epoch 4/5:   0%|          | 0/522 [00:00<?, ?it/s]"
      ]
     },
     "metadata": {},
     "output_type": "display_data"
    },
    {
     "data": {
      "application/vnd.jupyter.widget-view+json": {
       "model_id": "aa0d5bd525f3461280908e5877afe6fd",
       "version_major": 2,
       "version_minor": 0
      },
      "text/plain": [
       "Epoch 5/5:   0%|          | 0/522 [00:00<?, ?it/s]"
      ]
     },
     "metadata": {},
     "output_type": "display_data"
    }
   ],
   "source": [
    "#Shows how to use the tqdm package to display nice progress bars\n",
    "\n",
    "from tqdm.notebook import trange\n",
    "from collections import OrderedDict\n",
    "with trange(1, n_epochs + 1, desc=\"All epochs\") as epochs:\n",
    "    for epoch in epochs:\n",
    "        with trange(1, n_steps + 1, desc=f\"Epoch {epoch}/{n_epochs}\") as steps:\n",
    "            for step in steps:\n",
    "                X_batch, y_batch = random_batch(x_train_s, y_train)\n",
    "                with tf.GradientTape() as tape:\n",
    "                    y_pred = model(X_batch)\n",
    "                    main_loss = tf.reduce_mean(loss_fn(y_batch, y_pred))\n",
    "                    loss = tf.add_n([main_loss] + model.losses)\n",
    "\n",
    "                gradients = tape.gradient(loss, model.trainable_variables)\n",
    "                optimizer.apply_gradients(zip(gradients, model.trainable_variables))\n",
    "\n",
    "                for variable in model.variables:\n",
    "                    if variable.constraint is not None:\n",
    "                        variable.assign(variable.constraint(variable))\n",
    "\n",
    "                status = OrderedDict()\n",
    "                mean_loss(loss)\n",
    "                status[\"loss\"] = mean_loss.result().numpy()\n",
    "                for metric in metrics:\n",
    "                    metric(y_batch, y_pred)\n",
    "                    status[metric.name] = metric.result().numpy()\n",
    "\n",
    "                steps.set_postfix(status)\n",
    "\n",
    "        for metric in [mean_loss] + metrics:\n",
    "            metric.reset_states()"
   ]
  },
  {
   "cell_type": "code",
   "execution_count": null,
   "metadata": {},
   "outputs": [],
   "source": []
  }
 ],
 "metadata": {
  "interpreter": {
   "hash": "ad2bdc8ecc057115af97d19610ffacc2b4e99fae6737bb82f5d7fb13d2f2c186"
  },
  "kernelspec": {
   "display_name": "Python 3.8.8 ('base')",
   "language": "python",
   "name": "python3"
  },
  "language_info": {
   "codemirror_mode": {
    "name": "ipython",
    "version": 3
   },
   "file_extension": ".py",
   "mimetype": "text/x-python",
   "name": "python",
   "nbconvert_exporter": "python",
   "pygments_lexer": "ipython3",
   "version": "3.8.8"
  },
  "orig_nbformat": 4
 },
 "nbformat": 4,
 "nbformat_minor": 2
}
