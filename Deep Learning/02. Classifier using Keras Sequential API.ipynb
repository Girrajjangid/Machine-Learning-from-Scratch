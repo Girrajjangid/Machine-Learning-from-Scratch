{
 "cells": [
  {
   "cell_type": "markdown",
   "id": "9648944d",
   "metadata": {},
   "source": [
    "## Keras Sequential API"
   ]
  },
  {
   "cell_type": "code",
   "execution_count": 3,
   "id": "50bd37ee",
   "metadata": {},
   "outputs": [],
   "source": [
    "import tensorflow as tf\n",
    "from tensorflow import keras"
   ]
  },
  {
   "cell_type": "code",
   "execution_count": 4,
   "id": "20bf5eef",
   "metadata": {},
   "outputs": [
    {
     "data": {
      "text/plain": [
       "'2.6.0'"
      ]
     },
     "execution_count": 4,
     "metadata": {},
     "output_type": "execute_result"
    }
   ],
   "source": [
    "tf.__version__"
   ]
  },
  {
   "cell_type": "code",
   "execution_count": 5,
   "id": "cde9db26",
   "metadata": {},
   "outputs": [
    {
     "data": {
      "text/plain": [
       "'2.6.0'"
      ]
     },
     "execution_count": 5,
     "metadata": {},
     "output_type": "execute_result"
    }
   ],
   "source": [
    "keras.__version__"
   ]
  },
  {
   "cell_type": "markdown",
   "id": "3f3b9920",
   "metadata": {},
   "source": [
    "### Data loading"
   ]
  },
  {
   "cell_type": "code",
   "execution_count": 28,
   "id": "7bcec896",
   "metadata": {},
   "outputs": [
    {
     "name": "stdout",
     "output_type": "stream",
     "text": [
      "Downloading data from https://storage.googleapis.com/tensorflow/tf-keras-datasets/train-labels-idx1-ubyte.gz\n",
      "32768/29515 [=================================] - 0s 2us/step\n",
      "40960/29515 [=========================================] - 0s 1us/step\n",
      "Downloading data from https://storage.googleapis.com/tensorflow/tf-keras-datasets/train-images-idx3-ubyte.gz\n",
      "26427392/26421880 [==============================] - 8s 0us/step\n",
      "26435584/26421880 [==============================] - 8s 0us/step\n",
      "Downloading data from https://storage.googleapis.com/tensorflow/tf-keras-datasets/t10k-labels-idx1-ubyte.gz\n",
      "16384/5148 [===============================================================================================] - 0s 0s/step\n",
      "Downloading data from https://storage.googleapis.com/tensorflow/tf-keras-datasets/t10k-images-idx3-ubyte.gz\n",
      "4423680/4422102 [==============================] - 1s 0us/step\n",
      "4431872/4422102 [==============================] - 1s 0us/step\n"
     ]
    },
    {
     "data": {
      "text/plain": [
       "((60000, 28, 28), (60000,))"
      ]
     },
     "execution_count": 28,
     "metadata": {},
     "output_type": "execute_result"
    }
   ],
   "source": [
    "(x_train, y_train), (x_test, y_test) = keras.datasets.fashion_mnist.load_data()\n",
    "x_train.shape, y_train.shape"
   ]
  },
  {
   "cell_type": "code",
   "execution_count": 29,
   "id": "a6161116",
   "metadata": {},
   "outputs": [
    {
     "data": {
      "text/plain": [
       "'Ankle boot'"
      ]
     },
     "execution_count": 29,
     "metadata": {},
     "output_type": "execute_result"
    }
   ],
   "source": [
    "x_train, x_valid = x_train[:-5000]/255.0, x_train[-5000:]/255.0\n",
    "y_train, y_valid = y_train[:-5000], y_train[-5000:]\n",
    "\n",
    "class_names = ['T-shirt/top', 'Trouser', 'Pullover', 'Dress', 'Coat', 'Sandal', 'Shirt', 'Sneaker', 'Bag', 'Ankle boot']\n",
    "\n",
    "class_names[y_train[0]]"
   ]
  },
  {
   "cell_type": "code",
   "execution_count": 6,
   "id": "14032b67",
   "metadata": {
    "collapsed": true
   },
   "outputs": [
    {
     "name": "stdout",
     "output_type": "stream",
     "text": [
      "Model: \"sequential\"\n",
      "_________________________________________________________________\n",
      "Layer (type)                 Output Shape              Param #   \n",
      "=================================================================\n",
      "flatten (Flatten)            (None, 784)               0         \n",
      "_________________________________________________________________\n",
      "dense (Dense)                (None, 300)               235500    \n",
      "_________________________________________________________________\n",
      "dense_1 (Dense)              (None, 10)                3010      \n",
      "_________________________________________________________________\n",
      "dense_2 (Dense)              (None, 10)                110       \n",
      "=================================================================\n",
      "Total params: 238,620\n",
      "Trainable params: 238,620\n",
      "Non-trainable params: 0\n",
      "_________________________________________________________________\n"
     ]
    }
   ],
   "source": [
    "model = keras.models.Sequential()\n",
    "model.add(keras.layers.Flatten(input_shape=[28,28]))\n",
    "model.add(keras.layers.Dense(300, activation=keras.activations.relu))\n",
    "model.add(keras.layers.Dense(10, activation=keras.activations.relu))\n",
    "model.add(keras.layers.Dense(10, activation=keras.activations.softmax))\n",
    "model.summary()"
   ]
  },
  {
   "cell_type": "markdown",
   "id": "a259726c",
   "metadata": {},
   "source": [
    "### You can create the above code using this also"
   ]
  },
  {
   "cell_type": "code",
   "execution_count": 9,
   "id": "0bdfeb49",
   "metadata": {},
   "outputs": [
    {
     "name": "stdout",
     "output_type": "stream",
     "text": [
      "Model: \"sequential_2\"\n",
      "_________________________________________________________________\n",
      "Layer (type)                 Output Shape              Param #   \n",
      "=================================================================\n",
      "flatten_2 (Flatten)          (None, 784)               0         \n",
      "_________________________________________________________________\n",
      "dense_6 (Dense)              (None, 100)               78500     \n",
      "_________________________________________________________________\n",
      "dense_7 (Dense)              (None, 50)                5050      \n",
      "_________________________________________________________________\n",
      "dense_8 (Dense)              (None, 10)                510       \n",
      "=================================================================\n",
      "Total params: 84,060\n",
      "Trainable params: 84,060\n",
      "Non-trainable params: 0\n",
      "_________________________________________________________________\n"
     ]
    }
   ],
   "source": [
    "model = keras.models.Sequential([keras.layers.Flatten(input_shape=[28,28]),\n",
    "keras.layers.Dense(100, activation=keras.activations.relu),\n",
    "keras.layers.Dense(50, activation=keras.activations.relu),\n",
    "keras.layers.Dense(10,  activation=keras.activations.softmax)\n",
    "])\n",
    "model.summary()"
   ]
  },
  {
   "cell_type": "code",
   "execution_count": 11,
   "id": "9f73e7ba",
   "metadata": {},
   "outputs": [
    {
     "data": {
      "text/plain": [
       "[<keras.layers.core.Flatten at 0x183728551f0>,\n",
       " <keras.layers.core.Dense at 0x18372855e20>,\n",
       " <keras.layers.core.Dense at 0x18372b21670>,\n",
       " <keras.layers.core.Dense at 0x18372b21340>]"
      ]
     },
     "execution_count": 11,
     "metadata": {},
     "output_type": "execute_result"
    }
   ],
   "source": [
    "# To access layers\n",
    "model.layers"
   ]
  },
  {
   "cell_type": "code",
   "execution_count": 21,
   "id": "6273d030",
   "metadata": {},
   "outputs": [
    {
     "data": {
      "text/plain": [
       "'dense_6'"
      ]
     },
     "execution_count": 21,
     "metadata": {},
     "output_type": "execute_result"
    }
   ],
   "source": [
    "hidden1 = model.layers[1]\n",
    "hidden1.name"
   ]
  },
  {
   "cell_type": "code",
   "execution_count": 24,
   "id": "d6d11572",
   "metadata": {},
   "outputs": [
    {
     "data": {
      "text/plain": [
       "<keras.layers.core.Dense at 0x18372855e20>"
      ]
     },
     "execution_count": 24,
     "metadata": {},
     "output_type": "execute_result"
    }
   ],
   "source": [
    "model.get_layer('dense_6')"
   ]
  },
  {
   "cell_type": "code",
   "execution_count": 26,
   "id": "b2a4f496",
   "metadata": {},
   "outputs": [
    {
     "data": {
      "text/plain": [
       "<tf.Variable 'dense_6/kernel:0' shape=(784, 100) dtype=float32, numpy=\n",
       "array([[-0.00597755, -0.01623049,  0.00722932, ...,  0.02172562,\n",
       "         0.00438991, -0.01300772],\n",
       "       [ 0.04369104,  0.02271555,  0.05530074, ..., -0.05747568,\n",
       "        -0.02026206,  0.05314365],\n",
       "       [ 0.05655336, -0.05008853, -0.00243156, ...,  0.00762378,\n",
       "        -0.0092987 , -0.05141532],\n",
       "       ...,\n",
       "       [ 0.07543105, -0.05450507, -0.00344431, ...,  0.00964244,\n",
       "        -0.0732881 , -0.05011102],\n",
       "       [-0.01514512,  0.08223464,  0.01506488, ...,  0.05468178,\n",
       "         0.01102556, -0.01100919],\n",
       "       [-0.02071391, -0.02905759, -0.02028393, ..., -0.00718277,\n",
       "        -0.07878683, -0.07485256]], dtype=float32)>"
      ]
     },
     "execution_count": 26,
     "metadata": {},
     "output_type": "execute_result"
    }
   ],
   "source": [
    "weights, bias = hidden1.weights\n",
    "weights"
   ]
  },
  {
   "cell_type": "markdown",
   "id": "ea884c82",
   "metadata": {},
   "source": [
    "### Compiling the model"
   ]
  },
  {
   "cell_type": "code",
   "execution_count": 27,
   "id": "a8c9c4ea",
   "metadata": {},
   "outputs": [],
   "source": [
    "optimizer = keras.optimizers.SGD(learning_rate=0.01)\n",
    "metrics = [keras.metrics.sparse_categorical_accuracy]\n",
    "model.compile(loss=keras.losses.sparse_categorical_crossentropy, optimizer=optimizer, metrics=metrics)"
   ]
  },
  {
   "cell_type": "markdown",
   "id": "cfc884fd",
   "metadata": {},
   "source": [
    "### Model training"
   ]
  },
  {
   "cell_type": "code",
   "execution_count": 30,
   "id": "f4932fb7",
   "metadata": {},
   "outputs": [
    {
     "name": "stdout",
     "output_type": "stream",
     "text": [
      "Epoch 1/4\n",
      "1719/1719 [==============================] - 2s 857us/step - loss: 0.7937 - sparse_categorical_accuracy: 0.7403 - val_loss: 0.5316 - val_sparse_categorical_accuracy: 0.8162\n",
      "Epoch 2/4\n",
      "1719/1719 [==============================] - 1s 761us/step - loss: 0.5079 - sparse_categorical_accuracy: 0.8245 - val_loss: 0.4653 - val_sparse_categorical_accuracy: 0.8312\n",
      "Epoch 3/4\n",
      "1719/1719 [==============================] - 1s 706us/step - loss: 0.4628 - sparse_categorical_accuracy: 0.8381 - val_loss: 0.4540 - val_sparse_categorical_accuracy: 0.8364\n",
      "Epoch 4/4\n",
      "1719/1719 [==============================] - 1s 697us/step - loss: 0.4367 - sparse_categorical_accuracy: 0.8468 - val_loss: 0.4562 - val_sparse_categorical_accuracy: 0.8354\n"
     ]
    }
   ],
   "source": [
    "history = model.fit(x_train, y_train, epochs=4, validation_data=(x_valid, y_valid))"
   ]
  },
  {
   "cell_type": "code",
   "execution_count": 31,
   "id": "47f9684b",
   "metadata": {},
   "outputs": [
    {
     "name": "stdout",
     "output_type": "stream",
     "text": [
      "Epoch 1/4\n",
      "1547/1547 [==============================] - 1s 701us/step - loss: 0.4160 - sparse_categorical_accuracy: 0.8542 - val_loss: 0.4305 - val_sparse_categorical_accuracy: 0.8525\n",
      "Epoch 2/4\n",
      "1547/1547 [==============================] - 1s 677us/step - loss: 0.4013 - sparse_categorical_accuracy: 0.8587 - val_loss: 0.4177 - val_sparse_categorical_accuracy: 0.8565\n",
      "Epoch 3/4\n",
      "1547/1547 [==============================] - 1s 677us/step - loss: 0.3894 - sparse_categorical_accuracy: 0.8636 - val_loss: 0.4028 - val_sparse_categorical_accuracy: 0.8618\n",
      "Epoch 4/4\n",
      "1547/1547 [==============================] - 1s 681us/step - loss: 0.3776 - sparse_categorical_accuracy: 0.8653 - val_loss: 0.4410 - val_sparse_categorical_accuracy: 0.8424\n"
     ]
    }
   ],
   "source": [
    "# If don't want to pass validation set\n",
    "history = model.fit(x_train, y_train, epochs=4, validation_split=0.1)"
   ]
  },
  {
   "cell_type": "code",
   "execution_count": 34,
   "id": "9a248a64",
   "metadata": {},
   "outputs": [
    {
     "data": {
      "text/plain": [
       "[0, 1, 2, 3]"
      ]
     },
     "execution_count": 34,
     "metadata": {},
     "output_type": "execute_result"
    }
   ],
   "source": [
    "history.epoch"
   ]
  },
  {
   "cell_type": "code",
   "execution_count": 35,
   "id": "36e485d0",
   "metadata": {},
   "outputs": [
    {
     "data": {
      "text/plain": [
       "{'loss': [0.4160158932209015,\n",
       "  0.4012860357761383,\n",
       "  0.38939303159713745,\n",
       "  0.3776431381702423],\n",
       " 'sparse_categorical_accuracy': [0.8542222380638123,\n",
       "  0.858707070350647,\n",
       "  0.8635757565498352,\n",
       "  0.8653131127357483],\n",
       " 'val_loss': [0.43046289682388306,\n",
       "  0.4176762104034424,\n",
       "  0.40280881524086,\n",
       "  0.44102251529693604],\n",
       " 'val_sparse_categorical_accuracy': [0.852545440196991,\n",
       "  0.8565454483032227,\n",
       "  0.8618181943893433,\n",
       "  0.8423636555671692]}"
      ]
     },
     "execution_count": 35,
     "metadata": {},
     "output_type": "execute_result"
    }
   ],
   "source": [
    "history.history"
   ]
  },
  {
   "cell_type": "code",
   "execution_count": 39,
   "id": "329d2d21",
   "metadata": {},
   "outputs": [
    {
     "data": {
      "text/plain": [
       "{'verbose': 1, 'epochs': 4, 'steps': 1547}"
      ]
     },
     "execution_count": 39,
     "metadata": {},
     "output_type": "execute_result"
    }
   ],
   "source": [
    "history.params"
   ]
  },
  {
   "cell_type": "markdown",
   "id": "a39203d1",
   "metadata": {},
   "source": [
    "### To plot Learning Curve"
   ]
  },
  {
   "cell_type": "code",
   "execution_count": 46,
   "id": "50b82b0e",
   "metadata": {},
   "outputs": [
    {
     "data": {
      "image/png": "[encoded data removed]",
      "text/plain": [
       "<Figure size 1008x432 with 1 Axes>"
      ]
     },
     "metadata": {
      "needs_background": "light"
     },
     "output_type": "display_data"
    }
   ],
   "source": [
    "import pandas as pd\n",
    "import matplotlib.pyplot as plt\n",
    "\n",
    "pd.DataFrame(history.history).plot(figsize=(14,6))\n",
    "plt.grid()\n",
    "plt.gca().set_ylim(0,1)\n",
    "plt.show()"
   ]
  },
  {
   "cell_type": "code",
   "execution_count": 47,
   "id": "5bab0032",
   "metadata": {},
   "outputs": [
    {
     "name": "stdout",
     "output_type": "stream",
     "text": [
      "313/313 [==============================] - 0s 1ms/step - loss: 67.1948 - sparse_categorical_accuracy: 0.8234\n"
     ]
    },
    {
     "data": {
      "text/plain": [
       "[67.19475555419922, 0.8234000205993652]"
      ]
     },
     "execution_count": 47,
     "metadata": {},
     "output_type": "execute_result"
    }
   ],
   "source": [
    "model.evaluate(x_test, y_test)"
   ]
  },
  {
   "cell_type": "code",
   "execution_count": 53,
   "id": "3bd61bc9",
   "metadata": {},
   "outputs": [
    {
     "data": {
      "text/plain": [
       "array([[0., 0., 0., 0., 0., 0., 0., 0., 0., 1.]], dtype=float32)"
      ]
     },
     "execution_count": 53,
     "metadata": {},
     "output_type": "execute_result"
    }
   ],
   "source": [
    "model.predict(x_test[[0]])"
   ]
  },
  {
   "cell_type": "code",
   "execution_count": null,
   "id": "0da7329b",
   "metadata": {},
   "outputs": [],
   "source": []
  }
 ],
 "metadata": {
  "interpreter": {
   "hash": "ad2bdc8ecc057115af97d19610ffacc2b4e99fae6737bb82f5d7fb13d2f2c186"
  },
  "kernelspec": {
   "display_name": "Python 3.8.8 ('base')",
   "language": "python",
   "name": "python3"
  },
  "language_info": {
   "codemirror_mode": {
    "name": "ipython",
    "version": 3
   },
   "file_extension": ".py",
   "mimetype": "text/x-python",
   "name": "python",
   "nbconvert_exporter": "python",
   "pygments_lexer": "ipython3",
   "version": "3.8.8"
  }
 },
 "nbformat": 4,
 "nbformat_minor": 5
}
