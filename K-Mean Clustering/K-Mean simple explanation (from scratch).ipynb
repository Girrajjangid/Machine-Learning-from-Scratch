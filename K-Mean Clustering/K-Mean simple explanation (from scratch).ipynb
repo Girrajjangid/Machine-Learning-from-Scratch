{
 "cells": [
  {
   "cell_type": "code",
   "execution_count": 1,
   "metadata": {},
   "outputs": [],
   "source": [
    "import numpy as np\n",
    "import pandas as pd\n",
    "import matplotlib.pyplot as plt\n",
    "%matplotlib inline"
   ]
  },
  {
   "cell_type": "markdown",
   "metadata": {},
   "source": [
    "### First we create some random data for 2D space"
   ]
  },
  {
   "cell_type": "code",
   "execution_count": 2,
   "metadata": {},
   "outputs": [],
   "source": [
    "df = pd.DataFrame({\n",
    "    'x':[12,55,58,60,72,25,28,29,20,28,18,29,33,24,45,45,52,51,52,55,53,55,61,64,69,72],\n",
    "    'y':[39,15,25,24,28,42,40,38,36,30,52,54,46,55,59,63,70,66,63,58,23,14,8,19,7,24]\n",
    "})"
   ]
  },
  {
   "cell_type": "code",
   "execution_count": 3,
   "metadata": {},
   "outputs": [],
   "source": [
    "# make a copy to check with library implementation\n",
    "df1 = df.copy(deep=True)"
   ]
  },
  {
   "cell_type": "code",
   "execution_count": 4,
   "metadata": {},
   "outputs": [],
   "source": [
    "k = 3  # we create 3 clusters ?? How we know about that!! hmmm..... plot and check $$\n",
    "# but there is no algorithm which find the exact value for 'K' you have to check on different value and calculate their\n",
    "# variences and take with lowest variences 'k' value"
   ]
  },
  {
   "cell_type": "code",
   "execution_count": 5,
   "metadata": {},
   "outputs": [
    {
     "data": {
      "image/png": "[encoded data removed]",
      "text/plain": [
       "<Figure size 360x360 with 1 Axes>"
      ]
     },
     "metadata": {},
     "output_type": "display_data"
    }
   ],
   "source": [
    "fig = plt.figure(figsize=(5,5))\n",
    "plt.scatter(df.x,df.y)\n",
    "plt.show()"
   ]
  },
  {
   "cell_type": "code",
   "execution_count": 6,
   "metadata": {},
   "outputs": [
    {
     "name": "stdout",
     "output_type": "stream",
     "text": [
      "{0: [21, 68], 1: [48, 22], 2: [12, 56]}\n"
     ]
    }
   ],
   "source": [
    "np.random.seed(10) # make this 10 to clear explanation because I explain according to this random data\n",
    "centroids = {}\n",
    "for i in range(k):\n",
    "    x = np.random.randint(df.x.min(),df.x.max())\n",
    "    y = np.random.randint(df.y.min(), df.y.max())\n",
    "    centroids[i] = [x,y]\n",
    "print(centroids) \n",
    "# these are the 3 random center points of those clusters"
   ]
  },
  {
   "cell_type": "code",
   "execution_count": 7,
   "metadata": {},
   "outputs": [
    {
     "data": {
      "image/png": "[encoded data removed]",
      "text/plain": [
       "<Figure size 360x360 with 1 Axes>"
      ]
     },
     "metadata": {},
     "output_type": "display_data"
    }
   ],
   "source": [
    "fig = plt.figure(figsize=(5,5))\n",
    "plt.scatter(df.x,df.y,c='k')\n",
    "colmap = {0:'r',1:'g',2:'b'} # try to make color them! yehh..\n",
    "for i in centroids.keys():\n",
    "    plt.scatter(*centroids[i],color=colmap[i])\n",
    "plt.show() \n",
    "# colored points are random new data points while black points are original data points"
   ]
  },
  {
   "cell_type": "markdown",
   "metadata": {},
   "source": [
    "### Assignment() : \n",
    "#### This function calculate euclidian distance between cluster_centroid _points with  all data_points and assign new label to the nearest point respective to cluster_centroid_point "
   ]
  },
  {
   "cell_type": "code",
   "execution_count": 8,
   "metadata": {},
   "outputs": [],
   "source": [
    "# Assignment stage\n",
    "def assignment(df,centroids):\n",
    "    \n",
    "    for i in centroids.keys(): # calculating euclidian distance\n",
    "        df[f'distance_from_{i}'] = np.sqrt(np.square(df.x - centroids[i][0]) + np.square(df.y - centroids[i][1]))\n",
    "\n",
    "    centroids_distance_cols = [f'distance_from_{i}' for i in centroids.keys()]\n",
    "    \n",
    "    df['closest'] = df[centroids_distance_cols].idxmin(axis=1)\n",
    "    df['closest'] = df['closest'].map(lambda x: int(x[-1]))\n",
    "    df['color']   = df['closest'].map(lambda x: colmap[x])\n",
    "    \n",
    "    return df"
   ]
  },
  {
   "cell_type": "code",
   "execution_count": 9,
   "metadata": {},
   "outputs": [
    {
     "data": {
      "text/html": [
       "<div>\n",
       "<style scoped>\n",
       "    .dataframe tbody tr th:only-of-type {\n",
       "        vertical-align: middle;\n",
       "    }\n",
       "\n",
       "    .dataframe tbody tr th {\n",
       "        vertical-align: top;\n",
       "    }\n",
       "\n",
       "    .dataframe thead th {\n",
       "        text-align: right;\n",
       "    }\n",
       "</style>\n",
       "<table border=\"1\" class=\"dataframe\">\n",
       "  <thead>\n",
       "    <tr style=\"text-align: right;\">\n",
       "      <th></th>\n",
       "      <th>x</th>\n",
       "      <th>y</th>\n",
       "      <th>distance_from_0</th>\n",
       "      <th>distance_from_1</th>\n",
       "      <th>distance_from_2</th>\n",
       "      <th>closest</th>\n",
       "      <th>color</th>\n",
       "    </tr>\n",
       "  </thead>\n",
       "  <tbody>\n",
       "    <tr>\n",
       "      <th>0</th>\n",
       "      <td>12</td>\n",
       "      <td>39</td>\n",
       "      <td>30.364453</td>\n",
       "      <td>39.812058</td>\n",
       "      <td>17.000000</td>\n",
       "      <td>2</td>\n",
       "      <td>b</td>\n",
       "    </tr>\n",
       "    <tr>\n",
       "      <th>1</th>\n",
       "      <td>55</td>\n",
       "      <td>15</td>\n",
       "      <td>62.968246</td>\n",
       "      <td>9.899495</td>\n",
       "      <td>59.413803</td>\n",
       "      <td>1</td>\n",
       "      <td>g</td>\n",
       "    </tr>\n",
       "    <tr>\n",
       "      <th>2</th>\n",
       "      <td>58</td>\n",
       "      <td>25</td>\n",
       "      <td>56.727418</td>\n",
       "      <td>10.440307</td>\n",
       "      <td>55.470713</td>\n",
       "      <td>1</td>\n",
       "      <td>g</td>\n",
       "    </tr>\n",
       "    <tr>\n",
       "      <th>3</th>\n",
       "      <td>60</td>\n",
       "      <td>24</td>\n",
       "      <td>58.796258</td>\n",
       "      <td>12.165525</td>\n",
       "      <td>57.688820</td>\n",
       "      <td>1</td>\n",
       "      <td>g</td>\n",
       "    </tr>\n",
       "    <tr>\n",
       "      <th>4</th>\n",
       "      <td>72</td>\n",
       "      <td>28</td>\n",
       "      <td>64.815122</td>\n",
       "      <td>24.738634</td>\n",
       "      <td>66.211781</td>\n",
       "      <td>1</td>\n",
       "      <td>g</td>\n",
       "    </tr>\n",
       "  </tbody>\n",
       "</table>\n",
       "</div>"
      ],
      "text/plain": [
       "    x   y  distance_from_0  distance_from_1  distance_from_2  closest color\n",
       "0  12  39        30.364453        39.812058        17.000000        2     b\n",
       "1  55  15        62.968246         9.899495        59.413803        1     g\n",
       "2  58  25        56.727418        10.440307        55.470713        1     g\n",
       "3  60  24        58.796258        12.165525        57.688820        1     g\n",
       "4  72  28        64.815122        24.738634        66.211781        1     g"
      ]
     },
     "execution_count": 9,
     "metadata": {},
     "output_type": "execute_result"
    }
   ],
   "source": [
    "df = assignment(df,centroids)\n",
    "df.head()"
   ]
  },
  {
   "cell_type": "markdown",
   "metadata": {},
   "source": [
    "Here, \n",
    "1. x,y are data points\n",
    "2. distance_from_0 , distance_from_1 and distance_from_2 is a distance from 3 clusters to the x,y data point\n",
    "3. Now, we find among three distances which cluster is close to the data point for instance 3rd cluster is closest to the first data point and we label first point as color 'b'"
   ]
  },
  {
   "cell_type": "code",
   "execution_count": 10,
   "metadata": {},
   "outputs": [
    {
     "data": {
      "image/png": "[encoded data removed]",
      "text/plain": [
       "<Figure size 360x360 with 1 Axes>"
      ]
     },
     "metadata": {},
     "output_type": "display_data"
    }
   ],
   "source": [
    "fig = plt.figure(figsize = (5,5))\n",
    "plt.scatter(df.x,df.y,c=df.color,edgecolors='k',s=80,alpha=.7)\n",
    "for i in centroids.keys():\n",
    "    plt.scatter(*centroids[i],c=colmap[i])\n",
    "plt.show()"
   ]
  },
  {
   "cell_type": "markdown",
   "metadata": {},
   "source": [
    "Now, we calculate mean of each cluster and set the new centroid points to the mean values"
   ]
  },
  {
   "cell_type": "code",
   "execution_count": 11,
   "metadata": {},
   "outputs": [],
   "source": [
    "# update stage\n",
    "import copy\n",
    "old_centroids = copy.deepcopy(centroids) # make a copy of old centeroid to campare with updated centeroid points\n",
    "\n",
    "def update(centroids):\n",
    "    \n",
    "    for i in centroids.keys():\n",
    "        centroids[i][0] = np.mean(df[df.closest == i].x)\n",
    "        centroids[i][1] = np.mean(df[df.closest == i].y)\n",
    "        \n",
    "    return centroids"
   ]
  },
  {
   "cell_type": "code",
   "execution_count": 12,
   "metadata": {},
   "outputs": [
    {
     "name": "stdout",
     "output_type": "stream",
     "text": [
      "Old_centroids:  {0: [21, 68], 1: [48, 22], 2: [12, 56]}\n",
      "New_centroids:  {0: [47.0, 61.857142857142854], 1: [58.81818181818182, 19.727272727272727], 2: [23.625, 43.5]}\n"
     ]
    }
   ],
   "source": [
    "centroids = update(centroids)\n",
    "print('Old_centroids: ',old_centroids)\n",
    "print('New_centroids: ',centroids)"
   ]
  },
  {
   "cell_type": "markdown",
   "metadata": {},
   "source": [
    "Now, we plot both old and new center points to check is it working"
   ]
  },
  {
   "cell_type": "code",
   "execution_count": 13,
   "metadata": {},
   "outputs": [
    {
     "data": {
      "image/png": "[encoded data removed]",
      "text/plain": [
       "<Figure size 360x360 with 1 Axes>"
      ]
     },
     "metadata": {},
     "output_type": "display_data"
    }
   ],
   "source": [
    "fig = plt.figure(figsize=(5,5))\n",
    "ax = plt.axes()\n",
    "plt.scatter(df.x,df.y,c=df.color,edgecolors='k',s=80,alpha=.7)\n",
    "for i in centroids.keys():\n",
    "    plt.scatter(*centroids[i],c=colmap[i])\n",
    "    \n",
    "for i in old_centroids.keys():\n",
    "    oldx = old_centroids[i][0]\n",
    "    oldy = old_centroids[i][1]\n",
    "    dx = (centroids[i][0] - old_centroids[i][0]) * .75\n",
    "    dy = (centroids[i][1] - old_centroids[i][1]) * .75\n",
    "    ax.arrow(oldx,oldy,dx,dy,head_width=2,head_length=3\n",
    "            ,fc=colmap[i],ec=colmap[i])\n",
    "    \n",
    "plt.show()"
   ]
  },
  {
   "cell_type": "markdown",
   "metadata": {},
   "source": [
    "The tail part of arrow is old location of center point and the head part of arrow is new location of center points\n",
    "\n",
    "and we done!!!!\n",
    "\n",
    "now, we repeat assignment and update again and again until our center point doesn't stop changing. How we know if we get correct center point?? we are labelling each data point so after next iteration we compare previous label and new label if both are same which means we are done.\n",
    "\n",
    "Since, KMean algorithm doesn't tell us that the labels are correct or not it's just seperate all data points into sub small parts or 'k' parts"
   ]
  },
  {
   "cell_type": "code",
   "execution_count": 16,
   "metadata": {},
   "outputs": [
    {
     "data": {
      "image/png": "[encoded data removed]",
      "text/plain": [
       "<Figure size 360x360 with 1 Axes>"
      ]
     },
     "metadata": {},
     "output_type": "display_data"
    }
   ],
   "source": [
    "# continue until all assigned categories don't change any more\n",
    "while True:\n",
    "    closest_centroids = df.closest.copy(deep=True)\n",
    "    centroids = update(centroids)\n",
    "    df = assignment(df,centroids)\n",
    "    if closest_centroids.equals(df.closest):\n",
    "        break\n",
    "    \n",
    "fig = plt.figure(figsize = (5,5))\n",
    "plt.scatter(df.x,df.y,c=df.color,edgecolors='k',s=80,alpha=.7)\n",
    "for i in centroids.keys():\n",
    "    plt.scatter(*centroids[i],c=colmap[i])\n",
    "plt.show()"
   ]
  },
  {
   "cell_type": "code",
   "execution_count": 18,
   "metadata": {},
   "outputs": [
    {
     "data": {
      "text/plain": [
       "{0: [50.0, 63.166666666666664], 1: [61.9, 18.7], 2: [24.6, 43.2]}"
      ]
     },
     "execution_count": 18,
     "metadata": {},
     "output_type": "execute_result"
    }
   ],
   "source": [
    "centroids"
   ]
  },
  {
   "cell_type": "markdown",
   "metadata": {},
   "source": [
    "### Now, I will show this answer using sklearn"
   ]
  },
  {
   "cell_type": "code",
   "execution_count": 19,
   "metadata": {},
   "outputs": [
    {
     "data": {
      "text/plain": [
       "array([[50.        , 63.16666667],\n",
       "       [61.9       , 18.7       ],\n",
       "       [24.6       , 43.2       ]])"
      ]
     },
     "execution_count": 19,
     "metadata": {},
     "output_type": "execute_result"
    }
   ],
   "source": [
    "from sklearn.cluster import KMeans\n",
    "\n",
    "kmean = KMeans(n_clusters=3)\n",
    "kmean.fit(df1)\n",
    "\n",
    "labels = kmean.predict(df1)\n",
    "centroids = kmean.cluster_centers_\n",
    "centroids"
   ]
  },
  {
   "cell_type": "markdown",
   "metadata": {},
   "source": [
    "# BAAM!!!!!!"
   ]
  },
  {
   "cell_type": "code",
   "execution_count": 20,
   "metadata": {},
   "outputs": [
    {
     "data": {
      "image/png": "[encoded data removed]",
      "text/plain": [
       "<Figure size 360x360 with 1 Axes>"
      ]
     },
     "metadata": {},
     "output_type": "display_data"
    }
   ],
   "source": [
    "fig = plt.figure(figsize = (5,5))\n",
    "colors = map(lambda x : colmap[x],labels)\n",
    "color1 = list(colors)\n",
    "plt.scatter(df.x,df.y,c=color1,edgecolors='k',s=80,alpha=.7)\n",
    "for i,cent in enumerate(centroids):\n",
    "    plt.scatter(*cent,c=colmap[i])\n",
    "plt.show()"
   ]
  },
  {
   "cell_type": "markdown",
   "metadata": {},
   "source": [
    "## very sensitive towards scalling so for best practice first normalize your data"
   ]
  }
 ],
 "metadata": {
  "kernelspec": {
   "display_name": "Python 3",
   "language": "python",
   "name": "python3"
  },
  "language_info": {
   "codemirror_mode": {
    "name": "ipython",
    "version": 3
   },
   "file_extension": ".py",
   "mimetype": "text/x-python",
   "name": "python",
   "nbconvert_exporter": "python",
   "pygments_lexer": "ipython3",
   "version": "3.6.5"
  }
 },
 "nbformat": 4,
 "nbformat_minor": 2
}
