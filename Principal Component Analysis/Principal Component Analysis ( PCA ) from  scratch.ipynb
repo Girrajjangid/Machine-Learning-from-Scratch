{
 "cells": [
  {
   "cell_type": "markdown",
   "metadata": {},
   "source": [
    "## What is PCA?\n",
    "\n",
    "PCA is a method for compressing a lot of data into something that captures the essence of the original data.\n",
    "\n",
    "like a movie camera takes 3D information and flattens it to 2D without too much loss of information.\n",
    "\n",
    "It is a Unsupervised learning method of dimentionality reduction that is often used to reduce the dimentionality of large data sets, by transforming a large set of variables into a smaller one that still contains most of the information in the large set.\n",
    "\n",
    "Reduce the number of variables of a data set, while preserving as much information as possible."
   ]
  },
  {
   "cell_type": "markdown",
   "metadata": {},
   "source": [
    "## Steps of PCA\n",
    "1. Normalize the data\n",
    "2. Find Covarience matrix of original data\n",
    "3. Compute eign values and eign vectors of covarience matrics\n",
    "4. Identify the Principal Component (Axis which capture most of the variation)\n",
    "5. Choosing components and forming a feature vector\n"
   ]
  },
  {
   "cell_type": "code",
   "execution_count": 27,
   "metadata": {},
   "outputs": [],
   "source": [
    "# import some useful libraries\n",
    "import numpy as np # to calculate EV's and covarience matrix\n",
    "import pandas as pd # to put data into dataframe for visualize\n",
    "import matplotlib.pyplot as plt\n",
    "import warnings\n",
    "warnings.filterwarnings('ignore')"
   ]
  },
  {
   "cell_type": "code",
   "execution_count": 20,
   "metadata": {},
   "outputs": [
    {
     "data": {
      "text/html": [
       "<div>\n",
       "<style scoped>\n",
       "    .dataframe tbody tr th:only-of-type {\n",
       "        vertical-align: middle;\n",
       "    }\n",
       "\n",
       "    .dataframe tbody tr th {\n",
       "        vertical-align: top;\n",
       "    }\n",
       "\n",
       "    .dataframe thead th {\n",
       "        text-align: right;\n",
       "    }\n",
       "</style>\n",
       "<table border=\"1\" class=\"dataframe\">\n",
       "  <thead>\n",
       "    <tr style=\"text-align: right;\">\n",
       "      <th></th>\n",
       "      <th>breakfast</th>\n",
       "      <th>lunch</th>\n",
       "      <th>dinner</th>\n",
       "      <th>exercise</th>\n",
       "    </tr>\n",
       "  </thead>\n",
       "  <tbody>\n",
       "    <tr>\n",
       "      <th>0</th>\n",
       "      <td>1</td>\n",
       "      <td>2</td>\n",
       "      <td>2</td>\n",
       "      <td>2</td>\n",
       "    </tr>\n",
       "    <tr>\n",
       "      <th>1</th>\n",
       "      <td>2</td>\n",
       "      <td>2</td>\n",
       "      <td>2</td>\n",
       "      <td>2</td>\n",
       "    </tr>\n",
       "    <tr>\n",
       "      <th>2</th>\n",
       "      <td>1</td>\n",
       "      <td>1</td>\n",
       "      <td>2</td>\n",
       "      <td>2</td>\n",
       "    </tr>\n",
       "    <tr>\n",
       "      <th>3</th>\n",
       "      <td>1</td>\n",
       "      <td>1</td>\n",
       "      <td>2</td>\n",
       "      <td>1</td>\n",
       "    </tr>\n",
       "    <tr>\n",
       "      <th>4</th>\n",
       "      <td>2</td>\n",
       "      <td>2</td>\n",
       "      <td>2</td>\n",
       "      <td>2</td>\n",
       "    </tr>\n",
       "    <tr>\n",
       "      <th>5</th>\n",
       "      <td>1</td>\n",
       "      <td>1</td>\n",
       "      <td>1</td>\n",
       "      <td>1</td>\n",
       "    </tr>\n",
       "    <tr>\n",
       "      <th>6</th>\n",
       "      <td>2</td>\n",
       "      <td>1</td>\n",
       "      <td>2</td>\n",
       "      <td>2</td>\n",
       "    </tr>\n",
       "    <tr>\n",
       "      <th>7</th>\n",
       "      <td>1</td>\n",
       "      <td>1</td>\n",
       "      <td>2</td>\n",
       "      <td>2</td>\n",
       "    </tr>\n",
       "    <tr>\n",
       "      <th>8</th>\n",
       "      <td>1</td>\n",
       "      <td>2</td>\n",
       "      <td>1</td>\n",
       "      <td>2</td>\n",
       "    </tr>\n",
       "    <tr>\n",
       "      <th>9</th>\n",
       "      <td>1</td>\n",
       "      <td>1</td>\n",
       "      <td>2</td>\n",
       "      <td>2</td>\n",
       "    </tr>\n",
       "  </tbody>\n",
       "</table>\n",
       "</div>"
      ],
      "text/plain": [
       "   breakfast  lunch  dinner  exercise\n",
       "0          1      2       2         2\n",
       "1          2      2       2         2\n",
       "2          1      1       2         2\n",
       "3          1      1       2         1\n",
       "4          2      2       2         2\n",
       "5          1      1       1         1\n",
       "6          2      1       2         2\n",
       "7          1      1       2         2\n",
       "8          1      2       1         2\n",
       "9          1      1       2         2"
      ]
     },
     "execution_count": 20,
     "metadata": {},
     "output_type": "execute_result"
    }
   ],
   "source": [
    "# Generating random data\n",
    "columns = ['breakfast', 'lunch', 'dinner', 'exercise']\n",
    "original_data = np.random.randint(low = 1,high = 3,size=[10,4]) # generate random number from 1 to 10 as 10*5 matrices\n",
    "df = pd.DataFrame(original_data, columns=columns)\n",
    "df\n",
    "# this data show 10 people's data of their breakfast, lunch, dinner and exercise time in hours."
   ]
  },
  {
   "cell_type": "markdown",
   "metadata": {},
   "source": [
    "### 1. Normalize the data"
   ]
  },
  {
   "cell_type": "code",
   "execution_count": 164,
   "metadata": {},
   "outputs": [
    {
     "name": "stdout",
     "output_type": "stream",
     "text": [
      "[0.65465367 1.52752523 0.65465367 0.65465367 1.52752523 0.65465367\n",
      " 1.52752523 0.65465367 0.65465367 0.65465367]\n",
      "[-0.65465367  1.52752523 -0.65465367 -0.65465367  1.52752523 -0.65465367\n",
      "  1.52752523 -0.65465367 -0.65465367 -0.65465367]\n"
     ]
    },
    {
     "data": {
      "text/plain": [
       "array([[-0.65465367,  1.22474487,  0.5       ,  0.5       ],\n",
       "       [ 1.52752523,  1.22474487,  0.5       ,  0.5       ],\n",
       "       [-0.65465367, -0.81649658,  0.5       ,  0.5       ],\n",
       "       [-0.65465367, -0.81649658,  0.5       , -2.        ],\n",
       "       [ 1.52752523,  1.22474487,  0.5       ,  0.5       ],\n",
       "       [-0.65465367, -0.81649658, -2.        , -2.        ],\n",
       "       [ 1.52752523, -0.81649658,  0.5       ,  0.5       ],\n",
       "       [-0.65465367, -0.81649658,  0.5       ,  0.5       ],\n",
       "       [-0.65465367,  1.22474487, -2.        ,  0.5       ],\n",
       "       [-0.65465367, -0.81649658,  0.5       ,  0.5       ]])"
      ]
     },
     "execution_count": 164,
     "metadata": {},
     "output_type": "execute_result"
    }
   ],
   "source": [
    "scaled_data = np.empty([10,4])\n",
    "print(scaled_data[:,0])\n",
    "for i in range(4):\n",
    "    scaled_data[:,i] = (original_data[:,i] - np.mean(original_data[:,i])) / np.std(original_data[:,i])\n",
    "scaled_data"
   ]
  },
  {
   "cell_type": "markdown",
   "metadata": {},
   "source": [
    "## 2. Covarience matrices"
   ]
  },
  {
   "cell_type": "code",
   "execution_count": 77,
   "metadata": {},
   "outputs": [
    {
     "data": {
      "text/plain": [
       "array([[ 1.11111111,  0.39594258,  0.36369648,  0.36369648],\n",
       "       [ 0.39594258,  1.11111111, -0.1134023 ,  0.45360921],\n",
       "       [ 0.36369648, -0.1134023 ,  1.11111111,  0.41666667],\n",
       "       [ 0.36369648,  0.45360921,  0.41666667,  1.11111111]])"
      ]
     },
     "execution_count": 77,
     "metadata": {},
     "output_type": "execute_result"
    }
   ],
   "source": [
    "covarience = np.cov(scaled_data , rowvar=False)  # rowvar set to false so it take covarience column wise\n",
    "covarience"
   ]
  },
  {
   "cell_type": "markdown",
   "metadata": {},
   "source": [
    "## 3. Compute Eign values and Eign vectors"
   ]
  },
  {
   "cell_type": "code",
   "execution_count": 105,
   "metadata": {},
   "outputs": [
    {
     "name": "stdout",
     "output_type": "stream",
     "text": [
      "Eign values : \n",
      "  [2.08712526 0.3812219  0.75195969 1.2241376 ]\n",
      "Eign vectors : \n",
      " [[ 0.54777756  0.33460779 -0.76675542  0.00796859]\n",
      " [ 0.44650461 -0.57988102  0.05887487 -0.67890013]\n",
      " [ 0.40106608 -0.54497402  0.05633163  0.7341499 ]\n",
      " [ 0.58285451  0.50475633  0.63674691  0.00741936]]\n"
     ]
    }
   ],
   "source": [
    "eign_val , eign_vct = np.linalg.eig(covarience)\n",
    "print(\"Eign values : \\n \",eign_val)\n",
    "print(\"Eign vectors : \\n\",eign_vct)"
   ]
  },
  {
   "cell_type": "markdown",
   "metadata": {},
   "source": [
    "## 4. Finding Principal Component\n",
    "\n",
    "Principal component is a axis which contains the projection of eign vectors on it"
   ]
  },
  {
   "cell_type": "code",
   "execution_count": 116,
   "metadata": {},
   "outputs": [
    {
     "name": "stdout",
     "output_type": "stream",
     "text": [
      "sorted_eign_val : \n",
      " [2.08712526 1.2241376 ]\n",
      "sorted_eign_vct : \n",
      " [[ 0.54777756  0.00796859]\n",
      " [ 0.44650461 -0.67890013]\n",
      " [ 0.40106608  0.7341499 ]\n",
      " [ 0.58285451  0.00741936]]\n"
     ]
    }
   ],
   "source": [
    "# sorting eignvectors as well as eign values\n",
    "sort_index = eign_val.argsort()[::-1]\n",
    "sorted_eign_val = eign_val[sort_index[0:2]]\n",
    "sorted_eign_vct = eign_vct[:,sort_index[0:2]]\n",
    "print(\"sorted_eign_val : \\n\",sorted_eign_val)\n",
    "print(\"sorted_eign_vct : \\n\",sorted_eign_vct)"
   ]
  },
  {
   "cell_type": "markdown",
   "metadata": {},
   "source": [
    "## 5. Choosing component and forming vector"
   ]
  },
  {
   "cell_type": "code",
   "execution_count": 121,
   "metadata": {},
   "outputs": [
    {
     "data": {
      "text/plain": [
       "array([[ 0.68020994, -0.46591149],\n",
       "       [ 1.87555857, -0.44852261],\n",
       "       [-0.23121379,  0.9198876 ],\n",
       "       [-1.68835006,  0.9013392 ],\n",
       "       [ 1.87555857, -0.44852261],\n",
       "       [-2.69101525, -0.93403554],\n",
       "       [ 0.96413485,  0.93727648],\n",
       "       [-0.23121379,  0.9198876 ],\n",
       "       [-0.32245526, -2.30128623],\n",
       "       [-0.23121379,  0.9198876 ]])"
      ]
     },
     "execution_count": 121,
     "metadata": {},
     "output_type": "execute_result"
    }
   ],
   "source": [
    "forming_vector = scaled_data.dot(sorted_eign_vct)\n",
    "forming_vector"
   ]
  },
  {
   "cell_type": "code",
   "execution_count": 144,
   "metadata": {},
   "outputs": [
    {
     "data": {
      "text/html": [
       "<div>\n",
       "<style scoped>\n",
       "    .dataframe tbody tr th:only-of-type {\n",
       "        vertical-align: middle;\n",
       "    }\n",
       "\n",
       "    .dataframe tbody tr th {\n",
       "        vertical-align: top;\n",
       "    }\n",
       "\n",
       "    .dataframe thead th {\n",
       "        text-align: right;\n",
       "    }\n",
       "</style>\n",
       "<table border=\"1\" class=\"dataframe\">\n",
       "  <thead>\n",
       "    <tr style=\"text-align: right;\">\n",
       "      <th></th>\n",
       "      <th>PC1</th>\n",
       "      <th>PC2</th>\n",
       "    </tr>\n",
       "  </thead>\n",
       "  <tbody>\n",
       "    <tr>\n",
       "      <th>0</th>\n",
       "      <td>0.680210</td>\n",
       "      <td>-0.465911</td>\n",
       "    </tr>\n",
       "    <tr>\n",
       "      <th>1</th>\n",
       "      <td>1.875559</td>\n",
       "      <td>-0.448523</td>\n",
       "    </tr>\n",
       "    <tr>\n",
       "      <th>2</th>\n",
       "      <td>-0.231214</td>\n",
       "      <td>0.919888</td>\n",
       "    </tr>\n",
       "    <tr>\n",
       "      <th>3</th>\n",
       "      <td>-1.688350</td>\n",
       "      <td>0.901339</td>\n",
       "    </tr>\n",
       "    <tr>\n",
       "      <th>4</th>\n",
       "      <td>1.875559</td>\n",
       "      <td>-0.448523</td>\n",
       "    </tr>\n",
       "    <tr>\n",
       "      <th>5</th>\n",
       "      <td>-2.691015</td>\n",
       "      <td>-0.934036</td>\n",
       "    </tr>\n",
       "    <tr>\n",
       "      <th>6</th>\n",
       "      <td>0.964135</td>\n",
       "      <td>0.937276</td>\n",
       "    </tr>\n",
       "    <tr>\n",
       "      <th>7</th>\n",
       "      <td>-0.231214</td>\n",
       "      <td>0.919888</td>\n",
       "    </tr>\n",
       "    <tr>\n",
       "      <th>8</th>\n",
       "      <td>-0.322455</td>\n",
       "      <td>-2.301286</td>\n",
       "    </tr>\n",
       "    <tr>\n",
       "      <th>9</th>\n",
       "      <td>-0.231214</td>\n",
       "      <td>0.919888</td>\n",
       "    </tr>\n",
       "  </tbody>\n",
       "</table>\n",
       "</div>"
      ],
      "text/plain": [
       "        PC1       PC2\n",
       "0  0.680210 -0.465911\n",
       "1  1.875559 -0.448523\n",
       "2 -0.231214  0.919888\n",
       "3 -1.688350  0.901339\n",
       "4  1.875559 -0.448523\n",
       "5 -2.691015 -0.934036\n",
       "6  0.964135  0.937276\n",
       "7 -0.231214  0.919888\n",
       "8 -0.322455 -2.301286\n",
       "9 -0.231214  0.919888"
      ]
     },
     "execution_count": 144,
     "metadata": {},
     "output_type": "execute_result"
    }
   ],
   "source": [
    "reduced_data = pd.DataFrame(forming_vector,columns = ['PC1','PC2'])\n",
    "reduced_data"
   ]
  },
  {
   "cell_type": "code",
   "execution_count": 145,
   "metadata": {},
   "outputs": [],
   "source": [
    "import seaborn as sns\n",
    "%matplotlib inline"
   ]
  },
  {
   "cell_type": "code",
   "execution_count": 169,
   "metadata": {},
   "outputs": [
    {
     "data": {
      "text/plain": [
       "Text(0.5,1,'PCA result')"
      ]
     },
     "execution_count": 169,
     "metadata": {},
     "output_type": "execute_result"
    },
    {
     "data": {
      "image/png": "[encoded data removed]",
      "text/plain": [
       "<Figure size 360x360 with 1 Axes>"
      ]
     },
     "metadata": {},
     "output_type": "display_data"
    }
   ],
   "source": [
    "sns.lmplot('PC1', 'PC2', data=reduced_data, fit_reg=False) \n",
    "plt.title('PCA result')"
   ]
  },
  {
   "cell_type": "markdown",
   "metadata": {},
   "source": [
    "This represent 4 different cluster of our 4 columns in 2 D graph"
   ]
  }
 ],
 "metadata": {
  "kernelspec": {
   "display_name": "Python 3",
   "language": "python",
   "name": "python3"
  },
  "language_info": {
   "codemirror_mode": {
    "name": "ipython",
    "version": 3
   },
   "file_extension": ".py",
   "mimetype": "text/x-python",
   "name": "python",
   "nbconvert_exporter": "python",
   "pygments_lexer": "ipython3",
   "version": "3.6.5"
  }
 },
 "nbformat": 4,
 "nbformat_minor": 2
}
