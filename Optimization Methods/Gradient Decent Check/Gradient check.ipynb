{
 "cells": [
  {
   "cell_type": "code",
   "execution_count": 1,
   "metadata": {},
   "outputs": [],
   "source": [
    "import pandas as pd\n",
    "import numpy as np\n",
    "import matplotlib.pyplot as plt\n",
    "import glob\n",
    "import seaborn as sns\n",
    "import pickle"
   ]
  },
  {
   "cell_type": "code",
   "execution_count": 2,
   "metadata": {},
   "outputs": [],
   "source": [
    "def loadDataset():\n",
    "    path = '../../../DataSets/DevanagariHandwrittenCharacterDataset/Train/*'\n",
    "    train_l = []\n",
    "    train_d = [] # pixels 32*32\n",
    "    for label ,folder_name in enumerate(glob.glob(path)):\n",
    "        for image in (glob.glob(folder_name+'/*')):\n",
    "            imgdata = plt.imread(image).ravel()  # return (1024,) array  \n",
    "            train_d.append(imgdata)\n",
    "            train_l.append(label)\n",
    "    # takes 20 sec\n",
    "    \n",
    "    path = '../../../DataSets/DevanagariHandwrittenCharacterDataset/Test/*'\n",
    "    test_l = []\n",
    "    test_d = [] # pixels 32*32\n",
    "    for label ,folder_name in enumerate(glob.glob(path)):\n",
    "        for image in (glob.glob(folder_name+'/*')):\n",
    "            imgdata = plt.imread(image).ravel()  # return (1024,) array  \n",
    "            test_d.append(imgdata)\n",
    "            test_l.append(label)\n",
    "    # takes 10 sec\n",
    "\n",
    "    return np.vstack(train_d) , np.vstack(test_d) , np.vstack(train_l) , np.vstack(test_l)"
   ]
  },
  {
   "cell_type": "code",
   "execution_count": 3,
   "metadata": {},
   "outputs": [],
   "source": [
    "# takes approx. 30sec\n",
    "X_train , X_test , y_train , y_test = loadDataset()"
   ]
  },
  {
   "cell_type": "code",
   "execution_count": 4,
   "metadata": {},
   "outputs": [
    {
     "name": "stdout",
     "output_type": "stream",
     "text": [
      "(78200, 1024)\n",
      "(13800, 1024)\n",
      "(78200, 1)\n",
      "(13800, 1)\n"
     ]
    }
   ],
   "source": [
    "print(X_train.shape)\n",
    "print(X_test.shape)\n",
    "print(y_train.shape)\n",
    "print(y_test.shape)"
   ]
  },
  {
   "cell_type": "code",
   "execution_count": null,
   "metadata": {},
   "outputs": [],
   "source": [
    "for i in range(1,9):\n",
    "    plt.subplot(240+i)\n",
    "    plt.axis('off')\n",
    "    plt.imshow(X_train[4581+i,:].reshape(32,32), cmap='gray')\n",
    "plt.show()"
   ]
  },
  {
   "cell_type": "code",
   "execution_count": 464,
   "metadata": {},
   "outputs": [],
   "source": [
    "def add(neuron):\n",
    "    layers_n.append(neuron)\n",
    "\n",
    "def one_hot_label( y ):\n",
    "    one_hot_labels = np.zeros((y.shape[0] , layers_n[-1]))\n",
    "    for i in range(y.shape[0]):  \n",
    "        one_hot_labels[i, y[i] ] = 1\n",
    "    return one_hot_labels\n",
    "\n",
    "def fit():\n",
    "    for i in range(len(layers_n)-1): \n",
    "        theta_layers.append(np.random.randn(layers_n[i],layers_n[i+1]) * np.sqrt(2 / layers_n[i]))\n",
    "        bias.append(np.random.randn(layers_n[i+1]) * np.sqrt(2 / layers_n[i]))\n",
    "                #self.bias.append(np.zeros(self.layers_n[i+1])\n",
    "            \n",
    "def relu(X,theta):\n",
    "    q = (np.dot(X, theta))\n",
    "    return np.clip(q , a_min=0 , a_max = q)\n",
    "\n",
    "def softmax(X , theta ):\n",
    "    e_x = np.exp(np.dot(X,theta) )\n",
    "    return np.divide(e_x.T ,e_x.sum(axis = 1)).T \n",
    "    \n",
    "def forwardPropagation( X , theta ):\n",
    "    activations  = []\n",
    "    activations.append(X)\n",
    "    for i in range(len(layers_n)-2):\n",
    "        activations.append(relu(activations[i] , theta[i] ))\n",
    "    activations.append(softmax(activations[-1] , theta[-1] ))\n",
    "    return activations\n",
    "    \n",
    "def costFunction(X , y , theta ):\n",
    "    y = one_hot_label(y)\n",
    "    activations = forwardPropagation(X , theta)\n",
    "    crossEntropy = y * np.log(activations[-1])\n",
    "    return (1/X.shape[0] )* -np.sum(crossEntropy)\n",
    "\n",
    "def backPropagation( X , y , alpha , theta ):\n",
    "    dL_dA       = []\n",
    "    dL_dtheta   = []\n",
    "    activations = forwardPropagation(X,theta )\n",
    "    y_cap       = activations[-1]\n",
    "    target_y    = one_hot_label(y)\n",
    "    dL_dA.append(y_cap - target_y)\n",
    "    newtheta = theta.copy()\n",
    "    \n",
    "    for i in range(len(layers_n)-2):   \n",
    "        dL_dA.append( np.dot( dL_dA[i] , theta[-1-i].T ) )\n",
    "    \n",
    "    for i in range(len(layers_n)-1):  \n",
    "        dL_dtheta.append(1/X.shape[0] * (np.dot(activations[-2-i].T , dL_dA[i]))) \n",
    "    \n",
    "    for i in range(len(layers_n)-1):  \n",
    "        # updating parameters\n",
    "        newtheta[i]   -= (alpha * dL_dtheta[-1-i])  \n",
    "    \n",
    "    return newtheta\n"
   ]
  },
  {
   "cell_type": "code",
   "execution_count": 465,
   "metadata": {},
   "outputs": [],
   "source": [
    "np.random.seed(0)\n",
    "epoche = 100\n",
    "\n",
    "layers_n       = []\n",
    "theta          = []\n",
    "activations    = []\n",
    "dL_dA          = []\n",
    "dL_dtheta      = []\n",
    "dL_dbias       = []\n",
    "\n",
    "add(1024)\n",
    "add(46)\n",
    "fit()"
   ]
  },
  {
   "cell_type": "code",
   "execution_count": 466,
   "metadata": {},
   "outputs": [
    {
     "data": {
      "text/plain": [
       "-4.440892098500626e-10"
      ]
     },
     "execution_count": 466,
     "metadata": {},
     "output_type": "execute_result"
    }
   ],
   "source": [
    "epsilon = 10e-7\n",
    "\n",
    "thetaposi = list(map(lambda x : x + epsilon ,theta_layers))\n",
    "\n",
    "thetanega = list(map(lambda x : x - epsilon ,theta_layers))\n",
    "\n",
    "Jposi = costFunction(X_train[0:2],y_train[0:2],thetaposi )\n",
    "Jnega = costFunction(X_train[0:2],y_train[0:2],thetanega )\n",
    "\n",
    "gradapprox = (Jposi - Jnega) / (2*epsilon)\n",
    "gradapprox"
   ]
  },
  {
   "cell_type": "code",
   "execution_count": 467,
   "metadata": {},
   "outputs": [
    {
     "name": "stdout",
     "output_type": "stream",
     "text": [
      "4.512047367508338\n",
      "4.512047367508339\n"
     ]
    }
   ],
   "source": [
    "print(Jposi)\n",
    "print(Jnega)"
   ]
  },
  {
   "cell_type": "code",
   "execution_count": 470,
   "metadata": {},
   "outputs": [
    {
     "name": "stdout",
     "output_type": "stream",
     "text": [
      "4.512047367508338\n",
      "4.512047367508338\n"
     ]
    }
   ],
   "source": [
    "c1 = costFunction(X_train[0:2],y_train[0:2],theta_layers)\n",
    "print(c1)\n",
    "\n",
    "newtheta = backPropagation(X_train[0:2] , y_train[0:2],epsilon,theta_layers)\n",
    "\n",
    "c2 = costFunction(X_train[0:2],y_train[0:2],newtheta)\n",
    "print(c2)\n",
    "\n"
   ]
  }
 ],
 "metadata": {
  "kernelspec": {
   "display_name": "Python 3",
   "language": "python",
   "name": "python3"
  },
  "language_info": {
   "codemirror_mode": {
    "name": "ipython",
    "version": 3
   },
   "file_extension": ".py",
   "mimetype": "text/x-python",
   "name": "python",
   "nbconvert_exporter": "python",
   "pygments_lexer": "ipython3",
   "version": "3.6.5"
  }
 },
 "nbformat": 4,
 "nbformat_minor": 2
}
