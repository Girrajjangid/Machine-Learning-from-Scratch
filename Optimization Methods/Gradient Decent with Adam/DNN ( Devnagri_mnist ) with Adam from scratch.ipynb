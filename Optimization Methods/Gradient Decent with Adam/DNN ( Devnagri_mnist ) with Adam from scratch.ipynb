{
 "cells": [
  {
   "cell_type": "markdown",
   "metadata": {},
   "source": [
    "# What we use in this code.\n",
    "## 1. Gradient decent with Adam optimization.\n",
    "## 2. 'He' initialization or Xavier initialization."
   ]
  },
  {
   "cell_type": "code",
   "execution_count": 1,
   "metadata": {},
   "outputs": [],
   "source": [
    "import pandas as pd\n",
    "import numpy as np\n",
    "import matplotlib.pyplot as plt\n",
    "import glob\n",
    "import seaborn as sns\n",
    "import pickle\n",
    "import math\n",
    "import mlxtend.data as mld"
   ]
  },
  {
   "cell_type": "code",
   "execution_count": 6,
   "metadata": {},
   "outputs": [],
   "source": [
    "def loadDataset():\n",
    "    path = 'F:/Books/Machine Learning/DataSets/DevanagariHandwrittenCharacterDataset/Train/*'\n",
    "    train_l = []\n",
    "    train_d = [] # pixels 32*32\n",
    "    for label ,folder_name in enumerate(glob.glob(path)):\n",
    "        for image in (glob.glob(folder_name+'/*')):\n",
    "            imgdata = plt.imread(image).ravel()  # return (1024,) array  \n",
    "            train_d.append(imgdata)\n",
    "            train_l.append(label)\n",
    "    # takes 20 sec\n",
    "    \n",
    "    path = 'F:/Books/Machine Learning/DataSets/DevanagariHandwrittenCharacterDataset/Test/*'\n",
    "    test_l = []\n",
    "    test_d = [] # pixels 32*32\n",
    "    for label ,folder_name in enumerate(glob.glob(path)):\n",
    "        for image in (glob.glob(folder_name+'/*')):\n",
    "            imgdata = plt.imread(image).ravel()  # return (1024,) array  \n",
    "            test_d.append(imgdata)\n",
    "            test_l.append(label)\n",
    "    # takes 10 sec\n",
    "\n",
    "    return np.vstack(train_d) , np.vstack(test_d) , np.vstack(train_l) , np.vstack(test_l)"
   ]
  },
  {
   "cell_type": "code",
   "execution_count": 7,
   "metadata": {},
   "outputs": [
    {
     "name": "stdout",
     "output_type": "stream",
     "text": [
      "(78200, 1024)\n",
      "(13800, 1024)\n",
      "(78200, 1)\n",
      "(13800, 1)\n"
     ]
    },
    {
     "data": {
      "image/png": "[encoded data removed]",
      "text/plain": [
       "<Figure size 432x288 with 8 Axes>"
      ]
     },
     "metadata": {
      "needs_background": "light"
     },
     "output_type": "display_data"
    }
   ],
   "source": [
    "# takes approx. 30sec\n",
    "X_train , X_test , y_train , y_test = loadDataset()\n",
    "print(X_train.shape)\n",
    "print(X_test.shape)\n",
    "print(y_train.shape)\n",
    "print(y_test.shape)\n",
    "\n",
    "for i in range(1,9):\n",
    "    plt.subplot(240+i)\n",
    "    plt.axis('off')\n",
    "    plt.imshow(X_train[4581+i,:].reshape(32,32), cmap='gray')\n",
    "plt.show()"
   ]
  },
  {
   "cell_type": "markdown",
   "metadata": {},
   "source": [
    "# Adam (Adaptive Moment Estimation)\n",
    "\n",
    "It is an another method that computes adaptive learning rates for each parameter. In addition to storing an exponentially decaying average of past squared gradients vt like Adadelta and RMSProp. Adam also keeps an exponentially decaying average of past gradients mt similar to momentum.\n",
    "\n",
    "Adam adds bias-correction and momentum to RMSProp\n",
    "\n",
    "Adam is a combination of momentum + RMSProp which I covered already."
   ]
  },
  {
   "cell_type": "markdown",
   "metadata": {},
   "source": [
    "**How does Adam work?**\n",
    "1. It calculates an exponentially weighted average of past gradients, and stores it in variables $v$ (before bias correction) and $v^{corrected}$ (with bias correction). \n",
    "2. It calculates an exponentially weighted average of the squares of the past gradients, and  stores it in variables $s$ (before bias correction) and $s^{corrected}$ (with bias correction). \n",
    "3. It updates parameters in a direction based on combining information from \"1\" and \"2\".\n",
    "\n",
    "The update rule is, for $l = 1, ..., L$: \n",
    "\n",
    "$$\\begin{cases}\n",
    "v_{dW^{[l]}} = \\beta_1 v_{dW^{[l]}} + (1 - \\beta_1) \\frac{\\partial \\mathcal{J} }{ \\partial W^{[l]} } \\\\\n",
    "v^{corrected}_{dW^{[l]}} = \\frac{v_{dW^{[l]}}}{1 - (\\beta_1)^t} \\\\\n",
    "s_{dW^{[l]}} = \\beta_2 s_{dW^{[l]}} + (1 - \\beta_2) (\\frac{\\partial \\mathcal{J} }{\\partial W^{[l]} })^2 \\\\\n",
    "s^{corrected}_{dW^{[l]}} = \\frac{s_{dW^{[l]}}}{1 - (\\beta_1)^t} \\\\\n",
    "W^{[l]} = W^{[l]} - \\alpha \\frac{v^{corrected}_{dW^{[l]}}}{\\sqrt{s^{corrected}_{dW^{[l]}}} + \\varepsilon}\n",
    "\\end{cases}$$\n",
    "where:\n",
    "- t counts the number of steps taken of Adam \n",
    "- L is the number of layers\n",
    "- $\\beta_1$ and $\\beta_2$ are hyperparameters that control the two exponentially weighted averages. \n",
    "- $\\alpha$ is the learning rate\n",
    "- $\\varepsilon$ is a very small number to avoid dividing by zero\n",
    "\n",
    "As usual, we will store all parameters in the `parameters` dictionary  "
   ]
  },
  {
   "cell_type": "code",
   "execution_count": 8,
   "metadata": {},
   "outputs": [],
   "source": [
    "class NeuralNetwork():\n",
    "    \n",
    "    def __init__(self):\n",
    "        \n",
    "        self.layers_n       = [] # no. of layers\n",
    "        self.theta_layers   = [] # hidden layers weight list\n",
    "        self.bias           = [] # hidden layers bias list\n",
    "        \n",
    "        self.s0             = [] # exponential weight for RMSProp it also works as a bias \n",
    "        self.sb             = [] # exponential bias for RMSProp\n",
    "        self.v0             = [] # exponential weight for momentum it also works as a bias \n",
    "        self.vb             = [] # exponential bias for momentum\n",
    "        \n",
    "        self.activations    = [] # list of activations\n",
    "        self.dL_dA          = [] # derivative w.r.t activations\n",
    "        self.dL_dtheta      = [] # derivative w.r.t weights \n",
    "        self.dL_dbias       = [] # derivative w.r.t bias\n",
    "        self.itera          = [] # store iterations\n",
    "        self.csfun          = [] # store cost function values\n",
    "        self.beta1          = 0.9   # momentum constant \n",
    "        self.beta2          = 0.99 # RMSProp constant\n",
    "        self.epsilon        = 1e-7  # error adding\n",
    "        self.seed           = 0 # random seed\n",
    "        self.epoch          = 2\n",
    "    def add(self , neuron ):\n",
    "        self.layers_n.append(neuron)\n",
    "        \n",
    "    def one_hot_label(self , y):\n",
    "        one_hot_labels = np.zeros((y.shape[0] , self.layers_n[-1]))\n",
    "        for i in range(y.shape[0]):  \n",
    "            one_hot_labels[i, y[i] ] = 1\n",
    "        return one_hot_labels\n",
    "    \n",
    "    def fit(self , X , y , batch_size = 128 , alpha = 0.01 , epoch = 2,lmda = 0.01):\n",
    "        self.epoch = epoch\n",
    "        # He initialization [for Xavier initialization replace 2 with 1 in np.sqrt(2/self.layers_n[i])]\n",
    "        for i in range(len(self.layers_n)-1): \n",
    "            self.theta_layers.append(np.random.randn(self.layers_n[i],self.layers_n[i+1]) * np.sqrt(1/self.layers_n[i]))\n",
    "            self.s0.append(np.zeros([self.layers_n[i],self.layers_n[i+1]])) \n",
    "            self.v0.append(np.zeros([self.layers_n[i],self.layers_n[i+1]])) \n",
    "            \n",
    "            self.bias.append(np.random.randn(self.layers_n[i+1]) * np.sqrt(1/self.layers_n[i]) )\n",
    "            self.sb.append(np.zeros(self.layers_n[i+1]))\n",
    "            self.vb.append(np.zeros(self.layers_n[i+1]))\n",
    "        \n",
    "        return self.randomMiniBatch( X , y , batch_size , alpha )\n",
    "      \n",
    "    def softmax(self , activation , theta , bias):\n",
    "        exp = np.exp( np.dot( activation , theta ) + bias)\n",
    "        denominator = np.sum( exp , axis = 1)\n",
    "        s = list(map(lambda i : exp[:,i] / denominator , np.arange(self.layers_n[-1])))\n",
    "        return np.array(s).T\n",
    "    \n",
    "    def relu(self,activation,theta, bias):\n",
    "        q = (np.dot(activation , theta) + bias)\n",
    "        return np.clip(q , a_min=0 , a_max = q)\n",
    "\n",
    "    def forwardPropagation(self,X):\n",
    "        \n",
    "        self.activations    = []\n",
    "        \n",
    "        self.activations.append(X)\n",
    "        for i in range(len(self.layers_n)-2):\n",
    "            self.activations.append(self.relu(self.activations[i] , self.theta_layers[i] , self.bias[i]))\n",
    "                      \n",
    "        self.activations.append(self.softmax(self.activations[-1] , self.theta_layers[-1] , self.bias[-1]))\n",
    "        \n",
    "    def costFunction(self,X,y):\n",
    "        \n",
    "        self.y = self.one_hot_label(y)\n",
    "        self.forwardPropagation(X)\n",
    "        \n",
    "        np.nan_to_num(self.activations[-1] , copy = False)\n",
    "        self.crossEntropy = self.y * np.log(self.activations[-1])\n",
    "        np.nan_to_num(self.crossEntropy, copy=False)\n",
    "        \n",
    "        return (1/X.shape[0] * -np.sum(self.crossEntropy)) \n",
    "      \n",
    "    \n",
    "    def backPropagation(self,X,y,alpha):\n",
    "        \n",
    "        self.dL_dA          = []\n",
    "        self.dL_dtheta      = []\n",
    "        self.dL_dbias       = []\n",
    "        \n",
    "        self.forwardPropagation(X)\n",
    "        \n",
    "        self.y_cap = self.activations[-1]\n",
    "        self.target_y = self.one_hot_label(y)\n",
    "        \n",
    "        self.dL_dA.append(self.y_cap - self.target_y)\n",
    "        \n",
    "        for i in range(len(self.layers_n)-2):   \n",
    "            \n",
    "            self.dL_dA.append( np.dot( self.dL_dA[i] , self.theta_layers[-1-i].T ) )\n",
    "        \n",
    "        for i in range(len(self.layers_n)-1):  \n",
    "            \n",
    "            self.dL_dtheta.append(1/X.shape[0] * (np.dot(self.activations[-2-i].T , self.dL_dA[i]))) \n",
    "            self.dL_dbias.append(1/X.shape[0] * self.dL_dA[i])\n",
    "        \n",
    "        for i in range(len(self.layers_n)-1):  \n",
    "             \n",
    "            # Exponential weights and bias of momentum\n",
    "            self.v0[i]               = (self.beta1 * self.v0[i]) +  ((1 - self.beta1) * self.dL_dtheta[-1-i])\n",
    "            \n",
    "            self.s0[i]               = (self.beta2 * self.s0[i]) +  ((1 - self.beta2) * np.square(self.dL_dtheta[-1-i]))\n",
    "            \n",
    "            # Exponential wights and bias of RMSProp\n",
    "            self.vb[-1-i]            = (self.beta1 * self.vb[-1-i]) +  ((1 - self.beta1) \n",
    "                                                                       * (self.dL_dbias[i].sum(axis = 0)))\n",
    "            self.sb[-1-i]            = (self.beta2 * self.sb[-1-i]) +  ((1 - self.beta2) \n",
    "                                                                       * np.square(self.dL_dbias[i].sum(axis = 0)))\n",
    "            # weights and bias correction\n",
    "            \n",
    "            v0_c = self.v0[i] / (1 - np.power(self.beta1, self.epoch))\n",
    "            vb_c = self.vb[-1-i] / (1 - np.power(self.beta1, self.epoch))\n",
    "            \n",
    "            s0_c = self.s0[i] / (1 - np.power(self.beta2, self.epoch))\n",
    "            sb_c = self.sb[-1-i] / (1 - np.power(self.beta2, self.epoch))\n",
    "            \n",
    "            sqrt_s0  = np.sqrt(s0_c + self.epsilon)\n",
    "            sqrt_sb  = np.sqrt(sb_c + self.epsilon)\n",
    "            self.bias[-1-i]         -= (alpha * (vb_c.sum(axis = 0) / sqrt_sb.sum(axis = 0) ))                  \n",
    "            self.theta_layers[i]    -= (alpha * (v0_c / sqrt_s0))  \n",
    "            \n",
    "            \n",
    "    def randomMiniBatch(self, X, y, batch_size, alpha):              \n",
    "        i = 0\n",
    "        j = 1\n",
    "        m = X.shape[0]\n",
    "        np.random.seed(self.seed+i)\n",
    "        while i < self.epoch:\n",
    "       \n",
    "            permutation = list(np.random.permutation(m))\n",
    "            shuffled_X = X[permutation,:]               # shuffle data\n",
    "            shuffled_Y = y[permutation].reshape((m,1))\n",
    "            num_complete_minibatches = math.floor(m/batch_size) \n",
    "\n",
    "            # divide whole data into mini batches\n",
    "            for k in range(0, num_complete_minibatches):\n",
    "                \n",
    "                mini_batch_X = shuffled_X[k * batch_size : (k + 1) * batch_size, :]\n",
    "                mini_batch_Y = shuffled_Y[k * batch_size : (k + 1) * batch_size, :]\n",
    "                cost = self.costFunction(mini_batch_X , mini_batch_Y )\n",
    "       \n",
    "                self.backPropagation(mini_batch_X, mini_batch_Y , alpha)\n",
    "                    \n",
    "                #print('Iteration {} Cost function {}'.format(j , cost ))    \n",
    "                \n",
    "                self.itera.append(j)\n",
    "                self.csfun.append(cost)\n",
    "                j +=1 \n",
    "                \n",
    "        \n",
    "            if m % batch_size != 0:\n",
    "                \n",
    "                mini_batch_X = shuffled_X[num_complete_minibatches * batch_size: , :]\n",
    "                mini_batch_Y = shuffled_Y[num_complete_minibatches * batch_size: , :]\n",
    "                cost = self.costFunction(mini_batch_X , mini_batch_Y )\n",
    "       \n",
    "                self.backPropagation(mini_batch_X, mini_batch_Y , alpha )\n",
    "                    \n",
    "                #print('Iteration {} Cost function {}'.format(j , cost ))    \n",
    "        \n",
    "                self.itera.append(j+1)\n",
    "                self.csfun.append(cost)\n",
    "            i+=1\n",
    "            print((i+1),\" epoch\",end=\" \")\n",
    "            print('Cost {}'.format(cost ))    \n",
    "        \n",
    "    \n",
    "    def gradient_plot(self):\n",
    "        plt.plot(self.itera[10:],self.csfun[10:])\n",
    "        plt.show()\n",
    "         \n",
    "        \n",
    "    def accuracy(self , X , y):\n",
    "        self.forwardPropagation(X)\n",
    "        pred = np.argmax(self.activations[-1],axis=1)\n",
    "        c1 = 0\n",
    "        for i,j in enumerate(y):\n",
    "            if j == pred[i]:\n",
    "                c1+=1\n",
    "        print(\"Accuracy : \",(c1/y.shape[0])*100,'%')    \n"
   ]
  },
  {
   "cell_type": "code",
   "execution_count": 9,
   "metadata": {},
   "outputs": [
    {
     "name": "stdout",
     "output_type": "stream",
     "text": [
      "2  epoch Cost 0.9818643768951726\n"
     ]
    }
   ],
   "source": [
    "NN = NeuralNetwork()\n",
    "NN.add(1024)\n",
    "NN.add(512)\n",
    "NN.add(512)\n",
    "NN.add(46)\n",
    "NN.fit(X_train , y_train , batch_size = 256 , alpha = 0.001 ,  epoch = 10)"
   ]
  },
  {
   "cell_type": "code",
   "execution_count": 10,
   "metadata": {},
   "outputs": [
    {
     "data": {
      "image/png": "[encoded data removed]",
      "text/plain": [
       "<Figure size 432x288 with 1 Axes>"
      ]
     },
     "metadata": {
      "needs_background": "light"
     },
     "output_type": "display_data"
    },
    {
     "name": "stdout",
     "output_type": "stream",
     "text": [
      "Accuracy :  79.14194373401534 %\n",
      "Accuracy :  78.36231884057972 %\n"
     ]
    }
   ],
   "source": [
    "NN.gradient_plot()\n",
    "NN.accuracy(X_train,y_train)\n",
    "NN.accuracy(X_test,y_test)"
   ]
  },
  {
   "cell_type": "code",
   "execution_count": 12,
   "metadata": {
    "collapsed": true
   },
   "outputs": [
    {
     "ename": "FileNotFoundError",
     "evalue": "[Errno 2] No such file or directory: '../../../DataSets/MNIST/train-labels-mnist.idx1-ubyte'",
     "output_type": "error",
     "traceback": [
      "\u001b[1;31m---------------------------------------------------------------------------\u001b[0m",
      "\u001b[1;31mFileNotFoundError\u001b[0m                         Traceback (most recent call last)",
      "\u001b[1;32m<ipython-input-12-34e76a727759>\u001b[0m in \u001b[0;36m<module>\u001b[1;34m\u001b[0m\n\u001b[0;32m      1\u001b[0m train_data,train_label = mld.loadlocal_mnist(images_path='../../../DataSets/MNIST/train-images-mnist.idx3-ubyte', # extract\n\u001b[1;32m----> 2\u001b[1;33m                         labels_path='../../../DataSets/MNIST/train-labels-mnist.idx1-ubyte')\n\u001b[0m\u001b[0;32m      3\u001b[0m \u001b[1;33m\u001b[0m\u001b[0m\n\u001b[0;32m      4\u001b[0m test_data,test_label = mld.loadlocal_mnist(images_path='../../../DataSets/MNIST/test-images-mnist.idx3-ubyte', # extract \n\u001b[0;32m      5\u001b[0m                         labels_path='../../../DataSets/MNIST/test-labels-mnist.idx1-ubyte')\n",
      "\u001b[1;32m~\\Anaconda3\\envs\\python_gpu\\lib\\site-packages\\mlxtend\\data\\local_mnist.py\u001b[0m in \u001b[0;36mloadlocal_mnist\u001b[1;34m(images_path, labels_path)\u001b[0m\n\u001b[0;32m     34\u001b[0m \u001b[1;33m\u001b[0m\u001b[0m\n\u001b[0;32m     35\u001b[0m     \"\"\"\n\u001b[1;32m---> 36\u001b[1;33m     \u001b[1;32mwith\u001b[0m \u001b[0mopen\u001b[0m\u001b[1;33m(\u001b[0m\u001b[0mlabels_path\u001b[0m\u001b[1;33m,\u001b[0m \u001b[1;34m'rb'\u001b[0m\u001b[1;33m)\u001b[0m \u001b[1;32mas\u001b[0m \u001b[0mlbpath\u001b[0m\u001b[1;33m:\u001b[0m\u001b[1;33m\u001b[0m\u001b[0m\n\u001b[0m\u001b[0;32m     37\u001b[0m         magic, n = struct.unpack('>II',\n\u001b[0;32m     38\u001b[0m                                  lbpath.read(8))\n",
      "\u001b[1;31mFileNotFoundError\u001b[0m: [Errno 2] No such file or directory: '../../../DataSets/MNIST/train-labels-mnist.idx1-ubyte'"
     ]
    }
   ],
   "source": [
    "train_data,train_label = mld.loadlocal_mnist(images_path='../../../DataSets/MNIST/train-images-mnist.idx3-ubyte', # extract\n",
    "                        labels_path='../../../DataSets/MNIST/train-labels-mnist.idx1-ubyte')\n",
    "\n",
    "test_data,test_label = mld.loadlocal_mnist(images_path='../../../DataSets/MNIST/test-images-mnist.idx3-ubyte', # extract \n",
    "                        labels_path='../../../DataSets/MNIST/test-labels-mnist.idx1-ubyte')\n",
    "\n",
    "train_data = train_data/train_data.max()\n",
    "test_data = test_data/test_data.max()"
   ]
  },
  {
   "cell_type": "code",
   "execution_count": 11,
   "metadata": {
    "collapsed": true
   },
   "outputs": [
    {
     "ename": "NameError",
     "evalue": "name 'train_data' is not defined",
     "output_type": "error",
     "traceback": [
      "\u001b[1;31m---------------------------------------------------------------------------\u001b[0m",
      "\u001b[1;31mNameError\u001b[0m                                 Traceback (most recent call last)",
      "\u001b[1;32m<ipython-input-11-bcf845197918>\u001b[0m in \u001b[0;36m<module>\u001b[1;34m\u001b[0m\n\u001b[0;32m      4\u001b[0m \u001b[0mNN\u001b[0m\u001b[1;33m.\u001b[0m\u001b[0madd\u001b[0m\u001b[1;33m(\u001b[0m\u001b[1;36m512\u001b[0m\u001b[1;33m)\u001b[0m\u001b[1;33m\u001b[0m\u001b[0m\n\u001b[0;32m      5\u001b[0m \u001b[0mNN\u001b[0m\u001b[1;33m.\u001b[0m\u001b[0madd\u001b[0m\u001b[1;33m(\u001b[0m\u001b[1;36m10\u001b[0m\u001b[1;33m)\u001b[0m\u001b[1;33m\u001b[0m\u001b[0m\n\u001b[1;32m----> 6\u001b[1;33m \u001b[0mNN\u001b[0m\u001b[1;33m.\u001b[0m\u001b[0mfit\u001b[0m\u001b[1;33m(\u001b[0m\u001b[0mtrain_data\u001b[0m \u001b[1;33m,\u001b[0m \u001b[0mtrain_label\u001b[0m \u001b[1;33m,\u001b[0m \u001b[0mbatch_size\u001b[0m \u001b[1;33m=\u001b[0m \u001b[1;36m256\u001b[0m \u001b[1;33m,\u001b[0m \u001b[0malpha\u001b[0m \u001b[1;33m=\u001b[0m \u001b[1;36m0.002\u001b[0m \u001b[1;33m,\u001b[0m  \u001b[0mepoch\u001b[0m \u001b[1;33m=\u001b[0m \u001b[1;36m10\u001b[0m\u001b[1;33m)\u001b[0m\u001b[1;33m\u001b[0m\u001b[0m\n\u001b[0m",
      "\u001b[1;31mNameError\u001b[0m: name 'train_data' is not defined"
     ]
    }
   ],
   "source": [
    "NN = NeuralNetwork()\n",
    "NN.add(784)\n",
    "NN.add(512)\n",
    "NN.add(512)\n",
    "NN.add(10)\n",
    "NN.fit(train_data , train_label , batch_size = 256 , alpha = 0.002 ,  epoch = 10)"
   ]
  },
  {
   "cell_type": "code",
   "execution_count": 49,
   "metadata": {},
   "outputs": [
    {
     "data": {
      "image/png": "[encoded data removed]",
      "text/plain": [
       "<Figure size 432x288 with 1 Axes>"
      ]
     },
     "metadata": {},
     "output_type": "display_data"
    },
    {
     "name": "stdout",
     "output_type": "stream",
     "text": [
      "Accuracy :  95.18333333333334 %\n",
      "Accuracy :  94.39 %\n"
     ]
    }
   ],
   "source": [
    "NN.gradient_plot()\n",
    "NN.accuracy(train_data,train_label)\n",
    "NN.accuracy(test_data,test_label)"
   ]
  }
 ],
 "metadata": {
  "kernelspec": {
   "display_name": "Python 3",
   "language": "python",
   "name": "python3"
  },
  "language_info": {
   "codemirror_mode": {
    "name": "ipython",
    "version": 3
   },
   "file_extension": ".py",
   "mimetype": "text/x-python",
   "name": "python",
   "nbconvert_exporter": "python",
   "pygments_lexer": "ipython3",
   "version": "3.7.0"
  }
 },
 "nbformat": 4,
 "nbformat_minor": 2
}
