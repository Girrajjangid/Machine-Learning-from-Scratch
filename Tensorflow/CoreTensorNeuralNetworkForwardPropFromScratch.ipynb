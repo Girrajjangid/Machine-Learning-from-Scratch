{
 "cells": [
  {
   "cell_type": "markdown",
   "metadata": {},
   "source": [
    "Neural Network from Scratch "
   ]
  },
  {
   "cell_type": "code",
   "execution_count": 1,
   "metadata": {},
   "outputs": [],
   "source": [
    "import numpy as np "
   ]
  },
  {
   "cell_type": "code",
   "execution_count": 2,
   "metadata": {},
   "outputs": [],
   "source": [
    "class Op:\n",
    "    \n",
    "    def __init__(self, Inputs=[]):\n",
    "        \n",
    "        self.Operands = Inputs\n",
    "        \n",
    "        self.Operation2Perform = []\n",
    "        \n",
    "        for SingleOp in Inputs:\n",
    "            \n",
    "            SingleOp.Operation2Perform.append(self)\n",
    "            \n",
    "        _default_graph.Ops.append(self)\n",
    "        \n",
    "            \n",
    "    def ComputeOp(self):\n",
    "        \n",
    "        pass"
   ]
  },
  {
   "cell_type": "code",
   "execution_count": 3,
   "metadata": {},
   "outputs": [],
   "source": [
    "class Add(Op):\n",
    "    \n",
    "    def __init__(self,FirstOperand, SecondOperand):\n",
    "        \n",
    "        super().__init__([FirstOperand, SecondOperand])\n",
    "        \n",
    "    def ComputeOp(self,FirstOperand, SecondOperand):\n",
    "        \n",
    "        self.InputOperands = [FirstOperand, SecondOperand]\n",
    "        \n",
    "        return (FirstOperand + SecondOperand)"
   ]
  },
  {
   "cell_type": "code",
   "execution_count": 4,
   "metadata": {},
   "outputs": [],
   "source": [
    "class Mul(Op):\n",
    "    \n",
    "    def __init__(self,FirstOperand, SecondOperand):\n",
    "        \n",
    "        super().__init__([FirstOperand, SecondOperand])\n",
    "        \n",
    "    def ComputeOp(self,FirstOperand, SecondOperand):\n",
    "        \n",
    "        self.InputOperands = [FirstOperand, SecondOperand]\n",
    "        \n",
    "        return (FirstOperand * SecondOperand)"
   ]
  },
  {
   "cell_type": "code",
   "execution_count": 5,
   "metadata": {},
   "outputs": [],
   "source": [
    "class MatMul(Op):\n",
    "    \n",
    "    def __init__(self,FirstOperand, SecondOperand):\n",
    "        \n",
    "        super().__init__([FirstOperand, SecondOperand])\n",
    "        \n",
    "    def ComputeOp(self,FirstOperand, SecondOperand):\n",
    "        \n",
    "        self.InputOperands = [FirstOperand, SecondOperand]\n",
    "        \n",
    "        return (np.dot(FirstOperand, SecondOperand))"
   ]
  },
  {
   "cell_type": "code",
   "execution_count": 6,
   "metadata": {},
   "outputs": [],
   "source": [
    "class Placeholder:\n",
    "    \n",
    "    def __init__(self):\n",
    "        \n",
    "        self.Operation2Perform = []\n",
    "        \n",
    "        _default_graph.Plchldrs.append(self)"
   ]
  },
  {
   "cell_type": "code",
   "execution_count": 7,
   "metadata": {},
   "outputs": [],
   "source": [
    "class Variable:\n",
    "    \n",
    "    def __init__(self,Thetas=None):\n",
    "        \n",
    "        self.InitialThetas = Thetas\n",
    "        \n",
    "        self.Operation2Perform = []\n",
    "        \n",
    "        _default_graph.Vars.append(self)"
   ]
  },
  {
   "cell_type": "code",
   "execution_count": 8,
   "metadata": {},
   "outputs": [],
   "source": [
    "class Graph:\n",
    "    \n",
    "    def __init__(self):\n",
    "        \n",
    "        self.Ops = []\n",
    "        self.Plchldrs = []\n",
    "        self.Vars = []\n",
    "        \n",
    "    def set_as_default(self):\n",
    "        \n",
    "        global _default_graph\n",
    "        \n",
    "        _default_graph = self"
   ]
  },
  {
   "cell_type": "code",
   "execution_count": 9,
   "metadata": {},
   "outputs": [],
   "source": [
    "def EachOpComponentsPostOrderTraversal(CurrentOp):\n",
    "    \n",
    "    OpComponentsInPostOrder = []\n",
    "    \n",
    "    def RecursivePostOrdering(CurrentOp):\n",
    "    \n",
    "        if isinstance(CurrentOp,Op):\n",
    "\n",
    "            for EachComponent in CurrentOp.Operands:\n",
    "\n",
    "                RecursivePostOrdering(EachComponent)\n",
    "\n",
    "        OpComponentsInPostOrder.append(CurrentOp)\n",
    "            \n",
    "            \n",
    "            \n",
    "    RecursivePostOrdering(CurrentOp)\n",
    "    \n",
    "    return OpComponentsInPostOrder"
   ]
  },
  {
   "cell_type": "code",
   "execution_count": 10,
   "metadata": {},
   "outputs": [],
   "source": [
    "class Session:\n",
    "    \n",
    "    def run(self,CurrentOp,feed_dict={}):\n",
    "        \n",
    "        OpComponentsInPostOrder = EachOpComponentsPostOrderTraversal(CurrentOp)\n",
    "        \n",
    "        for EachComponent in OpComponentsInPostOrder:\n",
    "            \n",
    "            if type(EachComponent) == Variable:\n",
    "                \n",
    "                EachComponent.Output = EachComponent.InitialThetas\n",
    "                \n",
    "            elif type(EachComponent) == Placeholder:\n",
    "                \n",
    "                EachComponent.Output = feed_dict[EachComponent]\n",
    "                \n",
    "            else:\n",
    "                \n",
    "                EachComponent.Inputs = [EachOperand.Output for EachOperand in EachComponent.Operands]\n",
    "                \n",
    "                EachComponent.Output = EachComponent.ComputeOp(*EachComponent.Inputs)\n",
    "                \n",
    "                EachComponent.Output = np.array(EachComponent.Output)\n",
    "                \n",
    "        return CurrentOp.Output"
   ]
  },
  {
   "cell_type": "markdown",
   "metadata": {},
   "source": [
    "Lets Compute the expression, y = mx + c through our code, where m  = 75 and c = 36 and we can change 'x'"
   ]
  },
  {
   "cell_type": "markdown",
   "metadata": {},
   "source": [
    "Ideally, we would have taken 'x' as an object of 'Variable' class because obviously in normal mathematics also, we take 'x' as 'Variable' and 'm' and 'c' as constants which in our programming environments stand for 2 objects of 'Placeholder' class. \n",
    "\n",
    "But, we are going to do the role reversal. Why ???? Because if you guys remember during linear regression, we took 'm' as 'Theta1' and 'c' as 'Theta0'. Now, in TensorFlow, we take those components of operation as belonging to 'Variable' class which are continously changing. \n",
    "\n",
    "So, we can clearly see that in our neural network, Thetas are changing and Data which we are feeding is not changing. So, thats what we are going to do: Role Reversal. \n",
    "\n",
    "We are going to consider 'm' and 'c' as belonging to 'Variable' class and 'x' like a data which remains constant during backward and forward passes, belonging to 'Placeholder' class. "
   ]
  },
  {
   "cell_type": "code",
   "execution_count": null,
   "metadata": {
    "collapsed": true
   },
   "outputs": [],
   "source": []
  },
  {
   "cell_type": "code",
   "execution_count": null,
   "metadata": {
    "collapsed": true
   },
   "outputs": [],
   "source": []
  },
  {
   "cell_type": "code",
   "execution_count": null,
   "metadata": {
    "collapsed": true
   },
   "outputs": [],
   "source": []
  },
  {
   "cell_type": "markdown",
   "metadata": {},
   "source": [
    "Now lets first compute 'FirstOperation = 'm' (Which is a 'Variable' object) * (Which is Mul(Op) object) 'x' (Which is a 'Placeholder' object)\n",
    "\n",
    "Now what will happen once we execute this. Well, in this scenario, 'FirstOperation' is going to be an object of class 'Mul(Op)'. How ???? Lets leave it aside for sometime that how ?? We will come back later to this. \n",
    "\n",
    "So, in order to perform our first operation, we first need to create an object 'm' of class 'Variable' and object 'x' of class 'Placeholder' and then use both of them to create an object 'FirstOperation' of class 'Add(Op)' by calling the constructor '__init__(Firstoperand,SecondOperand)' of 'Add(Op)' class where 'FirstOperand' is going to be 'm' and 'SecondOperand' is going to be 'x'. "
   ]
  },
  {
   "cell_type": "code",
   "execution_count": 11,
   "metadata": {},
   "outputs": [],
   "source": [
    "g = Graph ()"
   ]
  },
  {
   "cell_type": "code",
   "execution_count": 12,
   "metadata": {},
   "outputs": [],
   "source": [
    "g.set_as_default()"
   ]
  },
  {
   "cell_type": "code",
   "execution_count": 13,
   "metadata": {},
   "outputs": [],
   "source": [
    "m = Variable(75)"
   ]
  },
  {
   "cell_type": "code",
   "execution_count": 14,
   "metadata": {},
   "outputs": [],
   "source": [
    "x = Placeholder()"
   ]
  },
  {
   "cell_type": "markdown",
   "metadata": {},
   "source": [
    "Why we haven't given any value to the placeholder ???? Because 'Placeholder'(s) are for feeding data. And in TensorFlow, data is always feeded at the end. In our current context, data will be only feeded or the value of 'x' will be only feeded once we have created our complete neural network whose output is '75x + 36' and then we feed the value of 'x'. "
   ]
  },
  {
   "cell_type": "code",
   "execution_count": 15,
   "metadata": {},
   "outputs": [],
   "source": [
    "FirstOperation  = Mul(m,x)"
   ]
  },
  {
   "cell_type": "code",
   "execution_count": 16,
   "metadata": {},
   "outputs": [],
   "source": [
    "c = Variable(36)"
   ]
  },
  {
   "cell_type": "code",
   "execution_count": 17,
   "metadata": {},
   "outputs": [],
   "source": [
    "SecondOperation = Add(FirstOperation,c)"
   ]
  },
  {
   "cell_type": "code",
   "execution_count": 18,
   "metadata": {},
   "outputs": [],
   "source": [
    "S = Session ()"
   ]
  },
  {
   "cell_type": "code",
   "execution_count": 19,
   "metadata": {},
   "outputs": [],
   "source": [
    "FinalResult = S.run(CurrentOp=SecondOperation,feed_dict={x:12})"
   ]
  },
  {
   "cell_type": "code",
   "execution_count": 20,
   "metadata": {},
   "outputs": [
    {
     "name": "stdout",
     "output_type": "stream",
     "text": [
      "936\n"
     ]
    }
   ],
   "source": [
    "print(FinalResult)"
   ]
  },
  {
   "cell_type": "code",
   "execution_count": null,
   "metadata": {
    "collapsed": true
   },
   "outputs": [],
   "source": []
  },
  {
   "cell_type": "code",
   "execution_count": null,
   "metadata": {
    "collapsed": true
   },
   "outputs": [],
   "source": []
  },
  {
   "cell_type": "code",
   "execution_count": null,
   "metadata": {
    "collapsed": true
   },
   "outputs": [],
   "source": []
  },
  {
   "cell_type": "code",
   "execution_count": null,
   "metadata": {
    "collapsed": true
   },
   "outputs": [],
   "source": []
  }
 ],
 "metadata": {
  "kernelspec": {
   "display_name": "Python 3",
   "language": "python",
   "name": "python3"
  },
  "language_info": {
   "codemirror_mode": {
    "name": "ipython",
    "version": 3
   },
   "file_extension": ".py",
   "mimetype": "text/x-python",
   "name": "python",
   "nbconvert_exporter": "python",
   "pygments_lexer": "ipython3",
   "version": "3.6.5"
  }
 },
 "nbformat": 4,
 "nbformat_minor": 2
}
