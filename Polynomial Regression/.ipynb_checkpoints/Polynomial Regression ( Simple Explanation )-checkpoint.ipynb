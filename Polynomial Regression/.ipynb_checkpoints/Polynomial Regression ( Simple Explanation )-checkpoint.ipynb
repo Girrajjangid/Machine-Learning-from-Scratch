{
 "cells": [
  {
   "cell_type": "markdown",
   "metadata": {},
   "source": [
    "# Polynomial Regression\n",
    "\n",
    "Polynomial regression is a form of regression analysis in which the relationship between the independent variable x and the dependent variable y is modelled as an nth degree polynomial in x.\n",
    "\n",
    "Polynomial regression fits a nonlinear relationship between the value of x and the corresponding conditional mean of y,\n",
    "\n",
    "Although polynomial regression fits a nonlinear model to the data, as a statistical estimation problem it is linear, in the sense that the regression function E(y | x) is linear in the unknown parameters that are estimated from the data. For this reason, polynomial regression is considered to be a **special case of multiple linear regression.**\n",
    "\n",
    "In general, we can model the expected value of y as an nth degree polynomial, yielding the general polynomial regression model\n",
    "\n",
    "$$\n",
    "y=\\beta_{0}+\\beta_{1} x+\\beta_{2} x^{2}+\\beta_{3} x^{3}+\\cdots+\\beta_{n} x^{n}+\\varepsilon\n",
    "$$\n",
    "\n",
    "Conveniently, these models are all linear from the point of view of estimation, since the regression function is linear in terms of the unknown parameters β0, β1, .... Therefore, for least squares analysis, the computational and inferential problems of polynomial regression can be completely addressed using the techniques of multiple regression. This is done by treating x, x2, ... as being distinct independent variables in a multiple regression mode\n",
    "\n",
    "# Matrix calculation\n",
    "\n",
    "The polynomial regression model\n",
    "\n",
    "$$\n",
    "y_{i}=\\beta_{0}+\\beta_{1} x_{i}+\\beta_{2} x_{i}^{2}+\\cdots+\\beta_{m} x_{i}^{m}+\\varepsilon_{i}(i=1,2, \\ldots, n)\n",
    "$$\n",
    "\n",
    "$$\n",
    "\\left[ \\begin{array}{c}{y_{1}} \\\\ {y_{2}} \\\\ {y_{3}} \\\\ {\\vdots} \\\\ {y_{n}}\\end{array}\\right]=\\left[ \\begin{array}{ccccc}{1} & {x_{1}} & {x_{1}^{2}} & {\\ldots} & {x_{1}^{m}} \\\\ {1} & {x_{2}} & {x_{2}^{2}} & {\\ldots} & {x_{2}^{m}} \\\\ {1} & {x_{3}} & {x_{3}^{2}} & {\\ldots} & {x_{3}^{m}} \\\\ {\\vdots} & {\\vdots} & {\\vdots} & {\\ddots} & {\\vdots} \\\\ {1} & {x_{n}} & {x_{n}^{2}} & {\\ldots} & {x_{n}^{m}}\\end{array}\\right] \\left[ \\begin{array}{c}{\\beta_{0}} \\\\ {\\beta_{1}} \\\\ {\\beta_{2}} \\\\ {\\vdots} \\\\ {\\beta_{m}}\\end{array}\\right]+\\left[ \\begin{array}{c}{\\varepsilon_{1}} \\\\ {\\varepsilon_{2}} \\\\ {\\varepsilon_{3}} \\\\ {\\vdots} \\\\ {\\varepsilon_{n}}\\end{array}\\right]\n",
    "$$\n",
    "\n",
    "which when using pure matrix notation is written as\n",
    "\n",
    "$$\n",
    "\\vec{y}=\\mathbf{X} \\vec{\\beta}+\\vec{\\varepsilon}\n",
    "$$\n",
    "\n",
    "The vector of estimated polynomial regression coefficients (using ordinary least squares estimation) is\n",
    "\n",
    "$$\n",
    "\\widehat{\\vec{\\beta}}=\\left(\\mathbf{X}^{\\top} \\mathbf{X}\\right)^{-1} \\mathbf{X}^{\\top} \\vec{y}\n",
    "$$\n",
    "\n",
    "assuming m < n which is required for the matrix to be invertible; then since {\\displaystyle \\mathbf {X} } \\mathbf {X}  is a Vandermonde matrix, the invertibility condition is guaranteed to hold if all the {\\displaystyle x_{i}} x_{i} values are distinct. This is the unique least-squares solution."
   ]
  },
  {
   "cell_type": "markdown",
   "metadata": {},
   "source": [
    "# The Bias vs Variance trade-off\n",
    "**Bias** refers to the error due to the model’s simplistic assumptions in fitting the data. A high bias means that the model is unable to capture the patterns in the data and this results in **under-fitting**.\n",
    "\n",
    "**Variance** refers to the error due to the complex model trying to fit the data. High variance means the model passes through most of the data points and it results in **over-fitting** the data."
   ]
  },
  {
   "cell_type": "markdown",
   "metadata": {},
   "source": [
    "<img src=\"img.png\">"
   ]
  },
  {
   "cell_type": "markdown",
   "metadata": {},
   "source": [
    "# Why polynomial regression ?\n",
    "To understand the need of polynomial regression let generate some random datasets"
   ]
  },
  {
   "cell_type": "code",
   "execution_count": 1,
   "metadata": {},
   "outputs": [],
   "source": [
    "import pandas as pd\n",
    "import numpy as np\n",
    "import matplotlib.pyplot as plt\n",
    "import seaborn as sns"
   ]
  },
  {
   "cell_type": "code",
   "execution_count": 2,
   "metadata": {},
   "outputs": [
    {
     "data": {
      "image/png": "[encoded data removed]",
      "text/plain": [
       "<Figure size 432x288 with 1 Axes>"
      ]
     },
     "metadata": {},
     "output_type": "display_data"
    }
   ],
   "source": [
    "np.random.seed(0)\n",
    "#x = 2-3*np.random.normal(0,1,20)  # 0 mean 1 standard deviation with 20 values\n",
    "#y = (x ** 3) + np.random.normal(5, 5, 20) # to create quadratic curve use x^3 function which does not plot a linear line\n",
    "x = 2 - 3 * np.random.normal(0, 1, 20)\n",
    "y = x - 2 * (x ** 2) + 0.5 * (x ** 3) + np.random.normal(-3, 3, 20)\n",
    "plt.scatter(x,y)\n",
    "plt.show()"
   ]
  },
  {
   "cell_type": "code",
   "execution_count": 3,
   "metadata": {},
   "outputs": [],
   "source": [
    "# Lets apply linear regression on this data\n",
    "from sklearn.linear_model import LinearRegression\n",
    "\n",
    "# 1. Create object of LinearRegression \n",
    "# 2. fit the training and testing data\n",
    "# 3. predict by putting testing data "
   ]
  },
  {
   "cell_type": "code",
   "execution_count": 4,
   "metadata": {},
   "outputs": [],
   "source": [
    "x.shape   # (20,)\n",
    "# transforming the data to include new axis\n",
    "x = x[:,np.newaxis]  # (20,1)\n",
    "y = y.reshape(len(y) , 1) # (20,1)"
   ]
  },
  {
   "cell_type": "code",
   "execution_count": 5,
   "metadata": {},
   "outputs": [
    {
     "data": {
      "image/png": "[encoded data removed]",
      "text/plain": [
       "<Figure size 432x288 with 1 Axes>"
      ]
     },
     "metadata": {},
     "output_type": "display_data"
    }
   ],
   "source": [
    "model = LinearRegression()\n",
    "model.fit(x,y)\n",
    "y_pred = model.predict(x)\n",
    "plt.scatter(x,y)\n",
    "plt.plot(x,y_pred,c = 'black')\n",
    "plt.show()"
   ]
  },
  {
   "cell_type": "code",
   "execution_count": 6,
   "metadata": {},
   "outputs": [],
   "source": [
    "# Checking the errors\n",
    "import sklearn.metrics as m"
   ]
  },
  {
   "cell_type": "code",
   "execution_count": 7,
   "metadata": {},
   "outputs": [
    {
     "name": "stdout",
     "output_type": "stream",
     "text": [
      "R square value is : 0.6386750054827146\n",
      "Root mean square value is : 15.908242501429998\n"
     ]
    }
   ],
   "source": [
    "r2 = m.r2_score(y,y_pred)\n",
    "rmse = m.mean_squared_error(y,y_pred)\n",
    "print('R square value is :',r2)  # it should be maximum as possible towards 1\n",
    "print('Root mean square value is :',np.sqrt(rmse))  # it should be minimum as possible towards 0\n"
   ]
  },
  {
   "cell_type": "markdown",
   "metadata": {},
   "source": [
    "## Now, We can see that the new fitting line is not passing through aleast 70% of data. This is the example of UnderFitting to overcome the underfitting we need to increase the complexity of the model\n",
    "\n",
    "To generate the high order equation we can add power of the original feature as a new feature\n",
    "\n",
    "$$\n",
    "Y=\\theta_{0}+\\theta_{1} x\n",
    "$$\n",
    "can be transformed to \n",
    "\n",
    "$$\n",
    "Y=\\theta_{0}+\\theta_{1} x+\\theta_{2} x^{2}\n",
    "$$\n",
    "\n",
    "This is still considered to be linear model as the coefficients associated with the features are still linear. x² is only a feature. However the curve that we are fitting is quadratic in nature."
   ]
  },
  {
   "cell_type": "code",
   "execution_count": 38,
   "metadata": {},
   "outputs": [
    {
     "name": "stdout",
     "output_type": "stream",
     "text": [
      "R square value is : 0.8537647164420812\n",
      "Root mean square value is : 10.120437473614711\n"
     ]
    },
    {
     "data": {
      "image/png": "[encoded data removed]",
      "text/plain": [
       "<Figure size 432x288 with 1 Axes>"
      ]
     },
     "metadata": {},
     "output_type": "display_data"
    }
   ],
   "source": [
    "def poly(deg):\n",
    "    global x,y\n",
    "    import operator\n",
    "    import pandas as pd\n",
    "    from sklearn.preprocessing import PolynomialFeatures\n",
    "\n",
    "    polynomial_feature = PolynomialFeatures(degree = deg)\n",
    "    x_poly = polynomial_feature.fit_transform(x)\n",
    "    #print(x_poly)  # 20,3\n",
    "\n",
    "    model = LinearRegression()\n",
    "    model.fit(x_poly , y)\n",
    "    y_poly_pred = model.predict(x_poly)\n",
    "\n",
    "    rmse_1 = np.sqrt(m.mean_squared_error(y,y_poly_pred))\n",
    "    r2_1 = m.r2_score(y,y_poly_pred)\n",
    "    print('R square value is :',r2_1)  # it should be maximum as possible towards 1\n",
    "    print('Root mean square value is :',(rmse_1))  # it should be minimum as possible towards 0\n",
    "\n",
    "    plt.scatter(x, y, s=10)\n",
    "    sort_axis = operator.itemgetter(0)\n",
    "    sorted_zip = sorted(zip(x,y_poly_pred), key=sort_axis)\n",
    "    x_, y_poly_pred = zip(*sorted_zip)\n",
    "    plt.plot(x_, y_poly_pred, color='m')\n",
    "    plt.show()\n",
    "    \n",
    "    \n",
    "poly(2)"
   ]
  },
  {
   "cell_type": "code",
   "execution_count": 39,
   "metadata": {},
   "outputs": [
    {
     "name": "stdout",
     "output_type": "stream",
     "text": [
      "R square value is : 0.9845143345421614\n",
      "Root mean square value is : 3.293351887947393\n"
     ]
    },
    {
     "data": {
      "image/png": "[encoded data removed]",
      "text/plain": [
       "<Figure size 432x288 with 1 Axes>"
      ]
     },
     "metadata": {},
     "output_type": "display_data"
    }
   ],
   "source": [
    "poly(5)\n",
    " # best fit"
   ]
  },
  {
   "cell_type": "code",
   "execution_count": 42,
   "metadata": {},
   "outputs": [
    {
     "name": "stdout",
     "output_type": "stream",
     "text": [
      "R square value is : 0.9982308265442509\n",
      "Root mean square value is : 1.1131620902350652\n"
     ]
    },
    {
     "data": {
      "image/png": "[encoded data removed]",
      "text/plain": [
       "<Figure size 432x288 with 1 Axes>"
      ]
     },
     "metadata": {},
     "output_type": "display_data"
    }
   ],
   "source": [
    "poly(20)"
   ]
  },
  {
   "cell_type": "markdown",
   "metadata": {},
   "source": [
    "### This model also captures the noise in the data. This is the case of overfitting. Even though it passing throught most of the data. It fails to generalize unseen data. In simple words this curve is only designed for this data. If we change the data it fails to predict"
   ]
  },
  {
   "cell_type": "code",
   "execution_count": null,
   "metadata": {},
   "outputs": [],
   "source": []
  }
 ],
 "metadata": {
  "kernelspec": {
   "display_name": "Python 3",
   "language": "python",
   "name": "python3"
  },
  "language_info": {
   "codemirror_mode": {
    "name": "ipython",
    "version": 3
   },
   "file_extension": ".py",
   "mimetype": "text/x-python",
   "name": "python",
   "nbconvert_exporter": "python",
   "pygments_lexer": "ipython3",
   "version": "3.6.5"
  }
 },
 "nbformat": 4,
 "nbformat_minor": 2
}
