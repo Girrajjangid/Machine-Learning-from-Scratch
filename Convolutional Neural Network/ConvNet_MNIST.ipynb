{
 "cells": [
  {
   "cell_type": "code",
   "execution_count": 2,
   "metadata": {},
   "outputs": [],
   "source": [
    "import tensorflow as tf\n",
    "import time\n",
    "import numpy as np\n",
    "from tensorflow.examples.tutorials.mnist import input_data\n",
    "import warnings\n",
    "warnings.filterwarnings(\"ignore\")"
   ]
  },
  {
   "cell_type": "code",
   "execution_count": 3,
   "metadata": {
    "collapsed": true
   },
   "outputs": [
    {
     "name": "stdout",
     "output_type": "stream",
     "text": [
      "WARNING:tensorflow:From <ipython-input-3-50abdbad8d3c>:1: read_data_sets (from tensorflow.contrib.learn.python.learn.datasets.mnist) is deprecated and will be removed in a future version.\n",
      "Instructions for updating:\n",
      "Please use alternatives such as official/mnist/dataset.py from tensorflow/models.\n",
      "WARNING:tensorflow:From C:\\Users\\GirrajJangid\\Anaconda3\\lib\\site-packages\\tensorflow\\contrib\\learn\\python\\learn\\datasets\\mnist.py:260: maybe_download (from tensorflow.contrib.learn.python.learn.datasets.base) is deprecated and will be removed in a future version.\n",
      "Instructions for updating:\n",
      "Please write your own downloading logic.\n",
      "WARNING:tensorflow:From C:\\Users\\GirrajJangid\\Anaconda3\\lib\\site-packages\\tensorflow\\contrib\\learn\\python\\learn\\datasets\\mnist.py:262: extract_images (from tensorflow.contrib.learn.python.learn.datasets.mnist) is deprecated and will be removed in a future version.\n",
      "Instructions for updating:\n",
      "Please use tf.data to implement this functionality.\n",
      "Extracting MNIST_data\\train-images-idx3-ubyte.gz\n",
      "WARNING:tensorflow:From C:\\Users\\GirrajJangid\\Anaconda3\\lib\\site-packages\\tensorflow\\contrib\\learn\\python\\learn\\datasets\\mnist.py:267: extract_labels (from tensorflow.contrib.learn.python.learn.datasets.mnist) is deprecated and will be removed in a future version.\n",
      "Instructions for updating:\n",
      "Please use tf.data to implement this functionality.\n",
      "Extracting MNIST_data\\train-labels-idx1-ubyte.gz\n",
      "WARNING:tensorflow:From C:\\Users\\GirrajJangid\\Anaconda3\\lib\\site-packages\\tensorflow\\contrib\\learn\\python\\learn\\datasets\\mnist.py:110: dense_to_one_hot (from tensorflow.contrib.learn.python.learn.datasets.mnist) is deprecated and will be removed in a future version.\n",
      "Instructions for updating:\n",
      "Please use tf.one_hot on tensors.\n",
      "Extracting MNIST_data\\t10k-images-idx3-ubyte.gz\n",
      "Extracting MNIST_data\\t10k-labels-idx1-ubyte.gz\n",
      "WARNING:tensorflow:From C:\\Users\\GirrajJangid\\Anaconda3\\lib\\site-packages\\tensorflow\\contrib\\learn\\python\\learn\\datasets\\mnist.py:290: DataSet.__init__ (from tensorflow.contrib.learn.python.learn.datasets.mnist) is deprecated and will be removed in a future version.\n",
      "Instructions for updating:\n",
      "Please use alternatives such as official/mnist/dataset.py from tensorflow/models.\n"
     ]
    }
   ],
   "source": [
    "mnist = input_data.read_data_sets(\"MNIST_data\",one_hot=True)\n",
    "X_train, X_test, y_train, y_test  = mnist.train.images , mnist.test.images, mnist.train.labels, mnist.test.labels"
   ]
  },
  {
   "cell_type": "code",
   "execution_count": 6,
   "metadata": {},
   "outputs": [
    {
     "data": {
      "text/plain": [
       "((55000, 28, 28, 1), (10000, 28, 28, 1), (55000, 10), (10000, 10))"
      ]
     },
     "execution_count": 6,
     "metadata": {},
     "output_type": "execute_result"
    }
   ],
   "source": [
    "X_train.shape, X_test.shape, y_train.shape, y_test.shape"
   ]
  },
  {
   "cell_type": "code",
   "execution_count": 5,
   "metadata": {},
   "outputs": [],
   "source": [
    "# tensorflow neural nets take input of image in (batch, width, height, channels)\n",
    "# Changing dimensions\n",
    "X_train = X_train.reshape(-1,28,28,1) # image,width,height,channel\n",
    "X_test  = X_test.reshape(-1,28,28,1)"
   ]
  },
  {
   "cell_type": "code",
   "execution_count": 12,
   "metadata": {},
   "outputs": [],
   "source": [
    "def model(X,w1,w2,w3,w4,w0,p_keep_conv,p_keep_hidden):\n",
    "    \n",
    "    l1_activation = tf.nn.relu(tf.nn.conv2d(X,w1,strides=[1,1,1,1], padding='SAME'))                   # (?,28,28,32)\n",
    "    l1_           = tf.nn.max_pool(l1_activation,ksize=[1,2,2,1], strides=[1,2,2,1], padding='SAME')  # (?,14,14,32)\n",
    "    l1_           = tf.nn.dropout(l1_, p_keep_conv) \n",
    "    \n",
    "    l2_activation = tf.nn.relu(tf.nn.conv2d(l1_,w2,strides=[1,1,1,1], padding='SAME'))                   # (?,14,14,64)\n",
    "    l2_           = tf.nn.max_pool(l2_activation ,ksize=[1,2,2,1], strides=[1,2,2,1], padding='SAME')    # (?,7,7,64)\n",
    "    l2_           = tf.nn.dropout(l2_, p_keep_conv) \n",
    "    \n",
    "    l3_activation = tf.nn.relu(tf.nn.conv2d(l2_,w3,strides=[1,1,1,1], padding='SAME'))                # (?,7,7,128)\n",
    "    l3_           = tf.nn.max_pool(l3_activation,ksize=[1,2,2,1], strides=[1,2,2,1], padding='SAME')  # (?,4,4,128)\n",
    "    l3_           = tf.reshape(l3_, [-1,w4.get_shape().as_list()[0]])                                 # (?, 2048)\n",
    "    l3_           = tf.nn.dropout(l3_, p_keep_conv) \n",
    "    \n",
    "    l4_ = tf.nn.relu(tf.matmul(l3_,w4))\n",
    "    l4_ = tf.nn.dropout(l4_, p_keep_hidden) \n",
    "    \n",
    "    px = tf.matmul(l4_, w0)\n",
    "    return px\n"
   ]
  },
  {
   "cell_type": "code",
   "execution_count": 13,
   "metadata": {},
   "outputs": [
    {
     "name": "stdout",
     "output_type": "stream",
     "text": [
      "WARNING:tensorflow:From C:\\Users\\GirrajJangid\\Anaconda3\\lib\\site-packages\\tensorflow\\python\\framework\\op_def_library.py:263: colocate_with (from tensorflow.python.framework.ops) is deprecated and will be removed in a future version.\n",
      "Instructions for updating:\n",
      "Colocations handled automatically by placer.\n",
      "WARNING:tensorflow:From <ipython-input-12-fd0b2bd8beb2>:5: calling dropout (from tensorflow.python.ops.nn_ops) with keep_prob is deprecated and will be removed in a future version.\n",
      "Instructions for updating:\n",
      "Please use `rate` instead of `keep_prob`. Rate should be set to `rate = 1 - keep_prob`.\n"
     ]
    }
   ],
   "source": [
    "tf.reset_default_graph()\n",
    "\n",
    "# inputs\n",
    "X = tf.placeholder(name='Images', dtype=tf.float32, shape=[None,28,28,1])\n",
    "y = tf.placeholder(name='y_true', dtype=tf.float32, shape=[None,10])\n",
    "\n",
    "# weights\n",
    "w1 = tf.get_variable(name='w_1',shape=[3,3, 1, 32],initializer=tf.random_normal_initializer())\n",
    "w2 = tf.get_variable(name='w_2',shape=[3,3,32, 64],initializer=tf.random_normal_initializer())\n",
    "w3 = tf.get_variable(name='w_3',shape=[3,3,64,128],initializer=tf.random_normal_initializer())\n",
    "w4 = tf.get_variable(name='w_4',shape=[128*4*4,625],initializer=tf.random_normal_initializer())\n",
    "w0 = tf.get_variable(name='w_0',shape=[625, 10],initializer=tf.random_normal_initializer())\n",
    "\n",
    "# probability for keep dropout\n",
    "p_keep_conv   = tf.placeholder(tf.float32)\n",
    "p_keep_hidden = tf.placeholder(tf.float32)\n",
    "\n",
    "# model structure\n",
    "mdl = model(X,w1,w2,w3,w4,w0,p_keep_conv,p_keep_hidden)\n",
    "\n",
    "# cost function evaluation\n",
    "cost = tf.reduce_mean(tf.nn.softmax_cross_entropy_with_logits_v2(logits=mdl,labels=y))\n",
    "\n",
    "# training operations\n",
    "train_op   = tf.train.RMSPropOptimizer(0.001).minimize(cost) # Back propagation\n",
    "predict_op = tf.argmax(mdl,1)                                # Forward propagation\n"
   ]
  },
  {
   "cell_type": "code",
   "execution_count": 14,
   "metadata": {},
   "outputs": [
    {
     "name": "stdout",
     "output_type": "stream",
     "text": [
      "epoch:0 cost: 9370.302734375 estimate_time: 0.8922717571258545\n",
      "epoch:1 cost: 1397.720947265625 estimate_time: 0.42505621910095215\n"
     ]
    }
   ],
   "source": [
    "epoch = 2\n",
    "batch_size = 128\n",
    "ss =  tf.Session() \n",
    "ss.run(tf.global_variables_initializer())\n",
    "for i in range(epoch): \n",
    "        for start, end in zip(range(0, len(X_train), batch_size), range(128, len(X_train)+1, batch_size)):\n",
    "        \n",
    "            ss.run(train_op, feed_dict={X: X_train[start:end], \n",
    "                                        y: y_train[start:end],\n",
    "                                        p_keep_conv:0.8,\n",
    "                                        p_keep_hidden:0.6\n",
    "                                       })\n",
    "        print('epoch:{} cost: {} estimate_time: {}'.format(i,ss.run(cost,feed_dict={X: X_train[start:end], \n",
    "                                                                  y: y_train[start:end],\n",
    "                                                                  p_keep_conv:0.8,\n",
    "                                                                  p_keep_hidden:0.6})\n",
    "                                                          ))\n",
    "y_pred = ss.run(predict_op,feed_dict={X:X_test,\n",
    "                                          p_keep_conv:1,\n",
    "                                          p_keep_hidden:1})"
   ]
  },
  {
   "cell_type": "code",
   "execution_count": 15,
   "metadata": {},
   "outputs": [
    {
     "name": "stdout",
     "output_type": "stream",
     "text": [
      "accuracy :  64.11\n"
     ]
    },
    {
     "data": {
      "text/plain": [
       "<tensorflow.python.summary.writer.writer.FileWriter at 0x2498e52d550>"
      ]
     },
     "execution_count": 15,
     "metadata": {},
     "output_type": "execute_result"
    }
   ],
   "source": [
    "c = 0\n",
    "for i,j in enumerate(y_pred):\n",
    "    if np.argmax(y_test,1)[i] == j:\n",
    "        c+=1\n",
    "print(\"accuracy : \",(c/len(y_pred))*100)\n",
    "\n",
    "# Saving for tensorboard\n",
    "tf.summary.FileWriter('./logs',ss.graph)"
   ]
  }
 ],
 "metadata": {
  "kernelspec": {
   "display_name": "Python 3",
   "language": "python",
   "name": "python3"
  },
  "language_info": {
   "codemirror_mode": {
    "name": "ipython",
    "version": 3
   },
   "file_extension": ".py",
   "mimetype": "text/x-python",
   "name": "python",
   "nbconvert_exporter": "python",
   "pygments_lexer": "ipython3",
   "version": "3.6.5"
  }
 },
 "nbformat": 4,
 "nbformat_minor": 2
}
