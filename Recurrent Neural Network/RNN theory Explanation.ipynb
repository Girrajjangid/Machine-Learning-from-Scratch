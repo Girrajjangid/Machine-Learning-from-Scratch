{
 "cells": [
  {
   "cell_type": "markdown",
   "metadata": {},
   "source": [
    "# Recurrent Neural Networks\n",
    "\n",
    "A neural network usually takes an independent variable X (or a set of independent variables ) and a dependent variable y then it learns the mapping between X and y (we call this Training), Once training is done , we give a new independent variable to predict the dependent variable.\n",
    "\n",
    "infact that’s all most of machine learning (supervised)\n",
    "\n",
    "but what if the order of data matters????? \n",
    "\n",
    "just imagine what if the order of all independent variables matter???\n",
    "\n",
    "\n",
    "So a normal neural network does not follow the order, so when we tackle the real world problems where the order matters , we need Recurrent neural networks. \n",
    "\n",
    "So which data where the order matter in our ML space ????\n",
    "\n",
    "1. Natural Language Data where the order of words matter\n",
    "2. Speech data\n",
    "3. Time series data\n",
    "4. Video/Music Sequences data\n",
    "5. Stock markets data\n",
    "\n",
    "\n",
    "Let’s say i am doing sentiment analysis on user reviews on a movie\n",
    "\n",
    "“This movie is good” → Positive “This movie is bad” → negative\n",
    "\n",
    "We can classify these by using simple model “Bag of words” and we can predict (Positive or Negative) but wait…\n",
    "\n",
    "what if the review is “This movie is not good”\n",
    "\n",
    "The BOW model may say it’s a positive sign but actually it’s not.\n",
    "\n",
    "The RNN understands it and predicts that it’s negative"
   ]
  },
  {
   "cell_type": "code",
   "execution_count": null,
   "metadata": {},
   "outputs": [],
   "source": [
    "\n"
   ]
  }
 ],
 "metadata": {
  "kernelspec": {
   "display_name": "Python 3",
   "language": "python",
   "name": "python3"
  },
  "language_info": {
   "codemirror_mode": {
    "name": "ipython",
    "version": 3
   },
   "file_extension": ".py",
   "mimetype": "text/x-python",
   "name": "python",
   "nbconvert_exporter": "python",
   "pygments_lexer": "ipython3",
   "version": "3.6.5"
  }
 },
 "nbformat": 4,
 "nbformat_minor": 2
}
