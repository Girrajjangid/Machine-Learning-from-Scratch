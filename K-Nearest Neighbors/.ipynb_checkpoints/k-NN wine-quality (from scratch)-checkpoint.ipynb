{
 "cells": [
  {
   "cell_type": "code",
   "execution_count": 1,
   "metadata": {},
   "outputs": [],
   "source": [
    "import numpy as np\n",
    "import pandas as pd\n",
    "import seaborn as sns\n",
    "import matplotlib.pyplot as plt\n",
    "\n",
    "from sklearn.model_selection import train_test_split\n",
    "from sklearn.preprocessing   import StandardScaler\n",
    "from collections             import Counter"
   ]
  },
  {
   "cell_type": "code",
   "execution_count": 2,
   "metadata": {},
   "outputs": [],
   "source": [
    "def outlierDetect(df,no_of_feature_contains = 3):\n",
    "    '''pass pandas\"s dataframe'''\n",
    "    outlier_indices = []\n",
    "    for col in df:\n",
    "        q1 = np.percentile(df[col],25)\n",
    "        q3 = np.percentile(df[col],75)\n",
    "        # IQR\n",
    "        iqr = q3 - q1\n",
    "        lower = q1 - 1.5 * iqr\n",
    "        upper = q3 + 1.5 * iqr\n",
    "        outlier_index = df[ (df[col] < lower) | (df[col] > upper)].index.tolist()\n",
    "        outlier_indices.extend(outlier_index)\n",
    "\n",
    "    counted_outliers = Counter(outlier_indices)    \n",
    "    indexs = [k for k,v in counted_outliers.items() if v > no_of_feature_contains] \n",
    "    return indexs"
   ]
  },
  {
   "cell_type": "code",
   "execution_count": 3,
   "metadata": {},
   "outputs": [],
   "source": [
    "def loaddata():\n",
    "    raw_data = pd.read_csv('../DataSets/glass.csv')\n",
    "    X = raw_data.iloc[:,:-1]\n",
    "    y = raw_data.iloc[:,-1]\n",
    "    X_train , X_test , y_train , y_test = train_test_split(X,y,\n",
    "                                                       test_size = 0.3, \n",
    "                                                       random_state=42,\n",
    "                                                       shuffle=True,\n",
    "                                                       stratify=y)\n",
    "    sc = StandardScaler()\n",
    "    X_train = sc.fit_transform(X_train)  \n",
    "    X_test  = sc.transform(X_test)\n",
    "    outlier_index = outlierDetect(pd.DataFrame(X_train))  \n",
    "    X_train = np.delete(X_train , outlier_index , axis=0)\n",
    "    y_train = np.array(y_train)\n",
    "    y_train = np.delete( y_train , outlier_index)\n",
    "    return np.array(X_train) , np.array(X_test) , np.array(y_train) , np.array(y_test)"
   ]
  },
  {
   "cell_type": "code",
   "execution_count": 4,
   "metadata": {},
   "outputs": [],
   "source": [
    "X_train , X_test , y_train , y_test = loaddata()"
   ]
  },
  {
   "cell_type": "code",
   "execution_count": 5,
   "metadata": {},
   "outputs": [
    {
     "name": "stdout",
     "output_type": "stream",
     "text": [
      "(140, 9)\n",
      "(65, 9)\n",
      "(140,)\n",
      "(65,)\n"
     ]
    }
   ],
   "source": [
    "print(X_train.shape)\n",
    "print(X_test.shape)\n",
    "print(y_train.shape)\n",
    "print(y_test.shape)"
   ]
  },
  {
   "cell_type": "code",
   "execution_count": 6,
   "metadata": {},
   "outputs": [
    {
     "data": {
      "text/plain": [
       "array([1, 2, 3, 5, 6, 7], dtype=int64)"
      ]
     },
     "execution_count": 6,
     "metadata": {},
     "output_type": "execute_result"
    }
   ],
   "source": [
    "np.unique(y_train)"
   ]
  },
  {
   "cell_type": "code",
   "execution_count": 7,
   "metadata": {},
   "outputs": [
    {
     "data": {
      "text/plain": [
       "<matplotlib.axes._subplots.AxesSubplot at 0x21c03d7d550>"
      ]
     },
     "execution_count": 7,
     "metadata": {},
     "output_type": "execute_result"
    },
    {
     "data": {
      "image/png": "[encoded data removed]",
      "text/plain": [
       "<Figure size 432x288 with 1 Axes>"
      ]
     },
     "metadata": {},
     "output_type": "display_data"
    }
   ],
   "source": [
    "sns.countplot(y_train)"
   ]
  },
  {
   "cell_type": "code",
   "execution_count": 8,
   "metadata": {},
   "outputs": [
    {
     "data": {
      "text/plain": [
       "<matplotlib.axes._subplots.AxesSubplot at 0x21c040aada0>"
      ]
     },
     "execution_count": 8,
     "metadata": {},
     "output_type": "execute_result"
    },
    {
     "data": {
      "image/png": "[encoded data removed]",
      "text/plain": [
       "<Figure size 432x288 with 1 Axes>"
      ]
     },
     "metadata": {},
     "output_type": "display_data"
    }
   ],
   "source": [
    "sns.countplot(y_test)"
   ]
  },
  {
   "cell_type": "code",
   "execution_count": 11,
   "metadata": {},
   "outputs": [
    {
     "name": "stdout",
     "output_type": "stream",
     "text": [
      "{2: 35.0, 1: 35.0, 7: 12.142857142857142, 3: 8.571428571428571, 5: 5.714285714285714, 6: 3.571428571428571}\n"
     ]
    }
   ],
   "source": [
    "x = dict((pd.value_counts(y_train)/pd.value_counts(y_train).sum())*100) # this used as weighted average \n",
    "# because we dont have same number of data for all classes\n",
    "print(x)"
   ]
  },
  {
   "cell_type": "code",
   "execution_count": 12,
   "metadata": {},
   "outputs": [
    {
     "data": {
      "image/png": "[encoded data removed]",
      "text/plain": [
       "<Figure size 504x504 with 1 Axes>"
      ]
     },
     "metadata": {},
     "output_type": "display_data"
    }
   ],
   "source": [
    "plt.figure(figsize=(7,7))\n",
    "plt.pie(x.values(),labels=[2,1,7,3,5,6])\n",
    "plt.show()"
   ]
  },
  {
   "cell_type": "markdown",
   "metadata": {},
   "source": [
    "# PseudoCode for kNN\n",
    "\n",
    "We can implement a KNN model by following the below steps:\n",
    "\n",
    "1. Load the data\n",
    "2. Initialise the value of k\n",
    "3. For getting the predicted class, iterate from 1 to total number of training data points\n",
    "    1. Calculate the distance between test data and each row of training data. Here we will use Euclidean distance as our distance metric since it’s the most popular method. The other metrics that can be used are Chebyshev, cosine, etc.\n",
    "    2. Sort the calculated distances in ascending order based on distance values\n",
    "    3. Get top k rows from the sorted array\n",
    "    4. Get the most frequent class of these rows\n",
    "    5. Return the predicted class"
   ]
  },
  {
   "cell_type": "code",
   "execution_count": 13,
   "metadata": {},
   "outputs": [],
   "source": [
    "class kNN():\n",
    "    \n",
    "    def __init__(self,n_neighbors):\n",
    "        self.n_neighbors = n_neighbors\n",
    "        self.distance = []\n",
    "        self.index    = []\n",
    " \n",
    "    def euclieanDist(self,train,test):\n",
    "        sort = []\n",
    "        for i in range(train.shape[0]):\n",
    "            sort.append(np.sqrt(np.sum(np.square(train[i]-test))))\n",
    "        return sort\n",
    "\n",
    "    def fit(self,train,test):\n",
    "        for x in range(test.shape[0]):\n",
    "            dist = self.euclieanDist(train, test[x]) # all distance from test data to all training data\n",
    "            idex = list(np.argsort(dist)[:self.n_neighbors]) # sortdata with argument and select top k points\n",
    "            self.index.append(idex) \n",
    "            temp = []\n",
    "            for j in idex:\n",
    "                temp.append(dist[j])\n",
    "            self.distance.append(temp)\n",
    "            \n",
    "    def predict(self,y_train):\n",
    "        y_cap = []\n",
    "        for i in self.index:\n",
    "            y_ = []\n",
    "            for j in i:\n",
    "                y_.append(y_train[j])\n",
    "            y_cap.append(max(y_))\n",
    "        return np.array(y_cap)\n",
    "    \n",
    "    def score(self,y_pred,y_actual):\n",
    "        c=0\n",
    "        for i in range(len(y_pred)):\n",
    "            if y_pred[i] == y_actual[i]:\n",
    "                c+=1\n",
    "        return c/len(y_pred)"
   ]
  },
  {
   "cell_type": "code",
   "execution_count": 14,
   "metadata": {},
   "outputs": [
    {
     "name": "stdout",
     "output_type": "stream",
     "text": [
      "[1 7 7 7 2 6 3 2 2 1 1 5 3 7 2 6 2 2 6 7 1 7 7 3 3 2 7 5 1 2 1 7 2 2 6 2 7\n",
      " 2 5 2 1 2 2 1 3 1 1 2 1 1 1 1 1 2 1 2 2 2 7 5 2 7 2 2 2]\n",
      "0.7076923076923077\n"
     ]
    }
   ],
   "source": [
    "knn = kNN(n_neighbors=2)\n",
    "knn.fit(X_train,X_test)\n",
    "predict = knn.predict(y_train)\n",
    "print(predict)\n",
    "score = knn.score(predict,y_test)\n",
    "print(score)"
   ]
  },
  {
   "cell_type": "code",
   "execution_count": 15,
   "metadata": {},
   "outputs": [
    {
     "name": "stdout",
     "output_type": "stream",
     "text": [
      "[1 2 7 7 1 2 3 1 2 1 1 2 1 7 2 2 1 2 6 7 1 7 7 2 1 1 7 2 1 2 1 7 2 1 6 2 7\n",
      " 2 2 1 1 2 1 1 2 1 1 2 1 1 1 1 1 2 1 1 2 1 7 2 2 2 1 2 2]\n",
      "0.7692307692307693\n"
     ]
    }
   ],
   "source": [
    "from sklearn.neighbors import KNeighborsClassifier\n",
    "knn = KNeighborsClassifier(n_neighbors=2)\n",
    "knn.fit(X_train , y_train)\n",
    "predict = knn.predict(X_test)\n",
    "print(predict)\n",
    "print(knn.score(X_test,y_test))"
   ]
  }
 ],
 "metadata": {
  "kernelspec": {
   "display_name": "Python 3",
   "language": "python",
   "name": "python3"
  },
  "language_info": {
   "codemirror_mode": {
    "name": "ipython",
    "version": 3
   },
   "file_extension": ".py",
   "mimetype": "text/x-python",
   "name": "python",
   "nbconvert_exporter": "python",
   "pygments_lexer": "ipython3",
   "version": "3.6.5"
  }
 },
 "nbformat": 4,
 "nbformat_minor": 2
}
