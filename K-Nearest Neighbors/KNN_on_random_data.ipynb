{
  "nbformat": 4,
  "nbformat_minor": 0,
  "metadata": {
    "colab": {
      "name": "KNN.ipynb",
      "provenance": [],
      "collapsed_sections": []
    },
    "kernelspec": {
      "name": "python3",
      "display_name": "Python 3"
    }
  },
  "cells": [
    {
      "cell_type": "code",
      "metadata": {
        "id": "kP3XNAqKw-e7",
        "colab_type": "code",
        "colab": {}
      },
      "source": [
        "#import required libraries\n",
        "\n",
        "from sklearn.datasets import make_blobs\n",
        "import matplotlib.pyplot as plt\n",
        "import numpy as np"
      ],
      "execution_count": 0,
      "outputs": []
    },
    {
      "cell_type": "code",
      "metadata": {
        "id": "fOx5_nFJxDuZ",
        "colab_type": "code",
        "colab": {}
      },
      "source": [
        "X,Y = make_blobs(centers=2,cluster_std = 1.0, center_box=(-10.0,10.0),random_state = 4)"
      ],
      "execution_count": 0,
      "outputs": []
    },
    {
      "cell_type": "code",
      "metadata": {
        "id": "Vh9y1A9KzLbt",
        "colab_type": "code",
        "outputId": "312ea98d-228a-482d-bf82-bf6c16774b6f",
        "colab": {
          "base_uri": "https://localhost:8080/",
          "height": 67
        }
      },
      "source": [
        "print(Y)"
      ],
      "execution_count": 0,
      "outputs": [
        {
          "output_type": "stream",
          "text": [
            "[0 1 1 1 0 0 0 0 0 1 0 1 0 0 1 0 0 1 1 0 0 0 0 0 0 1 1 0 0 0 1 1 1 0 0 1 0\n",
            " 1 1 0 1 0 1 0 1 0 0 0 1 1 1 0 1 0 0 1 1 1 0 0 1 1 1 1 1 1 1 0 0 0 1 1 1 0\n",
            " 0 0 0 0 1 1 1 1 1 0 0 0 1 0 1 1 1 1 1 0 1 0 0 1 1 0]\n"
          ],
          "name": "stdout"
        }
      ]
    },
    {
      "cell_type": "code",
      "metadata": {
        "id": "Xq1UOaAQxQ7e",
        "colab_type": "code",
        "outputId": "80fd28a6-fb00-440f-f86f-61a8325732bc",
        "colab": {
          "base_uri": "https://localhost:8080/",
          "height": 269
        }
      },
      "source": [
        "#take any arbitrary test point\n",
        "\n",
        "test_point = np.array([10,2])\n",
        "plt.scatter(test_point[0],test_point[1],color='red')\n",
        "plt.scatter(X[:,0],X[:,1],c=Y)\n",
        "plt.show()"
      ],
      "execution_count": 0,
      "outputs": [
        {
          "output_type": "display_data",
          "data": {
            "image/png": "[encoded data removed]",
            "text/plain": [
              "<Figure size 432x288 with 1 Axes>"
            ]
          },
          "metadata": {
            "tags": []
          }
        }
      ]
    },
    {
      "cell_type": "code",
      "metadata": {
        "id": "4ia6OjPmySij",
        "colab_type": "code",
        "colab": {}
      },
      "source": [
        "def dist(a1,a2):\n",
        "  return np.sum((a1-a2)**2)**.5\n",
        "\n",
        "def KNN(X,Y,test_point,k=5):\n",
        "  m = X.shape[0]\n",
        "  all_dist = []\n",
        "  for i in range(m):\n",
        "    d = dist(test_point,X[i])\n",
        "    all_dist.append((d,Y[i]))\n",
        "    \n",
        "  all_dist.sort()\n",
        "  a = np.array(all_dist[:k])[:,1]\n",
        "  labels,freq = np.unique(a,return_counts=True)\n",
        "  print(a)\n",
        "  idx = np.argmax(freq)\n",
        "  out = int(labels[idx])\n",
        "  return out"
      ],
      "execution_count": 0,
      "outputs": []
    },
    {
      "cell_type": "code",
      "metadata": {
        "id": "xGUPcp4t1X24",
        "colab_type": "code",
        "outputId": "d258ed51-7d6c-46c8-c374-f74a81f33907",
        "colab": {
          "base_uri": "https://localhost:8080/",
          "height": 50
        }
      },
      "source": [
        "#call KNN function here\n",
        "\n",
        "KNN(X,Y,test_point)"
      ],
      "execution_count": 0,
      "outputs": [
        {
          "output_type": "stream",
          "text": [
            "[0. 0. 0. 0. 1.]\n"
          ],
          "name": "stdout"
        },
        {
          "output_type": "execute_result",
          "data": {
            "text/plain": [
              "0"
            ]
          },
          "metadata": {
            "tags": []
          },
          "execution_count": 24
        }
      ]
    },
    {
      "cell_type": "code",
      "metadata": {
        "id": "bQubfows2z1Z",
        "colab_type": "code",
        "colab": {}
      },
      "source": [
        "#import MNIST dataset\n",
        "\n",
        "from keras.datasets import mnist"
      ],
      "execution_count": 0,
      "outputs": []
    },
    {
      "cell_type": "code",
      "metadata": {
        "id": "8xTjWJDh4i_b",
        "colab_type": "code",
        "outputId": "ed4dd5d4-a5f6-4fb4-f555-477129c8c71b",
        "colab": {
          "base_uri": "https://localhost:8080/",
          "height": 34
        }
      },
      "source": [
        "(X,Y),(Xt,Yt) = mnist.load_data()\n",
        "print(X.shape,Y.shape,Xt.shape,Yt.shape)"
      ],
      "execution_count": 0,
      "outputs": [
        {
          "output_type": "stream",
          "text": [
            "(60000, 28, 28) (60000,) (10000, 28, 28) (10000,)\n"
          ],
          "name": "stdout"
        }
      ]
    },
    {
      "cell_type": "code",
      "metadata": {
        "id": "x3_LIeEn46mp",
        "colab_type": "code",
        "outputId": "fd4c2561-5ba4-4bd9-eee9-962cd9e131ed",
        "colab": {
          "base_uri": "https://localhost:8080/",
          "height": 269
        }
      },
      "source": [
        "plt.imshow(X[0],cmap='gray')\n",
        "plt.show()"
      ],
      "execution_count": 0,
      "outputs": [
        {
          "output_type": "display_data",
          "data": {
            "image/png": "[encoded data removed]",
            "text/plain": [
              "<Figure size 432x288 with 1 Axes>"
            ]
          },
          "metadata": {
            "tags": []
          }
        }
      ]
    },
    {
      "cell_type": "code",
      "metadata": {
        "id": "rqBkWCHh5EMs",
        "colab_type": "code",
        "outputId": "22762a4c-dfcf-4ce7-fa65-c93f9009135f",
        "colab": {
          "base_uri": "https://localhost:8080/",
          "height": 286
        }
      },
      "source": [
        "test_point = Xt[0]\n",
        "plt.imshow(test_point,cmap='gray')"
      ],
      "execution_count": 0,
      "outputs": [
        {
          "output_type": "execute_result",
          "data": {
            "text/plain": [
              "<matplotlib.image.AxesImage at 0x7f58fdfb5668>"
            ]
          },
          "metadata": {
            "tags": []
          },
          "execution_count": 32
        },
        {
          "output_type": "display_data",
          "data": {
            "image/png": "[encoded data removed]",
            "text/plain": [
              "<Figure size 432x288 with 1 Axes>"
            ]
          },
          "metadata": {
            "tags": []
          }
        }
      ]
    },
    {
      "cell_type": "code",
      "metadata": {
        "id": "He6W9v0Q6_SR",
        "colab_type": "code",
        "outputId": "7f768f52-4f71-4a76-806c-9b19c449c9c4",
        "colab": {
          "base_uri": "https://localhost:8080/",
          "height": 50
        }
      },
      "source": [
        "KNN(X,Y,test_point)"
      ],
      "execution_count": 0,
      "outputs": [
        {
          "output_type": "stream",
          "text": [
            "[7. 7. 7. 1. 7.]\n"
          ],
          "name": "stdout"
        },
        {
          "output_type": "execute_result",
          "data": {
            "text/plain": [
              "7"
            ]
          },
          "metadata": {
            "tags": []
          },
          "execution_count": 33
        }
      ]
    },
    {
      "cell_type": "code",
      "metadata": {
        "id": "7Fcdaiwi7Qv2",
        "colab_type": "code",
        "colab": {}
      },
      "source": [
        ""
      ],
      "execution_count": 0,
      "outputs": []
    }
  ]
}