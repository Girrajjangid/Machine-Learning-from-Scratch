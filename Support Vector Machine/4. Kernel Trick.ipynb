{
 "cells": [
  {
   "cell_type": "markdown",
   "metadata": {},
   "source": [
    "$$\n",
    "\\phi\\left(x_{1}, x_{2}\\right)=\\left(x_{1}^{2}, \\sqrt{2} x_{1} x_{2}, x_{2}^{2}\\right)\n",
    "$$"
   ]
  },
  {
   "cell_type": "code",
   "execution_count": 3,
   "metadata": {},
   "outputs": [],
   "source": [
    "import numpy as np"
   ]
  },
  {
   "cell_type": "code",
   "execution_count": 1,
   "metadata": {},
   "outputs": [],
   "source": [
    "# Transform a two-dimensional vector x into a three-dimensional vector. \n",
    "def transform(x):\n",
    "    return [x[0]**2, np.sqrt(2)*x[0]*x[1], x[1]**2]"
   ]
  },
  {
   "cell_type": "code",
   "execution_count": 18,
   "metadata": {},
   "outputs": [
    {
     "name": "stdout",
     "output_type": "stream",
     "text": [
      "8100.0\n"
     ]
    }
   ],
   "source": [
    "x1 = [3,6]  # 1st row with 2 feature   it is just a point in 2-Dimention\n",
    "x2 = [10,10] # 2nd row with 2 feature \n",
    " \n",
    "x1_3d = transform(x1) \n",
    "x2_3d = transform(x2)\n",
    "\n",
    "print(np.dot(x1_3d,x2_3d))  # 8100  # this is w\n"
   ]
  },
  {
   "cell_type": "code",
   "execution_count": 19,
   "metadata": {},
   "outputs": [
    {
     "name": "stdout",
     "output_type": "stream",
     "text": [
      "8100\n"
     ]
    }
   ],
   "source": [
    "# without transforming we get \n",
    "def polynomial_kernel(a, b):\n",
    "    return a[0]**2 * b[0]**2 + 2*a[0]*b[0]*a[1]*b[1] + a[1]**2 * b[1]**2\n",
    "\n",
    "print(polynomial_kernel(x1, x2)) # 8100\n",
    "# we transform this vector into 3=Dimention without using a Dot product\n"
   ]
  },
  {
   "cell_type": "markdown",
   "metadata": {},
   "source": [
    "# Kernel:\n",
    "\n",
    "A kernel is a **function** that returns the result of a dot product performed in another space. \n",
    "More formally, we can write:\n",
    "\n",
    "# Kernel trick:\n",
    "\n",
    "\n",
    "Now that we know what a kernel is, we will see what the **kernel trick** is. \n",
    "If we define a kernel as: $K\\left(\\mathbf{x}_{i}, \\mathbf{x}_{j}\\right)=\\mathbf{x}_{i} \\cdot \\mathbf{x}_{j}$  , we can then rewrite the soft-margin dual problem\n",
    "\n",
    "$$\n",
    "\\begin{array}{cl}{\\underset{\\alpha}{\\operatorname{maximize}}} & {\\sum_{i=1}^{m} \\alpha_{i}-\\frac{1}{2} \\sum_{i=1}^{m} \\sum_{j=1}^{m} \\alpha_{i} \\alpha_{j} y_{i} y_{j} K\\left(\\mathbf{x}_{i}, \\mathbf{x}_{j}\\right)} \\\\ {\\text { subject to }} & {0 \\leq \\alpha_{i} \\leq C, \\text { for any } i=1, \\ldots, m} \\\\ {} & {\\sum_{i=1}^{m} \\alpha_{i} y_{i}=0}\\end{array}\n",
    "$$\n",
    "\n",
    "\n",
    "### Applying the kernel trick simply means replacing the dot product of two examples by a kernel function"
   ]
  },
  {
   "cell_type": "code",
   "execution_count": 20,
   "metadata": {},
   "outputs": [],
   "source": [
    "def polynomial_kernel(a, b, degree, constant=0):\n",
    "    result = sum([a[i] * b[i] for i in range(len(a))]) + constant\n",
    "    return pow(result, degree) "
   ]
  },
  {
   "cell_type": "code",
   "execution_count": 34,
   "metadata": {},
   "outputs": [
    {
     "name": "stdout",
     "output_type": "stream",
     "text": [
      "2656139888758747693387813220357796268292334526533944959745749617390924909013021829943846990440010000000000000000000000000000000000000000000000000000000000000000000000000000000000000000000000000000\n"
     ]
    }
   ],
   "source": [
    "x1 = [3,6] \n",
    "x2 = [10,10] # We do not transform the data. \n",
    " \n",
    "print(polynomial_kernel(x1, x2, degree=100)) "
   ]
  },
  {
   "cell_type": "code",
   "execution_count": null,
   "metadata": {},
   "outputs": [],
   "source": []
  }
 ],
 "metadata": {
  "kernelspec": {
   "display_name": "Python 3",
   "language": "python",
   "name": "python3"
  },
  "language_info": {
   "codemirror_mode": {
    "name": "ipython",
    "version": 3
   },
   "file_extension": ".py",
   "mimetype": "text/x-python",
   "name": "python",
   "nbconvert_exporter": "python",
   "pygments_lexer": "ipython3",
   "version": "3.6.5"
  }
 },
 "nbformat": 4,
 "nbformat_minor": 2
}
