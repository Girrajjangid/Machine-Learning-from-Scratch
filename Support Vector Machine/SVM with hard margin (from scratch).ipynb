{
 "cells": [
  {
   "cell_type": "markdown",
   "metadata": {},
   "source": [
    "# We have convex quadratic optimization problem \n",
    "\n",
    "$$\n",
    "\\begin{array}{ll}{\\underset{\\mathbf{w}, b}{\\operatorname{minimize}}} & {\\frac{1}{2}\\|\\mathbf{w}\\|^{2}} \\\\ {\\text { subject to }} & {y_{i}\\left(\\mathbf{w} \\cdot \\mathbf{x}_{i}+b\\right)-1 \\geq 0, i=1, \\ldots, m}\\end{array}\n",
    "$$\n",
    "\n",
    "### this problem can be solve by using Lagrange Multiplier\n",
    "\n",
    "# Lagrange multiplier\n",
    "\n",
    "The Italian-French mathematician Giuseppe Lodovico Lagrangia, also known as JosephLouis Lagrange, invented a strategy for finding the local maxima and minima of a function subject to equality constraint. It is called the method of Lagrange multipliers.\n",
    "\n",
    "let,\n",
    "$$\n",
    "\\begin{array}{c}{f(\\mathbf{w})=\\frac{1}{2}\\|\\mathbf{w}\\|^{2}} \\\\ {g_{i}(\\mathbf{w}, b)=y_{i}\\left(\\mathbf{w} \\cdot \\mathbf{x}_{i}+b\\right)-1, i=1, \\ldots, m}\\end{array}\n",
    "$$\n",
    "and 'm' constraint functions\n",
    "\n",
    "We introduce the Lagrangian function to this function:\n",
    "\n",
    "$$\n",
    "\\begin{array}{c}{\\mathcal{L}(\\mathbf{w}, b, \\alpha)=f(\\mathbf{w})-\\sum_{i=1}^{m} \\alpha_{i} g_{i}(\\mathbf{w}, b)} \\\\ {\\mathcal{L}(\\mathbf{w}, b, \\alpha)=\\frac{1}{2}\\|\\mathbf{w}\\|^{2}-\\sum_{i=1}^{m} \\alpha_{i}\\left[y_{i}\\left(\\mathbf{w} \\cdot \\mathbf{x}_{i}+b\\right)-1\\right]}\\end{array}\n",
    "$$\n",
    "\n",
    "You may have noticed that the method of Lagrange multipliers is used for solving problems with equality constraints, and here we are using them with inequality constraints. This is because the method still works for inequality constraints, provided some additional conditions (the KKT conditions) are met\n"
   ]
  },
  {
   "cell_type": "markdown",
   "metadata": {},
   "source": [
    "# The Wolfe dual problem \n",
    "\n",
    "The Lagrangian problem has 'm' inequality constraints (where 'm' is the number of training examples) and is typically solved using its dual form. The duality principle tells us that an optimization problem can be viewed from two perspectives. The first one is the primal problem, a minimization problem in our case, and the other one is the dual problem, which will be a maximization problem. What is interesting is that the maximum of the dual problem will always be less than or equal to the minimum of the primal problem (we say it provides a lower bound to the solution of the primal problem). \n",
    "\n",
    "The Lagrangian primal problem is:\n",
    "$$\n",
    "\\begin{array}{ll}{\\min _{\\mathbf{w}, b}} & {\\max _{\\alpha} \\quad \\mathcal{L}(\\mathbf{w}, b, \\alpha)} \\\\ {\\text { subject to }} & {\\alpha_{i} \\geq 0, \\quad i=1, \\ldots, m}\\end{array}\n",
    "$$\n",
    "\n",
    "Solving the minimization problem involves taking the partial derivatives of 'L' with respect to 'w' and 'b'.\n",
    "\n",
    "$$\n",
    "\\begin{array}{c}{\\nabla_{\\mathbf{w}} \\mathcal{L}=\\mathbf{w}-\\sum_{i=1}^{m} \\alpha_{i} y_{i} \\mathbf{x}_{i}=\\mathbf{0}} \\\\ {\\frac{\\partial \\mathcal{L}}{\\partial b}=-\\sum_{i=1}^{m} \\alpha_{i} y_{i}=0}\\end{array}\n",
    "$$\n",
    "\n",
    "From the first equation, we find that:\n",
    " \n",
    "$$\n",
    "\\mathbf{w}=\\sum_{i=1}^{m} \\alpha_{i} y_{i} \\mathbf{x}_{i}\n",
    "$$\n",
    "\n",
    "Let us substitute :\n",
    "\n",
    "\n",
    "$$\n",
    "\\begin{aligned} W(\\alpha, b) &=\\frac{1}{2}\\left(\\sum_{i=1}^{m} \\alpha_{i} y_{i} \\mathbf{x}_{i}\\right) \\cdot\\left(\\sum_{j=1}^{m} \\alpha_{j} y_{j} \\mathbf{x}_{j}\\right)-\\sum_{i=1}^{m} \\alpha_{i}\\left[y_{i}\\left(\\left(\\sum_{j=1}^{m} \\alpha_{j} y_{j} \\mathbf{x}_{j}\\right) \\cdot \\mathbf{x}_{i}+b\\right)-1\\right] \\\\ &=\\frac{1}{2} \\sum_{i=1}^{m} \\sum_{j=1}^{m} \\alpha_{i} \\alpha_{j} y_{i} y_{i} \\mathbf{x}_{i} \\cdot \\mathbf{x}_{j}-\\sum_{i=1}^{m} \\sum_{j=1}^{m} \\alpha_{i} \\alpha_{j} y_{i} y_{i} \\mathbf{x}_{i} \\cdot \\mathbf{x}_{j}-b \\sum_{i=1}^{m} \\alpha_{i} y_{i}+\\sum_{i=1}^{m} \\alpha_{i} \\\\ &=\\sum_{i=1}^{m} \\alpha_{i}-\\frac{1}{2} \\sum_{i=1}^{m} \\sum_{j=1}^{m} \\alpha_{i} \\alpha_{j} y_{i} y_{j} \\mathbf{x}_{i} \\cdot \\mathbf{x}_{j}-b \\sum_{i=1}^{m} \\alpha_{i} y_{i} \\end{aligned}\n",
    "$$\n",
    " \n",
    "The optimization problem is now called the **Wolfe dual problem**\n",
    "\n",
    "\n",
    "$$\n",
    "\\begin{array}{cl}{\\underset{\\alpha}{\\operatorname{maximize}}} & {\\sum_{i=1}^{m} \\alpha_{i}-\\frac{1}{2} \\sum_{i=1}^{m} \\sum_{j=1}^{m} \\alpha_{i} \\alpha_{j} y_{i} y_{j} \\mathbf{x}_{i} \\cdot \\mathbf{x}_{j}} \\\\ {\\text { subject to }} & {\\alpha_{i} \\geq 0, \\text { for any } i=1, \\ldots, m} \\\\ {} & {\\sum_{i=1}^{m} \\alpha_{i} y_{i}=0}\\end{array}\n",
    "$$\n",
    "\n",
    "\n",
    "# Karush-Kuhn-Tucker conditions\n",
    "\n",
    "Because we are dealing with inequality constraints, there is an additional requirement: the solution must also satisfy the Karush-Kuhn-Tucker (KKT) conditions. \n",
    " \n",
    "The KKT conditions are first-order necessary conditions for a solution of an optimization problem to be optimal. Moreover, the problem should satisfy some regularity conditions. Luckily for us, one of the regularity conditions is Slater’s condition, and we just saw that it holds for SVMs. Because the primal problem we are trying to solve is a convex problem, the KKT conditions are also sufficient for the point to be primal and dual optimal, and there is zero duality gap. \n",
    "\n",
    "1. Stationarity Condition:\n",
    "$$\n",
    "\\begin{array}{c}{\\nabla_{\\mathrm{w}} \\mathcal{L}=\\mathbf{w}-\\sum_{i=1}^{m} \\alpha_{i} y_{i} \\mathbf{x}_{i}=\\mathbf{0}} \\\\ {\\frac{\\partial \\mathcal{L}}{\\partial b}=-\\sum_{i=1}^{m} \\alpha_{i} y_{i}=0}\\end{array}\n",
    "$$\n",
    "2. Primal feasibility condition:\n",
    "$$\n",
    "y_{i}\\left(\\mathbf{w} \\cdot \\mathbf{x}_{i}+b\\right)-1 \\geq 0 \\quad \\text { for all } i=1, \\ldots, m\n",
    "$$\n",
    "\n",
    "3. Dual feasibility condition:\n",
    "\n",
    "$$\n",
    "\\alpha_{i} \\geq 0 \\quad \\text { for all } i=1, \\ldots, m\n",
    "$$\n",
    "\n",
    "4. Complementarity slackness condition: \n",
    "$$\n",
    "\\alpha_{i}\\left[y_{i}\\left(\\mathbf{w} \\cdot \\mathbf{x}_{i}+b\\right)-1\\right]=0 \\quad \\text { for all } i=1, \\ldots, m\n",
    "$$\n",
    "\n",
    "\n",
    "# Hypothesis function \n",
    "The SVMs use the same hypothesis function as the Perceptron. The class of an example 'x' is given by: \n",
    "$$\n",
    "h\\left(\\mathbf{x}_{i}\\right)=\\operatorname{sign}\\left(\\mathbf{w} \\cdot \\mathbf{x}_{i}+b\\right)\n",
    "$$\n",
    "\n",
    "When using the dual formulation, it is computed using only the support vectors: \n",
    "\n",
    "$$\n",
    "h\\left(\\mathbf{x}_{i}\\right)=\\operatorname{sign}\\left(\\sum_{j=1}^{S} \\alpha_{j} y_{j}\\left(\\mathbf{x}_{j} \\cdot \\mathbf{x}_{i}\\right)+b\\right)\n",
    "$$\n",
    "\n",
    "# Solving SVMs with a QP solver \n",
    "\n",
    "A QP solver is a program used to solve quadratic programming problems. In the following example, we will use the Python package called CVXOPT\n",
    "\n",
    "This package provides a method that is able to solve quadratic problems of the form\n",
    "\n",
    "$$\n",
    "\\begin{array}{cl}{\\underset{x}{\\operatorname{minimize}}} & {\\frac{1}{2} x^{T} P x+q^{T} x} \\\\ {\\text { subject to }} & {G x \\leq h} \\\\ {} & {A x=b}\\end{array}\n",
    "$$\n",
    "\n",
    "It does not look like our optimization problem, so we will need to rewrite it so that we can solve it with this package.  \n",
    "First, we note that in the case of the Wolfe dual optimization problem, what we are trying to minimize is , so we can rewrite the quadratic problem with  instead of  to better see how the two problems relate\n",
    "\n",
    "$$\n",
    "\\begin{array}{cl}{\\underset{x}{\\operatorname{minimize}}} & {\\frac{1}{2} \\alpha^{T} P \\alpha+q^{T} \\alpha} \\\\ {\\text { subject to }} & {G \\alpha \\leq h} \\\\ {} & {A \\alpha=b}\\end{array}\n",
    "$$\n",
    "\n",
    "We will change the Wolfe dual problem. First, we transform the maximization problem\n",
    "\n",
    "$$\n",
    "\\begin{array}{cl}{\\underset{\\alpha}{\\operatorname{maximize}}} & {-\\frac{1}{2} \\sum_{i=1}^{m} \\sum_{j=1}^{m} \\alpha_{i} \\alpha_{j} y_{i} y_{j} \\mathbf{x}_{i} \\cdot \\mathbf{x}_{j}+\\sum_{i=1}^{m} \\alpha_{i}} \\\\ {\\text { subject to }} & {\\alpha_{i} \\geq 0, \\text { for any } i=1, \\ldots, m} \\\\ {} & {\\sum_{i=1}^{m} \\alpha_{i} y_{i}=0}\\end{array}\n",
    "$$\n",
    "\n",
    "into a minimization problem by multiplying by -1. \n",
    "\n",
    "$$\n",
    "\\begin{array}{cl}{\\underset{\\alpha}{\\operatorname{minimize}}} & {\\frac{1}{2} \\sum_{i=1}^{m} \\sum_{j=1}^{m} \\alpha_{i} \\alpha_{j} y_{i} y_{j} \\mathbf{x}_{i} \\cdot \\mathbf{x}_{j}-\\sum_{i=1}^{m} \\alpha_{i}} \\\\ {\\text { subject to }} & {-\\alpha_{i} \\leq 0, \\text { for any } i=1, \\ldots, m} \\\\ {} & {\\sum_{i=1}^{m} \\alpha_{i} y_{i}=0}\\end{array}\n",
    "$$\n",
    "\n",
    "\n",
    "$$\n",
    "K\\left(\\mathbf{x}_{1}, \\ldots, \\mathbf{x}_{m}\\right)=\\left(\\begin{array}{cccc}{\\mathbf{x}_{1} \\cdot \\mathbf{x}_{1}} & {\\mathbf{x}_{1} \\cdot \\mathbf{x}_{2}} & {\\dots} & {\\mathbf{x}_{1} \\cdot \\mathbf{x}_{m}} \\\\ {\\mathbf{x}_{2} \\cdot \\mathbf{x}_{1}} & {\\mathbf{x}_{2} \\cdot \\mathbf{x}_{2}} & {\\ldots} & {\\mathbf{x}_{2} \\cdot \\mathbf{x}_{m}} \\\\ {\\vdots} & {\\vdots} & {\\ddots} & {\\vdots} \\\\ {\\mathbf{x}_{m} \\cdot \\mathbf{x}_{1}} & {\\mathbf{x}_{m} \\cdot \\mathbf{x}_{2}} & {\\dots} & {\\mathbf{x}_{m} \\cdot \\mathbf{x}_{m}}\\end{array}\\right)\n",
    "$$\n",
    "\n",
    "$$\n",
    "\\alpha=\\left(\\alpha_{1}, \\ldots, \\alpha_{m}\\right)^{T} \\text { and } \\mathbf{y}=\\left(y_{1}, \\cdots, y_{m}\\right)^{T}\n",
    "$$\n",
    "\n",
    "\n",
    "We use them to construct a vectorized version of the Wolfe dual problem where 'yyT' denotes the outer product of 'y' \n",
    "\n",
    "$$\n",
    "\\begin{array}{cl}{\\underset{\\alpha}{\\operatorname{minimize}}} & {\\frac{1}{2} \\alpha^{T}\\left(\\mathbf{y y}^{T} K\\right) \\alpha-\\alpha} \\\\ {\\text { subject to }} & {-\\alpha \\leq 0} \\\\ {} & {\\mathbf{y} \\cdot \\alpha=0}\\end{array}\n",
    "$$\n",
    "\n",
    "We are now able to find out the value for each of the parameters $P, q, G, h, A, \\text { and } b$  required by the CVXOPT qp function. "
   ]
  },
  {
   "cell_type": "code",
   "execution_count": 1,
   "metadata": {},
   "outputs": [],
   "source": [
    "import pandas as pd\n",
    "import matplotlib.pyplot as plt\n",
    "import numpy as np\n",
    "import cvxopt.solvers"
   ]
  },
  {
   "cell_type": "code",
   "execution_count": 20,
   "metadata": {},
   "outputs": [],
   "source": [
    "np.random.seed(10)\n",
    "X_train = np.random.randint(10,50,[15,2]) # data with two features\n",
    "y_train = np.append(np.ones(15),np.ones(15)*-1)\n",
    "np.random.shuffle(y_train)\n",
    "\n",
    "X_test = np.random.randint(100,500,[20,2]) # data with two features\n",
    "y_test = np.append(np.ones(10),np.ones(10)*-1)\n",
    "np.random.shuffle(y_test)\n"
   ]
  },
  {
   "cell_type": "code",
   "execution_count": 188,
   "metadata": {},
   "outputs": [],
   "source": [
    "def get_training_examples():\n",
    "    X1 = np.array([[8, 7], [4, 10], [9, 7], [7, 10],\n",
    "                   [9, 6], [4, 8], [10, 10]])\n",
    "    y1 = np.ones(len(X1))\n",
    "    X2 = np.array([[2, 7], [8, 3], [7, 5], [4, 4],\n",
    "                   [4, 6], [1, 3], [2, 5]])\n",
    "    y2 = np.ones(len(X2)) * -1\n",
    "    return X1, y1, X2, y2\n",
    "\n",
    "def get_dataset(get_examples):\n",
    "    X1, y1, X2, y2 = get_examples()\n",
    "    X, y = get_dataset_for(X1, y1, X2, y2)\n",
    "    return X, y\n",
    "\n",
    "def get_dataset_for(X1, y1, X2, y2):\n",
    "    X = np.vstack((X1, X2))\n",
    "    y = np.hstack((y1, y2))\n",
    "    return X, y"
   ]
  },
  {
   "cell_type": "code",
   "execution_count": 66,
   "metadata": {},
   "outputs": [],
   "source": [
    "X, y = get_dataset(get_training_examples) \n",
    "m = X.shape[0] \n",
    "\n",
    "# Gram matrix - The matrix of all possible inner products of X. \n",
    "K = np.array([np.dot(X[i], X[j])\n",
    "              for i in range(m)\n",
    "              for j in range(m)]).reshape((m, m)) \n",
    "P = cvxopt.matrix(np.outer(y, y) * K) \n",
    "q = cvxopt.matrix(-1 * np.ones(m)) "
   ]
  },
  {
   "cell_type": "code",
   "execution_count": 89,
   "metadata": {},
   "outputs": [],
   "source": [
    "# Equality constraints \n",
    "A = cvxopt.matrix(y, (1, m)) # create 1*m matrix of y \n",
    "b = cvxopt.matrix(0.0) "
   ]
  },
  {
   "cell_type": "code",
   "execution_count": 92,
   "metadata": {},
   "outputs": [],
   "source": [
    "# Inequality constraints \n",
    "G = cvxopt.matrix(np.diag(-1 * np.ones(m))) \n",
    "h = cvxopt.matrix(np.zeros(m)) "
   ]
  },
  {
   "cell_type": "code",
   "execution_count": 114,
   "metadata": {},
   "outputs": [
    {
     "name": "stdout",
     "output_type": "stream",
     "text": [
      "     pcost       dcost       gap    pres   dres\n",
      " 0: -3.9356e+00 -7.2072e+00  4e+01  6e+00  2e+00\n",
      " 1: -5.9831e+00 -4.3032e+00  1e+01  2e+00  6e-01\n",
      " 2: -5.6350e-01 -1.1535e+00  2e+00  1e-01  4e-02\n",
      " 3: -6.2758e-01 -7.4538e-01  1e-01  2e-16  8e-15\n",
      " 4: -7.1507e-01 -7.1641e-01  1e-03  1e-16  7e-15\n",
      " 5: -7.1604e-01 -7.1605e-01  1e-05  2e-16  6e-15\n",
      " 6: -7.1605e-01 -7.1605e-01  1e-07  1e-16  4e-15\n",
      "Optimal solution found.\n"
     ]
    },
    {
     "data": {
      "text/plain": [
       "{'x': <14x1 matrix, tc='d'>,\n",
       " 'y': <1x1 matrix, tc='d'>,\n",
       " 's': <14x1 matrix, tc='d'>,\n",
       " 'z': <14x1 matrix, tc='d'>,\n",
       " 'status': 'optimal',\n",
       " 'gap': 1.3419469236840556e-07,\n",
       " 'relative gap': 1.874098546047417e-07,\n",
       " 'primal objective': -0.716049284875814,\n",
       " 'dual objective': -0.7160494190705058,\n",
       " 'primal infeasibility': 1.110223024627425e-16,\n",
       " 'dual infeasibility': 3.964544722955217e-15,\n",
       " 'primal slack': 1.1266506979823477e-09,\n",
       " 'dual slack': 1.487034108307884e-08,\n",
       " 'iterations': 6}"
      ]
     },
     "execution_count": 114,
     "metadata": {},
     "output_type": "execute_result"
    }
   ],
   "source": [
    "# Solve the problem \n",
    "solution = cvxopt.solvers.qp(P, q, G, h, A, b) # return # dictionary which contains iterators\n",
    "solution  "
   ]
  },
  {
   "cell_type": "code",
   "execution_count": 131,
   "metadata": {},
   "outputs": [
    {
     "data": {
      "text/plain": [
       "[1.1266506979823502e-09,\n",
       " 2.0459666064668313e-09,\n",
       " 2.2070588989814694e-09,\n",
       " 2.6220191259876066e-09,\n",
       " 3.0034651454022074e-09,\n",
       " 3.145946131950106e-09,\n",
       " 3.222391455730383e-09,\n",
       " 5.628814152545174e-09,\n",
       " 5.671715746141487e-09,\n",
       " 3.982638202441447e-08,\n",
       " 0.2540133015844077,\n",
       " 0.26450515438400674,\n",
       " 0.4515441819858147,\n",
       " 0.46203599749168495]"
      ]
     },
     "execution_count": 131,
     "metadata": {},
     "output_type": "execute_result"
    }
   ],
   "source": [
    "# Lagrange multipliers \n",
    "multipliers = np.ravel(solution['x']) \n",
    "multipliers\n",
    "sorted(multipliers)"
   ]
  },
  {
   "cell_type": "code",
   "execution_count": 151,
   "metadata": {},
   "outputs": [],
   "source": [
    "# Support vectors have positive multipliers. \n",
    "has_positive_multiplier = multipliers > 1e-07 \n",
    "sv_multipliers = multipliers[has_positive_multiplier] \n",
    " \n",
    "support_vectors = X[has_positive_multiplier] \n",
    "support_vectors_y = y[has_positive_multiplier] "
   ]
  },
  {
   "cell_type": "code",
   "execution_count": 152,
   "metadata": {},
   "outputs": [
    {
     "data": {
      "text/plain": [
       "array([[9, 6],\n",
       "       [4, 8],\n",
       "       [2, 7],\n",
       "       [7, 5]])"
      ]
     },
     "execution_count": 152,
     "metadata": {},
     "output_type": "execute_result"
    }
   ],
   "source": [
    "support_vectors"
   ]
  },
  {
   "cell_type": "code",
   "execution_count": 167,
   "metadata": {},
   "outputs": [],
   "source": [
    "# computing 'w'\n",
    "def compute_w(multipliers, X, y):\n",
    "    return np.sum(multipliers[i] * y[i] * X[i] for i in range(len(y))) "
   ]
  },
  {
   "cell_type": "code",
   "execution_count": 169,
   "metadata": {},
   "outputs": [
    {
     "name": "stdout",
     "output_type": "stream",
     "text": [
      "[0.44444446 1.11111114]\n",
      "[0.44444453 1.11111128]\n"
     ]
    },
    {
     "name": "stderr",
     "output_type": "stream",
     "text": [
      "C:\\Users\\GirrajJangid\\Anaconda3\\lib\\site-packages\\ipykernel_launcher.py:3: DeprecationWarning: Calling np.sum(generator) is deprecated, and in the future will give a different result. Use np.sum(np.fromiter(generator)) or the python sum builtin instead.\n",
      "  This is separate from the ipykernel package so we can avoid doing imports until\n"
     ]
    }
   ],
   "source": [
    "w = compute_w(multipliers, X, y) \n",
    "w_from_sv = compute_w(sv_multipliers, support_vectors, support_vectors_y)\n",
    " \n",
    "print(w)          # [0.44444446 1.11111114] \n",
    "print(w_from_sv)  # [0.44444446 1.11111114]"
   ]
  },
  {
   "cell_type": "code",
   "execution_count": 170,
   "metadata": {},
   "outputs": [],
   "source": [
    "# compute 'b'\n",
    "def compute_b(w, X, y):\n",
    "    return np.sum([y[i] - np.dot(w, X[i]) for i in range(len(X))])/len(X)\n"
   ]
  },
  {
   "cell_type": "code",
   "execution_count": 174,
   "metadata": {},
   "outputs": [
    {
     "data": {
      "text/plain": [
       "-9.666666925153786"
      ]
     },
     "execution_count": 174,
     "metadata": {},
     "output_type": "execute_result"
    }
   ],
   "source": [
    "b = compute_b(w, support_vectors, support_vectors_y) # -9.666668268506335 \n",
    "b"
   ]
  },
  {
   "cell_type": "code",
   "execution_count": 246,
   "metadata": {},
   "outputs": [
    {
     "data": {
      "image/png": "[encoded data removed]",
      "text/plain": [
       "<Figure size 432x288 with 1 Axes>"
      ]
     },
     "metadata": {},
     "output_type": "display_data"
    }
   ],
   "source": [
    "qqq = pd.DataFrame(X)\n",
    "qqq['y']=y\n",
    "qqq[qqq['y']==-1][0]\n",
    "qqq[qqq['y']==-1][1]\n",
    "\n",
    "plt.scatter(qqq[qqq['y']==1][0],qqq[qqq['y']==1][1])\n",
    "plt.scatter(qqq[qqq['y']==-1][0],qqq[qqq['y']==-1][1])\n",
    "plt.show()"
   ]
  },
  {
   "cell_type": "markdown",
   "metadata": {},
   "source": [
    "This formulation of the SVM is called the **hard margin SVM.** It cannot work when the data is not linearly separable. There are several Support Vector Machines formulations"
   ]
  },
  {
   "cell_type": "markdown",
   "metadata": {},
   "source": [
    "**soft margin SVM** which will be able to work when data is non-linearly separable because of outliers. \n"
   ]
  },
  {
   "cell_type": "code",
   "execution_count": null,
   "metadata": {},
   "outputs": [],
   "source": []
  }
 ],
 "metadata": {
  "kernelspec": {
   "display_name": "Python 3",
   "language": "python",
   "name": "python3"
  },
  "language_info": {
   "codemirror_mode": {
    "name": "ipython",
    "version": 3
   },
   "file_extension": ".py",
   "mimetype": "text/x-python",
   "name": "python",
   "nbconvert_exporter": "python",
   "pygments_lexer": "ipython3",
   "version": "3.6.5"
  }
 },
 "nbformat": 4,
 "nbformat_minor": 2
}
