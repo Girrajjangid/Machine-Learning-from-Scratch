{
 "cells": [
  {
   "cell_type": "markdown",
   "metadata": {},
   "source": [
    "# calculate norm/unit vector "
   ]
  },
  {
   "cell_type": "code",
   "execution_count": 52,
   "metadata": {},
   "outputs": [],
   "source": [
    "import numpy as np\n",
    "import matplotlib.pyplot as plt"
   ]
  },
  {
   "cell_type": "code",
   "execution_count": 14,
   "metadata": {},
   "outputs": [
    {
     "name": "stdout",
     "output_type": "stream",
     "text": [
      "6.4031242374328485\n",
      "6.4031242374328485\n"
     ]
    }
   ],
   "source": [
    "print(np.linalg.norm((4,5)))  # sqrt(4**2 + 5**2)\n",
    "print(np.sqrt(16+25))  # magnitude of a vector"
   ]
  },
  {
   "cell_type": "code",
   "execution_count": 19,
   "metadata": {},
   "outputs": [
    {
     "name": "stdout",
     "output_type": "stream",
     "text": [
      "[0.62469505 0.78086881]\n",
      "[0.62469505 0.78086881]\n"
     ]
    }
   ],
   "source": [
    "# direction of vector is its initial cordinate\n",
    "def direction(l):\n",
    "    return l/np.linalg.norm(l)\n",
    "print(direction([4,5]))\n",
    "print(direction([40,50]))"
   ]
  },
  {
   "cell_type": "code",
   "execution_count": 27,
   "metadata": {},
   "outputs": [
    {
     "data": {
      "text/plain": [
       "1.0000000019626591"
      ]
     },
     "execution_count": 27,
     "metadata": {},
     "output_type": "execute_result"
    }
   ],
   "source": [
    "# unit vector : magnitude of a vector is 1\n",
    "np.linalg.norm([.62469505,.78086881])"
   ]
  },
  {
   "cell_type": "code",
   "execution_count": 36,
   "metadata": {},
   "outputs": [
    {
     "data": {
      "text/plain": [
       "20.0"
      ]
     },
     "execution_count": 36,
     "metadata": {},
     "output_type": "execute_result"
    }
   ],
   "source": [
    "# dot product = scaler product\n",
    "# geometric dot product\n",
    "import math \n",
    "import numpy as np \n",
    " \n",
    "def geometric_dot_product(x,y, theta):\n",
    "    x_norm = np.linalg.norm(x)\n",
    "    y_norm = np.linalg.norm(y)\n",
    "    return x_norm * y_norm * math.cos(math.radians(theta))\n",
    "geometric_dot_product(4,5,0)"
   ]
  },
  {
   "cell_type": "markdown",
   "metadata": {},
   "source": [
    "# Functional margin "
   ]
  },
  {
   "cell_type": "code",
   "execution_count": 37,
   "metadata": {},
   "outputs": [],
   "source": [
    "# Compute the functional margin of an example (x,y) \n",
    "# with respect to a hyperplane defined by w and b. \n",
    "def example_functional_margin(w, b, x, y):\n",
    "    result = y * (np.dot(w, x) + b)\n",
    "    return result \n",
    " \n",
    "# Compute the functional margin of a hyperplane \n",
    "# for examples X with labels y. \n",
    "def functional_margin(w, b, X, y):\n",
    "    return np.min([example_functional_margin(w, b, x, y[i])\n",
    "                   for i, x in enumerate(X)]) "
   ]
  },
  {
   "cell_type": "markdown",
   "metadata": {},
   "source": [
    "### there is a major problem with the functional margin: is not scale invariant.  "
   ]
  },
  {
   "cell_type": "code",
   "execution_count": 40,
   "metadata": {},
   "outputs": [
    {
     "name": "stdout",
     "output_type": "stream",
     "text": [
      "8\n",
      "80\n"
     ]
    }
   ],
   "source": [
    "x = np.array([1, 1]) \n",
    "y = 1 \n",
    " \n",
    "b_1 = 5 \n",
    "w_1 = np.array([2, 1]) \n",
    " \n",
    "w_2 = w_1 * 10 \n",
    "b_2 = b_1 * 10 \n",
    " \n",
    "print(example_functional_margin(w_1, b_1, x, y))  # 8 \n",
    "print(example_functional_margin(w_2, b_2, x, y))  # 80 "
   ]
  },
  {
   "cell_type": "markdown",
   "metadata": {},
   "source": [
    "# Geometric Margin"
   ]
  },
  {
   "cell_type": "code",
   "execution_count": 44,
   "metadata": {},
   "outputs": [],
   "source": [
    "# Compute the geometric margin of an example (x,y) \n",
    "# with respect to a hyperplane defined by w and b. \n",
    "def example_geometric_margin(w, b, x, y):\n",
    "    norm = np.linalg.norm(w)\n",
    "    result = y * (np.dot(w/norm, x) + b/norm)\n",
    "    return result \n",
    " \n",
    "# Compute the geometric margin of a hyperplane \n",
    "# for examples X with labels y. \n",
    "def geometric_margin(w, b, X, y):\n",
    "    return np.min([example_geometric_margin(w, b, x, y[i]) for i, x in enumerate(X)])"
   ]
  },
  {
   "cell_type": "code",
   "execution_count": 49,
   "metadata": {},
   "outputs": [
    {
     "name": "stdout",
     "output_type": "stream",
     "text": [
      "3.577708763999664\n",
      "3.577708763999664\n"
     ]
    }
   ],
   "source": [
    "x = np.array([1, 1]) \n",
    "y = 1 \n",
    " \n",
    "b_1 = 5 \n",
    "w_1 = np.array([2, 1]) \n",
    " \n",
    "w_2 = w_1 * 10 \n",
    "b_2 = b_1 * 10 \n",
    " \n",
    "print(example_geometric_margin(w_1, b_1, x, y))  # 8 \n",
    "print(example_geometric_margin(w_2, b_2, x, y))  # 80 "
   ]
  },
  {
   "cell_type": "code",
   "execution_count": 106,
   "metadata": {},
   "outputs": [
    {
     "name": "stdout",
     "output_type": "stream",
     "text": [
      "0.18569533817705164\n",
      "0.6499336836196807\n"
     ]
    }
   ],
   "source": [
    "# Compare two hyperplanes using the geometrical margin. \n",
    " \n",
    "positive_x = np.array([[2,7],[8,3],[7,5],[4,4],[4,6],[1,3],[2,5]]) \n",
    "negative_x = np.array([[8,7],[4,10],[9,7],[7,10],[9,6],[4,8],[10,10]]) \n",
    " \n",
    "X = np.vstack((positive_x, negative_x)) \n",
    "y = np.hstack((np.ones(len(positive_x)), -1*np.ones(len(negative_x)))) \n",
    " \n",
    "w = np.array([-0.4, -1]) \n",
    " \n",
    "# change the value of b \n",
    "print(geometric_margin(w, 8 , X, y))          # 0.185695338177 \n",
    "print(geometric_margin(w, 8.5, X, y))        # 0.64993368362 \n"
   ]
  },
  {
   "cell_type": "code",
   "execution_count": null,
   "metadata": {},
   "outputs": [],
   "source": []
  }
 ],
 "metadata": {
  "kernelspec": {
   "display_name": "Python 3",
   "language": "python",
   "name": "python3"
  },
  "language_info": {
   "codemirror_mode": {
    "name": "ipython",
    "version": 3
   },
   "file_extension": ".py",
   "mimetype": "text/x-python",
   "name": "python",
   "nbconvert_exporter": "python",
   "pygments_lexer": "ipython3",
   "version": "3.6.5"
  }
 },
 "nbformat": 4,
 "nbformat_minor": 2
}
