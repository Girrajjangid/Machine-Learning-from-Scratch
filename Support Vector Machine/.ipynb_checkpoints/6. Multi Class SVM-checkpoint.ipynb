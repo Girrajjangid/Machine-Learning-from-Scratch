{
 "cells": [
  {
   "cell_type": "code",
   "execution_count": 2,
   "metadata": {},
   "outputs": [],
   "source": [
    "import numpy as np\n",
    "from sklearn import svm"
   ]
  },
  {
   "cell_type": "code",
   "execution_count": 1,
   "metadata": {},
   "outputs": [],
   "source": [
    " def load_X():\n",
    "    return np.array([[1, 6], [1, 7], [2, 5], [2, 8],\n",
    "                     [4, 2], [4, 3], [5, 1], [5, 2],\n",
    "                     [5, 3], [6, 1], [6, 2], [9, 4],\n",
    "                     [9, 7], [10, 5], [10, 6], [11, 6],\n",
    "                     [5, 9], [5, 10], [5, 11], [6, 9],\n",
    "                     [6, 10], [7, 10], [8, 11]]) \n",
    " \n",
    "def load_y():\n",
    "    return np.array([1, 1, 1, 1,\n",
    "                     2, 2, 2, 2, 2, 2, 2,\n",
    "                     3, 3, 3, 3, 3,\n",
    "                     4, 4, 4, 4, 4, 4, 4])\n"
   ]
  },
  {
   "cell_type": "markdown",
   "metadata": {},
   "source": [
    "# One Vs All classifier\n",
    "\n",
    "Be sure to remember that LinearSVC uses the one-against-all method by default,"
   ]
  },
  {
   "cell_type": "code",
   "execution_count": 3,
   "metadata": {},
   "outputs": [],
   "source": [
    "# Create a simple dataset \n",
    "X = load_X() \n",
    "y = load_y() \n",
    "\n",
    "# Transform the 4 classes problem \n",
    "# in 4 binary classes problems. \n",
    "y_1 = np.where(y == 1, 1, -1) \n",
    "y_2 = np.where(y == 2, 1, -1) \n",
    "y_3 = np.where(y == 3, 1, -1) \n",
    "y_4 = np.where(y == 4, 1, -1)"
   ]
  },
  {
   "cell_type": "code",
   "execution_count": 8,
   "metadata": {},
   "outputs": [],
   "source": [
    "# Train one binary classifier on each problem. \n",
    "y_list = [y_1, y_2, y_3, y_4] \n",
    "classifiers = [] \n",
    "for y_i in y_list:\n",
    "    clf = svm.SVC(kernel='linear', C=1000) # regularized parameter\n",
    "    clf.fit(X, y_i)     \n",
    "    classifiers.append(clf) "
   ]
  },
  {
   "cell_type": "code",
   "execution_count": 11,
   "metadata": {},
   "outputs": [],
   "source": [
    "def predict_class(X, classifiers):\n",
    "    predictions = np.zeros((X.shape[0], len(classifiers)))\n",
    "    for idx, clf in enumerate(classifiers):\n",
    "        predictions[:, idx] = clf.predict(X) \n",
    " # returns the class number if only one classifier predicted it\n",
    "# returns zero otherwise.\n",
    "    return np.where((predictions == 1).sum(1) == 1,\n",
    "                    (predictions == 1).argmax(axis=1) + 1,\n",
    "                    0) "
   ]
  },
  {
   "cell_type": "code",
   "execution_count": 14,
   "metadata": {},
   "outputs": [
    {
     "data": {
      "text/plain": [
       "array([1, 1, 1, 1, 2, 2, 2, 2, 2, 2, 2, 3, 3, 3, 3, 3, 4, 4, 4, 4, 4, 4,\n",
       "       4], dtype=int64)"
      ]
     },
     "execution_count": 14,
     "metadata": {},
     "output_type": "execute_result"
    }
   ],
   "source": [
    "predict_class(X,classifiers)"
   ]
  },
  {
   "cell_type": "code",
   "execution_count": 16,
   "metadata": {},
   "outputs": [],
   "source": [
    "def predict_class(X, classifiers):\n",
    "    predictions = np.zeros((X.shape[0], len(classifiers)))\n",
    "    for idx, clf in enumerate(classifiers):\n",
    "        predictions[:, idx] = clf.decision_function(X) \n",
    " \n",
    "    # return the argmax of the decision function as suggested by Vapnik.\n",
    "    return np.argmax(predictions, axis=1) + 1 "
   ]
  },
  {
   "cell_type": "code",
   "execution_count": 18,
   "metadata": {},
   "outputs": [
    {
     "data": {
      "text/plain": [
       "array([1, 1, 1, 1, 2, 2, 2, 2, 2, 2, 2, 3, 3, 3, 3, 3, 4, 4, 4, 4, 4, 4,\n",
       "       4], dtype=int64)"
      ]
     },
     "execution_count": 18,
     "metadata": {},
     "output_type": "execute_result"
    }
   ],
   "source": [
    "predict_class(X,classifiers)"
   ]
  },
  {
   "cell_type": "code",
   "execution_count": 19,
   "metadata": {},
   "outputs": [
    {
     "name": "stdout",
     "output_type": "stream",
     "text": [
      "[2 1]\n"
     ]
    }
   ],
   "source": [
    "from sklearn.svm import LinearSVC \n",
    " \n",
    "X = load_X()\n",
    "y = load_y() \n",
    " \n",
    "clf = LinearSVC(C=1000, random_state=88, multi_class='ovr')  #One Vs Rest default is One Vs All\n",
    "clf.fit(X,y) \n",
    " \n",
    "# Make predictions on two examples. \n",
    "X_to_predict = np.array([[5,5],[2,5]])\n",
    "print(clf.predict(X_to_predict)) # prints [2 1] "
   ]
  },
  {
   "cell_type": "markdown",
   "metadata": {},
   "source": [
    "# One against One\n",
    "\n",
    " As a result, we train one classifier per pair of classes, which leads to K(K-1)/2 classifiers for K classes. Each classifier is trained on a subset of the data and produces its own decision boundary\n",
    " \n",
    " Predictions are made using a simple voting strategy. Each example we wish to predict is passed to each classifier, and the predicted class is recorded. Then, the class having the most votes is assigned to the example \n",
    " "
   ]
  },
  {
   "cell_type": "code",
   "execution_count": 22,
   "metadata": {},
   "outputs": [
    {
     "name": "stdout",
     "output_type": "stream",
     "text": [
      "[0 0]\n"
     ]
    }
   ],
   "source": [
    "from itertools import combinations\n",
    "from scipy.stats import mode\n",
    " \n",
    "# Predict the class having the max number of votes.\n",
    "def predict_class(X, classifiers, class_pairs):\n",
    "    predictions = np.zeros((X.shape[0], len(classifiers)))\n",
    "    for idx, clf in enumerate(classifiers):\n",
    "        class_pair = class_pairs[idx]\n",
    "        prediction = clf.predict(X)\n",
    "        predictions[:, idx] = np.where(prediction == 1,\n",
    "                                       class_pair[0], class_pair[1])\n",
    "        return mode(predictions, axis=1)[0].ravel().astype(int) \n",
    "\n",
    "X = load_X()\n",
    "y = load_y() \n",
    " \n",
    "# Create datasets. \n",
    "training_data = [] \n",
    "class_pairs = list(combinations(set(y), 2))\n",
    "for class_pair in class_pairs:\n",
    "    class_mask = np.where((y == class_pair[0]) | (y == class_pair[1]))\n",
    "    y_i = np.where(y[class_mask] == class_pair[0], 1, -1)\n",
    "    training_data.append((X[class_mask], y_i)) \n",
    "\n",
    "# Train one classifier per class.\n",
    "classifiers = []\n",
    "for data in training_data:\n",
    "    clf = svm.SVC(kernel='linear', C=1000)\n",
    "    clf.fit(data[0], data[1])\n",
    "    classifiers.append(clf) \n",
    "\n",
    "# Make predictions on two examples.\n",
    "X_to_predict = np.array([[5,5],[2,5]])\n",
    "print(predict_class(X_to_predict, classifiers, class_pairs)) "
   ]
  },
  {
   "cell_type": "markdown",
   "metadata": {},
   "source": [
    "# “the one-against-one and DAG methods are more suitable for practical use than the other methods.”  oAo in SVC oAa in linearSVC"
   ]
  },
  {
   "cell_type": "code",
   "execution_count": null,
   "metadata": {},
   "outputs": [],
   "source": []
  }
 ],
 "metadata": {
  "kernelspec": {
   "display_name": "Python 3",
   "language": "python",
   "name": "python3"
  },
  "language_info": {
   "codemirror_mode": {
    "name": "ipython",
    "version": 3
   },
   "file_extension": ".py",
   "mimetype": "text/x-python",
   "name": "python",
   "nbconvert_exporter": "python",
   "pygments_lexer": "ipython3",
   "version": "3.6.5"
  }
 },
 "nbformat": 4,
 "nbformat_minor": 2
}
