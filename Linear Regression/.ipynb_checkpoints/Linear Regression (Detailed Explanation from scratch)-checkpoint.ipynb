{
 "cells": [
  {
   "cell_type": "markdown",
   "metadata": {},
   "source": [
    "# Linear Regression "
   ]
  },
  {
   "cell_type": "markdown",
   "metadata": {},
   "source": [
    "Linear regression is a linear approach to modeling the relationship between a scalar response (or dependent variable) and one or more explanatory variables (or independent variables)\n",
    " \n",
    "The case of one explanatory variable is called simple linear regression. For more than one explanatory variable, the process is called multiple linear regression. This term is distinct from multivariate linear regression, where multiple correlated dependent variables are predicted, rather than a single scalar variable"
   ]
  },
  {
   "cell_type": "code",
   "execution_count": 1,
   "metadata": {},
   "outputs": [],
   "source": [
    "import pandas as pd\n",
    "import numpy as np\n",
    "import matplotlib.pyplot as plt\n",
    "import seaborn as sns"
   ]
  },
  {
   "cell_type": "code",
   "execution_count": 2,
   "metadata": {},
   "outputs": [
    {
     "data": {
      "text/html": [
       "<div>\n",
       "<style scoped>\n",
       "    .dataframe tbody tr th:only-of-type {\n",
       "        vertical-align: middle;\n",
       "    }\n",
       "\n",
       "    .dataframe tbody tr th {\n",
       "        vertical-align: top;\n",
       "    }\n",
       "\n",
       "    .dataframe thead th {\n",
       "        text-align: right;\n",
       "    }\n",
       "</style>\n",
       "<table border=\"1\" class=\"dataframe\">\n",
       "  <thead>\n",
       "    <tr style=\"text-align: right;\">\n",
       "      <th></th>\n",
       "      <th>x</th>\n",
       "      <th>y</th>\n",
       "    </tr>\n",
       "  </thead>\n",
       "  <tbody>\n",
       "    <tr>\n",
       "      <th>0</th>\n",
       "      <td>24.0</td>\n",
       "      <td>21.549452</td>\n",
       "    </tr>\n",
       "    <tr>\n",
       "      <th>1</th>\n",
       "      <td>50.0</td>\n",
       "      <td>47.464463</td>\n",
       "    </tr>\n",
       "    <tr>\n",
       "      <th>2</th>\n",
       "      <td>15.0</td>\n",
       "      <td>17.218656</td>\n",
       "    </tr>\n",
       "    <tr>\n",
       "      <th>3</th>\n",
       "      <td>38.0</td>\n",
       "      <td>36.586398</td>\n",
       "    </tr>\n",
       "    <tr>\n",
       "      <th>4</th>\n",
       "      <td>87.0</td>\n",
       "      <td>87.288984</td>\n",
       "    </tr>\n",
       "    <tr>\n",
       "      <th>5</th>\n",
       "      <td>36.0</td>\n",
       "      <td>32.463875</td>\n",
       "    </tr>\n",
       "    <tr>\n",
       "      <th>6</th>\n",
       "      <td>12.0</td>\n",
       "      <td>10.780897</td>\n",
       "    </tr>\n",
       "    <tr>\n",
       "      <th>7</th>\n",
       "      <td>81.0</td>\n",
       "      <td>80.763399</td>\n",
       "    </tr>\n",
       "    <tr>\n",
       "      <th>8</th>\n",
       "      <td>25.0</td>\n",
       "      <td>24.612151</td>\n",
       "    </tr>\n",
       "    <tr>\n",
       "      <th>9</th>\n",
       "      <td>5.0</td>\n",
       "      <td>6.963319</td>\n",
       "    </tr>\n",
       "  </tbody>\n",
       "</table>\n",
       "</div>"
      ],
      "text/plain": [
       "      x          y\n",
       "0  24.0  21.549452\n",
       "1  50.0  47.464463\n",
       "2  15.0  17.218656\n",
       "3  38.0  36.586398\n",
       "4  87.0  87.288984\n",
       "5  36.0  32.463875\n",
       "6  12.0  10.780897\n",
       "7  81.0  80.763399\n",
       "8  25.0  24.612151\n",
       "9   5.0   6.963319"
      ]
     },
     "execution_count": 2,
     "metadata": {},
     "output_type": "execute_result"
    }
   ],
   "source": [
    "train_data  = pd.read_csv('train.csv')\n",
    "test_data  = pd.read_csv('test.csv')\n",
    "train_data.head(10)"
   ]
  },
  {
   "cell_type": "code",
   "execution_count": 3,
   "metadata": {},
   "outputs": [
    {
     "data": {
      "text/plain": [
       "<matplotlib.collections.PathCollection at 0x19abbca9d68>"
      ]
     },
     "execution_count": 3,
     "metadata": {},
     "output_type": "execute_result"
    },
    {
     "data": {
      "image/png": "[encoded data removed]",
      "text/plain": [
       "<Figure size 432x288 with 1 Axes>"
      ]
     },
     "metadata": {},
     "output_type": "display_data"
    }
   ],
   "source": [
    "plt.scatter(x=train_data['x'] , y= train_data['y'])"
   ]
  },
  {
   "cell_type": "code",
   "execution_count": 4,
   "metadata": {},
   "outputs": [
    {
     "name": "stdout",
     "output_type": "stream",
     "text": [
      "[0 1] \n",
      "One null value present in second column of training data\n",
      "[0 0] \n",
      "zero null value present \n"
     ]
    },
    {
     "data": {
      "image/png": "[encoded data removed]",
      "text/plain": [
       "<Figure size 432x288 with 2 Axes>"
      ]
     },
     "metadata": {},
     "output_type": "display_data"
    }
   ],
   "source": [
    "sns.heatmap((train_data.isnull())) \n",
    "print(np.array(train_data.isnull().sum()) , \"\\nOne null value present in second column of training data\")\n",
    "print(np.array(test_data.isnull().sum()) , \"\\nzero null value present \")\n"
   ]
  },
  {
   "cell_type": "markdown",
   "metadata": {},
   "source": [
    "$$\n",
    "h_{\\theta}(x)=\\theta_{0}+\\theta_{1} x_{1}+\\theta_{2} x_{2}\n",
    "$$\n",
    "\n",
    "$$\n",
    "h(x)=\\sum_{i=0}^{n} \\theta_{i} x_{i}=\\theta^{T} x\n",
    "$$\n",
    "\n",
    "The Cost function is: \n",
    "$$\n",
    "J(a, b)=\\frac{1}{n} \\sum_{i=1}^{n}\\left(y_{i, a c t u a l}-y_{i, p r e d i c t e d}\\right)^{2}\n",
    "$$\n",
    "\n",
    "$$\n",
    "J(a, b)=\\frac{1}{n} \\sum_{i=1}^{n}\\left(y_{i}-\\left(a x_{i}+b\\right)\\right)^{2}\n",
    "$$\n",
    "\n",
    "Now we have to minimize this cost function\n",
    "\n",
    "for gradient decent we have a formula :\n",
    "\n",
    "$$\n",
    "\\theta_{j} :=\\theta_{j}-\\alpha \\frac{\\partial}{\\partial \\theta_{j}} J(\\theta)\n",
    "$$\n",
    "\n",
    "$$\n",
    "\\begin{aligned} \\frac{\\partial J}{\\partial a} &=\\frac{1}{n} \\sum_{i=1}^{n} x_{i} * 2\\left(y_{i}-\\left(a x_{i}+b\\right)\\right) \\\\ \\frac{\\partial J}{\\partial b} &=\\frac{1}{n} \\sum_{i=1}^{n} 2\\left(y_{i}-\\left(a x_{i}+b\\right)\\right) \\end{aligned}\n",
    "$$"
   ]
  },
  {
   "cell_type": "markdown",
   "metadata": {},
   "source": [
    "### Deleting null value"
   ]
  },
  {
   "cell_type": "code",
   "execution_count": 5,
   "metadata": {
    "scrolled": true
   },
   "outputs": [
    {
     "name": "stdout",
     "output_type": "stream",
     "text": [
      "[213]\n"
     ]
    }
   ],
   "source": [
    "for i in np.where(train_data['y'].isnull()):\n",
    "    print(i)\n",
    "    train_data.drop(i,axis=0 , inplace=True)"
   ]
  },
  {
   "cell_type": "code",
   "execution_count": 6,
   "metadata": {},
   "outputs": [
    {
     "data": {
      "text/plain": [
       "<matplotlib.collections.PathCollection at 0x19abd19d908>"
      ]
     },
     "execution_count": 6,
     "metadata": {},
     "output_type": "execute_result"
    },
    {
     "data": {
      "image/png": "[encoded data removed]",
      "text/plain": [
       "<Figure size 432x288 with 1 Axes>"
      ]
     },
     "metadata": {},
     "output_type": "display_data"
    }
   ],
   "source": [
    "from sklearn.preprocessing import StandardScaler\n",
    "scaler = StandardScaler()\n",
    "train_data = scaler.fit_transform(train_data)\n",
    "train_data\n",
    "plt.scatter(x=train_data[:,0] , y = train_data[:,1])"
   ]
  },
  {
   "cell_type": "code",
   "execution_count": 7,
   "metadata": {},
   "outputs": [],
   "source": [
    "train_data = np.array(train_data)\n",
    "test_data = np.array(test_data)"
   ]
  },
  {
   "cell_type": "markdown",
   "metadata": {},
   "source": [
    "# Using Gradient Decent "
   ]
  },
  {
   "cell_type": "code",
   "execution_count": 10,
   "metadata": {},
   "outputs": [
    {
     "data": {
      "text/plain": [
       "699"
      ]
     },
     "execution_count": 10,
     "metadata": {},
     "output_type": "execute_result"
    }
   ],
   "source": [
    "train_data.shape[0]"
   ]
  },
  {
   "cell_type": "code",
   "execution_count": 15,
   "metadata": {},
   "outputs": [
    {
     "name": "stdout",
     "output_type": "stream",
     "text": [
      "initial cost -1.0 final cost -1.0396280612761024\n",
      "initial cost -1.0396280612761024 final cost -1.128394918534571\n",
      "initial cost -1.128394918534571 final cost -1.2359296256134018\n",
      "initial cost -1.2359296256134018 final cost -1.3453309728905818\n",
      "initial cost -1.3453309728905818 final cost -1.4478111429453602\n",
      "initial cost -1.4478111429453602 final cost -1.5393690980183243\n",
      "initial cost -1.5393690980183243 final cost -1.6187427062553468\n",
      "initial cost -1.6187427062553468 final cost -1.6861630291193006\n",
      "initial cost -1.6861630291193006 final cost -1.7426090066260396\n",
      "initial cost -1.7426090066260396 final cost -1.7893720089293983\n",
      "initial cost -1.7893720089293983 final cost -1.8278103917627855\n",
      "initial cost -1.8278103917627855 final cost -1.8592190058635425\n",
      "initial cost -1.8592190058635425 final cost -1.8847669581579394\n",
      "initial cost -1.8847669581579394 final cost -1.9054747990422827\n",
      "initial cost -1.9054747990422827 final cost -1.9222135383410053\n",
      "initial cost -1.9222135383410053 final cost -1.9357149083983831\n",
      "initial cost -1.9357149083983831 final cost -1.9465866467600603\n",
      "initial cost -1.9465866467600603 final cost -1.955329248531499\n",
      "initial cost -1.955329248531499 final cost -1.9623522650411913\n",
      "initial cost -1.9623522650411913 final cost -1.9679891967081717\n",
      "initial cost -1.9679891967081717 final cost -1.972510593855661\n",
      "initial cost -1.972510593855661 final cost -1.976135296734552\n",
      "initial cost -1.976135296734552 final cost -1.9790399135406398\n",
      "initial cost -1.9790399135406398 final cost -1.9813667138674151\n",
      "initial cost -1.9813667138674151 final cost -1.9832301425332537\n",
      "initial cost -1.9832301425332537 final cost -1.9847221580447525\n",
      "initial cost -1.9847221580447525 final cost -1.9859165849044018\n",
      "initial cost -1.9859165849044018 final cost -1.9868726476404088\n",
      "initial cost -1.9868726476404088 final cost -1.9876378314281187\n",
      "initial cost -1.9876378314281187 final cost -1.9882501919615854\n",
      "initial cost -1.9882501919615854 final cost -1.98874021703047\n",
      "initial cost -1.98874021703047 final cost -1.989132324536529\n",
      "initial cost -1.989132324536529 final cost -1.9894460665099851\n",
      "initial cost -1.9894460665099851 final cost -1.9896970959086593\n",
      "initial cost -1.9896970959086593 final cost -1.9898979423523409\n",
      "initial cost -1.9898979423523409 final cost -1.9900586341791209\n",
      "initial cost -1.9900586341791209 final cost -1.9901871970305192\n",
      "initial cost -1.9901871970305192 final cost -1.990290053321222\n"
     ]
    }
   ],
   "source": [
    "initial_theta  = 0\n",
    "initial_theta0 = 0\n",
    "alpha = 0.1\n",
    "epsilon = 0.0001\n",
    "\n",
    "def y_cap(theta0 , theta , data):\n",
    "    return theta0 + np.dot(np.array(data[:,0]),theta)\n",
    "\n",
    "while(True):\n",
    "\n",
    "    del_theta0 = (2/train_data.shape[0]) * np.sum((y_cap(initial_theta0 ,initial_theta , train_data) - (train_data[:,1])))\n",
    "    del_theta = (2/train_data.shape[0]) * np.dot((y_cap(initial_theta0 ,initial_theta, train_data) - (train_data[:,1])) , \n",
    "                                 (train_data[:,0]))\n",
    "\n",
    "    final_theta0 = initial_theta0 - alpha * del_theta0\n",
    "    final_theta  = initial_theta  - alpha * del_theta\n",
    "\n",
    "    initial_cost =  -(1/train_data.shape[0]) * np.sum((y_cap(initial_theta , initial_theta0,train_data) - (train_data[:,1])) **2 )\n",
    "    final_cost  =  -(1/train_data.shape[0]) * np.sum((y_cap(final_theta , final_theta0, train_data) - (train_data[:,1])) **2 )\n",
    "\n",
    "    if(abs(initial_cost - final_cost)) < epsilon:\n",
    "            break\n",
    "        \n",
    "    print(\"initial cost {} final cost {}\".format(initial_cost , final_cost))\n",
    "    initial_theta0 = final_theta0\n",
    "    initial_theta = final_theta"
   ]
  },
  {
   "cell_type": "markdown",
   "metadata": {},
   "source": [
    "# Ok, Now we have intercept as well as coeffcient ( Slope )"
   ]
  },
  {
   "cell_type": "code",
   "execution_count": 16,
   "metadata": {},
   "outputs": [
    {
     "name": "stdout",
     "output_type": "stream",
     "text": [
      "Slope :  0.9951745285124195\n",
      "intercept : -0.00000000000000026264\n"
     ]
    }
   ],
   "source": [
    "print(\"Slope : \" ,final_theta)\n",
    "print('intercept : %.20f'%final_theta0)"
   ]
  },
  {
   "cell_type": "code",
   "execution_count": 18,
   "metadata": {},
   "outputs": [
    {
     "name": "stdout",
     "output_type": "stream",
     "text": [
      "R2 :  0.990372342199917\n",
      "Residual Sum of Square Error :  1.4128282263344403\n",
      "Mean square error : 1.9903723421999173\n"
     ]
    }
   ],
   "source": [
    "def rs_quare(data):\n",
    "    deno = np.sum(( data[:,1] - np.mean(data[:,1]) )** 2)\n",
    "    num = np.sum(( y_cap(final_theta ,final_theta0, data) - np.mean(data[:,1])) ** 2)\n",
    "    r2 = num / deno\n",
    "    #rss = np.sum(( data[:,1]  - y_cap(final_theta , final_theta0 , data) )** 2)\n",
    "    #tss = np.sum(( data[:,1] - np.mean(data[:,1]) )** 2)\n",
    "    #r2 = ( (tss - rss) / tss)\n",
    "    return r2\n",
    "\n",
    "def rs_error(data):\n",
    "    rss = np.sqrt(np.sum(( data[:,1]  - y_cap(final_theta , final_theta0 , data) )** 2) / (data.shape[0] - 2) )\n",
    "    return rss\n",
    "\n",
    "def mse(data):\n",
    "    return  np.sum(( data[:,1]  - y_cap(final_theta , final_theta0,data) )** 2) / data.shape[0]\n",
    "    \n",
    "print(\"R2 : \",rs_quare(train_data))\n",
    "print('Residual Sum of Square Error : ',rs_error(train_data))\n",
    "print(\"Mean square error :\", mse(train_data))"
   ]
  },
  {
   "cell_type": "markdown",
   "metadata": {},
   "source": [
    "# Now we plot a line with training data "
   ]
  },
  {
   "cell_type": "code",
   "execution_count": 19,
   "metadata": {},
   "outputs": [
    {
     "data": {
      "image/png": "[encoded data removed]",
      "text/plain": [
       "<Figure size 432x288 with 1 Axes>"
      ]
     },
     "metadata": {},
     "output_type": "display_data"
    }
   ],
   "source": [
    "plt.scatter(train_data[:,0],train_data[:,1],c = ['grey'])\n",
    "plot_x = train_data[:,0] \n",
    "plot_y = final_theta0 + final_theta * train_data[:,0]\n",
    "plt.plot(plot_x, plot_y,c = 'black')\n",
    "plt.show()\n"
   ]
  },
  {
   "cell_type": "markdown",
   "metadata": {},
   "source": [
    "# Plot with a testing data "
   ]
  },
  {
   "cell_type": "code",
   "execution_count": 20,
   "metadata": {},
   "outputs": [
    {
     "data": {
      "image/png": "[encoded data removed]",
      "text/plain": [
       "<Figure size 432x288 with 1 Axes>"
      ]
     },
     "metadata": {},
     "output_type": "display_data"
    }
   ],
   "source": [
    "plt.scatter(test_data[:,0],test_data[:,1],c = ['grey'])\n",
    "plot_x = test_data[:,0] \n",
    "plot_y = final_theta0 + final_theta * test_data[:,0]\n",
    "plt.plot(plot_x, plot_y,c = 'black')\n",
    "plt.show()"
   ]
  },
  {
   "cell_type": "markdown",
   "metadata": {},
   "source": [
    "# Perfect! Note this we dont normalize the testing data but it still give us good fit line\n",
    "\n",
    "# I think best way to check our output is check with sklearn library output"
   ]
  },
  {
   "cell_type": "code",
   "execution_count": 21,
   "metadata": {},
   "outputs": [
    {
     "name": "stdout",
     "output_type": "stream",
     "text": [
      "Coefficients :  0.9953399077212521\n",
      "Intercept : -0.00000000000000023392\n",
      "Mean squared error : 9.7122676345\n",
      "Variance score : 0.9884698117\n"
     ]
    }
   ],
   "source": [
    "from sklearn import linear_model\n",
    "from sklearn.metrics import mean_squared_error, r2_score\n",
    "\n",
    "regr = linear_model.LinearRegression()\n",
    "regr.fit(train_data[:,0].reshape(699,1), train_data[:,1])\n",
    "diabetes_y_pred = regr.predict(np.array(test_data[:,0]).reshape(300,1))\n",
    "\n",
    "print('Coefficients : ', list(regr.coef_)[0])\n",
    "print('Intercept : %.20f'% regr.intercept_)\n",
    "print(\"Mean squared error : %.10f\"% mean_squared_error( np.array(test_data[:,1]) , diabetes_y_pred ) )\n",
    "print('Variance score : %.10f' % r2_score( np.array(test_data[:,1]) , diabetes_y_pred ))\n"
   ]
  },
  {
   "cell_type": "code",
   "execution_count": 22,
   "metadata": {},
   "outputs": [
    {
     "name": "stdout",
     "output_type": "stream",
     "text": [
      "Predicted Slope :  0.9951745285124195\n",
      "Predicted Intercept : -0.00000000000000026264\n",
      "Variance Score :  0.990372342199917\n"
     ]
    }
   ],
   "source": [
    "print(\"Predicted Slope : \" ,final_theta)\n",
    "print('Predicted Intercept : %.20f'%final_theta0)\n",
    "print(\"Variance Score : \",rs_quare(train_data))"
   ]
  },
  {
   "cell_type": "markdown",
   "metadata": {},
   "source": [
    "# !!!!Splash!!!!###"
   ]
  }
 ],
 "metadata": {
  "kernelspec": {
   "display_name": "Python 3",
   "language": "python",
   "name": "python3"
  },
  "language_info": {
   "codemirror_mode": {
    "name": "ipython",
    "version": 3
   },
   "file_extension": ".py",
   "mimetype": "text/x-python",
   "name": "python",
   "nbconvert_exporter": "python",
   "pygments_lexer": "ipython3",
   "version": "3.6.5"
  }
 },
 "nbformat": 4,
 "nbformat_minor": 2
}
