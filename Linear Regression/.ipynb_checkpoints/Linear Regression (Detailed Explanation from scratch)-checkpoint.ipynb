{
 "cells": [
  {
   "cell_type": "markdown",
   "metadata": {},
   "source": [
    "# Linear Regression "
   ]
  },
  {
   "cell_type": "markdown",
   "metadata": {},
   "source": [
    "Linear regression is a linear approach to modeling the relationship between a scalar response (or dependent variable) and one or more explanatory variables (or independent variables)\n",
    " \n",
    "The case of one explanatory variable is called simple linear regression. For more than one explanatory variable, the process is called multiple linear regression. This term is distinct from multivariate linear regression, where multiple correlated dependent variables are predicted, rather than a single scalar variable"
   ]
  },
  {
   "cell_type": "code",
   "execution_count": 1,
   "metadata": {},
   "outputs": [],
   "source": [
    "import pandas as pd\n",
    "import numpy as np\n",
    "import matplotlib.pyplot as plt\n",
    "import seaborn as sns"
   ]
  },
  {
   "cell_type": "code",
   "execution_count": 2,
   "metadata": {},
   "outputs": [
    {
     "data": {
      "text/html": [
       "<div>\n",
       "<style scoped>\n",
       "    .dataframe tbody tr th:only-of-type {\n",
       "        vertical-align: middle;\n",
       "    }\n",
       "\n",
       "    .dataframe tbody tr th {\n",
       "        vertical-align: top;\n",
       "    }\n",
       "\n",
       "    .dataframe thead th {\n",
       "        text-align: right;\n",
       "    }\n",
       "</style>\n",
       "<table border=\"1\" class=\"dataframe\">\n",
       "  <thead>\n",
       "    <tr style=\"text-align: right;\">\n",
       "      <th></th>\n",
       "      <th>x</th>\n",
       "      <th>y</th>\n",
       "    </tr>\n",
       "  </thead>\n",
       "  <tbody>\n",
       "    <tr>\n",
       "      <th>0</th>\n",
       "      <td>24.0</td>\n",
       "      <td>21.549452</td>\n",
       "    </tr>\n",
       "    <tr>\n",
       "      <th>1</th>\n",
       "      <td>50.0</td>\n",
       "      <td>47.464463</td>\n",
       "    </tr>\n",
       "    <tr>\n",
       "      <th>2</th>\n",
       "      <td>15.0</td>\n",
       "      <td>17.218656</td>\n",
       "    </tr>\n",
       "    <tr>\n",
       "      <th>3</th>\n",
       "      <td>38.0</td>\n",
       "      <td>36.586398</td>\n",
       "    </tr>\n",
       "    <tr>\n",
       "      <th>4</th>\n",
       "      <td>87.0</td>\n",
       "      <td>87.288984</td>\n",
       "    </tr>\n",
       "    <tr>\n",
       "      <th>5</th>\n",
       "      <td>36.0</td>\n",
       "      <td>32.463875</td>\n",
       "    </tr>\n",
       "    <tr>\n",
       "      <th>6</th>\n",
       "      <td>12.0</td>\n",
       "      <td>10.780897</td>\n",
       "    </tr>\n",
       "    <tr>\n",
       "      <th>7</th>\n",
       "      <td>81.0</td>\n",
       "      <td>80.763399</td>\n",
       "    </tr>\n",
       "    <tr>\n",
       "      <th>8</th>\n",
       "      <td>25.0</td>\n",
       "      <td>24.612151</td>\n",
       "    </tr>\n",
       "    <tr>\n",
       "      <th>9</th>\n",
       "      <td>5.0</td>\n",
       "      <td>6.963319</td>\n",
       "    </tr>\n",
       "  </tbody>\n",
       "</table>\n",
       "</div>"
      ],
      "text/plain": [
       "      x          y\n",
       "0  24.0  21.549452\n",
       "1  50.0  47.464463\n",
       "2  15.0  17.218656\n",
       "3  38.0  36.586398\n",
       "4  87.0  87.288984\n",
       "5  36.0  32.463875\n",
       "6  12.0  10.780897\n",
       "7  81.0  80.763399\n",
       "8  25.0  24.612151\n",
       "9   5.0   6.963319"
      ]
     },
     "execution_count": 2,
     "metadata": {},
     "output_type": "execute_result"
    }
   ],
   "source": [
    "train_data  = pd.read_csv('train.csv')\n",
    "test_data  = pd.read_csv('test.csv')\n",
    "train_data.head(10)"
   ]
  },
  {
   "cell_type": "code",
   "execution_count": 3,
   "metadata": {},
   "outputs": [
    {
     "data": {
      "text/plain": [
       "<matplotlib.collections.PathCollection at 0x2dabee36b70>"
      ]
     },
     "execution_count": 3,
     "metadata": {},
     "output_type": "execute_result"
    },
    {
     "data": {
      "image/png": "[encoded data removed]",
      "text/plain": [
       "<Figure size 432x288 with 1 Axes>"
      ]
     },
     "metadata": {},
     "output_type": "display_data"
    }
   ],
   "source": [
    "plt.scatter(x=train_data['x'] , y= train_data['y'])"
   ]
  },
  {
   "cell_type": "code",
   "execution_count": 4,
   "metadata": {},
   "outputs": [
    {
     "name": "stdout",
     "output_type": "stream",
     "text": [
      "[0 1] \n",
      "One null value present in second column of training data\n",
      "[0 0] \n",
      "zero null value present \n"
     ]
    },
    {
     "data": {
      "image/png": "[encoded data removed]",
      "text/plain": [
       "<Figure size 432x288 with 2 Axes>"
      ]
     },
     "metadata": {},
     "output_type": "display_data"
    }
   ],
   "source": [
    "sns.heatmap((train_data.isnull())) \n",
    "print(np.array(train_data.isnull().sum()) , \"\\nOne null value present in second column of training data\")\n",
    "print(np.array(test_data.isnull().sum()) , \"\\nzero null value present \")\n"
   ]
  },
  {
   "cell_type": "markdown",
   "metadata": {},
   "source": [
    "$$\n",
    "h_{\\theta}(x)=\\theta_{0}+\\theta_{1} x_{1}+\\theta_{2} x_{2}\n",
    "$$\n",
    "\n",
    "$$\n",
    "h(x)=\\sum_{i=0}^{n} \\theta_{i} x_{i}=\\theta^{T} x\n",
    "$$\n",
    "\n",
    "The Cost function is: \n",
    "$$\n",
    "J(\\theta)=\\frac{1}{2} \\sum_{i=1}^{m}\\left(h_{\\theta}\\left(x^{(i)}\\right)-y^{(i)}\\right)^{2}\n",
    "$$\n",
    "\n",
    "Now we have to minimize this cost function\n",
    "\n",
    "for gradient decent we have a formula :\n",
    "\n",
    "$$\n",
    "\\theta_{j} :=\\theta_{j}-\\alpha \\frac{\\partial}{\\partial \\theta_{j}} J(\\theta)\n",
    "$$\n",
    "\n",
    "$$\n",
    "\\begin{aligned} \\frac{\\partial}{\\partial \\theta_{j}} J(\\theta) &=\\frac{\\partial}{\\partial \\theta_{j}} \\frac{1}{2}\\left(h_{\\theta}(x)-y\\right)^{2} \\\\ &=2 \\cdot \\frac{1}{2}\\left(h_{\\theta}(x)-y\\right) \\cdot \\frac{\\partial}{\\partial \\theta_{j}}\\left(h_{\\theta}(x)-y\\right) \\\\ &=\\left(h_{\\theta}(x)-y\\right) \\cdot \\frac{\\partial}{\\partial \\theta_{j}}\\left(\\sum_{i=0}^{n} \\theta_{i} x_{i}-y\\right) \\\\ &=\\left(h_{\\theta}(x)-y\\right) x_{j} \\end{aligned}\n",
    "$$"
   ]
  },
  {
   "cell_type": "markdown",
   "metadata": {},
   "source": [
    "### Deleting null value"
   ]
  },
  {
   "cell_type": "code",
   "execution_count": 5,
   "metadata": {
    "scrolled": true
   },
   "outputs": [
    {
     "name": "stdout",
     "output_type": "stream",
     "text": [
      "[213]\n"
     ]
    }
   ],
   "source": [
    "for i in np.where(train_data['y'].isnull()):\n",
    "    print(i)\n",
    "    train_data.drop(i,axis=0 , inplace=True)"
   ]
  },
  {
   "cell_type": "code",
   "execution_count": 6,
   "metadata": {},
   "outputs": [
    {
     "data": {
      "text/plain": [
       "<matplotlib.collections.PathCollection at 0x2dac00fc780>"
      ]
     },
     "execution_count": 6,
     "metadata": {},
     "output_type": "execute_result"
    },
    {
     "data": {
      "image/png": "[encoded data removed]",
      "text/plain": [
       "<Figure size 432x288 with 1 Axes>"
      ]
     },
     "metadata": {},
     "output_type": "display_data"
    }
   ],
   "source": [
    "from sklearn.preprocessing import StandardScaler\n",
    "scaler = StandardScaler()\n",
    "train_data = scaler.fit_transform(train_data)\n",
    "train_data\n",
    "plt.scatter(x=train_data[:,0] , y = train_data[:,1])"
   ]
  },
  {
   "cell_type": "code",
   "execution_count": 7,
   "metadata": {},
   "outputs": [],
   "source": [
    "train_data = np.array(train_data)\n",
    "test_data = np.array(test_data)"
   ]
  },
  {
   "cell_type": "markdown",
   "metadata": {},
   "source": [
    "# Using Gradient Decent "
   ]
  },
  {
   "cell_type": "code",
   "execution_count": 8,
   "metadata": {},
   "outputs": [
    {
     "name": "stdout",
     "output_type": "stream",
     "text": [
      "initial cost -349.5 final cost -352.96250185399947\n",
      "initial cost -352.96250185399947 final cost -361.99963169293795\n",
      "initial cost -361.99963169293795 final cost -374.92895986595715\n",
      "initial cost -374.92895986595715 final cost -390.45004338923394\n",
      "initial cost -390.45004338923394 final cost -407.56561597590616\n",
      "initial cost -407.56561597590616 final cost -425.51837521064687\n",
      "initial cost -425.51837521064687 final cost -443.7403410863694\n",
      "initial cost -443.7403410863694 final cost -461.8123412517291\n",
      "initial cost -461.8123412517291 final cost -479.4316484110924\n",
      "initial cost -479.4316484110924 final cost -496.3861755330563\n",
      "initial cost -496.3861755330563 final cost -512.5339419924389\n",
      "initial cost -512.5339419924389 final cost -527.7867723660713\n",
      "initial cost -527.7867723660713 final cost -542.0973905560929\n",
      "initial cost -542.0973905560929 final cost -555.4492343186517\n",
      "initial cost -555.4492343186517 final cost -567.8484464921017\n",
      "initial cost -567.8484464921017 final cost -579.3176052057956\n",
      "initial cost -579.3176052057956 final cost -589.8908409317673\n",
      "initial cost -589.8908409317673 final cost -599.610057320896\n",
      "initial cost -599.610057320896 final cost -608.5220285020728\n",
      "initial cost -608.5220285020728 final cost -616.67619047421\n",
      "initial cost -616.67619047421 final cost -624.122980455487\n",
      "initial cost -624.122980455487 final cost -630.9126072457826\n",
      "initial cost -630.9126072457826 final cost -637.0941591608372\n",
      "initial cost -637.0941591608372 final cost -642.7149750054549\n",
      "initial cost -642.7149750054549 final cost -647.8202187536765\n",
      "initial cost -647.8202187536765 final cost -652.4526108124091\n",
      "initial cost -652.4526108124091 final cost -656.6522785403884\n",
      "initial cost -656.6522785403884 final cost -660.4566965444167\n",
      "initial cost -660.4566965444167 final cost -663.9006935576083\n",
      "initial cost -663.9006935576083 final cost -667.0165077252293\n",
      "initial cost -667.0165077252293 final cost -669.8338761292448\n",
      "initial cost -669.8338761292448 final cost -672.3801475719151\n",
      "initial cost -672.3801475719151 final cost -674.6804101723544\n",
      "initial cost -674.6804101723544 final cost -676.7576273373986\n",
      "initial cost -676.7576273373986 final cost -678.6327772539044\n",
      "initial cost -678.6327772539044 final cost -680.3249922978116\n",
      "initial cost -680.3249922978116 final cost -681.8516957337606\n",
      "initial cost -681.8516957337606 final cost -683.2287338422248\n",
      "initial cost -683.2287338422248 final cost -684.4705022028918\n",
      "initial cost -684.4705022028918 final cost -685.5900653185621\n",
      "initial cost -685.5900653185621 final cost -686.5992691114319\n",
      "initial cost -686.5992691114319 final cost -687.5088460859157\n",
      "initial cost -687.5088460859157 final cost -688.3285131472809\n",
      "initial cost -688.3285131472809 final cost -689.0670622078167\n",
      "initial cost -689.0670622078167 final cost -689.7324438135977\n",
      "initial cost -689.7324438135977 final cost -690.3318440943526\n",
      "initial cost -690.3318440943526 final cost -690.8717553838289\n",
      "initial cost -690.8717553838289 final cost -691.3580408841636\n",
      "initial cost -691.3580408841636 final cost -691.7959937597072\n",
      "initial cost -691.7959937597072 final cost -692.190391047143\n",
      "initial cost -692.190391047143 final cost -692.545542762387\n",
      "initial cost -692.545542762387 final cost -692.8653365729133\n",
      "initial cost -692.8653365729133 final cost -693.1532783885004\n",
      "initial cost -693.1532783885004 final cost -693.412529205281\n",
      "initial cost -693.412529205281 final cost -693.6459385184125\n",
      "initial cost -693.6459385184125 final cost -693.8560745984346\n",
      "initial cost -693.8560745984346 final cost -694.0452519059992\n",
      "initial cost -694.0452519059992 final cost -694.2155558995987\n",
      "initial cost -694.2155558995987 final cost -694.3688654714392\n",
      "initial cost -694.3688654714392 final cost -694.5068732279526\n",
      "initial cost -694.5068732279526 final cost -694.6311038137188\n",
      "initial cost -694.6311038137188 final cost -694.7429304608805\n",
      "initial cost -694.7429304608805 final cost -694.8435899305035\n",
      "initial cost -694.8435899305035 final cost -694.934195997778\n",
      "initial cost -694.934195997778 final cost -695.0157516194622\n",
      "initial cost -695.0157516194622 final cost -695.0891599094991\n",
      "initial cost -695.0891599094991 final cost -695.1552340372546\n",
      "initial cost -695.1552340372546 final cost -695.2147061522793\n",
      "initial cost -695.2147061522793 final cost -695.2682354298379\n",
      "initial cost -695.2682354298379 final cost -695.31641532261\n",
      "initial cost -695.31641532261 final cost -695.3597800959103\n",
      "initial cost -695.3597800959103 final cost -695.3988107164228\n",
      "initial cost -695.3988107164228 final cost -695.4339401577632\n",
      "initial cost -695.4339401577632 final cost -695.4655581801019\n",
      "initial cost -695.4655581801019 final cost -695.4940156355636\n",
      "initial cost -695.4940156355636 final cost -695.5196283461186\n",
      "initial cost -695.5196283461186 final cost -695.5426805961356\n",
      "initial cost -695.5426805961356 final cost -695.5634282776705\n",
      "initial cost -695.5634282776705 final cost -695.5821017228325\n",
      "initial cost -695.5821017228325 final cost -695.5989082542208\n",
      "initial cost -695.5989082542208 final cost -695.6140344813715\n",
      "initial cost -695.6140344813715 final cost -695.6276483684172\n",
      "initial cost -695.6276483684172 final cost -695.6399010956726\n",
      "initial cost -695.6399010956726 final cost -695.6509287356228\n",
      "initial cost -695.6509287356228 final cost -695.6608537617685\n",
      "initial cost -695.6608537617685 final cost -695.6697864069541\n",
      "initial cost -695.6697864069541 final cost -695.6778258861611\n",
      "initial cost -695.6778258861611 final cost -695.685061497265\n",
      "initial cost -695.685061497265 final cost -695.6915736119105\n",
      "initial cost -695.6915736119105 final cost -695.6974345674596\n",
      "initial cost -695.6974345674596 final cost -695.7027094698722\n",
      "initial cost -695.7027094698722 final cost -695.7074569164023\n",
      "initial cost -695.7074569164023 final cost -695.7117296461099\n",
      "initial cost -695.7117296461099 final cost -695.7155751253897\n",
      "initial cost -695.7155751253897 final cost -695.719036075001\n",
      "initial cost -695.719036075001 final cost -695.7221509444416\n",
      "initial cost -695.7221509444416 final cost -695.7249543389183\n",
      "initial cost -695.7249543389183 final cost -695.7274774036513\n",
      "initial cost -695.7274774036513 final cost -695.7297481697711\n",
      "initial cost -695.7297481697711 final cost -695.7317918656458\n",
      "initial cost -695.7317918656458 final cost -695.7336311970901\n",
      "initial cost -695.7336311970901 final cost -695.7352865995672\n",
      "initial cost -695.7352865995672 final cost -695.7367764651799\n",
      "initial cost -695.7367764651799 final cost -695.7381173469722\n",
      "initial cost -695.7381173469722 final cost -695.7393241428052\n",
      "initial cost -695.7393241428052 final cost -695.7404102608531\n",
      "initial cost -695.7404102608531 final cost -695.7413877685526\n",
      "initial cost -695.7413877685526 final cost -695.7422675266621\n",
      "initial cost -695.7422675266621 final cost -695.7430593099161\n",
      "initial cost -695.7430593099161 final cost -695.7437719156188\n",
      "initial cost -695.7437719156188 final cost -695.7444132613782\n",
      "initial cost -695.7444132613782 final cost -695.7449904730697\n",
      "initial cost -695.7449904730697 final cost -695.7455099640032\n",
      "initial cost -695.7455099640032 final cost -695.7459775061766\n",
      "initial cost -695.7459775061766 final cost -695.7463982944025\n",
      "initial cost -695.7463982944025 final cost -695.7467770040246\n",
      "initial cost -695.7467770040246 final cost -695.7471178428614\n",
      "initial cost -695.7471178428614 final cost -695.7474245979579\n",
      "initial cost -695.7474245979579 final cost -695.7477006776611\n",
      "initial cost -695.7477006776611 final cost -695.747949149488\n",
      "initial cost -695.747949149488 final cost -695.7481727742085\n",
      "initial cost -695.7481727742085 final cost -695.7483740365186\n",
      "initial cost -695.7483740365186 final cost -695.7485551726477\n",
      "initial cost -695.7485551726477 final cost -695.7487181952044\n",
      "initial cost -695.7487181952044 final cost -695.7488649155383\n",
      "initial cost -695.7488649155383 final cost -695.7489969638655\n",
      "initial cost -695.7489969638655 final cost -695.7491158073814\n",
      "initial cost -695.7491158073814 final cost -695.7492227665631\n"
     ]
    }
   ],
   "source": [
    "initial_theta  = 0\n",
    "initial_theta0 = 0\n",
    "alpha = 0.1\n",
    "epsilon = 0.0001\n",
    "\n",
    "def y_cap(theta0 , theta , data):\n",
    "    return theta0 + np.dot(np.array(data[:,0]),theta)\n",
    "\n",
    "while(True):\n",
    "\n",
    "    del_theta0 = (1/train_data.shape[0]) * np.sum((y_cap(initial_theta0 ,initial_theta , train_data) - (train_data[:,1])))\n",
    "    del_theta = (1/train_data.shape[0]) * np.dot((y_cap(initial_theta0 ,initial_theta, train_data) - (train_data[:,1])) , \n",
    "                                 (train_data[:,0]))\n",
    "\n",
    "    final_theta0 = initial_theta0 - alpha * del_theta0\n",
    "    final_theta  = initial_theta  - alpha * del_theta\n",
    "\n",
    "    initial_cost =  -(1/2) * np.sum((y_cap(initial_theta , initial_theta0,train_data) - (train_data[:,1])) **2 )\n",
    "    final_cost  =  -(1/2) * np.sum((y_cap(final_theta , final_theta0, train_data) - (train_data[:,1])) **2 )\n",
    "\n",
    "    if(abs(initial_cost - final_cost)) < epsilon:\n",
    "            break\n",
    "        \n",
    "    print(\"initial cost {} final cost {}\".format(initial_cost , final_cost))\n",
    "    initial_theta0 = final_theta0\n",
    "    initial_theta = final_theta"
   ]
  },
  {
   "cell_type": "markdown",
   "metadata": {},
   "source": [
    "# Ok, Now we have intercept as well as coeffcient ( Slope )"
   ]
  },
  {
   "cell_type": "code",
   "execution_count": 9,
   "metadata": {},
   "outputs": [
    {
     "name": "stdout",
     "output_type": "stream",
     "text": [
      "Slope :  0.9953386624753112\n",
      "intercept : -0.00000000000000026722\n"
     ]
    }
   ],
   "source": [
    "print(\"Slope : \" ,final_theta)\n",
    "print('intercept : %.20f'%final_theta0)"
   ]
  },
  {
   "cell_type": "code",
   "execution_count": 10,
   "metadata": {},
   "outputs": [
    {
     "name": "stdout",
     "output_type": "stream",
     "text": [
      "R2 :  0.9906990530181421\n",
      "Residual Sum of Square Error :  1.4129441763292652\n",
      "Mean square error : 1.9906990530181423\n"
     ]
    }
   ],
   "source": [
    "def rs_quare(data):\n",
    "    deno = np.sum(( data[:,1] - np.mean(data[:,1]) )** 2)\n",
    "    num = np.sum(( y_cap(final_theta ,final_theta0, data) - np.mean(data[:,1])) ** 2)\n",
    "    r2 = num / deno\n",
    "    #rss = np.sum(( data[:,1]  - y_cap(final_theta , final_theta0 , data) )** 2)\n",
    "    #tss = np.sum(( data[:,1] - np.mean(data[:,1]) )** 2)\n",
    "    #r2 = ( (tss - rss) / tss)\n",
    "    return r2\n",
    "\n",
    "def rs_error(data):\n",
    "    rss = np.sqrt(np.sum(( data[:,1]  - y_cap(final_theta , final_theta0 , data) )** 2) / (data.shape[0] - 2) )\n",
    "    return rss\n",
    "\n",
    "def mse(data):\n",
    "    return  np.sum(( data[:,1]  - y_cap(final_theta , final_theta0,data) )** 2) / data.shape[0]\n",
    "    \n",
    "print(\"R2 : \",rs_quare(train_data))\n",
    "print('Residual Sum of Square Error : ',rs_error(train_data))\n",
    "print(\"Mean square error :\", mse(train_data))"
   ]
  },
  {
   "cell_type": "markdown",
   "metadata": {},
   "source": [
    "# Now we plot a line with training data "
   ]
  },
  {
   "cell_type": "code",
   "execution_count": 11,
   "metadata": {},
   "outputs": [
    {
     "data": {
      "image/png": "[encoded data removed]",
      "text/plain": [
       "<Figure size 432x288 with 1 Axes>"
      ]
     },
     "metadata": {},
     "output_type": "display_data"
    }
   ],
   "source": [
    "plt.scatter(train_data[:,0],train_data[:,1],c = ['grey'])\n",
    "plot_x = train_data[:,0] \n",
    "plot_y = final_theta0 + final_theta * train_data[:,0]\n",
    "plt.plot(plot_x, plot_y,c = 'black')\n",
    "plt.show()\n"
   ]
  },
  {
   "cell_type": "markdown",
   "metadata": {},
   "source": [
    "# Plot with a testing data "
   ]
  },
  {
   "cell_type": "code",
   "execution_count": 12,
   "metadata": {},
   "outputs": [
    {
     "data": {
      "image/png": "[encoded data removed]",
      "text/plain": [
       "<Figure size 432x288 with 1 Axes>"
      ]
     },
     "metadata": {},
     "output_type": "display_data"
    }
   ],
   "source": [
    "plt.scatter(test_data[:,0],test_data[:,1],c = ['grey'])\n",
    "plot_x = test_data[:,0] \n",
    "plot_y = final_theta0 + final_theta * test_data[:,0]\n",
    "plt.plot(plot_x, plot_y,c = 'black')\n",
    "plt.show()"
   ]
  },
  {
   "cell_type": "markdown",
   "metadata": {},
   "source": [
    "# Perfect! Note this we dont normalize the testing data but it still give us good fit line\n",
    "\n",
    "# I think best way to check our output is check with sklearn library output"
   ]
  },
  {
   "cell_type": "code",
   "execution_count": 13,
   "metadata": {},
   "outputs": [
    {
     "name": "stdout",
     "output_type": "stream",
     "text": [
      "Coefficients :  0.9953399077212521\n",
      "Intercept : -0.00000000000000023392\n",
      "Mean squared error : 9.7122676345\n",
      "Variance score : 0.9884698117\n"
     ]
    }
   ],
   "source": [
    "from sklearn import linear_model\n",
    "from sklearn.metrics import mean_squared_error, r2_score\n",
    "\n",
    "regr = linear_model.LinearRegression()\n",
    "regr.fit(train_data[:,0].reshape(699,1), train_data[:,1])\n",
    "diabetes_y_pred = regr.predict(np.array(test_data[:,0]).reshape(300,1))\n",
    "\n",
    "print('Coefficients : ', list(regr.coef_)[0])\n",
    "print('Intercept : %.20f'% regr.intercept_)\n",
    "print(\"Mean squared error : %.10f\"% mean_squared_error( np.array(test_data[:,1]) , diabetes_y_pred ) )\n",
    "print('Variance score : %.10f' % r2_score( np.array(test_data[:,1]) , diabetes_y_pred ))\n"
   ]
  },
  {
   "cell_type": "code",
   "execution_count": 14,
   "metadata": {},
   "outputs": [
    {
     "name": "stdout",
     "output_type": "stream",
     "text": [
      "Predicted Slope :  0.9953386624753112\n",
      "Predicted Intercept : -0.00000000000000026722\n",
      "Variance Score :  0.9906990530181421\n"
     ]
    }
   ],
   "source": [
    "print(\"Predicted Slope : \" ,final_theta)\n",
    "print('Predicted Intercept : %.20f'%final_theta0)\n",
    "print(\"Variance Score : \",rs_quare(train_data))"
   ]
  },
  {
   "cell_type": "markdown",
   "metadata": {},
   "source": [
    "# !!!!Splash!!!!###"
   ]
  }
 ],
 "metadata": {
  "kernelspec": {
   "display_name": "Python 3",
   "language": "python",
   "name": "python3"
  },
  "language_info": {
   "codemirror_mode": {
    "name": "ipython",
    "version": 3
   },
   "file_extension": ".py",
   "mimetype": "text/x-python",
   "name": "python",
   "nbconvert_exporter": "python",
   "pygments_lexer": "ipython3",
   "version": "3.6.5"
  }
 },
 "nbformat": 4,
 "nbformat_minor": 2
}
