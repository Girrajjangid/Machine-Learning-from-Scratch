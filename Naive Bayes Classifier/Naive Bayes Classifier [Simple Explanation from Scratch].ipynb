{
 "cells": [
  {
   "cell_type": "markdown",
   "metadata": {},
   "source": [
    "# Naive Bayes Classifier:\n",
    "\n",
    "Naive Bayes is a family of probabilistic algorithms that can be used in a wide variety of classification tasks.Typical application including filtering spam, classifying document, sentiment prediction etc. It is based on the \"Reverend Thomas Bayes\" or Bayes Theorem.\n",
    "\n",
    "The name **Naive** is used because it assumes the features that go into the model is independent of each other. That is changing the value of one feature, does not directly influence or change the value of any of the features used in the algorithm.\n",
    "\n",
    "Why it is popular? easy to code, easily predict the model\n",
    "\n",
    "\n",
    "# Conditional Probability:\n",
    "Conditional Probability is the probability of a certain event (A) given that another event has occurred (B).\n",
    "\n",
    "The conditional probability of A given B is defined as the quotient of the probability of the joint of events A and B, and the probability of B:\n",
    "\n",
    "$$P(A | B)=\\frac{P(A \\cap B)}{P(B)}$$\n",
    "\n",
    "where  $P(A \\cap B)$  is the probability that both events A and B occur.\n",
    "\n",
    "# Bayes Rule:\n",
    "The bayes rule is a way of going from P(A|B) known to the training dataset to find P(B|A)\n",
    "\n",
    "$$P(A | B)=\\frac{P(B | A) P(A)}{P(B)}$$\n",
    "this is called bayes rule\n",
    "$$\n",
    "{posterior} =\\frac{\\text { likelihood } \\times \\text { prior }}{\\text { evidence }}\n",
    "$$\n",
    "where:\n",
    "$\\frac{P(B | A)}{P(B)}$ is liklihood ratio\n",
    "\n",
    "**Posterior probability P(A|B) :** It is equals the prior probability times the liklihood ratio. OR The probability of hypothesis after getting the evidence\n",
    "\n",
    "**Prior probability P(A) :** The probability of hypothesis before getting the evidence   \n",
    "\n",
    "**Likelihood probability P(B|A):**  It is the condition probability of each B's given 'A' is of particular class 'C'\n",
    "P(A|B) is a conditional probability: the likelihood of event 'A' occurring given that  'B' is true.\n",
    "\n",
    "**Marginal Likelihood probability P(B):** this is the total probability of observing the evidence also called as **Mixture of Gaussian** , **Partition Function** , **Total probability**.\n",
    "\n",
    "# Bayes Theorem:\n",
    "It is a way of finding a probability when we know certain other probability.\n",
    "\n",
    "It tell us: how often A happen given that B happen P(A|B)\n",
    "\n",
    "When we know:  how often B happens given that A happen P(B|A)\n",
    "\n",
    "so the formula kind of tells us **Forward** P(A|B) when we know **Backward** P(B|A)\n",
    "\n",
    "*Bayes theorem is derived from conditional probabilities*\n",
    "\n",
    "*Bayes theorem is an extension of conditional probability and it helps to use one conditional probability to calculate another one.*\n",
    "\n",
    "Bayes' theorem is how to flip conditional probability. If you know P(X|Y) (the probability of X given Y), Bayes' theorem tells you how to calculate P(Y|X).\n",
    "\n",
    "\n",
    "When the features are independent we can extend the Bayes rule to what is called **Naive Bayes**\n",
    "\n",
    "$$\n",
    "P\\left(A | B_{1},B_{2}, \\ldots, B_{n}\\right)=\\frac{P\\left(B_{1} | A\\right) P\\left(B_{2} | A\\right) \\ldots P\\left(B_{n} | A\\right) P(A)}{P\\left(B_{1}\\right) P\\left(B_{2}\\right) \\ldots P\\left(B_{n}\\right)}\n",
    "$$\n",
    "\n",
    "For all entries in the dataset, the denominator does not change, it remain static. Therefore, the denominator can be removed and a proportionality can be introduced.\n",
    "\n",
    "$$\n",
    "P\\left(A | B_{1},B_{2} \\ldots, B_{n}\\right) \\propto P(A) \\prod_{i=1}^{n} P\\left(B_{i} | y\\right)\n",
    "$$\n",
    "\n",
    "\n",
    "## Types of Naive Bayes Classifier:\n",
    "### Multinomial Naive Bayes:\n",
    "This is mostly used for document classification problem, i.e whether a document belongs to the category of sports, politics, technology etc. The features/predictors used by the classifier are the frequency of the words present in the document.\n",
    "\n",
    "### Bernoulli Naive Bayes:\n",
    "This is similar to the multinomial naive bayes but the predictors are boolean variables. The parameters that we use to predict the class variable take up only values yes or no, for example if a word occurs in the text or not.\n",
    "\n",
    "### Gaussian Naive Bayes:\n",
    "When the predictors take up a continuous value and are not discrete, we assume that these values are sampled from a gaussian distribution.\n",
    "\n",
    "$$\n",
    "P\\left(x_{i} | y\\right)=\\frac{1}{\\sqrt{2 \\pi \\sigma_{y}^{2}}} \\exp \\left(-\\frac{\\left(x_{i}-\\mu_{y}\\right)^{2}}{2 \\sigma_{y}^{2}}\\right)\n",
    "$$\n"
   ]
  },
  {
   "cell_type": "markdown",
   "metadata": {},
   "source": [
    "# Lets do some code"
   ]
  },
  {
   "cell_type": "code",
   "execution_count": 1,
   "metadata": {},
   "outputs": [],
   "source": [
    "import pandas as pd\n",
    "import numpy as np\n"
   ]
  },
  {
   "cell_type": "code",
   "execution_count": 20,
   "metadata": {},
   "outputs": [
    {
     "data": {
      "text/html": [
       "<div>\n",
       "<style scoped>\n",
       "    .dataframe tbody tr th:only-of-type {\n",
       "        vertical-align: middle;\n",
       "    }\n",
       "\n",
       "    .dataframe tbody tr th {\n",
       "        vertical-align: top;\n",
       "    }\n",
       "\n",
       "    .dataframe thead th {\n",
       "        text-align: right;\n",
       "    }\n",
       "</style>\n",
       "<table border=\"1\" class=\"dataframe\">\n",
       "  <thead>\n",
       "    <tr style=\"text-align: right;\">\n",
       "      <th></th>\n",
       "      <th>Height</th>\n",
       "      <th>Weight</th>\n",
       "      <th>Foot_Size</th>\n",
       "      <th>Gender</th>\n",
       "    </tr>\n",
       "  </thead>\n",
       "  <tbody>\n",
       "    <tr>\n",
       "      <th>0</th>\n",
       "      <td>6.00</td>\n",
       "      <td>180</td>\n",
       "      <td>12</td>\n",
       "      <td>male</td>\n",
       "    </tr>\n",
       "    <tr>\n",
       "      <th>1</th>\n",
       "      <td>5.92</td>\n",
       "      <td>190</td>\n",
       "      <td>11</td>\n",
       "      <td>male</td>\n",
       "    </tr>\n",
       "    <tr>\n",
       "      <th>2</th>\n",
       "      <td>5.58</td>\n",
       "      <td>170</td>\n",
       "      <td>12</td>\n",
       "      <td>male</td>\n",
       "    </tr>\n",
       "    <tr>\n",
       "      <th>3</th>\n",
       "      <td>5.92</td>\n",
       "      <td>165</td>\n",
       "      <td>10</td>\n",
       "      <td>male</td>\n",
       "    </tr>\n",
       "    <tr>\n",
       "      <th>4</th>\n",
       "      <td>5.00</td>\n",
       "      <td>100</td>\n",
       "      <td>6</td>\n",
       "      <td>female</td>\n",
       "    </tr>\n",
       "    <tr>\n",
       "      <th>5</th>\n",
       "      <td>5.50</td>\n",
       "      <td>150</td>\n",
       "      <td>8</td>\n",
       "      <td>female</td>\n",
       "    </tr>\n",
       "    <tr>\n",
       "      <th>6</th>\n",
       "      <td>5.42</td>\n",
       "      <td>130</td>\n",
       "      <td>7</td>\n",
       "      <td>female</td>\n",
       "    </tr>\n",
       "    <tr>\n",
       "      <th>7</th>\n",
       "      <td>5.75</td>\n",
       "      <td>150</td>\n",
       "      <td>9</td>\n",
       "      <td>female</td>\n",
       "    </tr>\n",
       "  </tbody>\n",
       "</table>\n",
       "</div>"
      ],
      "text/plain": [
       "   Height  Weight  Foot_Size  Gender\n",
       "0    6.00     180         12    male\n",
       "1    5.92     190         11    male\n",
       "2    5.58     170         12    male\n",
       "3    5.92     165         10    male\n",
       "4    5.00     100          6  female\n",
       "5    5.50     150          8  female\n",
       "6    5.42     130          7  female\n",
       "7    5.75     150          9  female"
      ]
     },
     "execution_count": 20,
     "metadata": {},
     "output_type": "execute_result"
    }
   ],
   "source": [
    "training_data = pd.DataFrame()\n",
    "\n",
    "# Create our feature variables\n",
    "training_data['Height'] = [6,5.92,5.58,5.92,5,5.5,5.42,5.75]\n",
    "training_data['Weight'] = [180,190,170,165,100,150,130,150]\n",
    "training_data['Foot_Size'] = [12,11,12,10,6,8,7,9]\n",
    "# Create our target variable\n",
    "training_data['Gender'] = ['male','male','male','male','female','female','female','female']\n",
    "training_data"
   ]
  },
  {
   "cell_type": "code",
   "execution_count": 22,
   "metadata": {},
   "outputs": [
    {
     "data": {
      "text/html": [
       "<div>\n",
       "<style scoped>\n",
       "    .dataframe tbody tr th:only-of-type {\n",
       "        vertical-align: middle;\n",
       "    }\n",
       "\n",
       "    .dataframe tbody tr th {\n",
       "        vertical-align: top;\n",
       "    }\n",
       "\n",
       "    .dataframe thead th {\n",
       "        text-align: right;\n",
       "    }\n",
       "</style>\n",
       "<table border=\"1\" class=\"dataframe\">\n",
       "  <thead>\n",
       "    <tr style=\"text-align: right;\">\n",
       "      <th></th>\n",
       "      <th>Height</th>\n",
       "      <th>Weight</th>\n",
       "      <th>Foot_Size</th>\n",
       "    </tr>\n",
       "  </thead>\n",
       "  <tbody>\n",
       "    <tr>\n",
       "      <th>0</th>\n",
       "      <td>6</td>\n",
       "      <td>130</td>\n",
       "      <td>8</td>\n",
       "    </tr>\n",
       "  </tbody>\n",
       "</table>\n",
       "</div>"
      ],
      "text/plain": [
       "   Height  Weight  Foot_Size\n",
       "0       6     130          8"
      ]
     },
     "execution_count": 22,
     "metadata": {},
     "output_type": "execute_result"
    }
   ],
   "source": [
    "testing_data = pd.DataFrame()\n",
    "testing_data['Height'] = [6]\n",
    "testing_data['Weight'] = [130]\n",
    "testing_data['Foot_Size'] = [8] \n",
    "testing_data"
   ]
  },
  {
   "cell_type": "markdown",
   "metadata": {},
   "source": [
    "#### Now our task is to predict this person  is male or female\n",
    "\n",
    "$$\n",
    "\\begin{array}{c}{P( {Male } |  { Height \\cap Weight \\cap FootSize  })=\\frac{P( { Height \\cap Weight \\cap Foot_Size  } |  { Male}) * P( { Male })}{P( { Height \\cap Weight \\cap FootSize })}} \\\\ {P( { Female } |  { Height \\cap Weight \\cap FootSize })=\\frac{P( { Height \\cap Weight \\cap FootSize } |  { Female)* } P( { Female })}{P( { Height \\cap Weight \\cap FootSize  })}}\\end{array}\n",
    "$$\n",
    "\n",
    "#### by using gaussian naive bayes\n",
    "\n",
    "$$\n",
    "\\begin{array}{c}{\\text { posterior (male } )=\\frac{P(\\text { male }) p(\\text { height } | \\text { male }) p(\\text { weight } | \\text { male }) p(\\text { foot size } | \\text { male })}{\\text { marginal probability }}} \\\\ {\\text { posterior (female) }=\\frac{P(\\text { female }) p(\\text { height } | \\text { female }) p(\\text { weight } | \\text { female }) p(\\text { foot size } | \\text { female })}{\\text { marginal probability }}}\\end{array}\n",
    "$$"
   ]
  },
  {
   "cell_type": "code",
   "execution_count": 183,
   "metadata": {},
   "outputs": [
    {
     "data": {
      "text/html": [
       "<div>\n",
       "<style scoped>\n",
       "    .dataframe tbody tr th:only-of-type {\n",
       "        vertical-align: middle;\n",
       "    }\n",
       "\n",
       "    .dataframe tbody tr th {\n",
       "        vertical-align: top;\n",
       "    }\n",
       "\n",
       "    .dataframe thead th {\n",
       "        text-align: right;\n",
       "    }\n",
       "</style>\n",
       "<table border=\"1\" class=\"dataframe\">\n",
       "  <thead>\n",
       "    <tr style=\"text-align: right;\">\n",
       "      <th></th>\n",
       "      <th>Height</th>\n",
       "      <th>Weight</th>\n",
       "      <th>Foot_Size</th>\n",
       "    </tr>\n",
       "    <tr>\n",
       "      <th>Gender</th>\n",
       "      <th></th>\n",
       "      <th></th>\n",
       "      <th></th>\n",
       "    </tr>\n",
       "  </thead>\n",
       "  <tbody>\n",
       "    <tr>\n",
       "      <th>female</th>\n",
       "      <td>5.4175</td>\n",
       "      <td>132.50</td>\n",
       "      <td>7.50</td>\n",
       "    </tr>\n",
       "    <tr>\n",
       "      <th>male</th>\n",
       "      <td>5.8550</td>\n",
       "      <td>176.25</td>\n",
       "      <td>11.25</td>\n",
       "    </tr>\n",
       "  </tbody>\n",
       "</table>\n",
       "</div>"
      ],
      "text/plain": [
       "        Height  Weight  Foot_Size\n",
       "Gender                           \n",
       "female  5.4175  132.50       7.50\n",
       "male    5.8550  176.25      11.25"
      ]
     },
     "execution_count": 183,
     "metadata": {},
     "output_type": "execute_result"
    }
   ],
   "source": [
    "n_male = training_data['Gender'][training_data['Gender'] == 'male'].count()\n",
    "n_female = training_data['Gender'][training_data['Gender'] == 'female'].count()\n",
    "total_ppl = training_data['Gender'].count()\n",
    "\n",
    "# group data by classes\n",
    "data_means = training_data.groupby('Gender').mean()\n",
    "data_means"
   ]
  },
  {
   "cell_type": "code",
   "execution_count": 184,
   "metadata": {},
   "outputs": [
    {
     "data": {
      "text/html": [
       "<div>\n",
       "<style scoped>\n",
       "    .dataframe tbody tr th:only-of-type {\n",
       "        vertical-align: middle;\n",
       "    }\n",
       "\n",
       "    .dataframe tbody tr th {\n",
       "        vertical-align: top;\n",
       "    }\n",
       "\n",
       "    .dataframe thead th {\n",
       "        text-align: right;\n",
       "    }\n",
       "</style>\n",
       "<table border=\"1\" class=\"dataframe\">\n",
       "  <thead>\n",
       "    <tr style=\"text-align: right;\">\n",
       "      <th></th>\n",
       "      <th>Height</th>\n",
       "      <th>Weight</th>\n",
       "      <th>Foot_Size</th>\n",
       "    </tr>\n",
       "    <tr>\n",
       "      <th>Gender</th>\n",
       "      <th></th>\n",
       "      <th></th>\n",
       "      <th></th>\n",
       "    </tr>\n",
       "  </thead>\n",
       "  <tbody>\n",
       "    <tr>\n",
       "      <th>female</th>\n",
       "      <td>0.097225</td>\n",
       "      <td>558.333333</td>\n",
       "      <td>1.666667</td>\n",
       "    </tr>\n",
       "    <tr>\n",
       "      <th>male</th>\n",
       "      <td>0.035033</td>\n",
       "      <td>122.916667</td>\n",
       "      <td>0.916667</td>\n",
       "    </tr>\n",
       "  </tbody>\n",
       "</table>\n",
       "</div>"
      ],
      "text/plain": [
       "          Height      Weight  Foot_Size\n",
       "Gender                                 \n",
       "female  0.097225  558.333333   1.666667\n",
       "male    0.035033  122.916667   0.916667"
      ]
     },
     "execution_count": 184,
     "metadata": {},
     "output_type": "execute_result"
    }
   ],
   "source": [
    "# Group the data by gender and calculate the variance of each feature\n",
    "data_variance = data.groupby('Gender').var()\n",
    "\n",
    "data_variance"
   ]
  },
  {
   "cell_type": "code",
   "execution_count": 185,
   "metadata": {},
   "outputs": [
    {
     "data": {
      "text/plain": [
       "0.0350333333333333"
      ]
     },
     "execution_count": 185,
     "metadata": {},
     "output_type": "execute_result"
    }
   ],
   "source": [
    "# Means for male\n",
    "male_height_mean = data_means['Height'][data_variance.index == 'male'].values[0]\n",
    "male_weight_mean = data_means['Weight'][data_variance.index == 'male'].values[0]\n",
    "male_footsize_mean = data_means['Foot_Size'][data_variance.index == 'male'].values[0]\n",
    "\n",
    "# Variance for male\n",
    "male_height_variance = data_variance['Height'][data_variance.index == 'male'].values[0]\n",
    "male_weight_variance = data_variance['Weight'][data_variance.index == 'male'].values[0]\n",
    "male_footsize_variance = data_variance['Foot_Size'][data_variance.index == 'male'].values[0]\n",
    "\n",
    "# Means for female\n",
    "female_height_mean = data_means['Height'][data_variance.index == 'female'].values[0]\n",
    "female_weight_mean = data_means['Weight'][data_variance.index == 'female'].values[0]\n",
    "female_footsize_mean = data_means['Foot_Size'][data_variance.index == 'female'].values[0]\n",
    "\n",
    "# Variance for female\n",
    "female_height_variance = data_variance['Height'][data_variance.index == 'female'].values[0]\n",
    "female_weight_variance = data_variance['Weight'][data_variance.index == 'female'].values[0]\n",
    "female_footsize_variance = data_variance['Foot_Size'][data_variance.index == 'female'].values[0]\n",
    "\n",
    "male_height_variance"
   ]
  },
  {
   "cell_type": "markdown",
   "metadata": {},
   "source": [
    "$$\n",
    "P\\left(x_{i} | y\\right)=\\frac{1}{\\sqrt{2 \\pi \\sigma_{y}^{2}}} \\exp \\left(-\\frac{\\left(x_{i}-\\mu_{y}\\right)^{2}}{2 \\sigma_{y}^{2}}\\right)\n",
    "$$\n",
    "\n",
    "#### Now we calculate the probability use this function"
   ]
  },
  {
   "cell_type": "code",
   "execution_count": 187,
   "metadata": {},
   "outputs": [
    {
     "data": {
      "text/plain": [
       "6.197071843878078e-09"
      ]
     },
     "execution_count": 187,
     "metadata": {},
     "output_type": "execute_result"
    }
   ],
   "source": [
    "def p_x_given_y(x, mean_y, variance_y):\n",
    "    \n",
    "    # Input the arguments into a probability density function\n",
    "    p = 1/(np.sqrt(2*np.pi*variance_y)) * np.exp((-( x - mean_y)**2) / (2 * variance_y))\n",
    "    \n",
    "    # return p\n",
    "    return p\n",
    "\n",
    "P_male = n_male/total_ppl\n",
    "\n",
    "P_male = P_male * \\\n",
    "p_x_given_y(person['Height'][0], male_height_mean, male_height_variance) * \\\n",
    "p_x_given_y(person['Weight'][0], male_weight_mean, male_weight_variance) * \\\n",
    "p_x_given_y(person['Foot_Size'][0], male_footsize_mean, male_footsize_variance)\n",
    "\n",
    "P_male"
   ]
  },
  {
   "cell_type": "code",
   "execution_count": 246,
   "metadata": {},
   "outputs": [
    {
     "data": {
      "text/plain": [
       "0.0005377909183630018"
      ]
     },
     "execution_count": 246,
     "metadata": {},
     "output_type": "execute_result"
    }
   ],
   "source": [
    "P_female = n_female/total_ppl\n",
    "\n",
    "P_female = P_female * \\\n",
    "p_x_given_y(person['Height'][0], female_height_mean, female_height_variance) * \\\n",
    "p_x_given_y(person['Weight'][0], female_weight_mean, female_weight_variance) * \\\n",
    "p_x_given_y(person['Foot_Size'][0], female_footsize_mean, female_footsize_variance)\n",
    "P_female"
   ]
  },
  {
   "cell_type": "code",
   "execution_count": 199,
   "metadata": {},
   "outputs": [
    {
     "name": "stdout",
     "output_type": "stream",
     "text": [
      "Person is Female\n"
     ]
    }
   ],
   "source": [
    "if (P_female > P_male):\n",
    "    print('Person is Female')\n",
    "else:\n",
    "    print('Person is male')"
   ]
  }
 ],
 "metadata": {
  "kernelspec": {
   "display_name": "Python 3",
   "language": "python",
   "name": "python3"
  },
  "language_info": {
   "codemirror_mode": {
    "name": "ipython",
    "version": 3
   },
   "file_extension": ".py",
   "mimetype": "text/x-python",
   "name": "python",
   "nbconvert_exporter": "python",
   "pygments_lexer": "ipython3",
   "version": "3.6.5"
  }
 },
 "nbformat": 4,
 "nbformat_minor": 2
}
