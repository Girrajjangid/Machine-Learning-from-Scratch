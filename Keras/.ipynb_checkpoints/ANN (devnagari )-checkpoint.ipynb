{
 "cells": [
  {
   "cell_type": "code",
   "execution_count": 1,
   "metadata": {},
   "outputs": [
    {
     "name": "stderr",
     "output_type": "stream",
     "text": [
      "Using TensorFlow backend.\n"
     ]
    }
   ],
   "source": [
    "import numpy as np\n",
    "import pandas as pd\n",
    "from keras.layers import Dense\n",
    "from keras.models import Sequential\n",
    "from keras.utils import to_categorical\n",
    "import glob\n",
    "import matplotlib.pyplot as plt"
   ]
  },
  {
   "cell_type": "code",
   "execution_count": 2,
   "metadata": {},
   "outputs": [],
   "source": [
    "path = '../../DataSets/DevanagariHandwrittenCharacterDataset/Train/*'\n",
    "train_l = []\n",
    "train_d = [] # pixels 32*32\n",
    "for label ,folder_name in enumerate(glob.glob(path)):\n",
    "    for image in (glob.glob(folder_name+'/*')):\n",
    "        imgdata = plt.imread(image).ravel()  # return (1024,) array  \n",
    "        train_d.append(imgdata)\n",
    "        train_l.append(label)\n",
    "# takes 20 sec"
   ]
  },
  {
   "cell_type": "code",
   "execution_count": 3,
   "metadata": {},
   "outputs": [],
   "source": [
    "path = '../../DataSets/DevanagariHandwrittenCharacterDataset/Test/*'\n",
    "test_l = []\n",
    "test_d = [] # pixels 32*32\n",
    "for label ,folder_name in enumerate(glob.glob(path)):\n",
    "    for image in (glob.glob(folder_name+'/*')):\n",
    "        imgdata = plt.imread(image).ravel()  # return (1024,) array  \n",
    "        test_d.append(imgdata)\n",
    "        test_l.append(label)\n",
    "# takes 10 sec"
   ]
  },
  {
   "cell_type": "code",
   "execution_count": 4,
   "metadata": {},
   "outputs": [],
   "source": [
    "train_data = np.vstack(train_d)\n",
    "train_label = np.vstack(train_l)\n",
    "test_data = np.vstack(test_d)\n",
    "test_label = np.vstack(test_l)\n",
    "del train_d , train_l , test_d , test_l  # free memory"
   ]
  },
  {
   "cell_type": "code",
   "execution_count": 5,
   "metadata": {},
   "outputs": [],
   "source": [
    "train_labels = to_categorical(train_label)\n",
    "test_labels = to_categorical(test_label)"
   ]
  },
  {
   "cell_type": "code",
   "execution_count": 6,
   "metadata": {},
   "outputs": [
    {
     "name": "stdout",
     "output_type": "stream",
     "text": [
      "WARNING:tensorflow:From C:\\Users\\GirrajJangid\\Anaconda3\\envs\\python_gpu\\lib\\site-packages\\tensorflow\\python\\framework\\op_def_library.py:263: colocate_with (from tensorflow.python.framework.ops) is deprecated and will be removed in a future version.\n",
      "Instructions for updating:\n",
      "Colocations handled automatically by placer.\n",
      "WARNING:tensorflow:From C:\\Users\\GirrajJangid\\Anaconda3\\envs\\python_gpu\\lib\\site-packages\\tensorflow\\python\\ops\\math_ops.py:3066: to_int32 (from tensorflow.python.ops.math_ops) is deprecated and will be removed in a future version.\n",
      "Instructions for updating:\n",
      "Use tf.cast instead.\n",
      "Epoch 1/10\n",
      "78200/78200 [==============================] - 44s 567us/step - loss: 0.7020 - acc: 0.7945\n",
      "Epoch 2/10\n",
      "78200/78200 [==============================] - 36s 455us/step - loss: 0.2980 - acc: 0.9104\n",
      "Epoch 3/10\n",
      "78200/78200 [==============================] - 34s 438us/step - loss: 0.2210 - acc: 0.9339\n",
      "Epoch 4/10\n",
      "78200/78200 [==============================] - 34s 430us/step - loss: 0.1764 - acc: 0.9482\n",
      "Epoch 5/10\n",
      "78200/78200 [==============================] - 33s 423us/step - loss: 0.1567 - acc: 0.9557\n",
      "Epoch 6/10\n",
      "78200/78200 [==============================] - 34s 431us/step - loss: 0.1519 - acc: 0.9579\n",
      "Epoch 7/10\n",
      "78200/78200 [==============================] - 37s 479us/step - loss: 0.1326 - acc: 0.9651\n",
      "Epoch 8/10\n",
      "78200/78200 [==============================] - 34s 432us/step - loss: 0.1307 - acc: 0.9670\n",
      "Epoch 9/10\n",
      "78200/78200 [==============================] - 33s 423us/step - loss: 0.1295 - acc: 0.9688\n",
      "Epoch 10/10\n",
      "78200/78200 [==============================] - 33s 427us/step - loss: 0.1281 - acc: 0.9701\n"
     ]
    },
    {
     "data": {
      "text/plain": [
       "<keras.callbacks.History at 0x14ef5c56da0>"
      ]
     },
     "execution_count": 6,
     "metadata": {},
     "output_type": "execute_result"
    }
   ],
   "source": [
    "model = Sequential()\n",
    "model.add(Dense(1024,activation = 'relu', input_shape = (1024,)) )\n",
    "model.add(Dense(1024,activation = 'relu' ))\n",
    "model.add(Dense(1024,activation =  'relu' ))\n",
    "model.add(Dense(46,activation = 'softmax'))\n",
    "model.compile(optimizer = 'adam',loss = 'categorical_crossentropy',metrics = ['accuracy'])\n",
    "model.fit(train_data,train_labels,epochs=10)"
   ]
  },
  {
   "cell_type": "code",
   "execution_count": 7,
   "metadata": {},
   "outputs": [
    {
     "name": "stdout",
     "output_type": "stream",
     "text": [
      "Test Data Accuracy :  94.0072463768116  %\n"
     ]
    }
   ],
   "source": [
    "predd = model.predict_classes(test_data)\n",
    "c = 0\n",
    "for i,j in enumerate(np.argmax(test_labels,axis=1)):\n",
    "    if j == predd[i]:\n",
    "        c += 1\n",
    "print(\"Test Data Accuracy : \",(c/len(test_labels))*100,' %')"
   ]
  },
  {
   "cell_type": "code",
   "execution_count": 8,
   "metadata": {},
   "outputs": [
    {
     "name": "stdout",
     "output_type": "stream",
     "text": [
      "Train Data Accuracy :  98.12020460358056  %\n"
     ]
    }
   ],
   "source": [
    "pred = model.predict_classes(train_data)\n",
    "c1 = 0\n",
    "for i,j in enumerate(np.argmax(train_labels,axis=1)):\n",
    "    if j == pred[i]:\n",
    "        c1+=1\n",
    "print(\"Train Data Accuracy : \",(c1/len(train_labels))*100,' %')"
   ]
  },
  {
   "cell_type": "code",
   "execution_count": 9,
   "metadata": {},
   "outputs": [
    {
     "name": "stdout",
     "output_type": "stream",
     "text": [
      "13800/13800 [==============================] - 1s 91us/step\n",
      "[0.33657147070863214, 0.9400724637681159]\n",
      "78200/78200 [==============================] - 7s 85us/step\n",
      "[0.07363861492612092, 0.9812020460358056]\n"
     ]
    }
   ],
   "source": [
    "print(model.evaluate(test_data,test_labels))\n",
    "print(model.evaluate(train_data,train_labels))\n"
   ]
  }
 ],
 "metadata": {
  "kernelspec": {
   "display_name": "Python 3",
   "language": "python",
   "name": "python3"
  },
  "language_info": {
   "codemirror_mode": {
    "name": "ipython",
    "version": 3
   },
   "file_extension": ".py",
   "mimetype": "text/x-python",
   "name": "python",
   "nbconvert_exporter": "python",
   "pygments_lexer": "ipython3",
   "version": "3.7.0"
  }
 },
 "nbformat": 4,
 "nbformat_minor": 2
}
