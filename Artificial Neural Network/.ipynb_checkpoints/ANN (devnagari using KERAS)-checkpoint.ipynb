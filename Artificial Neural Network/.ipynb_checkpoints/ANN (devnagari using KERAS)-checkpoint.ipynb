{
 "cells": [
  {
   "cell_type": "code",
   "execution_count": 12,
   "metadata": {},
   "outputs": [],
   "source": [
    "import numpy as np\n",
    "import pandas as pd\n",
    "from keras.layers import Dense\n",
    "from keras.models import Sequential\n",
    "from keras.utils import to_categorical"
   ]
  },
  {
   "cell_type": "code",
   "execution_count": 5,
   "metadata": {},
   "outputs": [],
   "source": [
    "path = '../../DataSets/DevanagariHandwrittenCharacterDataset/train_data.csv'\n",
    "train_data = pd.read_csv(path)\n",
    "path = '../../DataSets/DevanagariHandwrittenCharacterDataset/train_labels.csv'\n",
    "train_labels = pd.read_csv(path)\n",
    "path = '../../DataSets/DevanagariHandwrittenCharacterDataset/test_data.csv'\n",
    "test_data = pd.read_csv(path)\n",
    "path = '../../DataSets/DevanagariHandwrittenCharacterDataset/test_label.csv'\n",
    "test_labels = pd.read_csv(path)"
   ]
  },
  {
   "cell_type": "code",
   "execution_count": 15,
   "metadata": {},
   "outputs": [],
   "source": [
    "train_labels = to_categorical(train_labels)\n",
    "test_labels = to_categorical(test_labels)"
   ]
  },
  {
   "cell_type": "code",
   "execution_count": 69,
   "metadata": {},
   "outputs": [
    {
     "name": "stdout",
     "output_type": "stream",
     "text": [
      "Epoch 1/10\n",
      "78199/78199 [==============================] - 22s 276us/step - loss: 0.7129 - acc: 0.7925\n",
      "Epoch 2/10\n",
      "78199/78199 [==============================] - 21s 267us/step - loss: 0.2930 - acc: 0.9105\n",
      "Epoch 3/10\n",
      "78199/78199 [==============================] - 21s 264us/step - loss: 0.2162 - acc: 0.9348\n",
      "Epoch 4/10\n",
      "78199/78199 [==============================] - 21s 268us/step - loss: 0.1728 - acc: 0.9477\n",
      "Epoch 5/10\n",
      "78199/78199 [==============================] - 21s 269us/step - loss: 0.1581 - acc: 0.9551\n",
      "Epoch 6/10\n",
      "78199/78199 [==============================] - 21s 266us/step - loss: 0.1392 - acc: 0.9607\n",
      "Epoch 7/10\n",
      "78199/78199 [==============================] - 21s 267us/step - loss: 0.1304 - acc: 0.9634\n",
      "Epoch 8/10\n",
      "78199/78199 [==============================] - 20s 261us/step - loss: 0.1199 - acc: 0.9680\n",
      "Epoch 9/10\n",
      "78199/78199 [==============================] - 21s 265us/step - loss: 0.1174 - acc: 0.9701\n",
      "Epoch 10/10\n",
      "78199/78199 [==============================] - 21s 263us/step - loss: 0.1153 - acc: 0.9709\n"
     ]
    },
    {
     "data": {
      "text/plain": [
       "<keras.callbacks.History at 0x181db161518>"
      ]
     },
     "execution_count": 69,
     "metadata": {},
     "output_type": "execute_result"
    }
   ],
   "source": [
    "np.array(train_data)\n",
    "model = Sequential()\n",
    "model.add(Dense(1024,activation = 'relu', input_shape = (1024,)) )\n",
    "model.add(Dense(526,activation = 'relu' ))\n",
    "model.add(Dense(1024,activation =  'relu' ))\n",
    "model.add(Dense(46,activation = 'softmax'))\n",
    "model.compile(optimizer = 'adam',loss = 'categorical_crossentropy',metrics = ['accuracy'])\n",
    "model.fit(train_data,train_labels,epochs=10)"
   ]
  },
  {
   "cell_type": "code",
   "execution_count": 70,
   "metadata": {},
   "outputs": [
    {
     "name": "stdout",
     "output_type": "stream",
     "text": [
      "Test Data Accuracy :  93.44155373577796  %\n"
     ]
    }
   ],
   "source": [
    "predd = model.predict_classes(test_data)\n",
    "c = 0\n",
    "for i,j in enumerate(np.argmax(test_labels,axis=1)):\n",
    "    if j == predd[i]:\n",
    "        c += 1\n",
    "print(\"Test Data Accuracy : \",(c/len(test_labels))*100,' %')"
   ]
  },
  {
   "cell_type": "code",
   "execution_count": 71,
   "metadata": {},
   "outputs": [
    {
     "name": "stdout",
     "output_type": "stream",
     "text": [
      "Train Data Accuracy :  97.42068312894027  %\n"
     ]
    }
   ],
   "source": [
    "pred = model.predict_classes(train_data)\n",
    "c1 = 0\n",
    "for i,j in enumerate(np.argmax(train_labels,axis=1)):\n",
    "    if j == pred[i]:\n",
    "        c1+=1\n",
    "print(\"Train Data Accuracy : \",(c1/len(train_labels))*100,' %')"
   ]
  },
  {
   "cell_type": "code",
   "execution_count": 72,
   "metadata": {},
   "outputs": [
    {
     "name": "stdout",
     "output_type": "stream",
     "text": [
      "13799/13799 [==============================] - 1s 57us/step\n",
      "[0.34476220184806255, 0.9344155373577796]\n",
      "78199/78199 [==============================] - 4s 51us/step\n",
      "[0.10288204528048665, 0.9742068312894027]\n"
     ]
    }
   ],
   "source": [
    "print(model.evaluate(test_data,test_labels))\n",
    "print(model.evaluate(train_data,train_labels))\n"
   ]
  }
 ],
 "metadata": {
  "kernelspec": {
   "display_name": "Python 3",
   "language": "python",
   "name": "python3"
  },
  "language_info": {
   "codemirror_mode": {
    "name": "ipython",
    "version": 3
   },
   "file_extension": ".py",
   "mimetype": "text/x-python",
   "name": "python",
   "nbconvert_exporter": "python",
   "pygments_lexer": "ipython3",
   "version": "3.7.0"
  }
 },
 "nbformat": 4,
 "nbformat_minor": 2
}
