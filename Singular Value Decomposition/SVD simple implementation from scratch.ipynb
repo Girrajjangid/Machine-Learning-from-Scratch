{
 "cells": [
  {
   "cell_type": "markdown",
   "metadata": {},
   "source": [
    "## Singular Matrix Decomposition\n",
    "\n",
    "Applying the SVD to a matrix is like looking inside it with X_Ray vision.\n",
    "\n",
    "SVD is used to reduce dimension of 2D matrices\n",
    "\n",
    "It is one of the most widely used Unsupervised learning algorithms that is at that center of many recommandation and Dimentionality reduction system"
   ]
  },
  {
   "cell_type": "code",
   "execution_count": 38,
   "metadata": {},
   "outputs": [],
   "source": [
    "import numpy as np"
   ]
  },
  {
   "cell_type": "code",
   "execution_count": 94,
   "metadata": {},
   "outputs": [],
   "source": [
    "a = np.array([[5,5],\n",
    "             [-1,7]])"
   ]
  },
  {
   "cell_type": "markdown",
   "metadata": {},
   "source": [
    "The idea of SVD's formula come from eigen vectors. I'm not going into depth of full derivation of formula but in simple manner SVD reduces a matrix $A$ into 3 sub matrices where $U$ is columns space of $A$, $epsilon$ is singular value space of also known as **eign values** of each dimensions $A$, and $V$ is row space of $A$\n",
    "\n",
    "$U$ and $V$ are orthogonal vectors and also unit vectors with respect to each dimensions"
   ]
  },
  {
   "cell_type": "code",
   "execution_count": 95,
   "metadata": {},
   "outputs": [],
   "source": [
    "# Now, we have a matrix'A' and we need to reduce in three parts\n",
    "# formula is A = U * ep * V\n",
    "# we can also right\n",
    "#  A.(A.T) => (U * ep * V).(U * ep * V).T  => U.(ep).(U.T)  ---- 1\n",
    "#  (A.T).A => (U * ep * V).T .(U * ep * V) => V.(ep).(V.T)  ---- 2\n",
    "# also,     A * V = ep * U                                        \n",
    "# We first solve for LHS i.e we calculate A.(A.T)"
   ]
  },
  {
   "cell_type": "code",
   "execution_count": 96,
   "metadata": {},
   "outputs": [
    {
     "name": "stdout",
     "output_type": "stream",
     "text": [
      "[[50 30]\n",
      " [30 50]]\n"
     ]
    }
   ],
   "source": [
    "# calculate A.A.T\n",
    "a2 = a@a.T # symmetric matrix\n",
    "print(a2)\n",
    "# we know that if 'A' is singular matrix than it's determinant is zero\n",
    "# det((A.T).A - lmda*I) = 0 ? What does it means               ------ 3      \n",
    "# since A.(A.T) dot product of a matrix with its transpose is identitymatrix * eigenvalue\n",
    "# and we need to find eigenvalue"
   ]
  },
  {
   "cell_type": "code",
   "execution_count": 97,
   "metadata": {},
   "outputs": [],
   "source": [
    "# if you solve 3rd equation you get\n",
    "# lmda**2 - 100*lmda + 1600 = 0\n",
    "# and we have to find lmda\n",
    "# (1)*lmda**2 + (-100)*lmda + 1600\n",
    "roots = np.roots((1,-100,1600))"
   ]
  },
  {
   "cell_type": "code",
   "execution_count": 121,
   "metadata": {},
   "outputs": [
    {
     "name": "stdout",
     "output_type": "stream",
     "text": [
      "[8.94427191 4.47213595]\n"
     ]
    }
   ],
   "source": [
    "lmda = np.sqrt(roots) # why we take quare root because we calculate using A.(A.T) by multiplying A**2 not by A\n",
    "print(lmda)"
   ]
  },
  {
   "cell_type": "code",
   "execution_count": 122,
   "metadata": {},
   "outputs": [],
   "source": [
    "# find eigen vectors\n",
    "# A.(A.T).I = eignvalue * I    {I vectors lie in a null space because it presence dont affect the result}\n",
    "# we have to find I vector for both eignvalue or epsilon result is eignvector"
   ]
  },
  {
   "cell_type": "code",
   "execution_count": 123,
   "metadata": {},
   "outputs": [],
   "source": [
    "a1,b1 = np.linalg.eigh((a@a.T)) # columns space eign vectors \n",
    "a2,b2 = np.linalg.eigh((a.T@a)) # row space eign vectors"
   ]
  },
  {
   "cell_type": "code",
   "execution_count": 124,
   "metadata": {},
   "outputs": [
    {
     "name": "stdout",
     "output_type": "stream",
     "text": [
      "[[-0.70710678  0.70710678]\n",
      " [ 0.70710678  0.70710678]]\n",
      "[8.94427191 4.47213595]\n",
      "[[-0.9486833   0.31622777]\n",
      " [ 0.31622777  0.9486833 ]]\n"
     ]
    }
   ],
   "source": [
    "print(b1)\n",
    "print(lmda)\n",
    "print(b2)"
   ]
  },
  {
   "cell_type": "code",
   "execution_count": 125,
   "metadata": {},
   "outputs": [
    {
     "data": {
      "text/plain": [
       "(array([[ 0.70710678,  0.70710678],\n",
       "        [ 0.70710678, -0.70710678]]),\n",
       " array([8.94427191, 4.47213595]),\n",
       " array([[ 0.31622777,  0.9486833 ],\n",
       "        [ 0.9486833 , -0.31622777]]))"
      ]
     },
     "execution_count": 125,
     "metadata": {},
     "output_type": "execute_result"
    }
   ],
   "source": [
    "# Now implement with svd\n",
    "np.linalg.svd(a)"
   ]
  }
 ],
 "metadata": {
  "kernelspec": {
   "display_name": "Python 3",
   "language": "python",
   "name": "python3"
  },
  "language_info": {
   "codemirror_mode": {
    "name": "ipython",
    "version": 3
   },
   "file_extension": ".py",
   "mimetype": "text/x-python",
   "name": "python",
   "nbconvert_exporter": "python",
   "pygments_lexer": "ipython3",
   "version": "3.6.5"
  }
 },
 "nbformat": 4,
 "nbformat_minor": 2
}
