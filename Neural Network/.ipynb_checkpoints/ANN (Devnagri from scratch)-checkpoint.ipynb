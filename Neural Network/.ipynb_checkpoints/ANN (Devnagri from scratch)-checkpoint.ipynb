{
 "cells": [
  {
   "cell_type": "markdown",
   "metadata": {},
   "source": [
    "###  Devanagari Handwritten data set contains 78,000 train images of hindi characters and 18,000 test images \n",
    "\n",
    "### These data stored in folders first we need to collect that data from folders and make a single data file"
   ]
  },
  {
   "cell_type": "code",
   "execution_count": 1,
   "metadata": {},
   "outputs": [],
   "source": [
    "import pandas as pd\n",
    "import numpy as np\n",
    "import matplotlib.pyplot as plt\n",
    "import glob\n",
    "import seaborn as sns"
   ]
  },
  {
   "cell_type": "markdown",
   "metadata": {},
   "source": [
    "#  next cell take a time be patience"
   ]
  },
  {
   "cell_type": "markdown",
   "metadata": {},
   "source": [
    "# Preprocessing"
   ]
  },
  {
   "cell_type": "code",
   "execution_count": 2,
   "metadata": {},
   "outputs": [],
   "source": [
    "path = '../../DataSets/DevanagariHandwrittenCharacterDataset/Train/*'\n",
    "train_l = []\n",
    "train_d = [] # pixels 32*32\n",
    "for label ,folder_name in enumerate(glob.glob(path)):\n",
    "    for image in (glob.glob(folder_name+'/*')):\n",
    "        imgdata = plt.imread(image).ravel()  # return (1024,) array  \n",
    "        train_d.append(imgdata)\n",
    "        train_l.append(label)"
   ]
  },
  {
   "cell_type": "code",
   "execution_count": 3,
   "metadata": {},
   "outputs": [],
   "source": [
    "path = '../../DataSets/DevanagariHandwrittenCharacterDataset/Test/*'\n",
    "test_l = []\n",
    "test_d = [] # pixels 32*32\n",
    "for label ,folder_name in enumerate(glob.glob(path)):\n",
    "    for image in (glob.glob(folder_name+'/*')):\n",
    "        imgdata = plt.imread(image).ravel()  # return (1024,) array  \n",
    "        test_d.append(imgdata)\n",
    "        test_l.append(label)"
   ]
  },
  {
   "cell_type": "code",
   "execution_count": 4,
   "metadata": {},
   "outputs": [
    {
     "name": "stdout",
     "output_type": "stream",
     "text": [
      "(78200, 1024)\n",
      "(78200, 1)\n"
     ]
    }
   ],
   "source": [
    "train_data = np.vstack(train_d)\n",
    "train_label = np.vstack(train_l)\n",
    "print(train_data.shape)\n",
    "print(train_label.shape)"
   ]
  },
  {
   "cell_type": "code",
   "execution_count": 5,
   "metadata": {},
   "outputs": [
    {
     "name": "stdout",
     "output_type": "stream",
     "text": [
      "(13800, 1024)\n",
      "(13800, 1)\n"
     ]
    }
   ],
   "source": [
    "test_data = np.vstack(test_d)\n",
    "test_label = np.vstack(test_l)\n",
    "del train_d , train_l , test_d , test_l  # free memory\n",
    "print(test_data.shape)\n",
    "print(test_label.shape)"
   ]
  },
  {
   "cell_type": "code",
   "execution_count": 6,
   "metadata": {},
   "outputs": [
    {
     "data": {
      "image/png": "[encoded data removed]",
      "text/plain": [
       "<Figure size 432x288 with 1 Axes>"
      ]
     },
     "metadata": {
      "needs_background": "light"
     },
     "output_type": "display_data"
    }
   ],
   "source": [
    "plt.imshow(train_data[4582,:].reshape(32,32))\n",
    "plt.show()"
   ]
  },
  {
   "cell_type": "code",
   "execution_count": 7,
   "metadata": {},
   "outputs": [
    {
     "data": {
      "image/png": "[encoded data removed]",
      "text/plain": [
       "<Figure size 432x288 with 8 Axes>"
      ]
     },
     "metadata": {
      "needs_background": "light"
     },
     "output_type": "display_data"
    }
   ],
   "source": [
    "for i in range(1,9):\n",
    "    plt.subplot(240+i)\n",
    "    plt.axis('off')\n",
    "    plt.imshow(train_data[4581+i,:].reshape(32,32), cmap='gray')\n",
    "plt.show()"
   ]
  },
  {
   "cell_type": "code",
   "execution_count": 8,
   "metadata": {},
   "outputs": [
    {
     "name": "stdout",
     "output_type": "stream",
     "text": [
      "Counter({0: 1700, 1: 1700, 2: 1700, 3: 1700, 4: 1700, 5: 1700, 6: 1700, 7: 1700, 8: 1700, 9: 1700, 10: 1700, 11: 1700, 12: 1700, 13: 1700, 14: 1700, 15: 1700, 16: 1700, 17: 1700, 18: 1700, 19: 1700, 20: 1700, 21: 1700, 22: 1700, 23: 1700, 24: 1700, 25: 1700, 26: 1700, 27: 1700, 28: 1700, 29: 1700, 30: 1700, 31: 1700, 32: 1700, 33: 1700, 34: 1700, 35: 1700, 36: 1700, 37: 1700, 38: 1700, 39: 1700, 40: 1700, 41: 1700, 42: 1700, 43: 1700, 44: 1700, 45: 1700})\n",
      "\n",
      "Counter({0: 300, 1: 300, 2: 300, 3: 300, 4: 300, 5: 300, 6: 300, 7: 300, 8: 300, 9: 300, 10: 300, 11: 300, 12: 300, 13: 300, 14: 300, 15: 300, 16: 300, 17: 300, 18: 300, 19: 300, 20: 300, 21: 300, 22: 300, 23: 300, 24: 300, 25: 300, 26: 300, 27: 300, 28: 300, 29: 300, 30: 300, 31: 300, 32: 300, 33: 300, 34: 300, 35: 300, 36: 300, 37: 300, 38: 300, 39: 300, 40: 300, 41: 300, 42: 300, 43: 300, 44: 300, 45: 300})\n"
     ]
    }
   ],
   "source": [
    "from collections import Counter\n",
    "print(Counter(train_label[:,0]),end='\\n\\n')\n",
    "print(Counter(test_label[:,0]))"
   ]
  },
  {
   "cell_type": "code",
   "execution_count": 9,
   "metadata": {},
   "outputs": [
    {
     "name": "stdout",
     "output_type": "stream",
     "text": [
      "1.0\n",
      "[0.0, 0.0, 0.0, 0.0, 0.0, 0.0, 0.0, 0.0, 0.0, 0.0, 0.0, 0.0, 0.0, 0.0, 0.0, 0.0, 0.0, 0.0, 0.0, 0.0, 0.0, 0.0, 0.0, 0.0, 0.0, 0.0, 0.0, 0.0, 0.0, 0.0, 0.0, 0.0, 0.0, 0.0, 0.0, 0.0, 0.0, 0.0, 0.0, 0.0, 0.0, 0.0, 0.0, 0.0, 0.0, 0.0, 0.0, 0.0, 0.0, 0.0, 0.0, 0.0, 0.0, 0.0, 0.0, 0.0, 0.0, 0.0, 0.0, 0.0, 0.0, 0.0, 0.0, 0.0, 0.0, 0.0, 0.0, 0.0, 0.0, 0.0, 0.0, 0.0, 0.0, 0.0, 0.0, 0.0, 0.0, 0.10196078568696976, 0.2078431397676468, 0.18039216101169586, 0.125490203499794, 0.07450980693101883, 0.027450980618596077, 0.0117647061124444, 0.007843137718737125, 0.0, 0.0, 0.0, 0.0, 0.0, 0.0, 0.0, 0.0, 0.0, 0.0, 0.0, 0.0, 0.0, 0.0, 0.0, 0.0, 0.0, 0.0, 0.003921568859368563, 0.0470588244497776, 0.09803921729326248, 0.027450980618596077, 0.0, 0.003921568859368563, 0.6313725709915161, 0.95686274766922, 0.9372549057006836, 0.8980392217636108, 0.8196078538894653, 0.6313725709915161, 0.46666666865348816, 0.38823530077934265, 0.0784313753247261, 0.019607843831181526, 0.003921568859368563, 0.0, 0.0, 0.0, 0.0, 0.0, 0.0, 0.0, 0.0, 0.0, 0.0, 0.0, 0.0, 0.0, 0.0, 0.003921568859368563, 0.19607843458652496, 0.7019608020782471, 0.8627451062202454, 0.6313725709915161, 0.1568627506494522, 0.007843137718737125, 0.7647058963775635, 1.0, 1.0, 1.0, 1.0, 1.0, 0.9960784316062927, 0.9921568632125854, 0.7803921699523926, 0.5882353186607361, 0.3529411852359772, 0.1411764770746231, 0.03529411926865578, 0.003921568859368563, 0.0, 0.0, 0.0, 0.0, 0.0, 0.0, 0.0, 0.0, 0.0, 0.0, 0.0, 0.10196078568696976, 0.8588235378265381, 1.0, 1.0, 1.0, 0.8156862854957581, 0.12156862765550613, 0.3843137323856354, 0.9490196108818054, 1.0, 0.95686274766922, 0.8705882430076599, 0.9450980424880981, 0.9921568632125854, 1.0, 1.0, 1.0, 0.9960784316062927, 0.9254902005195618, 0.6901960968971252, 0.3843137323856354, 0.16078431904315948, 0.05098039284348488, 0.0235294122248888, 0.0, 0.0, 0.0, 0.0, 0.0, 0.0, 0.0, 0.003921568859368563, 0.529411792755127, 1.0, 0.9764705896377563, 0.8627451062202454, 0.9803921580314636, 1.0, 0.6666666865348816, 0.0470588244497776, 0.29019609093666077, 0.572549045085907, 0.3333333432674408, 0.09803921729326248, 0.1882352977991104, 0.572549045085907, 1.0, 0.9333333373069763, 0.9764705896377563, 1.0, 1.0, 1.0, 0.9960784316062927, 0.9098039269447327, 0.7490196228027344, 0.6078431606292725, 0.0, 0.0, 0.0, 0.0, 0.0, 0.0, 0.0, 0.054901961237192154, 0.8823529481887817, 0.95686274766922, 0.40784314274787903, 0.10588235408067703, 0.3843137323856354, 0.9333333373069763, 0.9843137264251709, 0.29019609093666077, 0.003921568859368563, 0.01568627543747425, 0.007843137718737125, 0.0, 0.0, 0.32549020648002625, 1.0, 0.364705890417099, 0.2823529541492462, 0.4745098054409027, 0.7215686440467834, 0.9411764740943909, 1.0, 1.0, 1.0, 1.0, 0.0, 0.0, 0.0, 0.0, 0.0, 0.0, 0.0, 0.30980393290519714, 0.9960784316062927, 0.47058823704719543, 0.01568627543747425, 0.0, 0.007843137718737125, 0.40392157435417175, 0.9960784316062927, 0.7215686440467834, 0.01568627543747425, 0.0, 0.0, 0.0, 0.0, 0.30588236451148987, 1.0, 0.23529411852359772, 0.0, 0.007843137718737125, 0.03921568766236305, 0.1725490242242813, 0.38823530077934265, 0.6274510025978088, 0.8784313797950745, 0.9960784316062927, 0.0, 0.0, 0.0, 0.0, 0.0, 0.0, 0.0, 0.5803921818733215, 0.9333333373069763, 0.08235294371843338, 0.0, 0.0, 0.0, 0.0470588244497776, 0.800000011920929, 0.9607843160629272, 0.12156862765550613, 0.0, 0.0, 0.0, 0.0, 0.3137255012989044, 1.0, 0.20000000298023224, 0.0, 0.0, 0.0, 0.0, 0.003921568859368563, 0.0235294122248888, 0.1568627506494522, 0.4588235318660736, 0.0, 0.0, 0.0, 0.0, 0.0, 0.0, 0.003921568859368563, 0.7529411911964417, 0.8117647171020508, 0.0117647061124444, 0.0, 0.0, 0.0, 0.0, 0.3960784375667572, 1.0, 0.3529411852359772, 0.0, 0.0, 0.0, 0.0, 0.35686275362968445, 0.9921568632125854, 0.14509804546833038, 0.0, 0.0, 0.0, 0.0, 0.0, 0.0, 0.003921568859368563, 0.0117647061124444, 0.0, 0.0, 0.0, 0.0, 0.0, 0.0, 0.007843137718737125, 0.7647058963775635, 0.886274516582489, 0.0470588244497776, 0.0, 0.0, 0.0, 0.0, 0.10196078568696976, 0.9647058844566345, 0.5686274766921997, 0.0, 0.0, 0.0, 0.0, 0.40392157435417175, 0.9843137264251709, 0.10980392247438431, 0.0, 0.0, 0.0, 0.0, 0.0, 0.0, 0.0, 0.0, 0.0, 0.0, 0.0, 0.0, 0.0, 0.0, 0.0, 0.48235294222831726, 0.9960784316062927, 0.24705882370471954, 0.0, 0.0, 0.0, 0.0, 0.019607843831181526, 0.8549019694328308, 0.729411780834198, 0.003921568859368563, 0.0, 0.0, 0.0, 0.4745098054409027, 0.9607843160629272, 0.06666667014360428, 0.0, 0.0, 0.0, 0.0, 0.0, 0.0, 0.0, 0.0, 0.0, 0.0, 0.0, 0.0, 0.0, 0.0, 0.0, 0.0941176488995552, 0.8588235378265381, 0.4627451002597809, 0.0, 0.0, 0.0, 0.0, 0.003921568859368563, 0.6980392336845398, 0.8588235378265381, 0.0235294122248888, 0.0, 0.0, 0.0, 0.5176470875740051, 0.9176470637321472, 0.03529411926865578, 0.0, 0.0, 0.0, 0.0, 0.0, 0.0, 0.0, 0.0, 0.0, 0.0, 0.0, 0.0, 0.0, 0.0, 0.0, 0.003921568859368563, 0.2666666805744171, 0.2235294133424759, 0.0, 0.0, 0.0, 0.0, 0.0, 0.5686274766921997, 0.9372549057006836, 0.05098039284348488, 0.0, 0.0, 0.0, 0.6000000238418579, 0.8549019694328308, 0.01568627543747425, 0.0, 0.0, 0.0, 0.0, 0.0, 0.0, 0.0, 0.0, 0.0, 0.0, 0.0, 0.0, 0.0, 0.0, 0.0, 0.0, 0.007843137718737125, 0.007843137718737125, 0.0, 0.0, 0.0, 0.0, 0.03529411926865578, 0.7803921699523926, 0.9725490212440491, 0.10588235408067703, 0.0, 0.0, 0.003921568859368563, 0.7333333492279053, 0.7882353067398071, 0.007843137718737125, 0.0, 0.0, 0.0, 0.0, 0.0, 0.0, 0.0, 0.0, 0.0, 0.0, 0.0, 0.0, 0.0, 0.0, 0.0, 0.0, 0.0, 0.0, 0.0, 0.0, 0.0, 0.0, 0.08627451211214066, 0.9686274528503418, 1.0, 0.6274510025978088, 0.24705882370471954, 0.054901961237192154, 0.027450980618596077, 0.8156862854957581, 0.6901960968971252, 0.003921568859368563, 0.0, 0.0, 0.0, 0.0, 0.0, 0.0, 0.0, 0.0, 0.0, 0.0, 0.0, 0.0, 0.0, 0.0, 0.0, 0.0, 0.0, 0.0, 0.0, 0.0, 0.0, 0.0, 0.03921568766236305, 0.8392156958580017, 1.0, 1.0, 0.9686274528503418, 0.7647058963775635, 0.6039215922355652, 0.9490196108818054, 0.5803921818733215, 0.0, 0.0, 0.0, 0.0, 0.0, 0.0, 0.0, 0.0, 0.0, 0.0, 0.0, 0.0, 0.0, 0.0, 0.0, 0.0, 0.0, 0.0, 0.0, 0.0, 0.0, 0.0, 0.0, 0.003921568859368563, 0.4470588266849518, 1.0, 0.9960784316062927, 1.0, 1.0, 1.0, 1.0, 0.4901960790157318, 0.0, 0.0, 0.0, 0.0, 0.0, 0.0, 0.0, 0.0, 0.0, 0.0, 0.0, 0.0, 0.0, 0.0, 0.0, 0.0, 0.0, 0.0, 0.0, 0.0, 0.0, 0.0, 0.0, 0.0, 0.4274509847164154, 0.9921568632125854, 0.47058823704719543, 0.6352941393852234, 0.843137264251709, 0.9725490212440491, 1.0, 0.4000000059604645, 0.0, 0.0, 0.0, 0.0, 0.0, 0.0, 0.0, 0.0, 0.0, 0.0, 0.0, 0.0, 0.0, 0.0, 0.0, 0.0, 0.0, 0.0, 0.0, 0.0, 0.0, 0.0, 0.0, 0.0, 0.5686274766921997, 0.9450980424880981, 0.06666667014360428, 0.027450980618596077, 0.09019608050584793, 0.48627451062202454, 1.0, 0.3019607961177826, 0.0, 0.0, 0.0, 0.0, 0.0, 0.0, 0.0, 0.0, 0.0, 0.0, 0.0, 0.0, 0.0, 0.0, 0.0, 0.027450980618596077, 0.01568627543747425, 0.0, 0.0, 0.0, 0.0, 0.0, 0.0, 0.007843137718737125, 0.7490196228027344, 0.843137264251709, 0.019607843831181526, 0.0, 0.0, 0.3607843220233917, 1.0, 0.2078431397676468, 0.0, 0.0, 0.0, 0.0, 0.0, 0.0, 0.0, 0.0, 0.0, 0.0, 0.0, 0.0, 0.0, 0.0235294122248888, 0.21960784494876862, 0.5568627715110779, 0.21568627655506134, 0.0, 0.0, 0.0, 0.0, 0.0, 0.0, 0.062745101749897, 0.9176470637321472, 0.6980392336845398, 0.003921568859368563, 0.0, 0.0, 0.3843137323856354, 0.9843137264251709, 0.12156862765550613, 0.0, 0.0, 0.0, 0.0, 0.0, 0.0, 0.0, 0.0, 0.0, 0.0, 0.0, 0.0, 0.0, 0.43921568989753723, 0.9490196108818054, 0.9960784316062927, 0.3960784375667572, 0.0, 0.0, 0.0, 0.0, 0.0, 0.0, 0.3137255012989044, 0.9960784316062927, 0.47058823704719543, 0.0, 0.0, 0.0, 0.4627451002597809, 0.9490196108818054, 0.05882352963089943, 0.0, 0.0, 0.0, 0.0, 0.0, 0.0, 0.0, 0.0, 0.0, 0.0, 0.0, 0.0, 0.0, 0.9647058844566345, 1.0, 0.886274516582489, 0.1764705926179886, 0.0, 0.0, 0.0, 0.0, 0.0, 0.027450980618596077, 0.7176470756530762, 0.9843137264251709, 0.1764705926179886, 0.0, 0.0, 0.0, 0.5333333611488342, 0.8941176533699036, 0.027450980618596077, 0.0, 0.0, 0.0, 0.0, 0.0, 0.0, 0.0, 0.0, 0.0, 0.0, 0.0, 0.0, 0.0, 1.0, 0.9843137264251709, 0.3333333432674408, 0.01568627543747425, 0.0, 0.0, 0.0, 0.0, 0.01568627543747425, 0.364705890417099, 0.9843137264251709, 0.7960784435272217, 0.027450980618596077, 0.0, 0.0, 0.0, 0.6000000238418579, 0.800000011920929, 0.007843137718737125, 0.0, 0.0, 0.0, 0.0, 0.0, 0.0, 0.0, 0.0, 0.0, 0.0, 0.0, 0.0, 0.0, 0.9411764740943909, 1.0, 0.8705882430076599, 0.3960784375667572, 0.125490203499794, 0.0784313753247261, 0.07450980693101883, 0.14901961386203766, 0.4901960790157318, 0.9372549057006836, 0.9960784316062927, 0.37254902720451355, 0.0, 0.0, 0.0, 0.0, 0.6549019813537598, 0.7019608020782471, 0.0, 0.0, 0.0, 0.0, 0.0, 0.0, 0.0, 0.0, 0.0, 0.0, 0.0, 0.0, 0.0, 0.0, 0.38823530077934265, 0.9725490212440491, 1.0, 1.0, 0.9176470637321472, 0.8627451062202454, 0.8509804010391235, 0.9333333373069763, 1.0, 1.0, 0.7686274647712708, 0.0470588244497776, 0.0, 0.0, 0.0, 0.0, 0.6745098233222961, 0.6784313917160034, 0.0, 0.0, 0.0, 0.0, 0.0, 0.0, 0.0, 0.0, 0.0, 0.0, 0.0, 0.0, 0.0, 0.0, 0.019607843831181526, 0.42352941632270813, 0.9254902005195618, 1.0, 1.0, 1.0, 1.0, 1.0, 1.0, 0.8666666746139526, 0.18039216101169586, 0.0, 0.0, 0.0, 0.0, 0.003921568859368563, 0.7098039388656616, 0.6980392336845398, 0.0, 0.0, 0.0, 0.0, 0.0, 0.0, 0.0, 0.0, 0.0, 0.0, 0.0, 0.0, 0.0, 0.0, 0.0, 0.01568627543747425, 0.21568627655506134, 0.7176470756530762, 0.9960784316062927, 1.0, 1.0, 1.0, 0.729411780834198, 0.18039216101169586, 0.003921568859368563, 0.0, 0.0, 0.0, 0.0, 0.0, 0.6470588445663452, 0.686274528503418, 0.0, 0.0, 0.0, 0.0, 0.0, 0.0, 0.0, 0.0, 0.0, 0.0, 0.0, 0.0, 0.0, 0.0, 0.0, 0.0, 0.0, 0.0, 0.0, 0.0, 0.0, 0.0, 0.0, 0.0, 0.0, 0.0, 0.0, 0.0, 0.0, 0.0, 0.0, 0.0, 0.0, 0.0, 0.0, 0.0, 0.0, 0.0, 0.0, 0.0, 0.0, 0.0, 0.0, 0.0, 0.0, 0.0, 0.0, 0.0, 0.0, 0.0, 0.0, 0.0, 0.0, 0.0, 0.0, 0.0, 0.0, 0.0, 0.0, 0.0, 0.0, 0.0, 0.0, 0.0, 0.0, 0.0, 0.0, 0.0, 0.0, 0.0, 0.0, 0.0, 0.0, 0.0, 0.0, 0.0]\n"
     ]
    }
   ],
   "source": [
    "print(np.max(train_data))  # data is already normalized\n",
    "print(train_data[0,:].tolist())"
   ]
  },
  {
   "cell_type": "markdown",
   "metadata": {},
   "source": [
    "# lets save this data for future use."
   ]
  },
  {
   "cell_type": "code",
   "execution_count": null,
   "metadata": {},
   "outputs": [],
   "source": [
    "path = '../../DataSets/DevanagariHandwrittenCharacterDataset/'\n",
    "\n",
    "train_data.tofile(path+'train_data.csv')\n",
    "train_label.tofile(path+'train_labels.csv')\n",
    "\n",
    "test_data.tofile(path+'test_data.csv')\n",
    "test_label.tofile(path+'test_labels.csv')"
   ]
  },
  {
   "cell_type": "markdown",
   "metadata": {},
   "source": [
    "# We use ANN to predict the label of each characters"
   ]
  },
  {
   "cell_type": "code",
   "execution_count": 10,
   "metadata": {},
   "outputs": [
    {
     "data": {
      "text/plain": [
       "46"
      ]
     },
     "execution_count": 10,
     "metadata": {},
     "output_type": "execute_result"
    }
   ],
   "source": [
    "# check total labels\n",
    "labels = np.unique(train_label).size\n",
    "labels"
   ]
  },
  {
   "cell_type": "code",
   "execution_count": 33,
   "metadata": {},
   "outputs": [],
   "source": [
    "class NeuralNetwork():\n",
    "    \n",
    "    def __init__(self,lmda = 0):\n",
    "        \n",
    "        self.layers_n       = []\n",
    "        self.theta_layers   = []\n",
    "        self.bias           = []\n",
    "        self.activation_func= []\n",
    "        self.activations    = []\n",
    "        self.lmda           = 0\n",
    "        self.dL_dA          = []\n",
    "        self.dL_dtheta      = []\n",
    "        self.dL_dbias       = []\n",
    "        self.itera          = []\n",
    "        self.csfun          = []\n",
    "        \n",
    "    def add(self , neuron , activation_function = 'relu'):\n",
    "        '''You have to give the no. of neurons you want to given layer.\n",
    "            First layer neurons = no. of columns of your data\n",
    "            \n",
    "            default activation function is 'relu' you can change to 'sigmoid' , 'softmax' also\n",
    "        '''\n",
    "        self.layers_n.append(neuron)\n",
    "        \n",
    "        if activation_function == 'sigmoid' or activation_function == 'relu' or activation_function == 'softmax':\n",
    "            self.activation_func.append(activation_function)\n",
    "        \n",
    "        else:\n",
    "            raise TypeError('Pass only relu or sigmoid , and softmax for last layer')\n",
    "    \n",
    "    def one_hot_label(self , y):\n",
    "        one_hot_labels = np.zeros((y.shape[0] , self.layers_n[-1]))\n",
    "        for i in range(y.shape[0]):  \n",
    "            one_hot_labels[i, y[i] ] = 1\n",
    "        return one_hot_labels\n",
    "    \n",
    "    def softmax(self , activation , theta , bias):\n",
    "        exp = np.exp( np.dot( activation , theta ) + bias)\n",
    "        denominator = np.sum( exp , axis = 1)\n",
    "        s = list(map(lambda i : exp[:,i] / denominator , np.arange(self.layers_n[-1])))\n",
    "        return np.array(s).T\n",
    "    \n",
    "    def softmax2(self,X,theta,bias):\n",
    "        expA = np.exp( np.dot(X,theta)+bias)\n",
    "        return np.exp(expA) / np.sum(np.exp(expA), axis=0)\n",
    "        \n",
    "    def relu(self,activation,theta, bias):\n",
    "        q = (np.dot(activation , theta) + bias)\n",
    "        return np.clip(q , a_min=0 , a_max = q)\n",
    "    \n",
    "    def fit(self , X , y , batch_size = 128 , alpha = 0.01 , epoche = 100):\n",
    "        for i in range(len(self.layers_n)-1): \n",
    "            \n",
    "            self.theta_layers.append(np.random.randn(self.layers_n[i],self.layers_n[i+1]))\n",
    "            self.bias.append(np.random.randn(self.layers_n[i+1]))\n",
    "        \n",
    "        return self.gradientDecent( X , y , batch_size , alpha , epoche )\n",
    "    \n",
    "    def sigmoid(self, activation , theta , bias):\n",
    "        return  1 / (1 + np.exp(np.dot(activation , theta) +  bias))\n",
    "    \n",
    "    def forwardPropagation(self,X):\n",
    "        \n",
    "        self.activations.append(X)\n",
    "        for i in range(len(self.layers_n)-2):\n",
    "            \n",
    "            self.activations.append(self.relu(self.activations[i] , self.theta_layers[i] , self.bias[i]))\n",
    "                      \n",
    "        self.activations.append(self.softmax2(self.activations[-1] , self.theta_layers[-1] , self.bias[-1]))\n",
    "        \n",
    "    def costFunction(self,X,y):\n",
    "        self.y = self.one_hot_label(y)\n",
    "        self.forwardPropagation(X)\n",
    "        \n",
    "        np.nan_to_num(self.activations[-1] , copy = False)\n",
    "        self.crossEntropy = self.y * np.log(self.activations[-1])\n",
    "        np.nan_to_num(self.crossEntropy, copy=False)\n",
    "        \n",
    "        #regu = self.lmda * (np.sum(self.theta_layer1)**2 + np.sum(self.theta_layer2)**2 + np.sum(self.theta_layer3)**2 + np.sum(self.theta_layer4)**2)\n",
    "        return (1/X.shape[0] * -np.sum(self.crossEntropy)) #+ regu  # regu = 0 bcz lmda is zero \n",
    "      \n",
    "    \n",
    "    def costFunctionDerivative(self,X,y,alpha):\n",
    "        \n",
    "        self.y_cap = self.activations[-1]\n",
    "        self.target_y = self.one_hot_label(y)\n",
    "        \n",
    "        self.dL_dA.append(self.y_cap - self.target_y)\n",
    "        \n",
    "        for i in range(len(self.layers_n)-2):   \n",
    "            \n",
    "            self.dL_dA.append( np.dot( self.dL_dA[i] , self.theta_layers[-1-i].T ) )\n",
    "        \n",
    "        for i in range(len(self.layers_n)-1):  \n",
    "            \n",
    "            # Storing derivative in a list\n",
    "            self.dL_dtheta.append(1/X.shape[0] * (np.dot(self.activations[-2-i].T , self.dL_dA[i]))) \n",
    "            self.dL_dbias.append(1/X.shape[0] * self.dL_dA[i])\n",
    "        \n",
    "        for i in range(len(self.layers_n)-1):  \n",
    "            \n",
    "            # updating parameters\n",
    "            self.theta_layers[i]    -= (alpha * self.dL_dtheta[-1-i])  \n",
    "            self.bias[-1-i]         -= (alpha * self.dL_dbias[i].sum(axis = 0))                  \n",
    "            \n",
    "            # dont get confuse by [-1-i] . Actually derivative are calculated during backpropagation\n",
    "            # and original values are initialized during forward propagation so derivative are stored in\n",
    "            # reverse order while data's stored in forward order\n",
    "      \n",
    "    def gradientDecent(self , X , y , batch , alpha , epoche  ):\n",
    "        i = 1\n",
    "        while i < epoche:\n",
    "        \n",
    "            index = np.random.randint(0 , X.shape[0] , size=(batch,))\n",
    "        \n",
    "            initial_cost = self.costFunction(X[index] , y[index] )\n",
    "       \n",
    "            self.costFunctionDerivative(X[index], y[index],alpha )\n",
    "        \n",
    "            final_cost = self.costFunction(X[index] , y[index])\n",
    "            \n",
    "            print('Iteration {} Initial cost {} final cost {}'.format(i , initial_cost , final_cost))    \n",
    "        \n",
    "            self.itera.append(i)\n",
    "            self.csfun.append(final_cost)\n",
    "            i+=1\n",
    "            \n",
    "    def gradient_plot(self):\n",
    "        plt.plot(self.itera,self.csfun)\n",
    "         \n",
    "        \n",
    "    "
   ]
  },
  {
   "cell_type": "code",
   "execution_count": 36,
   "metadata": {},
   "outputs": [
    {
     "name": "stderr",
     "output_type": "stream",
     "text": [
      "C:\\Users\\GirrajJangid\\Anaconda3\\envs\\python_gpu\\lib\\site-packages\\ipykernel_launcher.py:45: RuntimeWarning: invalid value encountered in true_divide\n",
      "C:\\Users\\GirrajJangid\\Anaconda3\\envs\\python_gpu\\lib\\site-packages\\ipykernel_launcher.py:76: RuntimeWarning: divide by zero encountered in log\n",
      "C:\\Users\\GirrajJangid\\Anaconda3\\envs\\python_gpu\\lib\\site-packages\\ipykernel_launcher.py:76: RuntimeWarning: invalid value encountered in multiply\n"
     ]
    },
    {
     "name": "stdout",
     "output_type": "stream",
     "text": [
      "Iteration 1 Initial cost 8.988465674311579e+307 final cost 8.988465674311579e+307\n",
      "Iteration 2 Initial cost 0.6931471805599453 final cost 0.6931471805599453\n",
      "Iteration 3 Initial cost 0.6931471805599453 final cost 0.6931471805599453\n",
      "Iteration 4 Initial cost 0.6931471805599453 final cost 0.6931471805599453\n",
      "Iteration 5 Initial cost inf final cost inf\n",
      "Iteration 6 Initial cost 8.988465674311579e+307 final cost 8.988465674311579e+307\n",
      "Iteration 7 Initial cost 8.988465674311579e+307 final cost 8.988465674311579e+307\n",
      "Iteration 8 Initial cost 0.6931471805599453 final cost 0.6931471805599453\n",
      "Iteration 9 Initial cost 8.988465674311579e+307 final cost 8.988465674311579e+307\n",
      "Iteration 10 Initial cost 0.6931471805599453 final cost 0.6931471805599453\n",
      "Iteration 11 Initial cost 0.6931471805599453 final cost 0.6931471805599453\n",
      "Iteration 12 Initial cost 8.988465674311579e+307 final cost 8.988465674311579e+307\n",
      "Iteration 13 Initial cost 0.6931471805599453 final cost 0.6931471805599453\n",
      "Iteration 14 Initial cost 0.6931471805599453 final cost 0.6931471805599453\n",
      "Iteration 15 Initial cost 0.6931471805599453 final cost 0.6931471805599453\n",
      "Iteration 16 Initial cost 0.6931471805599453 final cost 0.6931471805599453\n",
      "Iteration 17 Initial cost 0.6931471805599453 final cost 0.6931471805599453\n",
      "Iteration 18 Initial cost 0.6931471805599453 final cost 0.6931471805599453\n",
      "Iteration 19 Initial cost 0.6931471805599453 final cost 0.6931471805599453\n",
      "Iteration 20 Initial cost 8.988465674311579e+307 final cost 8.988465674311579e+307\n",
      "Iteration 21 Initial cost 8.988465674311579e+307 final cost 8.988465674311579e+307\n",
      "Iteration 22 Initial cost 8.988465674311579e+307 final cost 8.988465674311579e+307\n",
      "Iteration 23 Initial cost 0.6931471805599453 final cost 0.6931471805599453\n",
      "Iteration 24 Initial cost inf final cost inf\n",
      "Iteration 25 Initial cost 8.988465674311579e+307 final cost 8.988465674311579e+307\n",
      "Iteration 26 Initial cost 8.988465674311579e+307 final cost 8.988465674311579e+307\n",
      "Iteration 27 Initial cost 8.988465674311579e+307 final cost 8.988465674311579e+307\n",
      "Iteration 28 Initial cost 0.6931471805599453 final cost 0.6931471805599453\n",
      "Iteration 29 Initial cost 0.6931471805599453 final cost 0.6931471805599453\n",
      "Iteration 30 Initial cost 0.6931471805599453 final cost 0.6931471805599453\n",
      "Iteration 31 Initial cost 8.988465674311579e+307 final cost 8.988465674311579e+307\n",
      "Iteration 32 Initial cost 0.6931471805599453 final cost 0.6931471805599453\n",
      "Iteration 33 Initial cost inf final cost inf\n",
      "Iteration 34 Initial cost 8.988465674311579e+307 final cost 8.988465674311579e+307\n",
      "Iteration 35 Initial cost 0.6931471805599453 final cost 0.6931471805599453\n",
      "Iteration 36 Initial cost 8.988465674311579e+307 final cost 8.988465674311579e+307\n",
      "Iteration 37 Initial cost 8.988465674311579e+307 final cost 8.988465674311579e+307\n",
      "Iteration 38 Initial cost 0.6931471805599453 final cost 0.6931471805599453\n",
      "Iteration 39 Initial cost 8.988465674311579e+307 final cost 8.988465674311579e+307\n",
      "Iteration 40 Initial cost 8.988465674311579e+307 final cost 8.988465674311579e+307\n",
      "Iteration 41 Initial cost 8.988465674311579e+307 final cost 8.988465674311579e+307\n",
      "Iteration 42 Initial cost 0.6931471805599453 final cost 0.6931471805599453\n",
      "Iteration 43 Initial cost 8.988465674311579e+307 final cost 8.988465674311579e+307\n",
      "Iteration 44 Initial cost 8.988465674311579e+307 final cost 8.988465674311579e+307\n",
      "Iteration 45 Initial cost 8.988465674311579e+307 final cost 8.988465674311579e+307\n",
      "Iteration 46 Initial cost 0.6931471805599453 final cost 0.6931471805599453\n",
      "Iteration 47 Initial cost 8.988465674311579e+307 final cost 8.988465674311579e+307\n",
      "Iteration 48 Initial cost 0.6931471805599453 final cost 0.6931471805599453\n",
      "Iteration 49 Initial cost 8.988465674311579e+307 final cost 8.988465674311579e+307\n",
      "Iteration 50 Initial cost 8.988465674311579e+307 final cost 8.988465674311579e+307\n",
      "Iteration 51 Initial cost 0.6931471805599453 final cost 0.6931471805599453\n",
      "Iteration 52 Initial cost inf final cost inf\n",
      "Iteration 53 Initial cost inf final cost inf\n",
      "Iteration 54 Initial cost inf final cost inf\n",
      "Iteration 55 Initial cost 8.988465674311579e+307 final cost 8.988465674311579e+307\n",
      "Iteration 56 Initial cost inf final cost inf\n",
      "Iteration 57 Initial cost 8.988465674311579e+307 final cost 8.988465674311579e+307\n",
      "Iteration 58 Initial cost inf final cost inf\n",
      "Iteration 59 Initial cost 8.988465674311579e+307 final cost 8.988465674311579e+307\n",
      "Iteration 60 Initial cost 8.988465674311579e+307 final cost 8.988465674311579e+307\n",
      "Iteration 61 Initial cost 8.988465674311579e+307 final cost 8.988465674311579e+307\n",
      "Iteration 62 Initial cost 8.988465674311579e+307 final cost 8.988465674311579e+307\n",
      "Iteration 63 Initial cost 0.6931471805599453 final cost 0.6931471805599453\n",
      "Iteration 64 Initial cost 8.988465674311579e+307 final cost 8.988465674311579e+307\n",
      "Iteration 65 Initial cost 0.6931471805599453 final cost 0.6931471805599453\n",
      "Iteration 66 Initial cost 0.6931471805599453 final cost 0.6931471805599453\n",
      "Iteration 67 Initial cost 0.6931471805599453 final cost 0.6931471805599453\n",
      "Iteration 68 Initial cost 8.988465674311579e+307 final cost 8.988465674311579e+307\n",
      "Iteration 69 Initial cost 0.6931471805599453 final cost 0.6931471805599453\n",
      "Iteration 70 Initial cost inf final cost inf\n",
      "Iteration 71 Initial cost 0.6931471805599453 final cost 0.6931471805599453\n",
      "Iteration 72 Initial cost inf final cost inf\n",
      "Iteration 73 Initial cost 0.6931471805599453 final cost 0.6931471805599453\n",
      "Iteration 74 Initial cost inf final cost inf\n",
      "Iteration 75 Initial cost 0.6931471805599453 final cost 0.6931471805599453\n",
      "Iteration 76 Initial cost 8.988465674311579e+307 final cost 8.988465674311579e+307\n",
      "Iteration 77 Initial cost inf final cost inf\n",
      "Iteration 78 Initial cost 0.6931471805599453 final cost 0.6931471805599453\n",
      "Iteration 79 Initial cost 8.988465674311579e+307 final cost 8.988465674311579e+307\n",
      "Iteration 80 Initial cost 0.6931471805599453 final cost 0.6931471805599453\n",
      "Iteration 81 Initial cost 0.6931471805599453 final cost 0.6931471805599453\n",
      "Iteration 82 Initial cost 0.6931471805599453 final cost 0.6931471805599453\n",
      "Iteration 83 Initial cost 8.988465674311579e+307 final cost 8.988465674311579e+307\n",
      "Iteration 84 Initial cost 0.6931471805599453 final cost 0.6931471805599453\n",
      "Iteration 85 Initial cost 0.6931471805599453 final cost 0.6931471805599453\n",
      "Iteration 86 Initial cost 8.988465674311579e+307 final cost 8.988465674311579e+307\n",
      "Iteration 87 Initial cost 8.988465674311579e+307 final cost 8.988465674311579e+307\n",
      "Iteration 88 Initial cost 0.6931471805599453 final cost 0.6931471805599453\n",
      "Iteration 89 Initial cost 0.6931471805599453 final cost 0.6931471805599453\n",
      "Iteration 90 Initial cost 8.988465674311579e+307 final cost 8.988465674311579e+307\n",
      "Iteration 91 Initial cost 0.6931471805599453 final cost 0.6931471805599453\n",
      "Iteration 92 Initial cost 0.6931471805599453 final cost 0.6931471805599453\n",
      "Iteration 93 Initial cost 0.6931471805599453 final cost 0.6931471805599453\n",
      "Iteration 94 Initial cost 8.988465674311579e+307 final cost 8.988465674311579e+307\n",
      "Iteration 95 Initial cost 8.988465674311579e+307 final cost 8.988465674311579e+307\n",
      "Iteration 96 Initial cost inf final cost inf\n",
      "Iteration 97 Initial cost 8.988465674311579e+307 final cost 8.988465674311579e+307\n",
      "Iteration 98 Initial cost 0.6931471805599453 final cost 0.6931471805599453\n",
      "Iteration 99 Initial cost 8.988465674311579e+307 final cost 8.988465674311579e+307\n"
     ]
    }
   ],
   "source": [
    "del NN\n",
    "NN = NeuralNetwork()\n",
    "NN.add(1024)\n",
    "NN.add(512)\n",
    "NN.add(512)\n",
    "NN.add(46)\n",
    "NN.fit(train_data,train_label,alpha=.05,epoche=100,batch_size=2)"
   ]
  },
  {
   "cell_type": "code",
   "execution_count": 32,
   "metadata": {},
   "outputs": [
    {
     "data": {
      "image/png": "[encoded data removed]",
      "text/plain": [
       "<Figure size 432x288 with 1 Axes>"
      ]
     },
     "metadata": {
      "needs_background": "light"
     },
     "output_type": "display_data"
    }
   ],
   "source": [
    "NN.gradient_plot()"
   ]
  },
  {
   "cell_type": "code",
   "execution_count": null,
   "metadata": {},
   "outputs": [],
   "source": []
  }
 ],
 "metadata": {
  "kernelspec": {
   "display_name": "Python 3",
   "language": "python",
   "name": "python3"
  },
  "language_info": {
   "codemirror_mode": {
    "name": "ipython",
    "version": 3
   },
   "file_extension": ".py",
   "mimetype": "text/x-python",
   "name": "python",
   "nbconvert_exporter": "python",
   "pygments_lexer": "ipython3",
   "version": "3.7.0"
  }
 },
 "nbformat": 4,
 "nbformat_minor": 2
}
