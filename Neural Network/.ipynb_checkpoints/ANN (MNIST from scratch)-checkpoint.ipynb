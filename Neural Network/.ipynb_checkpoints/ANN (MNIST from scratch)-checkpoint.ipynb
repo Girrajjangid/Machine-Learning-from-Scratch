{
 "cells": [
  {
   "cell_type": "code",
   "execution_count": 1,
   "metadata": {},
   "outputs": [],
   "source": [
    "import pandas as pd\n",
    "import numpy as np\n",
    "import matplotlib.pyplot as plt\n",
    "import seaborn as sns\n",
    "import mlxtend.data as mld\n",
    "import warnings as w\n",
    "w.filterwarnings('ignore')\n",
    "import glob\n",
    "import pickle"
   ]
  },
  {
   "cell_type": "code",
   "execution_count": 3,
   "metadata": {},
   "outputs": [],
   "source": [
    "train_data,train_label = mld.loadlocal_mnist(images_path='F:/Books/Machine Learning/DataSets/MNIST/train-images-mnist.idx3-ubyte', # extract zip file\n",
    "                        labels_path='F:/Books/Machine Learning/DataSets/MNIST/train-labels-mnist.idx1-ubyte')\n",
    "\n",
    "test_data,test_label = mld.loadlocal_mnist(images_path='F:/Books/Machine Learning/DataSets/MNIST/test-images-mnist.idx3-ubyte', # extract zip file\n",
    "                        labels_path='F:/Books/Machine Learning/DataSets/MNIST/test-labels-mnist.idx1-ubyte')\n"
   ]
  },
  {
   "cell_type": "code",
   "execution_count": 4,
   "metadata": {},
   "outputs": [],
   "source": [
    "train_data = train_data/train_data.max()\n",
    "test_data = test_data/test_data.max()"
   ]
  },
  {
   "cell_type": "code",
   "execution_count": 5,
   "metadata": {},
   "outputs": [
    {
     "data": {
      "image/png": "[encoded data removed]",
      "text/plain": [
       "<Figure size 432x288 with 8 Axes>"
      ]
     },
     "metadata": {},
     "output_type": "display_data"
    }
   ],
   "source": [
    "for i in range(1,9):\n",
    "    plt.subplot(240+i)\n",
    "    plt.axis('off')\n",
    "    plt.imshow(train_data[1+i,:].reshape(28,28), cmap='gray')\n",
    "plt.show()"
   ]
  },
  {
   "cell_type": "code",
   "execution_count": 5,
   "metadata": {},
   "outputs": [
    {
     "data": {
      "text/plain": [
       "<matplotlib.image.AxesImage at 0x24af6c4c828>"
      ]
     },
     "execution_count": 5,
     "metadata": {},
     "output_type": "execute_result"
    },
    {
     "data": {
      "image/png": "[encoded data removed]",
      "text/plain": [
       "<Figure size 432x288 with 1 Axes>"
      ]
     },
     "metadata": {
      "needs_background": "light"
     },
     "output_type": "display_data"
    }
   ],
   "source": [
    "plt.imshow(train_data[2,:].reshape(28,28))"
   ]
  },
  {
   "cell_type": "code",
   "execution_count": 6,
   "metadata": {},
   "outputs": [
    {
     "data": {
      "text/plain": [
       "10"
      ]
     },
     "execution_count": 6,
     "metadata": {},
     "output_type": "execute_result"
    }
   ],
   "source": [
    "# Number of unique elements in datasets\n",
    "len(np.unique(train_label))"
   ]
  },
  {
   "cell_type": "code",
   "execution_count": 8,
   "metadata": {},
   "outputs": [],
   "source": [
    "class NeuralNetwork():\n",
    "    \n",
    "    def __init__(self):\n",
    "        \n",
    "        self.layers_n       = []\n",
    "        self.theta_layers   = []\n",
    "        self.bias           = []\n",
    "        self.activation_func= []\n",
    "        self.activations    = []\n",
    "        self.dL_dA          = []\n",
    "        self.dL_dtheta      = []\n",
    "        self.dL_dbias       = []\n",
    "        self.itera          = []\n",
    "        self.csfun          = []\n",
    "                \n",
    "    def add(self , neuron , activation_function = 'relu'):\n",
    "        '''You have to give the no. of neurons for a given layer.\n",
    "            First layer neurons = no. of columns of your data\n",
    "            \n",
    "            default activation function is 'relu' you can change to 'sigmoid' , 'softmax' also\n",
    "        '''\n",
    "        self.layers_n.append(neuron)\n",
    "        \n",
    "        if activation_function == 'sigmoid' or activation_function == 'relu' or activation_function == 'softmax':\n",
    "            self.activation_func.append(activation_function)\n",
    "        else:\n",
    "            raise TypeError('Pass only relu or sigmoid , and softmax for last layer')\n",
    "    \n",
    "    def one_hot_label(self , y):\n",
    "        one_hot_labels = np.zeros((y.shape[0] , self.layers_n[-1]))\n",
    "        for i in range(y.shape[0]):  \n",
    "            one_hot_labels[i, y[i] ] = 1\n",
    "        return one_hot_labels\n",
    "\n",
    "    \n",
    "    def fit(self , X , y , batch_size = 128 , alpha = 0.01 , epoche = 100,lmda = .01):\n",
    "        for i in range(len(self.layers_n)-1): \n",
    "            self.theta_layers.append(np.random.randn(self.layers_n[i],self.layers_n[i+1]))\n",
    "            \n",
    "            self.bias.append((np.random.randn(self.layers_n[i+1])))\n",
    "        \n",
    "        return self.gradientDecent( X , y , batch_size , alpha , epoche )\n",
    "    \n",
    "    def softmax(self , activation , theta , bias):\n",
    "        exp = np.exp( np.dot( activation , theta ) + bias)\n",
    "        denominator = np.sum( exp , axis = 1)\n",
    "        s = list(map(lambda i : exp[:,i] / denominator , np.arange(self.layers_n[-1])))\n",
    "        return np.array(s).T\n",
    "    \n",
    "    def relu(self,activation,theta, bias):\n",
    "        q = (np.dot(activation , theta) + bias)\n",
    "        return np.clip(q , a_min=0 , a_max = q)\n",
    "    \n",
    "    def sigmoid(self, activation , theta , bias):\n",
    "        return  1 / (1 + np.exp(np.dot(activation , theta) +  bias))\n",
    "    \n",
    "    def forwardPropagation(self,X):\n",
    "        \n",
    "        self.activations    = []\n",
    "        self.activations.append(X)\n",
    "        \n",
    "        for i in range(len(self.layers_n)-2):\n",
    "            self.activations.append(self.relu(self.activations[i] , self.theta_layers[i] , self.bias[i])) \n",
    "                      \n",
    "        self.activations.append(self.softmax(self.activations[-1] , self.theta_layers[-1] , self.bias[-1]))\n",
    "        \n",
    "    def costFunction(self,X,y):\n",
    "        \n",
    "        self.y = self.one_hot_label(y)\n",
    "        self.forwardPropagation(X)\n",
    "        \n",
    "        np.nan_to_num(self.activations[-1] , copy = False)\n",
    "        self.crossEntropy = self.y * np.log(self.activations[-1])\n",
    "        np.nan_to_num(self.crossEntropy, copy=False)\n",
    "        \n",
    "        #regu = self.lmda * (np.sum(self.theta_layer1)**2 + np.sum(self.theta_layer2)**2 + np.sum(self.theta_layer3)**2 + np.sum(self.theta_layer4)**2)\n",
    "        return (1/X.shape[0] * -np.sum(self.crossEntropy)) #+ regu  # regu = 0 bcz lmda is zero \n",
    "      \n",
    "    \n",
    "    def costFunctionDerivative(self,X,y,alpha):\n",
    "        \n",
    "        self.dL_dA          = []\n",
    "        self.dL_dtheta      = []\n",
    "        self.dL_dbias       = []\n",
    "        \n",
    "        self.forwardPropagation(X)\n",
    "        \n",
    "        self.y_cap = self.activations[-1]\n",
    "        self.target_y = self.one_hot_label(y)\n",
    "        self.dL_dA.append(self.y_cap - self.target_y)\n",
    "        \n",
    "        for i in range(len(self.layers_n)-2):   \n",
    "            \n",
    "            self.dL_dA.append( np.dot( self.dL_dA[i] , self.theta_layers[-1-i].T ) )\n",
    "        \n",
    "        for i in range(len(self.layers_n)-1):  \n",
    "            \n",
    "            # Storing derivative in a list\n",
    "            self.dL_dtheta.append(1/X.shape[0] * (np.dot(self.activations[-2-i].T , self.dL_dA[i]))) \n",
    "            self.dL_dbias.append(1/X.shape[0] * self.dL_dA[i])\n",
    "        \n",
    "        for i in range(len(self.layers_n)-1):  \n",
    "            \n",
    "            # updating parameters\n",
    "            self.theta_layers[i]    -= (alpha * self.dL_dtheta[-1-i])  \n",
    "            self.bias[-1-i]         -= (alpha * self.dL_dbias[i].sum(axis = 0))                  \n",
    "            \n",
    "            # dont get confuse by [-1-i] . Actually derivative are calculated during backpropagation\n",
    "            # and original values are initialized during forward propagation so derivative are stored in\n",
    "            # reverse order while data's stored in forward order\n",
    "      \n",
    "    def gradientDecent(self , X , y , batch , alpha , epoche  ):\n",
    "        i = 1\n",
    "        while i < epoche:\n",
    "            \n",
    "            index = np.random.randint(0 , X.shape[0] , size=(batch,))\n",
    "        \n",
    "            initial_cost = self.costFunction(X[index] , y[index] )\n",
    "       \n",
    "            self.costFunctionDerivative(X[index], y[index],alpha )\n",
    "        \n",
    "            #print('Iteration {} Cost function {}'.format(i , initial_cost ))    \n",
    "        \n",
    "            self.itera.append(i)\n",
    "            self.csfun.append(initial_cost)\n",
    "            i+=1\n",
    "            \n",
    "        final_cost = self.costFunction(X[index] , y[index] )\n",
    "        self.itera.append(i)\n",
    "        self.csfun.append(final_cost)\n",
    "        print('Iteration {} Cost function {}'.format(i , initial_cost ))\n",
    "        \n",
    "            \n",
    "    def gradient_plot(self):\n",
    "        plt.plot(self.itera[10:],self.csfun[10:])\n",
    "         \n",
    "        \n",
    "    def accuracy(self , X , y):\n",
    "        self.forwardPropagation(X)\n",
    "        pred = np.argmax(self.activations[-1],axis=1)\n",
    "        c1 = 0\n",
    "        for i,j in enumerate(y):\n",
    "            if j == pred[i]:\n",
    "                c1+=1\n",
    "        print(\"Accuracy : \",(c1/y.shape[0])*100,'%')\n",
    "        \n",
    "    def predict(self,X):\n",
    "        self.forwardPropagation(X)\n",
    "        return np.argmax(self.activations[-1],axis = 1)\n",
    "    \n",
    "    def predict_prob(self,X):\n",
    "        self.forwardPropagation(X)\n",
    "        return self.activations[-1]\n",
    "        \n"
   ]
  },
  {
   "cell_type": "code",
   "execution_count": 9,
   "metadata": {},
   "outputs": [
    {
     "name": "stdout",
     "output_type": "stream",
     "text": [
      "Iteration 3500 Cost function 0.6673331034363847\n"
     ]
    }
   ],
   "source": [
    "NN = NeuralNetwork()\n",
    "NN.add(784)\n",
    "NN.add(200)\n",
    "NN.add(10)\n",
    "NN.fit(train_data,train_label,alpha=0.099,epoche = 3500,batch_size = 2000)\n",
    "# It takes a time approx. 1 minute [you can un-comment the print function in gradientDecent() to see what's going on]"
   ]
  },
  {
   "cell_type": "code",
   "execution_count": 9,
   "metadata": {},
   "outputs": [
    {
     "data": {
      "image/png": "[encoded data removed]",
      "text/plain": [
       "<Figure size 432x288 with 1 Axes>"
      ]
     },
     "metadata": {
      "needs_background": "light"
     },
     "output_type": "display_data"
    }
   ],
   "source": [
    "NN.gradient_plot()"
   ]
  },
  {
   "cell_type": "code",
   "execution_count": 10,
   "metadata": {},
   "outputs": [
    {
     "name": "stdout",
     "output_type": "stream",
     "text": [
      "Accuracy :  91.46 %\n",
      "Accuracy :  92.48666666666666 %\n"
     ]
    }
   ],
   "source": [
    "NN.accuracy(test_data,test_label)\n",
    "NN.accuracy(train_data,train_label)"
   ]
  },
  {
   "cell_type": "markdown",
   "metadata": {},
   "source": [
    "# Lets look close what we find in first hidden layer network"
   ]
  },
  {
   "cell_type": "code",
   "execution_count": 19,
   "metadata": {},
   "outputs": [
    {
     "data": {
      "text/plain": [
       "<matplotlib.image.AxesImage at 0x15601b626a0>"
      ]
     },
     "execution_count": 19,
     "metadata": {},
     "output_type": "execute_result"
    },
    {
     "data": {
      "image/png": "[encoded data removed]",
      "text/plain": [
       "<Figure size 432x288 with 1 Axes>"
      ]
     },
     "metadata": {
      "needs_background": "light"
     },
     "output_type": "display_data"
    }
   ],
   "source": [
    "plt.imshow(train_data[2,:].reshape(28,28))"
   ]
  },
  {
   "cell_type": "code",
   "execution_count": 20,
   "metadata": {
    "scrolled": true
   },
   "outputs": [
    {
     "data": {
      "text/plain": [
       "<matplotlib.image.AxesImage at 0x15601afdf60>"
      ]
     },
     "execution_count": 20,
     "metadata": {},
     "output_type": "execute_result"
    },
    {
     "data": {
      "image/png": "[encoded data removed]",
      "text/plain": [
       "<Figure size 432x288 with 1 Axes>"
      ]
     },
     "metadata": {
      "needs_background": "light"
     },
     "output_type": "display_data"
    }
   ],
   "source": [
    "plt.imshow(NN.activations[1][2,:196].reshape(14,14))"
   ]
  },
  {
   "cell_type": "markdown",
   "metadata": {},
   "source": [
    "# We trained our previous model with 200 neurons it's very small size of image if we resize them \n",
    "# Now i will pass 0,1,2 digits without shuffle with 1000 images "
   ]
  },
  {
   "cell_type": "code",
   "execution_count": null,
   "metadata": {},
   "outputs": [],
   "source": [
    "inde5 = np.hstack(np.argwhere(train_label == 0))[:1000]\n",
    "inde4 = np.hstack(np.argwhere(train_label == 1))[:1000]\n",
    "inde3 = np.hstack(np.argwhere(train_label == 2))[:1000]\n",
    "\n",
    "q = np.append(inde5,[inde4,inde3])"
   ]
  },
  {
   "cell_type": "code",
   "execution_count": null,
   "metadata": {},
   "outputs": [],
   "source": [
    "NN.accuracy(train_data[q],train_label[q])"
   ]
  },
  {
   "cell_type": "code",
   "execution_count": null,
   "metadata": {},
   "outputs": [],
   "source": [
    "import pylab as pl\n",
    "import scipy.stats as s\n",
    "from IPython import display\n",
    "import time\n",
    "\n",
    "for i in range(1,3000,30):\n",
    "    f = plt.figure()    \n",
    "    f.add_subplot(1,2, 1)\n",
    "    plt.axis('off')\n",
    "    plt.imshow(train_data[q][i,:].reshape(28,28), cmap='gray')\n",
    "    f.add_subplot(1,2, 2)\n",
    "    plt.axis('off')\n",
    "    plt.imshow(NN.activations[-2][i,:196].reshape(14,14), cmap='gray')\n",
    "    display.clear_output(wait=True)\n",
    "    display.display(pl.gcf())\n",
    "    f.clear()"
   ]
  },
  {
   "cell_type": "code",
   "execution_count": 11,
   "metadata": {},
   "outputs": [],
   "source": [
    "#with open('../../DataSets/Objects/ANN_mnist_scratch.pkl', 'wb') as output:\n",
    " #   pickle.dump(NN, output, pickle.HIGHEST_PROTOCOL)\n",
    "with open('../../DataSets/Objects/ANN_mnist_scratch.pkl', 'rb') as inpt:\n",
    "    NN = pickle.load(inpt)\n"
   ]
  },
  {
   "cell_type": "markdown",
   "metadata": {},
   "source": [
    "# Explaining Kullback leibler divergence"
   ]
  },
  {
   "cell_type": "code",
   "execution_count": 14,
   "metadata": {},
   "outputs": [
    {
     "data": {
      "text/plain": [
       "(60000, 10)"
      ]
     },
     "execution_count": 14,
     "metadata": {},
     "output_type": "execute_result"
    }
   ],
   "source": [
    "# we have two distrubtions\n",
    "NN.activations[-1].shape"
   ]
  },
  {
   "cell_type": "code",
   "execution_count": 22,
   "metadata": {},
   "outputs": [
    {
     "data": {
      "text/plain": [
       "array([[    5],\n",
       "       [   16],\n",
       "       [   25],\n",
       "       ...,\n",
       "       [59983],\n",
       "       [59985],\n",
       "       [59991]], dtype=int64)"
      ]
     },
     "execution_count": 22,
     "metadata": {},
     "output_type": "execute_result"
    }
   ],
   "source": [
    "np.argwhere(train_label==1)\n",
    "np.argwhere(train_label==2)"
   ]
  },
  {
   "cell_type": "code",
   "execution_count": 25,
   "metadata": {},
   "outputs": [],
   "source": [
    "import collections as c"
   ]
  },
  {
   "cell_type": "code",
   "execution_count": 27,
   "metadata": {},
   "outputs": [],
   "source": [
    "counting = c.Counter(train_label) # dictionary"
   ]
  },
  {
   "cell_type": "code",
   "execution_count": null,
   "metadata": {},
   "outputs": [],
   "source": [
    "\n"
   ]
  }
 ],
 "metadata": {
  "kernelspec": {
   "display_name": "Python 3",
   "language": "python",
   "name": "python3"
  },
  "language_info": {
   "codemirror_mode": {
    "name": "ipython",
    "version": 3
   },
   "file_extension": ".py",
   "mimetype": "text/x-python",
   "name": "python",
   "nbconvert_exporter": "python",
   "pygments_lexer": "ipython3",
   "version": "3.6.5"
  }
 },
 "nbformat": 4,
 "nbformat_minor": 2
}
