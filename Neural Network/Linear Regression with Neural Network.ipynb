{
 "cells": [
  {
   "cell_type": "markdown",
   "metadata": {},
   "source": [
    "# 1. Preprocessing"
   ]
  },
  {
   "cell_type": "code",
   "execution_count": 1,
   "metadata": {},
   "outputs": [],
   "source": [
    "import numpy as np\n",
    "import matplotlib.pyplot as plt\n",
    "import pandas as pd"
   ]
  },
  {
   "cell_type": "code",
   "execution_count": 141,
   "metadata": {
    "scrolled": true
   },
   "outputs": [
    {
     "data": {
      "text/html": [
       "<div>\n",
       "<style scoped>\n",
       "    .dataframe tbody tr th:only-of-type {\n",
       "        vertical-align: middle;\n",
       "    }\n",
       "\n",
       "    .dataframe tbody tr th {\n",
       "        vertical-align: top;\n",
       "    }\n",
       "\n",
       "    .dataframe thead th {\n",
       "        text-align: right;\n",
       "    }\n",
       "</style>\n",
       "<table border=\"1\" class=\"dataframe\">\n",
       "  <thead>\n",
       "    <tr style=\"text-align: right;\">\n",
       "      <th></th>\n",
       "      <th>x</th>\n",
       "      <th>y</th>\n",
       "    </tr>\n",
       "  </thead>\n",
       "  <tbody>\n",
       "    <tr>\n",
       "      <th>0</th>\n",
       "      <td>24.0</td>\n",
       "      <td>21.549452</td>\n",
       "    </tr>\n",
       "    <tr>\n",
       "      <th>1</th>\n",
       "      <td>50.0</td>\n",
       "      <td>47.464463</td>\n",
       "    </tr>\n",
       "    <tr>\n",
       "      <th>2</th>\n",
       "      <td>15.0</td>\n",
       "      <td>17.218656</td>\n",
       "    </tr>\n",
       "    <tr>\n",
       "      <th>3</th>\n",
       "      <td>38.0</td>\n",
       "      <td>36.586398</td>\n",
       "    </tr>\n",
       "    <tr>\n",
       "      <th>4</th>\n",
       "      <td>87.0</td>\n",
       "      <td>87.288984</td>\n",
       "    </tr>\n",
       "  </tbody>\n",
       "</table>\n",
       "</div>"
      ],
      "text/plain": [
       "      x          y\n",
       "0  24.0  21.549452\n",
       "1  50.0  47.464463\n",
       "2  15.0  17.218656\n",
       "3  38.0  36.586398\n",
       "4  87.0  87.288984"
      ]
     },
     "execution_count": 141,
     "metadata": {},
     "output_type": "execute_result"
    }
   ],
   "source": [
    "train_data= pd.read_csv('train.csv')\n",
    "test_data = pd.read_csv('test.csv')\n",
    "train_data.head(5)"
   ]
  },
  {
   "cell_type": "markdown",
   "metadata": {},
   "source": [
    "We'll use the data to train a model to predict how we will do on our next test.\n",
    "\n",
    "This is a **supervised regression** problem.\n",
    "\n",
    "It's **supervised** because our examples have outputs(y).\n",
    "\n",
    "It's a **regression** because we're predicting the test score, which is a continuous output.\n",
    "\n",
    "If we we're predicting the grade (A,B, etc.), however, this is going to be a **classification** problem but not a regression problem."
   ]
  },
  {
   "cell_type": "code",
   "execution_count": 142,
   "metadata": {},
   "outputs": [
    {
     "data": {
      "text/plain": [
       "(700, 2)"
      ]
     },
     "execution_count": 142,
     "metadata": {},
     "output_type": "execute_result"
    }
   ],
   "source": [
    "train_data.shape"
   ]
  },
  {
   "cell_type": "code",
   "execution_count": 143,
   "metadata": {},
   "outputs": [
    {
     "data": {
      "text/plain": [
       "(699, 2)"
      ]
     },
     "execution_count": 143,
     "metadata": {},
     "output_type": "execute_result"
    }
   ],
   "source": [
    "train_data.dropna().shape"
   ]
  },
  {
   "cell_type": "code",
   "execution_count": 144,
   "metadata": {},
   "outputs": [
    {
     "data": {
      "text/plain": [
       "(699, 2)"
      ]
     },
     "execution_count": 144,
     "metadata": {},
     "output_type": "execute_result"
    }
   ],
   "source": [
    "# it means we have 1 null value in any feature lets drop them\n",
    "train_data = train_data.dropna()\n",
    "train_data.shape"
   ]
  },
  {
   "cell_type": "code",
   "execution_count": 145,
   "metadata": {},
   "outputs": [
    {
     "data": {
      "text/plain": [
       "array([[ 1., 24.],\n",
       "       [ 1., 50.],\n",
       "       [ 1., 15.],\n",
       "       ...,\n",
       "       [ 1., 82.],\n",
       "       [ 1., 66.],\n",
       "       [ 1., 97.]])"
      ]
     },
     "execution_count": 145,
     "metadata": {},
     "output_type": "execute_result"
    }
   ],
   "source": [
    "train_data = np.append(np.ones([699,1]) , np.array(train_data['x']).reshape(699,1)  , axis=1 )\n",
    "train_data  # A0 A1"
   ]
  },
  {
   "cell_type": "code",
   "execution_count": 151,
   "metadata": {},
   "outputs": [],
   "source": [
    "# normalizing the data to zero mean\n",
    "train_data[:,1] = (train_data[:,1] / np.mean(train_data[:,1]))"
   ]
  },
  {
   "cell_type": "markdown",
   "metadata": {},
   "source": [
    "## Now we can start building our neural network\n",
    "\n",
    "## we have two neuron in input layer {train_data = A0 , A1}\n",
    "\n",
    "## one neuron in output layer {raw_data = A2}\n",
    "\n",
    "## any layer between input and output layer is called HIDDEN LAYER. We use here only 1 layer and 2 neurons\n",
    "\n",
    "**Synapses** have a really simple job.  {It is nothing but a parameter or we can say that **SLOPE** }\n",
    "\n",
    "They take a value from their input, multiply it by a specific **weight**, and output the result. In other words, the synapses store parameters called **\"weights\"** which are used to manipulate the data.\n",
    "\n",
    "**Neurons** are a little more complicated.\n",
    "\n",
    "Neurons' job is to add together the outputs of all their synapses, and then apply an **activation function.**\n",
    "\n",
    "### Ok, Now what is Activation Function Here???!!\n",
    "$$\n",
    "h_{\\theta}(x)=\\theta_{0}+\\theta_{1} x_{1}\n",
    "$$\n",
    "\n",
    "$$\n",
    "h(x)=\\sum_{i=0}^{n} \\theta_{i} x_{i}=\\theta^{T} x\n",
    "$$\n",
    "\n",
    "$h(x)$ is a **Activation function** and its value is called **Activation**\n",
    "\n",
    "### Fine! Now what we have to do with this activation function??\n",
    "\n",
    "#### this function give us expected output value. After getting the values we compare them with original output value\n",
    "#### by using \n",
    "\n",
    "$$\n",
    "J(a, b)=\\frac{1}{n} \\sum_{i=1}^{n}\\left(y_{i, a c t u a l}-y_{i, p r e d i c t e d}\\right)^{2}\n",
    "$$\n",
    "\n",
    "$$\n",
    "J(a, b)=\\frac{1}{n} \\sum_{i=1}^{n}\\left(y_{i}-\\left(a x_{i}+b\\right)\\right)^{2}\n",
    "$$\n",
    "\n",
    "This is also called as **Cost Function** or **Least Square Error** or **Loss Function** blaa blaa blaa!!\n",
    "\n",
    "We have to find that theta's values by which we getting this cost function value **minimum**\n",
    "\n",
    "#### How??\n",
    "\n",
    "by using **Gradient Decent**\n",
    "\n",
    "When we updating theta values it means our model is learning after getting best theta value our model is trained\n"
   ]
  },
  {
   "cell_type": "markdown",
   "metadata": {},
   "source": [
    "# 2. forward Propagation\n"
   ]
  },
  {
   "cell_type": "code",
   "execution_count": null,
   "metadata": {},
   "outputs": [],
   "source": []
  },
  {
   "cell_type": "code",
   "execution_count": null,
   "metadata": {},
   "outputs": [],
   "source": [
    "class NeuralNetwork(object):\n",
    "    def __init__(self):\n",
    "        self.input_layer_n = 2\n",
    "        self.hidden_layer_n = 2\n",
    "        self.output_layer_n = 1\n",
    "    def forwardPropagation(self, X):\n",
    "        pass"
   ]
  }
 ],
 "metadata": {
  "kernelspec": {
   "display_name": "Python 3",
   "language": "python",
   "name": "python3"
  },
  "language_info": {
   "codemirror_mode": {
    "name": "ipython",
    "version": 3
   },
   "file_extension": ".py",
   "mimetype": "text/x-python",
   "name": "python",
   "nbconvert_exporter": "python",
   "pygments_lexer": "ipython3",
   "version": "3.6.5"
  }
 },
 "nbformat": 4,
 "nbformat_minor": 2
}
